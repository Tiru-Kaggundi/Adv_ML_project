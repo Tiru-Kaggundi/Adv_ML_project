{
  "nbformat": 4,
  "nbformat_minor": 0,
  "metadata": {
    "colab": {
      "name": "LM_detection.ipynb",
      "provenance": [],
      "collapsed_sections": [],
      "mount_file_id": "1sKSfNt2xKWWCRMcyKE7vjIaUEvN1kCw1",
      "authorship_tag": "ABX9TyP8xEQMhWzcEr3xgTlPsFES",
      "include_colab_link": true
    },
    "kernelspec": {
      "name": "python3",
      "display_name": "Python 3"
    },
    "language_info": {
      "name": "python"
    }
  },
  "cells": [
    {
      "cell_type": "markdown",
      "metadata": {
        "id": "view-in-github",
        "colab_type": "text"
      },
      "source": [
        "<a href=\"https://colab.research.google.com/github/Tiru-Kaggundi/Adv_ML_project/blob/main/LM_detection.ipynb\" target=\"_parent\"><img src=\"https://colab.research.google.com/assets/colab-badge.svg\" alt=\"Open In Colab\"/></a>"
      ]
    },
    {
      "cell_type": "markdown",
      "source": [
        "In this milestone, we will be categorizing whether a given text belongs to one of the Indian languages from a set of {Hindi, Malayalam, Kannada, Tamil, Bengali}. For this we will create a Bag of Vectors for each language. Here are the steps that we aim to implement-\n",
        "\n",
        "Collate the dataset for each language. We will use the Hindi, Kannada, Tamil, Malayalam, and Bengali Wikipedia articles to train our model. Use publicly available tokenizers (or generate a new one if possible - stretch goal) to create a Bag of Words Create a Bag of Words classifier using linear layers Train the Classifier\n",
        "\n",
        "For Language Identification, a lot of work has been done to classify and identify languages with latin as the predominant script. Some work has also been done to identify Chinese, Japanese, and Korean languages. Jauhiaihen et al has done a detailed survey on the literature that exists for Language Identification tasks. Kerwin (2006) used character frequencies as feature vectors. In a feature vector, each feature vector f has its own integer value. Raw frequency and relative frequency for each feature is calculated for each language. For our project, we will be using something very similar.\n",
        "\n",
        "There are several intuitive techniques that are used to classify languages- Position of words- Kumar et al. (2015) used the position of the current word in word-level LI. Dictionary of unique words: Unique word dictionaries include only those words of the language, that do not belong to the other languages targeted by the language identifier. Discriminating words Kolkus (2009) used the most relevant words for each language"
      ],
      "metadata": {
        "id": "evIv8ZP0fQJR"
      }
    },
    {
      "cell_type": "code",
      "source": [
        "!pip install indic-nlp-library"
      ],
      "metadata": {
        "colab": {
          "base_uri": "https://localhost:8080/"
        },
        "id": "WP-RKClxj07i",
        "outputId": "e1696cd0-a94e-4434-b834-1a3cad4f49da"
      },
      "execution_count": 1,
      "outputs": [
        {
          "output_type": "stream",
          "name": "stdout",
          "text": [
            "Requirement already satisfied: indic-nlp-library in /usr/local/lib/python3.7/dist-packages (0.81)\n",
            "Requirement already satisfied: numpy in /usr/local/lib/python3.7/dist-packages (from indic-nlp-library) (1.21.6)\n",
            "Requirement already satisfied: sphinx-argparse in /usr/local/lib/python3.7/dist-packages (from indic-nlp-library) (0.3.1)\n",
            "Requirement already satisfied: pandas in /usr/local/lib/python3.7/dist-packages (from indic-nlp-library) (1.3.5)\n",
            "Requirement already satisfied: morfessor in /usr/local/lib/python3.7/dist-packages (from indic-nlp-library) (2.0.6)\n",
            "Requirement already satisfied: sphinx-rtd-theme in /usr/local/lib/python3.7/dist-packages (from indic-nlp-library) (1.0.0)\n",
            "Requirement already satisfied: python-dateutil>=2.7.3 in /usr/local/lib/python3.7/dist-packages (from pandas->indic-nlp-library) (2.8.2)\n",
            "Requirement already satisfied: pytz>=2017.3 in /usr/local/lib/python3.7/dist-packages (from pandas->indic-nlp-library) (2022.1)\n",
            "Requirement already satisfied: six>=1.5 in /usr/local/lib/python3.7/dist-packages (from python-dateutil>=2.7.3->pandas->indic-nlp-library) (1.15.0)\n",
            "Requirement already satisfied: sphinx>=1.2.0 in /usr/local/lib/python3.7/dist-packages (from sphinx-argparse->indic-nlp-library) (1.8.6)\n",
            "Requirement already satisfied: snowballstemmer>=1.1 in /usr/local/lib/python3.7/dist-packages (from sphinx>=1.2.0->sphinx-argparse->indic-nlp-library) (2.2.0)\n",
            "Requirement already satisfied: imagesize in /usr/local/lib/python3.7/dist-packages (from sphinx>=1.2.0->sphinx-argparse->indic-nlp-library) (1.3.0)\n",
            "Requirement already satisfied: setuptools in /usr/local/lib/python3.7/dist-packages (from sphinx>=1.2.0->sphinx-argparse->indic-nlp-library) (57.4.0)\n",
            "Requirement already satisfied: sphinxcontrib-websupport in /usr/local/lib/python3.7/dist-packages (from sphinx>=1.2.0->sphinx-argparse->indic-nlp-library) (1.2.4)\n",
            "Requirement already satisfied: requests>=2.0.0 in /usr/local/lib/python3.7/dist-packages (from sphinx>=1.2.0->sphinx-argparse->indic-nlp-library) (2.23.0)\n",
            "Requirement already satisfied: Jinja2>=2.3 in /usr/local/lib/python3.7/dist-packages (from sphinx>=1.2.0->sphinx-argparse->indic-nlp-library) (2.11.3)\n",
            "Requirement already satisfied: docutils<0.18,>=0.11 in /usr/local/lib/python3.7/dist-packages (from sphinx>=1.2.0->sphinx-argparse->indic-nlp-library) (0.17.1)\n",
            "Requirement already satisfied: babel!=2.0,>=1.3 in /usr/local/lib/python3.7/dist-packages (from sphinx>=1.2.0->sphinx-argparse->indic-nlp-library) (2.10.1)\n",
            "Requirement already satisfied: Pygments>=2.0 in /usr/local/lib/python3.7/dist-packages (from sphinx>=1.2.0->sphinx-argparse->indic-nlp-library) (2.6.1)\n",
            "Requirement already satisfied: alabaster<0.8,>=0.7 in /usr/local/lib/python3.7/dist-packages (from sphinx>=1.2.0->sphinx-argparse->indic-nlp-library) (0.7.12)\n",
            "Requirement already satisfied: packaging in /usr/local/lib/python3.7/dist-packages (from sphinx>=1.2.0->sphinx-argparse->indic-nlp-library) (21.3)\n",
            "Requirement already satisfied: MarkupSafe>=0.23 in /usr/local/lib/python3.7/dist-packages (from Jinja2>=2.3->sphinx>=1.2.0->sphinx-argparse->indic-nlp-library) (2.0.1)\n",
            "Requirement already satisfied: idna<3,>=2.5 in /usr/local/lib/python3.7/dist-packages (from requests>=2.0.0->sphinx>=1.2.0->sphinx-argparse->indic-nlp-library) (2.10)\n",
            "Requirement already satisfied: certifi>=2017.4.17 in /usr/local/lib/python3.7/dist-packages (from requests>=2.0.0->sphinx>=1.2.0->sphinx-argparse->indic-nlp-library) (2021.10.8)\n",
            "Requirement already satisfied: chardet<4,>=3.0.2 in /usr/local/lib/python3.7/dist-packages (from requests>=2.0.0->sphinx>=1.2.0->sphinx-argparse->indic-nlp-library) (3.0.4)\n",
            "Requirement already satisfied: urllib3!=1.25.0,!=1.25.1,<1.26,>=1.21.1 in /usr/local/lib/python3.7/dist-packages (from requests>=2.0.0->sphinx>=1.2.0->sphinx-argparse->indic-nlp-library) (1.24.3)\n",
            "Requirement already satisfied: pyparsing!=3.0.5,>=2.0.2 in /usr/local/lib/python3.7/dist-packages (from packaging->sphinx>=1.2.0->sphinx-argparse->indic-nlp-library) (3.0.9)\n",
            "Requirement already satisfied: sphinxcontrib-serializinghtml in /usr/local/lib/python3.7/dist-packages (from sphinxcontrib-websupport->sphinx>=1.2.0->sphinx-argparse->indic-nlp-library) (1.1.5)\n"
          ]
        }
      ]
    },
    {
      "cell_type": "code",
      "source": [
        "!pip install torch\n",
        "!pip install torchtext"
      ],
      "metadata": {
        "colab": {
          "base_uri": "https://localhost:8080/"
        },
        "id": "rJFxwE7Q6at1",
        "outputId": "bbac2c51-4e38-487a-ef61-9cd32071363e"
      },
      "execution_count": 2,
      "outputs": [
        {
          "output_type": "stream",
          "name": "stdout",
          "text": [
            "Requirement already satisfied: torch in /usr/local/lib/python3.7/dist-packages (1.11.0+cu113)\n",
            "Requirement already satisfied: typing-extensions in /usr/local/lib/python3.7/dist-packages (from torch) (4.2.0)\n",
            "Requirement already satisfied: torchtext in /usr/local/lib/python3.7/dist-packages (0.12.0)\n",
            "Requirement already satisfied: tqdm in /usr/local/lib/python3.7/dist-packages (from torchtext) (4.64.0)\n",
            "Requirement already satisfied: requests in /usr/local/lib/python3.7/dist-packages (from torchtext) (2.23.0)\n",
            "Requirement already satisfied: torch==1.11.0 in /usr/local/lib/python3.7/dist-packages (from torchtext) (1.11.0+cu113)\n",
            "Requirement already satisfied: numpy in /usr/local/lib/python3.7/dist-packages (from torchtext) (1.21.6)\n",
            "Requirement already satisfied: typing-extensions in /usr/local/lib/python3.7/dist-packages (from torch==1.11.0->torchtext) (4.2.0)\n",
            "Requirement already satisfied: chardet<4,>=3.0.2 in /usr/local/lib/python3.7/dist-packages (from requests->torchtext) (3.0.4)\n",
            "Requirement already satisfied: urllib3!=1.25.0,!=1.25.1,<1.26,>=1.21.1 in /usr/local/lib/python3.7/dist-packages (from requests->torchtext) (1.24.3)\n",
            "Requirement already satisfied: idna<3,>=2.5 in /usr/local/lib/python3.7/dist-packages (from requests->torchtext) (2.10)\n",
            "Requirement already satisfied: certifi>=2017.4.17 in /usr/local/lib/python3.7/dist-packages (from requests->torchtext) (2021.10.8)\n"
          ]
        }
      ]
    },
    {
      "cell_type": "markdown",
      "source": [
        "Citation for datasets: @inproceedings{kakwani2020indicnlpsuite,\n",
        "    title={{IndicNLPSuite: Monolingual Corpora, Evaluation Benchmarks and Pre-trained Multilingual Language Models for Indian Languages}},\n",
        "    author={Divyanshu Kakwani and Anoop Kunchukuttan and Satish Golla and Gokul N.C. and Avik Bhattacharyya and Mitesh M. Khapra and Pratyush Kumar},\n",
        "    year={2020},\n",
        "    booktitle={Findings of EMNLP},\n",
        "}\n",
        "These are the following number of sentences and token available for download in each Indian language:\n",
        "![Screen Shot 2022-05-21 at 4.25.34 PM.png](data:image/png;base64,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)"
      ],
      "metadata": {
        "id": "WwGjckD0hHic"
      }
    },
    {
      "cell_type": "markdown",
      "source": [
        "Milestone 1: Develop text classifier of our own"
      ],
      "metadata": {
        "id": "SAJvXySujkB-"
      }
    },
    {
      "cell_type": "code",
      "source": [
        "# The path to the  folder for Indic NLP library\n",
        "DATASETS=r\"/content/drive/MyDrive/Adv_ML_Project\"\n",
        "\n",
        "# The path to the folder for Indic NLP Resources\n",
        "RESOURCES=r\"/content/drive/MyDrive/Adv_ML_Project\""
      ],
      "metadata": {
        "id": "9S-OXUukg0VY"
      },
      "execution_count": 4,
      "outputs": []
    },
    {
      "cell_type": "code",
      "source": [
        "import sys\n",
        "sys.path.append(r'{}'.format(DATASETS))"
      ],
      "metadata": {
        "id": "rL5T5tzEeHDm"
      },
      "execution_count": 5,
      "outputs": []
    },
    {
      "cell_type": "code",
      "source": [
        "from indicnlp import common\n",
        "common.set_resources_path(RESOURCES)"
      ],
      "metadata": {
        "id": "BvXkHLq6eHI9"
      },
      "execution_count": 6,
      "outputs": []
    },
    {
      "cell_type": "markdown",
      "source": [
        "Reference: https://nbviewer.org/url/anoopkunchukuttan.github.io/indic_nlp_library/doc/indic_nlp_examples.ipynb"
      ],
      "metadata": {
        "id": "wRlQFfacli72"
      }
    },
    {
      "cell_type": "code",
      "source": [
        "from indicnlp.tokenize import sentence_tokenize\n",
        "\n",
        "indic_string=\"\"\"तो क्या विश्व कप 2019 में मैच का बॉस टॉस है? यानी मैच में हार-जीत में \\\n",
        "टॉस की भूमिका अहम है? आप ऐसा सोच सकते हैं। विश्वकप के अपने-अपने पहले मैच में बुरी तरह हारने वाली एशिया की दो टीमों \\\n",
        "पाकिस्तान और श्रीलंका के कप्तान ने हालांकि अपने हार के पीछे टॉस की दलील तो नहीं दी, लेकिन यह जरूर कहा था कि वह एक अहम टॉस हार गए थे।\"\"\"\n",
        "sentences=sentence_tokenize.sentence_split(indic_string, lang='hi')\n",
        "for t in sentences:\n",
        "    print(t)"
      ],
      "metadata": {
        "colab": {
          "base_uri": "https://localhost:8080/"
        },
        "id": "cFoOmcifeHMP",
        "outputId": "1070e9e8-82ad-44e9-d872-f972eb239ff4"
      },
      "execution_count": 7,
      "outputs": [
        {
          "output_type": "stream",
          "name": "stdout",
          "text": [
            "तो क्या विश्व कप 2019 में मैच का बॉस टॉस है?\n",
            "यानी मैच में हार-जीत में टॉस की भूमिका अहम है?\n",
            "आप ऐसा सोच सकते हैं।\n",
            "विश्वकप के अपने-अपने पहले मैच में बुरी तरह हारने वाली एशिया की दो टीमों पाकिस्तान और श्रीलंका के कप्तान ने हालांकि अपने हार के पीछे टॉस की दलील तो नहीं दी, लेकिन यह जरूर कहा था कि वह एक अहम टॉस हार गए थे।\n"
          ]
        }
      ]
    },
    {
      "cell_type": "code",
      "source": [
        "from indicnlp.tokenize import indic_tokenize  \n",
        "\n",
        "indic_string='सुनो, कुछ आवाज़ आ रही है। फोन?'\n",
        "\n",
        "print('Input String: {}'.format(indic_string))\n",
        "print('Tokens: ')\n",
        "for t in indic_tokenize.trivial_tokenize(indic_string): \n",
        "    print(t)"
      ],
      "metadata": {
        "id": "mDSqkNZ6g0q1",
        "colab": {
          "base_uri": "https://localhost:8080/"
        },
        "outputId": "7683742b-358e-4636-8287-a6cfae52efa0"
      },
      "execution_count": 8,
      "outputs": [
        {
          "output_type": "stream",
          "name": "stdout",
          "text": [
            "Input String: सुनो, कुछ आवाज़ आ रही है। फोन?\n",
            "Tokens: \n",
            "सुनो\n",
            ",\n",
            "कुछ\n",
            "आवाज़\n",
            "आ\n",
            "रही\n",
            "है\n",
            "।\n",
            "फोन\n",
            "?\n"
          ]
        }
      ]
    },
    {
      "cell_type": "code",
      "source": [
        "import os\n",
        "path = \"/content/drive/MyDrive/Adv_ML_Project/Wikipedia articles/hindi_wiki_55k/train/train\"\n",
        "imgs = os.listdir(path)\n",
        "for img in imgs:\n",
        "    os.remove(f'{path}/{img}')"
      ],
      "metadata": {
        "colab": {
          "base_uri": "https://localhost:8080/",
          "height": 249
        },
        "id": "0zPuQIH7lEID",
        "outputId": "2a8c50f0-3245-4217-fbb5-6bf44750bd4a"
      },
      "execution_count": 9,
      "outputs": [
        {
          "output_type": "error",
          "ename": "FileNotFoundError",
          "evalue": "ignored",
          "traceback": [
            "\u001b[0;31m---------------------------------------------------------------------------\u001b[0m",
            "\u001b[0;31mFileNotFoundError\u001b[0m                         Traceback (most recent call last)",
            "\u001b[0;32m<ipython-input-9-4262bb930d06>\u001b[0m in \u001b[0;36m<module>\u001b[0;34m()\u001b[0m\n\u001b[1;32m      1\u001b[0m \u001b[0;32mimport\u001b[0m \u001b[0mos\u001b[0m\u001b[0;34m\u001b[0m\u001b[0;34m\u001b[0m\u001b[0m\n\u001b[1;32m      2\u001b[0m \u001b[0mpath\u001b[0m \u001b[0;34m=\u001b[0m \u001b[0;34m\"/content/drive/MyDrive/Adv_ML_Project/Wikipedia articles/hindi_wiki_55k/train/train\"\u001b[0m\u001b[0;34m\u001b[0m\u001b[0;34m\u001b[0m\u001b[0m\n\u001b[0;32m----> 3\u001b[0;31m \u001b[0mimgs\u001b[0m \u001b[0;34m=\u001b[0m \u001b[0mos\u001b[0m\u001b[0;34m.\u001b[0m\u001b[0mlistdir\u001b[0m\u001b[0;34m(\u001b[0m\u001b[0mpath\u001b[0m\u001b[0;34m)\u001b[0m\u001b[0;34m\u001b[0m\u001b[0;34m\u001b[0m\u001b[0m\n\u001b[0m\u001b[1;32m      4\u001b[0m \u001b[0;32mfor\u001b[0m \u001b[0mimg\u001b[0m \u001b[0;32min\u001b[0m \u001b[0mimgs\u001b[0m\u001b[0;34m:\u001b[0m\u001b[0;34m\u001b[0m\u001b[0;34m\u001b[0m\u001b[0m\n\u001b[1;32m      5\u001b[0m     \u001b[0mos\u001b[0m\u001b[0;34m.\u001b[0m\u001b[0mremove\u001b[0m\u001b[0;34m(\u001b[0m\u001b[0;34mf'{path}/{img}'\u001b[0m\u001b[0;34m)\u001b[0m\u001b[0;34m\u001b[0m\u001b[0;34m\u001b[0m\u001b[0m\n",
            "\u001b[0;31mFileNotFoundError\u001b[0m: [Errno 2] No such file or directory: '/content/drive/MyDrive/Adv_ML_Project/Wikipedia articles/hindi_wiki_55k/train/train'"
          ]
        }
      ]
    },
    {
      "cell_type": "code",
      "source": [
        "import torch\n",
        "import torchtext\n"
      ],
      "metadata": {
        "id": "ba-KOBFO401x"
      },
      "execution_count": 10,
      "outputs": []
    },
    {
      "cell_type": "code",
      "source": [
        "from_path_hi = '/content/drive/MyDrive/Adv_ML_Project/hi.tar.gz'\n",
        "from_path_bn = '/content/drive/MyDrive/Adv_ML_Project/bn.tar.xz'\n",
        "from_path_kn = '/content/drive/MyDrive/Adv_ML_Project/kn.tar.xz'\n",
        "from_path_ml = '/content/drive/MyDrive/Adv_ML_Project/ml.tar.xz'\n",
        "from_path_ta = '/content/drive/MyDrive/Adv_ML_Project/ta.tar.xz'"
      ],
      "metadata": {
        "id": "3_Ro4faZ6lFe"
      },
      "execution_count": 17,
      "outputs": []
    },
    {
      "cell_type": "code",
      "source": [
        "torchtext.utils.extract_archive(from_path_hi, to_path=None, overwrite=False)"
      ],
      "metadata": {
        "colab": {
          "base_uri": "https://localhost:8080/"
        },
        "id": "-oV06MAH40-T",
        "outputId": "641c71b0-8347-4da8-fdf5-b5fdb987c8cc"
      },
      "execution_count": 18,
      "outputs": [
        {
          "output_type": "execute_result",
          "data": {
            "text/plain": [
              "['/content/drive/MyDrive/Adv_ML_Project/data/hi/hi.txt']"
            ]
          },
          "metadata": {},
          "execution_count": 18
        }
      ]
    },
    {
      "cell_type": "code",
      "source": [
        "import pandas as pd\n",
        "from sklearn.model_selection import train_test_split"
      ],
      "metadata": {
        "id": "IbTObX5gZtmZ"
      },
      "execution_count": 11,
      "outputs": []
    },
    {
      "cell_type": "code",
      "source": [
        "hindi_txt = open('/content/drive/MyDrive/Adv_ML_Project/data/hi/hi.txt').read()\n",
        "raw_data = {\"Hindi\": [line for line in hindi_txt[1:1000]]}\n",
        "df = pd.DataFrame(raw_data, columns=['Hindi'])\n",
        "train, test = train_test_split(df, test_size=0.2)\n"
      ],
      "metadata": {
        "id": "uKkSigA9T87D"
      },
      "execution_count": null,
      "outputs": []
    },
    {
      "cell_type": "code",
      "source": [
        "import os\n",
        "os.environ['KAGGLE_CONFIG_DIR'] = \"/content/drive/MyDrive/Adv_ML_Project\""
      ],
      "metadata": {
        "id": "O_4Oa1uAdk7x"
      },
      "execution_count": 1,
      "outputs": []
    },
    {
      "cell_type": "markdown",
      "source": [
        "Milestone 2: See text classificaiton using INLTK "
      ],
      "metadata": {
        "id": "spGlJekBjrCv"
      }
    },
    {
      "cell_type": "code",
      "source": [
        "%cd /content/drive/MyDrive/Adv_ML_Project/"
      ],
      "metadata": {
        "id": "da4JHg38jzru",
        "colab": {
          "base_uri": "https://localhost:8080/"
        },
        "outputId": "48c4c0ca-3b8f-430d-f8e3-12fede1b6f29"
      },
      "execution_count": 3,
      "outputs": [
        {
          "output_type": "stream",
          "name": "stdout",
          "text": [
            "/content/drive/MyDrive/Adv_ML_Project\n"
          ]
        }
      ]
    },
    {
      "cell_type": "code",
      "source": [
        "%pwd"
      ],
      "metadata": {
        "id": "iKRZxbj-jzvL",
        "colab": {
          "base_uri": "https://localhost:8080/",
          "height": 37
        },
        "outputId": "4bd6bbdd-0574-425e-a868-8f4cdf1ab21c"
      },
      "execution_count": 4,
      "outputs": [
        {
          "output_type": "execute_result",
          "data": {
            "text/plain": [
              "'/content/drive/MyDrive/Adv_ML_Project'"
            ],
            "application/vnd.google.colaboratory.intrinsic+json": {
              "type": "string"
            }
          },
          "metadata": {},
          "execution_count": 4
        }
      ]
    },
    {
      "cell_type": "code",
      "source": [
        "!kaggle datasets list -s 'hindi-wikipedia'"
      ],
      "metadata": {
        "colab": {
          "base_uri": "https://localhost:8080/"
        },
        "id": "OjYX7fAEd_oH",
        "outputId": "556507de-e98a-41b0-a48e-6e56e01f27df"
      },
      "execution_count": 6,
      "outputs": [
        {
          "output_type": "stream",
          "name": "stdout",
          "text": [
            "ref                                                        title                                               size  lastUpdated          downloadCount  voteCount  usabilityRating  \n",
            "---------------------------------------------------------  -------------------------------------------------  -----  -------------------  -------------  ---------  ---------------  \n",
            "disisbig/hindi-wikipedia-articles-172k                     Hindi Wikipedia Articles - 172k                    208MB  2019-12-24 05:01:30            393         19  0.6875           \n",
            "zarajamshaid/language-identification-datasst               Language Identification dataset                      6MB  2018-12-19 18:12:23           2117         36  1.0              \n",
            "disisbig/hindi-wikipedia-articles-55k                      Hindi Wikipedia Articles - 55k                      63MB  2019-12-24 04:31:32            200          8  0.625            \n",
            "shivavashishtha/shark-tank-india-dataset                   Shark Tank India Dataset                             4KB  2022-02-24 12:57:31           1667         56  1.0              \n",
            "prateekagrawal1405/hindi-wikipedia-articles-172k-csv       Hindi Wikipedia Articles 172k CSV                  166MB  2021-07-09 17:47:52              3          2  0.64705884       \n",
            "mitesh58/bollywood-movie-dataset                           Bollywood Movie Dataset                            100KB  2018-02-04 10:23:40           5302         60  0.7352941        \n",
            "nbroad/muril-large-pt                                      MuRIL Large pt                                       2GB  2021-10-16 14:35:24             61         12  0.5              \n",
            "nbroad/chaii-qa-hindi-q                                    chaii-qa hindi questions                            12MB  2021-08-14 20:00:25             23          4  0.5294118        \n",
            "amayagarwal/hindienglish-ted-talks-wikipedia-articles-etc  Hindi-English TED talks, Wikipedia articles, etc.   48MB  2020-10-31 06:26:53             18          0  0.6875           \n",
            "zzy990106/murilbasecased                                   muril-base-cased                                     2GB  2021-08-21 16:36:07             26          8  0.6875           \n",
            "shankkumar/multilingualopenrelations15                     MultilingualOpenRelations15                         12GB  2021-03-22 20:30:43             73          4  0.5625           \n",
            "zhangbl/multi-languages-stopwords                          multi_languages_stopwords                           85KB  2020-06-20 03:19:21             51          3  0.5625           \n",
            "parthplc/facebook-mlqa                                     Facebook MLQA                                       76MB  2020-11-29 08:44:09             27          1  0.5625           \n",
            "mathurinache/flores101                                     FLORES-101                                          13MB  2021-06-07 09:16:01             40         13  0.9117647        \n",
            "nbroad/muril-large-tf                                      MuRIL Large tf                                       2GB  2021-10-16 14:29:14              0          1  0.4375           \n",
            "sizlingdhairya1/iiit-spoken-language-datasets              IIIT Spoken Language Datasets                      920MB  2022-05-02 08:37:28              2          0  0.3125           \n"
          ]
        }
      ]
    },
    {
      "cell_type": "code",
      "source": [
        "!kaggle datasets download -d 'disisbig/hindi-wikipedia-articles-55k'"
      ],
      "metadata": {
        "colab": {
          "base_uri": "https://localhost:8080/"
        },
        "id": "bTvgATXzd_ql",
        "outputId": "9133f85a-5792-4cbe-f45b-ca77abb91b20"
      },
      "execution_count": 8,
      "outputs": [
        {
          "output_type": "stream",
          "name": "stdout",
          "text": [
            "Downloading hindi-wikipedia-articles-55k.zip to /content/drive/MyDrive/Adv_ML_Project\n",
            " 90% 57.0M/63.3M [00:02<00:00, 28.3MB/s]\n",
            "100% 63.3M/63.3M [00:02<00:00, 31.5MB/s]\n"
          ]
        }
      ]
    },
    {
      "cell_type": "markdown",
      "source": [
        "The hindi dataset is now sitting in the folder in zip format"
      ],
      "metadata": {
        "id": "qupM9aW0fvq9"
      }
    },
    {
      "cell_type": "markdown",
      "source": [
        ""
      ],
      "metadata": {
        "id": "mF4YwWLvfzFE"
      }
    },
    {
      "cell_type": "code",
      "source": [
        ""
      ],
      "metadata": {
        "id": "YQEt1wTIf0GS"
      },
      "execution_count": null,
      "outputs": []
    },
    {
      "cell_type": "code",
      "source": [
        ""
      ],
      "metadata": {
        "id": "tzuJc095f0Je"
      },
      "execution_count": null,
      "outputs": []
    },
    {
      "cell_type": "code",
      "source": [
        ""
      ],
      "metadata": {
        "id": "B8czCbHKf0Ma"
      },
      "execution_count": null,
      "outputs": []
    },
    {
      "cell_type": "code",
      "source": [
        ""
      ],
      "metadata": {
        "id": "eFRPvjjAf0Q1"
      },
      "execution_count": null,
      "outputs": []
    },
    {
      "cell_type": "markdown",
      "source": [
        "Milestone 3: Use transfer learning on INLTK for classification accuracy improvement"
      ],
      "metadata": {
        "id": "i0Pw5Cy8j0SM"
      }
    },
    {
      "cell_type": "code",
      "source": [
        ""
      ],
      "metadata": {
        "id": "10_3h72bj7jI"
      },
      "execution_count": null,
      "outputs": []
    },
    {
      "cell_type": "code",
      "source": [
        ""
      ],
      "metadata": {
        "id": "miKmVCyrj7lr"
      },
      "execution_count": null,
      "outputs": []
    },
    {
      "cell_type": "markdown",
      "source": [
        "Credit for datasets: @inproceedings{kakwani2020indicnlpsuite,\n",
        "    title={{IndicNLPSuite: Monolingual Corpora, Evaluation Benchmarks and Pre-trained Multilingual Language Models for Indian Languages}},\n",
        "    author={Divyanshu Kakwani and Anoop Kunchukuttan and Satish Golla and Gokul N.C. and Avik Bhattacharyya and Mitesh M. Khapra and Pratyush Kumar},\n",
        "    year={2020},\n",
        "    booktitle={Findings of EMNLP},\n",
        "}\n",
        "\n"
      ],
      "metadata": {
        "id": "wnBltzx687d5"
      }
    },
    {
      "cell_type": "markdown",
      "source": [
        ""
      ],
      "metadata": {
        "id": "7lCc3YYu9Fdo"
      }
    }
  ]
}