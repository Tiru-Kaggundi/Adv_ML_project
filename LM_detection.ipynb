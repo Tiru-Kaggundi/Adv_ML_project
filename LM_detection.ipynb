{
  "nbformat": 4,
  "nbformat_minor": 0,
  "metadata": {
    "colab": {
      "name": "LM_detection.ipynb",
      "provenance": [],
      "collapsed_sections": [],
      "mount_file_id": "1sKSfNt2xKWWCRMcyKE7vjIaUEvN1kCw1",
      "authorship_tag": "ABX9TyO7376aZl49ioMbwkeqD+eJ",
      "include_colab_link": true
    },
    "kernelspec": {
      "name": "python3",
      "display_name": "Python 3"
    },
    "language_info": {
      "name": "python"
    }
  },
  "cells": [
    {
      "cell_type": "markdown",
      "metadata": {
        "id": "view-in-github",
        "colab_type": "text"
      },
      "source": [
        "<a href=\"https://colab.research.google.com/github/Tiru-Kaggundi/Adv_ML_project/blob/main/LM_detection.ipynb\" target=\"_parent\"><img src=\"https://colab.research.google.com/assets/colab-badge.svg\" alt=\"Open In Colab\"/></a>"
      ]
    },
    {
      "cell_type": "markdown",
      "source": [
        "In this milestone, we will be categorizing whether a given text belongs to one of the Indian languages from a set of {Hindi, Malayalam, Kannada, Tamil, Bengali}. For this we will create a Bag of Vectors for each language. Here are the steps that we aim to implement-\n",
        "\n",
        "Collate the dataset for each language. We will use the Hindi, Kannada, Tamil, Malayalam, and Bengali Wikipedia articles to train our model. Use publicly available tokenizers (or generate a new one if possible - stretch goal) to create a Bag of Words Create a Bag of Words classifier using linear layers Train the Classifier\n",
        "\n",
        "For Language Identification, a lot of work has been done to classify and identify languages with latin as the predominant script. Some work has also been done to identify Chinese, Japanese, and Korean languages. Jauhiaihen et al has done a detailed survey on the literature that exists for Language Identification tasks. Kerwin (2006) used character frequencies as feature vectors. In a feature vector, each feature vector f has its own integer value. Raw frequency and relative frequency for each feature is calculated for each language. For our project, we will be using something very similar.\n",
        "\n",
        "There are several intuitive techniques that are used to classify languages- Position of words- Kumar et al. (2015) used the position of the current word in word-level LI. Dictionary of unique words: Unique word dictionaries include only those words of the language, that do not belong to the other languages targeted by the language identifier. Discriminating words Kolkus (2009) used the most relevant words for each language"
      ],
      "metadata": {
        "id": "evIv8ZP0fQJR"
      }
    },
    {
      "cell_type": "code",
      "source": [
        "!pip install indic-nlp-library\n",
        "!pip install torch\n",
        "!pip install torchtext\n"
      ],
      "metadata": {
        "colab": {
          "base_uri": "https://localhost:8080/"
        },
        "id": "WP-RKClxj07i",
        "outputId": "91fd6630-a3e6-4ab3-f3b8-22b62210824e"
      },
      "execution_count": 1,
      "outputs": [
        {
          "output_type": "stream",
          "name": "stdout",
          "text": [
            "Collecting indic-nlp-library\n",
            "  Downloading indic_nlp_library-0.81-py3-none-any.whl (40 kB)\n",
            "\u001b[?25l\r\u001b[K     |████████▏                       | 10 kB 15.9 MB/s eta 0:00:01\r\u001b[K     |████████████████▍               | 20 kB 18.2 MB/s eta 0:00:01\r\u001b[K     |████████████████████████▌       | 30 kB 13.6 MB/s eta 0:00:01\r\u001b[K     |████████████████████████████████| 40 kB 3.7 MB/s \n",
            "\u001b[?25hCollecting morfessor\n",
            "  Downloading Morfessor-2.0.6-py3-none-any.whl (35 kB)\n",
            "Requirement already satisfied: numpy in /usr/local/lib/python3.7/dist-packages (from indic-nlp-library) (1.21.6)\n",
            "Collecting sphinx-argparse\n",
            "  Downloading sphinx_argparse-0.3.1-py2.py3-none-any.whl (12 kB)\n",
            "Requirement already satisfied: pandas in /usr/local/lib/python3.7/dist-packages (from indic-nlp-library) (1.3.5)\n",
            "Collecting sphinx-rtd-theme\n",
            "  Downloading sphinx_rtd_theme-1.0.0-py2.py3-none-any.whl (2.8 MB)\n",
            "\u001b[K     |████████████████████████████████| 2.8 MB 23.1 MB/s \n",
            "\u001b[?25hRequirement already satisfied: python-dateutil>=2.7.3 in /usr/local/lib/python3.7/dist-packages (from pandas->indic-nlp-library) (2.8.2)\n",
            "Requirement already satisfied: pytz>=2017.3 in /usr/local/lib/python3.7/dist-packages (from pandas->indic-nlp-library) (2022.1)\n",
            "Requirement already satisfied: six>=1.5 in /usr/local/lib/python3.7/dist-packages (from python-dateutil>=2.7.3->pandas->indic-nlp-library) (1.15.0)\n",
            "Requirement already satisfied: sphinx>=1.2.0 in /usr/local/lib/python3.7/dist-packages (from sphinx-argparse->indic-nlp-library) (1.8.6)\n",
            "Requirement already satisfied: imagesize in /usr/local/lib/python3.7/dist-packages (from sphinx>=1.2.0->sphinx-argparse->indic-nlp-library) (1.3.0)\n",
            "Requirement already satisfied: Jinja2>=2.3 in /usr/local/lib/python3.7/dist-packages (from sphinx>=1.2.0->sphinx-argparse->indic-nlp-library) (2.11.3)\n",
            "Requirement already satisfied: docutils<0.18,>=0.11 in /usr/local/lib/python3.7/dist-packages (from sphinx>=1.2.0->sphinx-argparse->indic-nlp-library) (0.17.1)\n",
            "Requirement already satisfied: setuptools in /usr/local/lib/python3.7/dist-packages (from sphinx>=1.2.0->sphinx-argparse->indic-nlp-library) (57.4.0)\n",
            "Requirement already satisfied: babel!=2.0,>=1.3 in /usr/local/lib/python3.7/dist-packages (from sphinx>=1.2.0->sphinx-argparse->indic-nlp-library) (2.10.1)\n",
            "Requirement already satisfied: packaging in /usr/local/lib/python3.7/dist-packages (from sphinx>=1.2.0->sphinx-argparse->indic-nlp-library) (21.3)\n",
            "Requirement already satisfied: sphinxcontrib-websupport in /usr/local/lib/python3.7/dist-packages (from sphinx>=1.2.0->sphinx-argparse->indic-nlp-library) (1.2.4)\n",
            "Requirement already satisfied: alabaster<0.8,>=0.7 in /usr/local/lib/python3.7/dist-packages (from sphinx>=1.2.0->sphinx-argparse->indic-nlp-library) (0.7.12)\n",
            "Requirement already satisfied: snowballstemmer>=1.1 in /usr/local/lib/python3.7/dist-packages (from sphinx>=1.2.0->sphinx-argparse->indic-nlp-library) (2.2.0)\n",
            "Requirement already satisfied: requests>=2.0.0 in /usr/local/lib/python3.7/dist-packages (from sphinx>=1.2.0->sphinx-argparse->indic-nlp-library) (2.23.0)\n",
            "Requirement already satisfied: Pygments>=2.0 in /usr/local/lib/python3.7/dist-packages (from sphinx>=1.2.0->sphinx-argparse->indic-nlp-library) (2.6.1)\n",
            "Requirement already satisfied: MarkupSafe>=0.23 in /usr/local/lib/python3.7/dist-packages (from Jinja2>=2.3->sphinx>=1.2.0->sphinx-argparse->indic-nlp-library) (2.0.1)\n",
            "Requirement already satisfied: chardet<4,>=3.0.2 in /usr/local/lib/python3.7/dist-packages (from requests>=2.0.0->sphinx>=1.2.0->sphinx-argparse->indic-nlp-library) (3.0.4)\n",
            "Requirement already satisfied: certifi>=2017.4.17 in /usr/local/lib/python3.7/dist-packages (from requests>=2.0.0->sphinx>=1.2.0->sphinx-argparse->indic-nlp-library) (2021.10.8)\n",
            "Requirement already satisfied: urllib3!=1.25.0,!=1.25.1,<1.26,>=1.21.1 in /usr/local/lib/python3.7/dist-packages (from requests>=2.0.0->sphinx>=1.2.0->sphinx-argparse->indic-nlp-library) (1.24.3)\n",
            "Requirement already satisfied: idna<3,>=2.5 in /usr/local/lib/python3.7/dist-packages (from requests>=2.0.0->sphinx>=1.2.0->sphinx-argparse->indic-nlp-library) (2.10)\n",
            "Requirement already satisfied: pyparsing!=3.0.5,>=2.0.2 in /usr/local/lib/python3.7/dist-packages (from packaging->sphinx>=1.2.0->sphinx-argparse->indic-nlp-library) (3.0.9)\n",
            "Requirement already satisfied: sphinxcontrib-serializinghtml in /usr/local/lib/python3.7/dist-packages (from sphinxcontrib-websupport->sphinx>=1.2.0->sphinx-argparse->indic-nlp-library) (1.1.5)\n",
            "Installing collected packages: sphinx-rtd-theme, sphinx-argparse, morfessor, indic-nlp-library\n",
            "Successfully installed indic-nlp-library-0.81 morfessor-2.0.6 sphinx-argparse-0.3.1 sphinx-rtd-theme-1.0.0\n",
            "Requirement already satisfied: torch in /usr/local/lib/python3.7/dist-packages (1.11.0+cu113)\n",
            "Requirement already satisfied: typing-extensions in /usr/local/lib/python3.7/dist-packages (from torch) (4.2.0)\n",
            "Requirement already satisfied: torchtext in /usr/local/lib/python3.7/dist-packages (0.12.0)\n",
            "Requirement already satisfied: numpy in /usr/local/lib/python3.7/dist-packages (from torchtext) (1.21.6)\n",
            "Requirement already satisfied: torch==1.11.0 in /usr/local/lib/python3.7/dist-packages (from torchtext) (1.11.0+cu113)\n",
            "Requirement already satisfied: requests in /usr/local/lib/python3.7/dist-packages (from torchtext) (2.23.0)\n",
            "Requirement already satisfied: tqdm in /usr/local/lib/python3.7/dist-packages (from torchtext) (4.64.0)\n",
            "Requirement already satisfied: typing-extensions in /usr/local/lib/python3.7/dist-packages (from torch==1.11.0->torchtext) (4.2.0)\n",
            "Requirement already satisfied: chardet<4,>=3.0.2 in /usr/local/lib/python3.7/dist-packages (from requests->torchtext) (3.0.4)\n",
            "Requirement already satisfied: idna<3,>=2.5 in /usr/local/lib/python3.7/dist-packages (from requests->torchtext) (2.10)\n",
            "Requirement already satisfied: urllib3!=1.25.0,!=1.25.1,<1.26,>=1.21.1 in /usr/local/lib/python3.7/dist-packages (from requests->torchtext) (1.24.3)\n",
            "Requirement already satisfied: certifi>=2017.4.17 in /usr/local/lib/python3.7/dist-packages (from requests->torchtext) (2021.10.8)\n"
          ]
        }
      ]
    },
    {
      "cell_type": "code",
      "source": [
        "import sys\n",
        "import os\n",
        "from google.colab import drive \n",
        "drive.mount('/content/gdrive', force_remount=True)\n",
        "%cd /content/gdrive/MyDrive/AML_Project/\n",
        "os.environ['KAGGLE_CONFIG_DIR'] = \"/content/gdrive/MyDrive/AML_Project\""
      ],
      "metadata": {
        "colab": {
          "base_uri": "https://localhost:8080/"
        },
        "id": "82kEOzxUQ1tR",
        "outputId": "36dd8128-9b14-482b-a598-d37beea60e59"
      },
      "execution_count": 13,
      "outputs": [
        {
          "output_type": "stream",
          "name": "stdout",
          "text": [
            "Mounted at /content/gdrive\n",
            "/content/gdrive/MyDrive/AML_Project\n"
          ]
        }
      ]
    },
    {
      "cell_type": "code",
      "source": [
        "# This command is to unmount gdrive - need it sometimes\n",
        "#!fusermount -u gdrive"
      ],
      "metadata": {
        "id": "ticPf3gEHsRl"
      },
      "execution_count": 11,
      "outputs": []
    },
    {
      "cell_type": "code",
      "source": [
        "\n",
        "import torch\n",
        "import torchtext\n",
        "import spacy\n",
        "from torchtext import data, datasets\n",
        "from torchtext.vocab import Vectors\n",
        "from torch.nn import init\n",
        "import torch.nn as nn\n",
        "import torch.nn.functional as F\n",
        "import torch.optim as optim\n",
        "import numpy as np\n",
        "from sklearn.model_selection import train_test_split\n",
        "import pandas as pd"
      ],
      "metadata": {
        "id": "rJFxwE7Q6at1"
      },
      "execution_count": 14,
      "outputs": []
    },
    {
      "cell_type": "markdown",
      "source": [
        "Citation for datasets: @inproceedings{kakwani2020indicnlpsuite,\n",
        "    title={{IndicNLPSuite: Monolingual Corpora, Evaluation Benchmarks and Pre-trained Multilingual Language Models for Indian Languages}},\n",
        "    author={Divyanshu Kakwani and Anoop Kunchukuttan and Satish Golla and Gokul N.C. and Avik Bhattacharyya and Mitesh M. Khapra and Pratyush Kumar},\n",
        "    year={2020},\n",
        "    booktitle={Findings of EMNLP},\n",
        "}\n",
        "\n",
        "\n",
        "@article{kunchukuttan2020indicnlpcorpus,\n",
        "    title={AI4Bharat-IndicNLP Corpus: Monolingual Corpora and Word Embeddings for Indic Languages},\n",
        "    author={Anoop Kunchukuttan and Divyanshu Kakwani and Satish Golla and Gokul N.C. and Avik Bhattacharyya and Mitesh M. Khapra and Pratyush Kumar},\n",
        "    year={2020},\n",
        "    journal={arXiv preprint},\n"
      ],
      "metadata": {
        "id": "WwGjckD0hHic"
      }
    },
    {
      "cell_type": "markdown",
      "source": [
        "\n",
        "\n",
        "Trials for data download, cleaning and some experiments in tokenizers"
      ],
      "metadata": {
        "id": "SAJvXySujkB-"
      }
    },
    {
      "cell_type": "markdown",
      "source": [
        "Reference: https://nbviewer.org/url/anoopkunchukuttan.github.io/indic_nlp_library/doc/indic_nlp_examples.ipynb"
      ],
      "metadata": {
        "id": "wRlQFfacli72"
      }
    },
    {
      "cell_type": "code",
      "source": [
        "from indicnlp.tokenize import sentence_tokenize\n",
        "\n",
        "indic_string=\"\"\"तो क्या विश्व कप 2019 में मैच का बॉस टॉस है? यानी मैच में हार-जीत में \\\n",
        "टॉस की भूमिका अहम है? आप ऐसा सोच सकते हैं। विश्वकप के अपने-अपने पहले मैच में बुरी तरह हारने वाली एशिया की दो टीमों \\\n",
        "पाकिस्तान और श्रीलंका के कप्तान ने हालांकि अपने हार के पीछे टॉस की दलील तो नहीं दी, लेकिन यह जरूर कहा था कि वह एक अहम टॉस हार गए थे।\"\"\"\n",
        "sentences=sentence_tokenize.sentence_split(indic_string, lang='hi')\n",
        "for t in sentences:\n",
        "    print(t)"
      ],
      "metadata": {
        "colab": {
          "base_uri": "https://localhost:8080/"
        },
        "id": "cFoOmcifeHMP",
        "outputId": "b5b752f7-436e-42d2-855f-6a7f89626992"
      },
      "execution_count": 40,
      "outputs": [
        {
          "output_type": "stream",
          "name": "stdout",
          "text": [
            "तो क्या विश्व कप 2019 में मैच का बॉस टॉस है?\n",
            "यानी मैच में हार-जीत में टॉस की भूमिका अहम है?\n",
            "आप ऐसा सोच सकते हैं।\n",
            "विश्वकप के अपने-अपने पहले मैच में बुरी तरह हारने वाली एशिया की दो टीमों पाकिस्तान और श्रीलंका के कप्तान ने हालांकि अपने हार के पीछे टॉस की दलील तो नहीं दी, लेकिन यह जरूर कहा था कि वह एक अहम टॉस हार गए थे।\n"
          ]
        }
      ]
    },
    {
      "cell_type": "code",
      "source": [
        "from indicnlp.tokenize import indic_tokenize  \n",
        "\n",
        "indic_string='सुनो, कुछ आवाज़ आ रही है। फोन?'\n",
        "\n",
        "print('Input String: {}'.format(indic_string))\n",
        "print('Tokens: ')\n",
        "for t in indic_tokenize.trivial_tokenize(indic_string): \n",
        "    print(t)"
      ],
      "metadata": {
        "id": "mDSqkNZ6g0q1",
        "colab": {
          "base_uri": "https://localhost:8080/"
        },
        "outputId": "7109fce0-4d4d-4a4d-ec4f-a496690513cc"
      },
      "execution_count": 41,
      "outputs": [
        {
          "output_type": "stream",
          "name": "stdout",
          "text": [
            "Input String: सुनो, कुछ आवाज़ आ रही है। फोन?\n",
            "Tokens: \n",
            "सुनो\n",
            ",\n",
            "कुछ\n",
            "आवाज़\n",
            "आ\n",
            "रही\n",
            "है\n",
            "।\n",
            "फोन\n",
            "?\n"
          ]
        }
      ]
    },
    {
      "cell_type": "code",
      "source": [
        "!kaggle datasets list -s 'hindi-wikipedia'"
      ],
      "metadata": {
        "colab": {
          "base_uri": "https://localhost:8080/"
        },
        "id": "OjYX7fAEd_oH",
        "outputId": "556507de-e98a-41b0-a48e-6e56e01f27df"
      },
      "execution_count": null,
      "outputs": [
        {
          "output_type": "stream",
          "name": "stdout",
          "text": [
            "ref                                                        title                                               size  lastUpdated          downloadCount  voteCount  usabilityRating  \n",
            "---------------------------------------------------------  -------------------------------------------------  -----  -------------------  -------------  ---------  ---------------  \n",
            "disisbig/hindi-wikipedia-articles-172k                     Hindi Wikipedia Articles - 172k                    208MB  2019-12-24 05:01:30            393         19  0.6875           \n",
            "zarajamshaid/language-identification-datasst               Language Identification dataset                      6MB  2018-12-19 18:12:23           2117         36  1.0              \n",
            "disisbig/hindi-wikipedia-articles-55k                      Hindi Wikipedia Articles - 55k                      63MB  2019-12-24 04:31:32            200          8  0.625            \n",
            "shivavashishtha/shark-tank-india-dataset                   Shark Tank India Dataset                             4KB  2022-02-24 12:57:31           1667         56  1.0              \n",
            "prateekagrawal1405/hindi-wikipedia-articles-172k-csv       Hindi Wikipedia Articles 172k CSV                  166MB  2021-07-09 17:47:52              3          2  0.64705884       \n",
            "mitesh58/bollywood-movie-dataset                           Bollywood Movie Dataset                            100KB  2018-02-04 10:23:40           5302         60  0.7352941        \n",
            "nbroad/muril-large-pt                                      MuRIL Large pt                                       2GB  2021-10-16 14:35:24             61         12  0.5              \n",
            "nbroad/chaii-qa-hindi-q                                    chaii-qa hindi questions                            12MB  2021-08-14 20:00:25             23          4  0.5294118        \n",
            "amayagarwal/hindienglish-ted-talks-wikipedia-articles-etc  Hindi-English TED talks, Wikipedia articles, etc.   48MB  2020-10-31 06:26:53             18          0  0.6875           \n",
            "zzy990106/murilbasecased                                   muril-base-cased                                     2GB  2021-08-21 16:36:07             26          8  0.6875           \n",
            "shankkumar/multilingualopenrelations15                     MultilingualOpenRelations15                         12GB  2021-03-22 20:30:43             73          4  0.5625           \n",
            "zhangbl/multi-languages-stopwords                          multi_languages_stopwords                           85KB  2020-06-20 03:19:21             51          3  0.5625           \n",
            "parthplc/facebook-mlqa                                     Facebook MLQA                                       76MB  2020-11-29 08:44:09             27          1  0.5625           \n",
            "mathurinache/flores101                                     FLORES-101                                          13MB  2021-06-07 09:16:01             40         13  0.9117647        \n",
            "nbroad/muril-large-tf                                      MuRIL Large tf                                       2GB  2021-10-16 14:29:14              0          1  0.4375           \n",
            "sizlingdhairya1/iiit-spoken-language-datasets              IIIT Spoken Language Datasets                      920MB  2022-05-02 08:37:28              2          0  0.3125           \n"
          ]
        }
      ]
    },
    {
      "cell_type": "code",
      "source": [
        "!kaggle datasets download -d 'disisbig/hindi-wikipedia-articles-55k'"
      ],
      "metadata": {
        "colab": {
          "base_uri": "https://localhost:8080/"
        },
        "id": "bTvgATXzd_ql",
        "outputId": "9133f85a-5792-4cbe-f45b-ca77abb91b20"
      },
      "execution_count": null,
      "outputs": [
        {
          "output_type": "stream",
          "name": "stdout",
          "text": [
            "Downloading hindi-wikipedia-articles-55k.zip to /content/drive/MyDrive/Adv_ML_Project\n",
            " 90% 57.0M/63.3M [00:02<00:00, 28.3MB/s]\n",
            "100% 63.3M/63.3M [00:02<00:00, 31.5MB/s]\n"
          ]
        }
      ]
    },
    {
      "cell_type": "markdown",
      "source": [
        "The hindi dataset is now sitting in the folder in zip format at '/content/drive/MyDrive/Adv_ML_Project/hindi-wikipedia-articles-55k.zip'"
      ],
      "metadata": {
        "id": "qupM9aW0fvq9"
      }
    },
    {
      "cell_type": "markdown",
      "source": [
        ""
      ],
      "metadata": {
        "id": "mF4YwWLvfzFE"
      }
    },
    {
      "cell_type": "code",
      "source": [
        "from zipfile import ZipFile\n",
        "\n",
        "with ZipFile('hindi-wikipedia-articles-55k.zip', 'r') as zipObj:\n",
        "   # Extract all the contents of zip file in current directory\n",
        "   zipObj.extractall()\n",
        "# This above code is shit slow. It takes 20 hours to extract. \n",
        "\n",
        "\n",
        "\n"
      ],
      "metadata": {
        "id": "VRiGYfiFg_AD"
      },
      "execution_count": null,
      "outputs": []
    },
    {
      "cell_type": "code",
      "source": [
        "!unzip 'hindi-wikipedia-articles-55k.zip' # This is relatively fast"
      ],
      "metadata": {
        "id": "oj4XYD7UKRCN"
      },
      "execution_count": null,
      "outputs": []
    },
    {
      "cell_type": "code",
      "source": [
        "!kaggle datasets list -s 'bengali-wikipedia'"
      ],
      "metadata": {
        "colab": {
          "base_uri": "https://localhost:8080/"
        },
        "id": "ffg6keiYg_Cg",
        "outputId": "e6fffbd5-9211-484d-9262-389b64e9b3bc"
      },
      "execution_count": null,
      "outputs": [
        {
          "output_type": "stream",
          "name": "stdout",
          "text": [
            "ref                                            title                                   size  lastUpdated          downloadCount  voteCount  usabilityRating  \n",
            "---------------------------------------------  -------------------------------------  -----  -------------------  -------------  ---------  ---------------  \n",
            "disisbig/bengali-wikipedia-articles            Bengali Wikipedia Articles             105MB  2019-12-25 04:35:21            135          6  0.5              \n",
            "nrkapri/rabindranath-tagore-online-variorum    Rabindranath Tagore Online Variorum    173MB  2020-06-07 20:04:16             50          9  1.0              \n",
            "nbroad/muril-large-pt                          MuRIL Large pt                           2GB  2021-10-16 14:35:24             61         12  0.5              \n",
            "aagalib/complete-works-of-rabindranath-tagore  Complete Works of Rabindranath Tagore   43MB  2022-01-04 16:05:23             28          8  0.9411765        \n",
            "zzy990106/murilbasecased                       muril-base-cased                         2GB  2021-08-21 16:36:07             26          8  0.6875           \n",
            "tapash39/bengai-sentencepiece-model            bengai_sentencepiece_model             626KB  2020-02-09 15:22:16              7          0  0.375            \n",
            "zhangbl/multi-languages-stopwords              multi_languages_stopwords               85KB  2020-06-20 03:19:21             51          3  0.5625           \n",
            "iamsouvik/bengaliword2vec                      Bengali Word2Vec                       583MB  2021-01-13 06:31:07              8          0  0.25             \n",
            "mathurinache/flores101                         FLORES-101                              13MB  2021-06-07 09:16:01             40         13  0.9117647        \n",
            "nbroad/muril-large-tf                          MuRIL Large tf                           2GB  2021-10-16 14:29:14              0          1  0.4375           \n",
            "sizlingdhairya1/iiit-spoken-language-datasets  IIIT Spoken Language Datasets          920MB  2022-05-02 08:37:28              2          0  0.3125           \n"
          ]
        }
      ]
    },
    {
      "cell_type": "code",
      "source": [
        "!kaggle datasets download -d 'disisbig/bengali-wikipedia-articles'"
      ],
      "metadata": {
        "colab": {
          "base_uri": "https://localhost:8080/"
        },
        "id": "LE9TnVIIKh4U",
        "outputId": "175a1b3e-8665-491d-e3a5-f1de53685a86"
      },
      "execution_count": 45,
      "outputs": [
        {
          "output_type": "stream",
          "name": "stdout",
          "text": [
            "bengali-wikipedia-articles.zip: Skipping, found more recently modified local copy (use --force to force download)\n"
          ]
        }
      ]
    },
    {
      "cell_type": "code",
      "source": [
        "!unzip 'bengali-wikipedia-articles.zip' # This is relatively fast"
      ],
      "metadata": {
        "id": "2vTi5Iz-Km5f"
      },
      "execution_count": null,
      "outputs": []
    },
    {
      "cell_type": "code",
      "source": [
        "!kaggle datasets list -s 'kannada-wikipedia'"
      ],
      "metadata": {
        "colab": {
          "base_uri": "https://localhost:8080/"
        },
        "id": "E0vkzLwMg_E5",
        "outputId": "bf7a006e-e98c-46b3-becf-05a8c48cc7cb"
      },
      "execution_count": null,
      "outputs": [
        {
          "output_type": "stream",
          "name": "stdout",
          "text": [
            "ref                                            title                           size  lastUpdated          downloadCount  voteCount  usabilityRating  \n",
            "---------------------------------------------  -----------------------------  -----  -------------------  -------------  ---------  ---------------  \n",
            "disisbig/kannada-wikipedia-articles            Kannada Wikipedia Articles      81MB  2019-12-25 04:38:53            168          1  0.5              \n",
            "nbroad/muril-large-pt                          MuRIL Large pt                   2GB  2021-10-16 14:35:24             61         12  0.5              \n",
            "zzy990106/murilbasecased                       muril-base-cased                 2GB  2021-08-21 16:36:07             26          8  0.6875           \n",
            "sizlingdhairya1/iiit-spoken-language-datasets  IIIT Spoken Language Datasets  920MB  2022-05-02 08:37:28              2          0  0.3125           \n",
            "nbroad/muril-large-tf                          MuRIL Large tf                   2GB  2021-10-16 14:29:14              0          1  0.4375           \n"
          ]
        }
      ]
    },
    {
      "cell_type": "code",
      "source": [
        "!kaggle datasets list -s 'malayalam-wikipedia'"
      ],
      "metadata": {
        "colab": {
          "base_uri": "https://localhost:8080/"
        },
        "id": "B-E7_UAmg_Hh",
        "outputId": "1db5f55d-f772-42fe-b506-7eef643723e5"
      },
      "execution_count": null,
      "outputs": [
        {
          "output_type": "stream",
          "name": "stdout",
          "text": [
            "ref                                            title                           size  lastUpdated          downloadCount  voteCount  usabilityRating  \n",
            "---------------------------------------------  -----------------------------  -----  -------------------  -------------  ---------  ---------------  \n",
            "disisbig/malayalam-wikipedia-articles          Malayalam Wikipedia Articles    19MB  2019-12-25 04:39:06            121          6  0.5              \n",
            "nbroad/muril-large-pt                          MuRIL Large pt                   2GB  2021-10-16 14:35:24             61         12  0.5              \n",
            "zzy990106/murilbasecased                       muril-base-cased                 2GB  2021-08-21 16:36:07             26          8  0.6875           \n",
            "sizlingdhairya1/iiit-spoken-language-datasets  IIIT Spoken Language Datasets  920MB  2022-05-02 08:37:28              2          0  0.3125           \n",
            "nbroad/muril-large-tf                          MuRIL Large tf                   2GB  2021-10-16 14:29:14              0          1  0.4375           \n"
          ]
        }
      ]
    },
    {
      "cell_type": "code",
      "source": [
        "!kaggle datasets list -s 'tamil-wikipedia'"
      ],
      "metadata": {
        "colab": {
          "base_uri": "https://localhost:8080/"
        },
        "id": "YQEt1wTIf0GS",
        "outputId": "9dba0524-e5e5-4368-aeca-0c4ef4ce34dd"
      },
      "execution_count": null,
      "outputs": [
        {
          "output_type": "stream",
          "name": "stdout",
          "text": [
            "ref                                                title                                       size  lastUpdated          downloadCount  voteCount  usabilityRating  \n",
            "-------------------------------------------------  -----------------------------------------  -----  -------------------  -------------  ---------  ---------------  \n",
            "disisbig/tamil-wikipedia-articles                  Tamil Wikipedia Articles                    95MB  2019-12-25 04:30:22            172         12  0.64705884       \n",
            "jrobischon/wikipedia-movie-plots                   Wikipedia Movie Plots                       30MB  2018-10-15 19:59:54          14585        432  0.88235295       \n",
            "sudalairajkumar/tamil-nlp                          Tamil NLP                                    3MB  2019-03-11 06:29:11           1284        100  1.0              \n",
            "zarajamshaid/language-identification-datasst       Language Identification dataset              6MB  2018-12-19 18:12:23           2117         36  1.0              \n",
            "praveengovi/tamil-language-corpus-for-nlp          Tamil - Language Corpus for NLP              2GB  2020-04-08 16:00:54            359         29  0.8235294        \n",
            "nbroad/muril-large-pt                              MuRIL Large pt                               2GB  2021-10-16 14:35:24             61         12  0.5              \n",
            "zzy990106/murilbasecased                           muril-base-cased                             2GB  2021-08-21 16:36:07             26          8  0.6875           \n",
            "thanish/capped-cricket-players                     Capped Male International Cricket players  150KB  2020-12-23 09:22:45             70          4  0.5882353        \n",
            "saravananselvamohan/tamil-kollywood-films-dataset  Tamil KollyWood Films Dataset               25KB  2020-08-17 10:08:57            174          4  0.9117647        \n",
            "nbroad/muril-large-tf                              MuRIL Large tf                               2GB  2021-10-16 14:29:14              0          1  0.4375           \n",
            "sizlingdhairya1/iiit-spoken-language-datasets      IIIT Spoken Language Datasets              920MB  2022-05-02 08:37:28              2          0  0.3125           \n",
            "shankkumar/multilingualopenrelations15             MultilingualOpenRelations15                 12GB  2021-03-22 20:30:43             73          4  0.5625           \n"
          ]
        }
      ]
    },
    {
      "cell_type": "markdown",
      "source": [
        ""
      ],
      "metadata": {
        "id": "Zk6qlmavKUNA"
      }
    },
    {
      "cell_type": "code",
      "source": [
        "DEVICE = torch.device(\"cuda\" if torch.cuda.is_available() else \"cpu\")"
      ],
      "metadata": {
        "id": "eFRPvjjAf0Q1"
      },
      "execution_count": 15,
      "outputs": []
    },
    {
      "cell_type": "markdown",
      "source": [
        "Indic NLP news articles is collection of news articles in various Indian langauges. \n",
        "Ref: https://github.com/AI4Bharat/indicnlp_corpus#indicnlp-news-article-classification-dataset"
      ],
      "metadata": {
        "id": "-3v2sDIKrJHs"
      }
    },
    {
      "cell_type": "code",
      "source": [
        "train_kn = pd.read_csv('/content/gdrive/MyDrive/AML_Project/kn/kn-train.csv')\n",
        "test_kn = pd.read_csv('/content/gdrive/MyDrive/AML_Project/kn/kn-test.csv')\n",
        "valid_kn = pd.read_csv('/content/gdrive/MyDrive/AML_Project/kn/kn-valid.csv')"
      ],
      "metadata": {
        "id": "bDd9IYobPbJn"
      },
      "execution_count": 17,
      "outputs": []
    },
    {
      "cell_type": "code",
      "source": [
        "test_kn"
      ],
      "metadata": {
        "colab": {
          "base_uri": "https://localhost:8080/",
          "height": 1000
        },
        "id": "TG0UlxAmbmoG",
        "outputId": "f523a657-a2bd-4fb7-843b-8eed870148ef"
      },
      "execution_count": 46,
      "outputs": [
        {
          "output_type": "execute_result",
          "data": {
            "text/plain": [
              "             sports  \\\n",
              "0     entertainment   \n",
              "1     entertainment   \n",
              "2            sports   \n",
              "3         lifestyle   \n",
              "4     entertainment   \n",
              "...             ...   \n",
              "2994  entertainment   \n",
              "2995  entertainment   \n",
              "2996  entertainment   \n",
              "2997      lifestyle   \n",
              "2998      lifestyle   \n",
              "\n",
              "     ವಿಂಡೀಸ್‌ ತಂಡಕ್ಕೆ ಮರಳಿದ ಸುನೀಲ್‌, ಪೊಲ್ಲಾರ್ಡ್‌\\n‌ಭಾರತ ವಿರುದ್ಧ ಟಿ–20 ಸರಣಿಗೆ ತಂಡ ಪ್ರಕಟ\\nವಿಂಡೀಸ್‌ ತಂಡಕ್ಕೆ ಮರಳಿದ ಸುನೀಲ್‌, ಪೊಲ್ಲಾರ್ಡ್‌\\nಪ್ರಜಾವಾಣಿ ವಾರ್ತೆ\\nPublished:\\n23 ಜುಲೈ 2019, 17:00  IST\\nUpdated:\\n23 ಜುಲೈ 2019, 17:00  IST\\nಅಕ್ಷರ ಗಾತ್ರ :\\nಆ\\nಆ\\nಸೇಂಟ್‌ ಜಾನ್ಸ್‌, ಆ್ಯಂಟೀಗಾ (ಪಿಟಿಐ): ಭಾರತ ವಿರುದ್ಧ ಮೂರು ಪಂದ್ಯಗಳ ಟಿ–20 ಸರಣಿಯಲ್ಲಿ ಆಡುವ ಮೊದಲ ಎರಡು ಪಂದ್ಯಗಳಿಗೆ ವೆಸ್ಟ್‌ ಇಂಡೀಸ್‌ ತಂಡವನ್ನು ಪ್ರಕಟಿಸಲಾಗಿದೆ. ಹಿರಿಯ ಆಟಗಾರರಾದ ಸುನೀಲ್‌ ನಾರಾಯಣ್‌ ಮತ್ತು ಕೀರನ್‌ ಪೊಲ್ಲಾರ್ಡ್‌ ಅವರನ್ನು ಮರಳಿ ಕರೆಸಿಕೊಳ್ಳಲಾಗಿದೆ.\\nಕಾರ್ಲೋಸ್‌ ಬ್ರಾತ್‌ವೇಟ್‌ ನಾಯಕತ್ವದ 14 ಮಂದಿಯ ತಂಡವನ್ನು ಮಂಗಳವಾರ ಪ್ರಕಟಿಸಲಾಯಿತು. ವಿಕೆಟ್‌ ಕೀಪರ್‌– ಬ್ಯಾಟ್ಸ್‌ಮನ್‌ ಅಂಥೋನಿ ಬ್ರಾಂಬಲ್ ತಂಡದಲ್ಲಿರುವ ಏಕೈಕ ಹೊಸಮುಖ. 28 ವರ್ಷದ ಬ್ರಾಂಬಲ್‌, ನಿಕೋಲಸ್‌ ಪೂರನ್‌ಗೆ ಬ್ಯಾಕ್‌ಅಪ್‌ ವಿಕೆಟ್‌ ಕೀಪರ್ ಆಗಿದ್ದಾರೆ.\\nಮೊದಲ ಎರಡು ಪಂದ್ಯಗಳು ಆಗಸ್ಟ್‌ 3 ಮತ್ತು 4ರಂದು ಅಮೆರಿಕದ ಫ್ಲಾರಿಡಾದ ಲಾಡರ್‌ಹಿಲ್‌ನ ಬ್ರೊವಾರ್ಡ್‌ ಕೌಂಟಿ ಸ್ಟೇಡಿಯಂನಲ್ಲಿ ನಡೆಯಲಿವೆ. ಗಯಾನಾದ ನ್ಯಾಷನಲ್‌ ಸ್ಟೇಡಿಯಂನಲ್ಲಿ ಆಗಸ್ಟ್‌ 6ರಂದು ಅಂತಿಮ ಪಂದ್ಯ ನಡೆಯಲಿದೆ ಎಂದು ವೆಸ್ಟ್‌ ಇಂಡೀಸ್‌ ಕ್ರಿಕೆಟ್‌ ಮಂಡಳಿ ತಿಳಿಸಿದೆ. ಈ ಸರಣಿಯ ಬಳಿಕ ಮೂರು ಏಕದಿನ ಮತ್ತು ಎರಡು ಟೆಸ್ಟ್‌ ಪಂದ್ಯಗಳ ಸರಣಿ ಆಡಬೇಕಿದೆ.\\nಆಲ್‌ರೌಂಡರ್‌ ಆ್ಯಂಡ್ರೆ ರಸೆಲ್‌ ತಂಡದಲ್ಲಿ ಅವಕಾಶ ಪಡೆದರೂ, ಅವರು ದೈಹಿಕ ಕ್ಷಮತೆ ಪರೀಕ್ಷೆ ತೇರ್ಗಡೆ ಆಗಬೇಕಾಗಿದೆ. ಇತ್ತೀಚಿನ ವಿಶ್ವಕಪ್‌ ಸಂದರ್ಭದಲ್ಲಿ ರಸೆಲ್‌, ಎಡ ಮಂಡಿ ನೋವು ಕಾಡುತ್ತಿದ್ದ ಪರಿಣಾಮ ಶಸ್ತ್ರಚಿಕಿತ್ಸೆ ಮಾಡಿಸಿಕೊಳ್ಳಲು ಅರ್ಧದಲ್ಲೇ ಸ್ವದೇಶಕ್ಕೆ ಮರಳಿದ್ದರು.\\nಕೀರನ್‌ ಪೊಲ್ಲಾರ್ಡ್‌\\nಅನುಭವಿ ಓಪನರ್‌ ಕ್ರಿಸ್‌ ಗೇಲ್‌, ಕೆನಡಾದಲ್ಲಿ ಜಿಟಿ–20 ಟೂರ್ನಿಯಲ್ಲಿ ಆಡಬೇಕಾಗಿರುವ ಕಾರಣ ಈ ಸರಣಿಗೆ ಲಭ್ಯವಿರುವುದಿಲ್ಲ ಎಂದು ಆಯ್ಕೆ ಸಮಿತಿಗೆ ತಿಳಿಸಿದ್ದಾಗಿ ಸಮಿತಿಯ ಹಂಗಾಮಿ ಅಧ್ಯಕ್ಷ ರಾಬರ್ಟ್‌ ಹೇನ್ಸ್‌ ತಿಳಿಸಿದರು.\\nಮುಂದಿನ ವರ್ಷ ಆಸ್ಟ್ರೇಲಿಯಾದಲ್ಲಿ ನಡೆಯಲಿರುವ ಟಿ–20 ವಿಶ್ವಕಪ್‌ಗೆ ಸಿದ್ಧತೆಯ ಉದ್ದೇಶ ದೃಷ್ಟಿಯಲ್ಲಿಟ್ಟುಕೊಂಡು ಎಡಗೈ ಆರಂಭ ಆಟಗಾರ ಜಾನ್‌ ಕ್ಯಾಂಪ್‌ಬೆಲ್‌ ಮತ್ತು ಎಡಗೈ ಸ್ಪಿನ್ನರ್‌ ಖಾರಿ ಪಿಯರೆ ಅವರನ್ನೂ ಸೇರ್ಪಡೆ ಮಾಡಲಾಗಿದೆ.\\n‘ತಂಡ ಅನುಭವಿ ಮತ್ತು ಯುವಮುಖಗಳೊಂದಿಗೆ ಸಂತುಲಿತವಾಗಿದೆ. ಇದು ಭಾರತ ವಿರುದ್ಧ ಸರಣಿ ಉದ್ದೇಶದಿಂದ ಮಾತ್ರ ಆಯ್ಕೆ ಮಾಡಿದ ತಂಡವಲ್ಲ. ಮುಂದಿನ ಟಿ–20 ವಿಶ್ವಕಪ್‌ಗೆ ತಂಡ ಸಂಯೋಜನೆ ಮಾಡುವ ಉದ್ದೇಶವೂ ಇದರಲ್ಲಿದೆ’ ಎಂದು ಅವರು ಹೇಳಿದರು.\\n‘ತಂಡಕ್ಕೆ ಆಯ್ಕೆಯಾಗಿರುವ ಹೆಚ್ಚಿನ ಆಟಗಾರರು ಐಪಿಎಲ್‌ ಆಡಿದವರು. ಅವರು ಭಾರತದ ಆಟಗಾರರನ್ನು ಚೆನ್ನಾಗಿ ಬಲ್ಲರು. ಸ್ವದೇಶದಲ್ಲೇ ಆಡುವುದರಿಂದ ನಮಗೆ ಸ್ವಲ್ಪ ಅನುಕೂಲವಿದೆ. ಆದರೆ ಅಂತಿಮವಾಗಿ ತಂಡದ ಆಟಗಾರರು ಗೆಲ್ಲಿಸುವುದು ಮುಖ್ಯವಾಗುತ್ತದೆ’ ಎಂದರು.\\nಆಫ್‌ ಬ್ರೇಕ್‌ ಬೌಲರ್ ಸುನೀಲ್‌ ನಾರಾಯಣ್‌, ಎರಡು ವರ್ಷದ ಹಿಂದೆ ಇಂಗ್ಲೆಂಡ್‌ ಪ್ರವಾಸದ ವೇಳೆ ಕೊನೆಯ ಬಾರಿ  ಟಿ–20 ಅಂತರರಾಷ್ಟ್ರೀಯ ಪಂದ್ಯ ಆಡಿದ್ದರು. ಪೊಲ್ಲಾರ್ಡ್‌, ಕಳೆದ ನವೆಂಬರ್‌ನಲ್ಲಿ ಭಾರತ ಪ್ರವಾಸದ ವೇಳೆ ಕೊನೆಯ ಬಾರಿ ಟಿ–20 ಪಂದ್ಯ ಆಡಿದ್ದರು. \\nತಂಡ ಇಂತಿದೆ: ಕಾರ್ಲೋಸ್‌ ಬ್ರಾತ್‌ವೇಟ್‌ (ಕ್ಯಾಪ್ಟನ್‌), ಸುನೀಲ್‌ ನಾರಾಯಣ್‌, ಕೀಮೊ ಪಾಲ್‌, ಖಾರಿ ಪಿಯರೆ, ಕೀರನ್‌ ಪೊಲ್ಲಾರ್ಡ್‌, ನಿಕೋಲಸ್‌ ಪೂರನ್‌ (ವಿಕೆಟ್‌ ಕೀಪರ್‌), ರೊವ್‌ಮನ್‌ ಪೊವೆಲ್‌, ಆ್ಯಂಡ್ರೆ ರಸೆಲ್‌, ಒಷಾನೆ ಥಾಮಸ್‌, ಆಂಥೋನಿ ಬ್ರಾಂಬಲ್‌ (ವಿಕೆಟ್‌ ಕೀಪರ್‌), ಜಾನ್‌ ಕ್ಯಾಂಪ್‌ಬೆಲ್‌, ಶೆಲ್ಟನ್‌ ಕಾಟ್ರೆಲ್‌, ಶಿಮ್ರಾನ್‌ ಹೆಟ್ಮೆಯರ್‌, ಎವಿನ್‌ ಲೂಯಿಸ್‌.\\n0 Post Comments (+)  \n",
              "0     ರಂಗದಲ್ಲಿ ಕಮಲಾದೇವಿ ಚಟ್ಟೋಪಾಧ್ಯಾಯ\\nkamaladevi cha...                                                                                                                                                                                                                                                                                                                                                                                                                                                                                                                                                                                                                                                                                                                                                                                                                                                                                                                                                                                                                                                                                                                                                                                                                                                                                                                                                                                                                                                                                                                                                                                                                                                                                                                                                                                                                                                                                                                                                                                                                                                                                                                                                                                                                                                                                                                                                                                                                                                                                                                                                                                                     \n",
              "1     Bengaluru, First Published 23, Nov 2018, 9:38 ...                                                                                                                                                                                                                                                                                                                                                                                                                                                                                                                                                                                                                                                                                                                                                                                                                                                                                                                                                                                                                                                                                                                                                                                                                                                                                                                                                                                                                                                                                                                                                                                                                                                                                                                                                                                                                                                                                                                                                                                                                                                                                                                                                                                                                                                                                                                                                                                                                                                                                                                                                                                                     \n",
              "2     ಅಧ್ಯಯನ, ಅಭ್ಯಾಸದ ಗೊಂದಲದಲ್ಲಿ ಹಿಮಾ ದಾಸ್‌\\nಅಧ್ಯಯನ,...                                                                                                                                                                                                                                                                                                                                                                                                                                                                                                                                                                                                                                                                                                                                                                                                                                                                                                                                                                                                                                                                                                                                                                                                                                                                                                                                                                                                                                                                                                                                                                                                                                                                                                                                                                                                                                                                                                                                                                                                                                                                                                                                                                                                                                                                                                                                                                                                                                                                                                                                                                                                     \n",
              "3     ದೇಶ ಜೀವನದ ಕೊನೆಯ ಹಂತದಲ್ಲಿ ಆರೋಗ್ಯದ ದುಃಸ್ಥಿತಿ!\\nJ...                                                                                                                                                                                                                                                                                                                                                                                                                                                                                                                                                                                                                                                                                                                                                                                                                                                                                                                                                                                                                                                                                                                                                                                                                                                                                                                                                                                                                                                                                                                                                                                                                                                                                                                                                                                                                                                                                                                                                                                                                                                                                                                                                                                                                                                                                                                                                                                                                                                                                                                                                                                                     \n",
              "4     Bangalore, First Published 11, Jun 2019, 10:40...                                                                                                                                                                                                                                                                                                                                                                                                                                                                                                                                                                                                                                                                                                                                                                                                                                                                                                                                                                                                                                                                                                                                                                                                                                                                                                                                                                                                                                                                                                                                                                                                                                                                                                                                                                                                                                                                                                                                                                                                                                                                                                                                                                                                                                                                                                                                                                                                                                                                                                                                                                                                     \n",
              "...                                                 ...                                                                                                                                                                                                                                                                                                                                                                                                                                                                                                                                                                                                                                                                                                                                                                                                                                                                                                                                                                                                                                                                                                                                                                                                                                                                                                                                                                                                                                                                                                                                                                                                                                                                                                                                                                                                                                                                                                                                                                                                                                                                                                                                                                                                                                                                                                                                                                                                                                                                                                                                                                                                     \n",
              "2994  ವೀಕೆಂಡ್‌ ವಿಥ್‌ ರಮೇಶ್‌; ನಾಲ್ಕನೇ ಸೀಸನ್‌ ಸದ್ಯದಲ್ಲ...                                                                                                                                                                                                                                                                                                                                                                                                                                                                                                                                                                                                                                                                                                                                                                                                                                                                                                                                                                                                                                                                                                                                                                                                                                                                                                                                                                                                                                                                                                                                                                                                                                                                                                                                                                                                                                                                                                                                                                                                                                                                                                                                                                                                                                                                                                                                                                                                                                                                                                                                                                                                     \n",
              "2995  Bangalore, First Published 15, Jul 2019, 8:58 ...                                                                                                                                                                                                                                                                                                                                                                                                                                                                                                                                                                                                                                                                                                                                                                                                                                                                                                                                                                                                                                                                                                                                                                                                                                                                                                                                                                                                                                                                                                                                                                                                                                                                                                                                                                                                                                                                                                                                                                                                                                                                                                                                                                                                                                                                                                                                                                                                                                                                                                                                                                                                     \n",
              "2996  ಅಬ್ಬಾ...! ಕರೀನಾ ಕಪೂರ್  ಅಭಿಮಾನಿ ಜೈಲು ಸೇರಿದ್ಯಾಕೆ...                                                                                                                                                                                                                                                                                                                                                                                                                                                                                                                                                                                                                                                                                                                                                                                                                                                                                                                                                                                                                                                                                                                                                                                                                                                                                                                                                                                                                                                                                                                                                                                                                                                                                                                                                                                                                                                                                                                                                                                                                                                                                                                                                                                                                                                                                                                                                                                                                                                                                                                                                                                                     \n",
              "2997  ದೇಹದ ರಕ್ತ ಹೆಪ್ಪುಗಟ್ಟುವಿಕೆಯ ಬಗ್ಗೆ ಇರುವ  ಕುತೂಹಲಕ...                                                                                                                                                                                                                                                                                                                                                                                                                                                                                                                                                                                                                                                                                                                                                                                                                                                                                                                                                                                                                                                                                                                                                                                                                                                                                                                                                                                                                                                                                                                                                                                                                                                                                                                                                                                                                                                                                                                                                                                                                                                                                                                                                                                                                                                                                                                                                                                                                                                                                                                                                                                                     \n",
              "2998  ವಯಾಗ್ರ ಖರೀದಿದಾರರಿಗೊಂದು ಶಾಕಿಂಗ್ ನ್ಯೂಸ್\\n  04-07...                                                                                                                                                                                                                                                                                                                                                                                                                                                                                                                                                                                                                                                                                                                                                                                                                                                                                                                                                                                                                                                                                                                                                                                                                                                                                                                                                                                                                                                                                                                                                                                                                                                                                                                                                                                                                                                                                                                                                                                                                                                                                                                                                                                                                                                                                                                                                                                                                                                                                                                                                                                                     \n",
              "\n",
              "[2999 rows x 2 columns]"
            ],
            "text/html": [
              "\n",
              "  <div id=\"df-ca6201a5-458e-440f-a3bb-ca4d9be4afe2\">\n",
              "    <div class=\"colab-df-container\">\n",
              "      <div>\n",
              "<style scoped>\n",
              "    .dataframe tbody tr th:only-of-type {\n",
              "        vertical-align: middle;\n",
              "    }\n",
              "\n",
              "    .dataframe tbody tr th {\n",
              "        vertical-align: top;\n",
              "    }\n",
              "\n",
              "    .dataframe thead th {\n",
              "        text-align: right;\n",
              "    }\n",
              "</style>\n",
              "<table border=\"1\" class=\"dataframe\">\n",
              "  <thead>\n",
              "    <tr style=\"text-align: right;\">\n",
              "      <th></th>\n",
              "      <th>sports</th>\n",
              "      <th>ವಿಂಡೀಸ್‌ ತಂಡಕ್ಕೆ ಮರಳಿದ ಸುನೀಲ್‌, ಪೊಲ್ಲಾರ್ಡ್‌\\n‌ಭಾರತ ವಿರುದ್ಧ ಟಿ–20 ಸರಣಿಗೆ ತಂಡ ಪ್ರಕಟ\\nವಿಂಡೀಸ್‌ ತಂಡಕ್ಕೆ ಮರಳಿದ ಸುನೀಲ್‌, ಪೊಲ್ಲಾರ್ಡ್‌\\nಪ್ರಜಾವಾಣಿ ವಾರ್ತೆ\\nPublished:\\n23 ಜುಲೈ 2019, 17:00  IST\\nUpdated:\\n23 ಜುಲೈ 2019, 17:00  IST\\nಅಕ್ಷರ ಗಾತ್ರ :\\nಆ\\nಆ\\nಸೇಂಟ್‌ ಜಾನ್ಸ್‌, ಆ್ಯಂಟೀಗಾ (ಪಿಟಿಐ): ಭಾರತ ವಿರುದ್ಧ ಮೂರು ಪಂದ್ಯಗಳ ಟಿ–20 ಸರಣಿಯಲ್ಲಿ ಆಡುವ ಮೊದಲ ಎರಡು ಪಂದ್ಯಗಳಿಗೆ ವೆಸ್ಟ್‌ ಇಂಡೀಸ್‌ ತಂಡವನ್ನು ಪ್ರಕಟಿಸಲಾಗಿದೆ. ಹಿರಿಯ ಆಟಗಾರರಾದ ಸುನೀಲ್‌ ನಾರಾಯಣ್‌ ಮತ್ತು ಕೀರನ್‌ ಪೊಲ್ಲಾರ್ಡ್‌ ಅವರನ್ನು ಮರಳಿ ಕರೆಸಿಕೊಳ್ಳಲಾಗಿದೆ.\\nಕಾರ್ಲೋಸ್‌ ಬ್ರಾತ್‌ವೇಟ್‌ ನಾಯಕತ್ವದ 14 ಮಂದಿಯ ತಂಡವನ್ನು ಮಂಗಳವಾರ ಪ್ರಕಟಿಸಲಾಯಿತು. ವಿಕೆಟ್‌ ಕೀಪರ್‌– ಬ್ಯಾಟ್ಸ್‌ಮನ್‌ ಅಂಥೋನಿ ಬ್ರಾಂಬಲ್ ತಂಡದಲ್ಲಿರುವ ಏಕೈಕ ಹೊಸಮುಖ. 28 ವರ್ಷದ ಬ್ರಾಂಬಲ್‌, ನಿಕೋಲಸ್‌ ಪೂರನ್‌ಗೆ ಬ್ಯಾಕ್‌ಅಪ್‌ ವಿಕೆಟ್‌ ಕೀಪರ್ ಆಗಿದ್ದಾರೆ.\\nಮೊದಲ ಎರಡು ಪಂದ್ಯಗಳು ಆಗಸ್ಟ್‌ 3 ಮತ್ತು 4ರಂದು ಅಮೆರಿಕದ ಫ್ಲಾರಿಡಾದ ಲಾಡರ್‌ಹಿಲ್‌ನ ಬ್ರೊವಾರ್ಡ್‌ ಕೌಂಟಿ ಸ್ಟೇಡಿಯಂನಲ್ಲಿ ನಡೆಯಲಿವೆ. ಗಯಾನಾದ ನ್ಯಾಷನಲ್‌ ಸ್ಟೇಡಿಯಂನಲ್ಲಿ ಆಗಸ್ಟ್‌ 6ರಂದು ಅಂತಿಮ ಪಂದ್ಯ ನಡೆಯಲಿದೆ ಎಂದು ವೆಸ್ಟ್‌ ಇಂಡೀಸ್‌ ಕ್ರಿಕೆಟ್‌ ಮಂಡಳಿ ತಿಳಿಸಿದೆ. ಈ ಸರಣಿಯ ಬಳಿಕ ಮೂರು ಏಕದಿನ ಮತ್ತು ಎರಡು ಟೆಸ್ಟ್‌ ಪಂದ್ಯಗಳ ಸರಣಿ ಆಡಬೇಕಿದೆ.\\nಆಲ್‌ರೌಂಡರ್‌ ಆ್ಯಂಡ್ರೆ ರಸೆಲ್‌ ತಂಡದಲ್ಲಿ ಅವಕಾಶ ಪಡೆದರೂ, ಅವರು ದೈಹಿಕ ಕ್ಷಮತೆ ಪರೀಕ್ಷೆ ತೇರ್ಗಡೆ ಆಗಬೇಕಾಗಿದೆ. ಇತ್ತೀಚಿನ ವಿಶ್ವಕಪ್‌ ಸಂದರ್ಭದಲ್ಲಿ ರಸೆಲ್‌, ಎಡ ಮಂಡಿ ನೋವು ಕಾಡುತ್ತಿದ್ದ ಪರಿಣಾಮ ಶಸ್ತ್ರಚಿಕಿತ್ಸೆ ಮಾಡಿಸಿಕೊಳ್ಳಲು ಅರ್ಧದಲ್ಲೇ ಸ್ವದೇಶಕ್ಕೆ ಮರಳಿದ್ದರು.\\nಕೀರನ್‌ ಪೊಲ್ಲಾರ್ಡ್‌\\nಅನುಭವಿ ಓಪನರ್‌ ಕ್ರಿಸ್‌ ಗೇಲ್‌, ಕೆನಡಾದಲ್ಲಿ ಜಿಟಿ–20 ಟೂರ್ನಿಯಲ್ಲಿ ಆಡಬೇಕಾಗಿರುವ ಕಾರಣ ಈ ಸರಣಿಗೆ ಲಭ್ಯವಿರುವುದಿಲ್ಲ ಎಂದು ಆಯ್ಕೆ ಸಮಿತಿಗೆ ತಿಳಿಸಿದ್ದಾಗಿ ಸಮಿತಿಯ ಹಂಗಾಮಿ ಅಧ್ಯಕ್ಷ ರಾಬರ್ಟ್‌ ಹೇನ್ಸ್‌ ತಿಳಿಸಿದರು.\\nಮುಂದಿನ ವರ್ಷ ಆಸ್ಟ್ರೇಲಿಯಾದಲ್ಲಿ ನಡೆಯಲಿರುವ ಟಿ–20 ವಿಶ್ವಕಪ್‌ಗೆ ಸಿದ್ಧತೆಯ ಉದ್ದೇಶ ದೃಷ್ಟಿಯಲ್ಲಿಟ್ಟುಕೊಂಡು ಎಡಗೈ ಆರಂಭ ಆಟಗಾರ ಜಾನ್‌ ಕ್ಯಾಂಪ್‌ಬೆಲ್‌ ಮತ್ತು ಎಡಗೈ ಸ್ಪಿನ್ನರ್‌ ಖಾರಿ ಪಿಯರೆ ಅವರನ್ನೂ ಸೇರ್ಪಡೆ ಮಾಡಲಾಗಿದೆ.\\n‘ತಂಡ ಅನುಭವಿ ಮತ್ತು ಯುವಮುಖಗಳೊಂದಿಗೆ ಸಂತುಲಿತವಾಗಿದೆ. ಇದು ಭಾರತ ವಿರುದ್ಧ ಸರಣಿ ಉದ್ದೇಶದಿಂದ ಮಾತ್ರ ಆಯ್ಕೆ ಮಾಡಿದ ತಂಡವಲ್ಲ. ಮುಂದಿನ ಟಿ–20 ವಿಶ್ವಕಪ್‌ಗೆ ತಂಡ ಸಂಯೋಜನೆ ಮಾಡುವ ಉದ್ದೇಶವೂ ಇದರಲ್ಲಿದೆ’ ಎಂದು ಅವರು ಹೇಳಿದರು.\\n‘ತಂಡಕ್ಕೆ ಆಯ್ಕೆಯಾಗಿರುವ ಹೆಚ್ಚಿನ ಆಟಗಾರರು ಐಪಿಎಲ್‌ ಆಡಿದವರು. ಅವರು ಭಾರತದ ಆಟಗಾರರನ್ನು ಚೆನ್ನಾಗಿ ಬಲ್ಲರು. ಸ್ವದೇಶದಲ್ಲೇ ಆಡುವುದರಿಂದ ನಮಗೆ ಸ್ವಲ್ಪ ಅನುಕೂಲವಿದೆ. ಆದರೆ ಅಂತಿಮವಾಗಿ ತಂಡದ ಆಟಗಾರರು ಗೆಲ್ಲಿಸುವುದು ಮುಖ್ಯವಾಗುತ್ತದೆ’ ಎಂದರು.\\nಆಫ್‌ ಬ್ರೇಕ್‌ ಬೌಲರ್ ಸುನೀಲ್‌ ನಾರಾಯಣ್‌, ಎರಡು ವರ್ಷದ ಹಿಂದೆ ಇಂಗ್ಲೆಂಡ್‌ ಪ್ರವಾಸದ ವೇಳೆ ಕೊನೆಯ ಬಾರಿ  ಟಿ–20 ಅಂತರರಾಷ್ಟ್ರೀಯ ಪಂದ್ಯ ಆಡಿದ್ದರು. ಪೊಲ್ಲಾರ್ಡ್‌, ಕಳೆದ ನವೆಂಬರ್‌ನಲ್ಲಿ ಭಾರತ ಪ್ರವಾಸದ ವೇಳೆ ಕೊನೆಯ ಬಾರಿ ಟಿ–20 ಪಂದ್ಯ ಆಡಿದ್ದರು. \\nತಂಡ ಇಂತಿದೆ: ಕಾರ್ಲೋಸ್‌ ಬ್ರಾತ್‌ವೇಟ್‌ (ಕ್ಯಾಪ್ಟನ್‌), ಸುನೀಲ್‌ ನಾರಾಯಣ್‌, ಕೀಮೊ ಪಾಲ್‌, ಖಾರಿ ಪಿಯರೆ, ಕೀರನ್‌ ಪೊಲ್ಲಾರ್ಡ್‌, ನಿಕೋಲಸ್‌ ಪೂರನ್‌ (ವಿಕೆಟ್‌ ಕೀಪರ್‌), ರೊವ್‌ಮನ್‌ ಪೊವೆಲ್‌, ಆ್ಯಂಡ್ರೆ ರಸೆಲ್‌, ಒಷಾನೆ ಥಾಮಸ್‌, ಆಂಥೋನಿ ಬ್ರಾಂಬಲ್‌ (ವಿಕೆಟ್‌ ಕೀಪರ್‌), ಜಾನ್‌ ಕ್ಯಾಂಪ್‌ಬೆಲ್‌, ಶೆಲ್ಟನ್‌ ಕಾಟ್ರೆಲ್‌, ಶಿಮ್ರಾನ್‌ ಹೆಟ್ಮೆಯರ್‌, ಎವಿನ್‌ ಲೂಯಿಸ್‌.\\n0 Post Comments (+)</th>\n",
              "    </tr>\n",
              "  </thead>\n",
              "  <tbody>\n",
              "    <tr>\n",
              "      <th>0</th>\n",
              "      <td>entertainment</td>\n",
              "      <td>ರಂಗದಲ್ಲಿ ಕಮಲಾದೇವಿ ಚಟ್ಟೋಪಾಧ್ಯಾಯ\\nkamaladevi cha...</td>\n",
              "    </tr>\n",
              "    <tr>\n",
              "      <th>1</th>\n",
              "      <td>entertainment</td>\n",
              "      <td>Bengaluru, First Published 23, Nov 2018, 9:38 ...</td>\n",
              "    </tr>\n",
              "    <tr>\n",
              "      <th>2</th>\n",
              "      <td>sports</td>\n",
              "      <td>ಅಧ್ಯಯನ, ಅಭ್ಯಾಸದ ಗೊಂದಲದಲ್ಲಿ ಹಿಮಾ ದಾಸ್‌\\nಅಧ್ಯಯನ,...</td>\n",
              "    </tr>\n",
              "    <tr>\n",
              "      <th>3</th>\n",
              "      <td>lifestyle</td>\n",
              "      <td>ದೇಶ ಜೀವನದ ಕೊನೆಯ ಹಂತದಲ್ಲಿ ಆರೋಗ್ಯದ ದುಃಸ್ಥಿತಿ!\\nJ...</td>\n",
              "    </tr>\n",
              "    <tr>\n",
              "      <th>4</th>\n",
              "      <td>entertainment</td>\n",
              "      <td>Bangalore, First Published 11, Jun 2019, 10:40...</td>\n",
              "    </tr>\n",
              "    <tr>\n",
              "      <th>...</th>\n",
              "      <td>...</td>\n",
              "      <td>...</td>\n",
              "    </tr>\n",
              "    <tr>\n",
              "      <th>2994</th>\n",
              "      <td>entertainment</td>\n",
              "      <td>ವೀಕೆಂಡ್‌ ವಿಥ್‌ ರಮೇಶ್‌; ನಾಲ್ಕನೇ ಸೀಸನ್‌ ಸದ್ಯದಲ್ಲ...</td>\n",
              "    </tr>\n",
              "    <tr>\n",
              "      <th>2995</th>\n",
              "      <td>entertainment</td>\n",
              "      <td>Bangalore, First Published 15, Jul 2019, 8:58 ...</td>\n",
              "    </tr>\n",
              "    <tr>\n",
              "      <th>2996</th>\n",
              "      <td>entertainment</td>\n",
              "      <td>ಅಬ್ಬಾ...! ಕರೀನಾ ಕಪೂರ್  ಅಭಿಮಾನಿ ಜೈಲು ಸೇರಿದ್ಯಾಕೆ...</td>\n",
              "    </tr>\n",
              "    <tr>\n",
              "      <th>2997</th>\n",
              "      <td>lifestyle</td>\n",
              "      <td>ದೇಹದ ರಕ್ತ ಹೆಪ್ಪುಗಟ್ಟುವಿಕೆಯ ಬಗ್ಗೆ ಇರುವ  ಕುತೂಹಲಕ...</td>\n",
              "    </tr>\n",
              "    <tr>\n",
              "      <th>2998</th>\n",
              "      <td>lifestyle</td>\n",
              "      <td>ವಯಾಗ್ರ ಖರೀದಿದಾರರಿಗೊಂದು ಶಾಕಿಂಗ್ ನ್ಯೂಸ್\\n  04-07...</td>\n",
              "    </tr>\n",
              "  </tbody>\n",
              "</table>\n",
              "<p>2999 rows × 2 columns</p>\n",
              "</div>\n",
              "      <button class=\"colab-df-convert\" onclick=\"convertToInteractive('df-ca6201a5-458e-440f-a3bb-ca4d9be4afe2')\"\n",
              "              title=\"Convert this dataframe to an interactive table.\"\n",
              "              style=\"display:none;\">\n",
              "        \n",
              "  <svg xmlns=\"http://www.w3.org/2000/svg\" height=\"24px\"viewBox=\"0 0 24 24\"\n",
              "       width=\"24px\">\n",
              "    <path d=\"M0 0h24v24H0V0z\" fill=\"none\"/>\n",
              "    <path d=\"M18.56 5.44l.94 2.06.94-2.06 2.06-.94-2.06-.94-.94-2.06-.94 2.06-2.06.94zm-11 1L8.5 8.5l.94-2.06 2.06-.94-2.06-.94L8.5 2.5l-.94 2.06-2.06.94zm10 10l.94 2.06.94-2.06 2.06-.94-2.06-.94-.94-2.06-.94 2.06-2.06.94z\"/><path d=\"M17.41 7.96l-1.37-1.37c-.4-.4-.92-.59-1.43-.59-.52 0-1.04.2-1.43.59L10.3 9.45l-7.72 7.72c-.78.78-.78 2.05 0 2.83L4 21.41c.39.39.9.59 1.41.59.51 0 1.02-.2 1.41-.59l7.78-7.78 2.81-2.81c.8-.78.8-2.07 0-2.86zM5.41 20L4 18.59l7.72-7.72 1.47 1.35L5.41 20z\"/>\n",
              "  </svg>\n",
              "      </button>\n",
              "      \n",
              "  <style>\n",
              "    .colab-df-container {\n",
              "      display:flex;\n",
              "      flex-wrap:wrap;\n",
              "      gap: 12px;\n",
              "    }\n",
              "\n",
              "    .colab-df-convert {\n",
              "      background-color: #E8F0FE;\n",
              "      border: none;\n",
              "      border-radius: 50%;\n",
              "      cursor: pointer;\n",
              "      display: none;\n",
              "      fill: #1967D2;\n",
              "      height: 32px;\n",
              "      padding: 0 0 0 0;\n",
              "      width: 32px;\n",
              "    }\n",
              "\n",
              "    .colab-df-convert:hover {\n",
              "      background-color: #E2EBFA;\n",
              "      box-shadow: 0px 1px 2px rgba(60, 64, 67, 0.3), 0px 1px 3px 1px rgba(60, 64, 67, 0.15);\n",
              "      fill: #174EA6;\n",
              "    }\n",
              "\n",
              "    [theme=dark] .colab-df-convert {\n",
              "      background-color: #3B4455;\n",
              "      fill: #D2E3FC;\n",
              "    }\n",
              "\n",
              "    [theme=dark] .colab-df-convert:hover {\n",
              "      background-color: #434B5C;\n",
              "      box-shadow: 0px 1px 3px 1px rgba(0, 0, 0, 0.15);\n",
              "      filter: drop-shadow(0px 1px 2px rgba(0, 0, 0, 0.3));\n",
              "      fill: #FFFFFF;\n",
              "    }\n",
              "  </style>\n",
              "\n",
              "      <script>\n",
              "        const buttonEl =\n",
              "          document.querySelector('#df-ca6201a5-458e-440f-a3bb-ca4d9be4afe2 button.colab-df-convert');\n",
              "        buttonEl.style.display =\n",
              "          google.colab.kernel.accessAllowed ? 'block' : 'none';\n",
              "\n",
              "        async function convertToInteractive(key) {\n",
              "          const element = document.querySelector('#df-ca6201a5-458e-440f-a3bb-ca4d9be4afe2');\n",
              "          const dataTable =\n",
              "            await google.colab.kernel.invokeFunction('convertToInteractive',\n",
              "                                                     [key], {});\n",
              "          if (!dataTable) return;\n",
              "\n",
              "          const docLinkHtml = 'Like what you see? Visit the ' +\n",
              "            '<a target=\"_blank\" href=https://colab.research.google.com/notebooks/data_table.ipynb>data table notebook</a>'\n",
              "            + ' to learn more about interactive tables.';\n",
              "          element.innerHTML = '';\n",
              "          dataTable['output_type'] = 'display_data';\n",
              "          await google.colab.output.renderOutput(dataTable, element);\n",
              "          const docLink = document.createElement('div');\n",
              "          docLink.innerHTML = docLinkHtml;\n",
              "          element.appendChild(docLink);\n",
              "        }\n",
              "      </script>\n",
              "    </div>\n",
              "  </div>\n",
              "  "
            ]
          },
          "metadata": {},
          "execution_count": 46
        }
      ]
    },
    {
      "cell_type": "code",
      "source": [
        "!pip install spacy\n"
      ],
      "metadata": {
        "colab": {
          "base_uri": "https://localhost:8080/"
        },
        "id": "6jQRh-yIXmRl",
        "outputId": "7eb1c42a-e851-46b0-9ab9-915199f6de1f"
      },
      "execution_count": 16,
      "outputs": [
        {
          "output_type": "stream",
          "name": "stdout",
          "text": [
            "Requirement already satisfied: spacy in /usr/local/lib/python3.7/dist-packages (2.2.4)\n",
            "Requirement already satisfied: cymem<2.1.0,>=2.0.2 in /usr/local/lib/python3.7/dist-packages (from spacy) (2.0.6)\n",
            "Requirement already satisfied: catalogue<1.1.0,>=0.0.7 in /usr/local/lib/python3.7/dist-packages (from spacy) (1.0.0)\n",
            "Requirement already satisfied: tqdm<5.0.0,>=4.38.0 in /usr/local/lib/python3.7/dist-packages (from spacy) (4.64.0)\n",
            "Requirement already satisfied: thinc==7.4.0 in /usr/local/lib/python3.7/dist-packages (from spacy) (7.4.0)\n",
            "Requirement already satisfied: setuptools in /usr/local/lib/python3.7/dist-packages (from spacy) (57.4.0)\n",
            "Requirement already satisfied: plac<1.2.0,>=0.9.6 in /usr/local/lib/python3.7/dist-packages (from spacy) (1.1.3)\n",
            "Requirement already satisfied: preshed<3.1.0,>=3.0.2 in /usr/local/lib/python3.7/dist-packages (from spacy) (3.0.6)\n",
            "Requirement already satisfied: numpy>=1.15.0 in /usr/local/lib/python3.7/dist-packages (from spacy) (1.21.6)\n",
            "Requirement already satisfied: srsly<1.1.0,>=1.0.2 in /usr/local/lib/python3.7/dist-packages (from spacy) (1.0.5)\n",
            "Requirement already satisfied: requests<3.0.0,>=2.13.0 in /usr/local/lib/python3.7/dist-packages (from spacy) (2.23.0)\n",
            "Requirement already satisfied: wasabi<1.1.0,>=0.4.0 in /usr/local/lib/python3.7/dist-packages (from spacy) (0.9.1)\n",
            "Requirement already satisfied: blis<0.5.0,>=0.4.0 in /usr/local/lib/python3.7/dist-packages (from spacy) (0.4.1)\n",
            "Requirement already satisfied: murmurhash<1.1.0,>=0.28.0 in /usr/local/lib/python3.7/dist-packages (from spacy) (1.0.7)\n",
            "Requirement already satisfied: importlib-metadata>=0.20 in /usr/local/lib/python3.7/dist-packages (from catalogue<1.1.0,>=0.0.7->spacy) (4.11.3)\n",
            "Requirement already satisfied: typing-extensions>=3.6.4 in /usr/local/lib/python3.7/dist-packages (from importlib-metadata>=0.20->catalogue<1.1.0,>=0.0.7->spacy) (4.2.0)\n",
            "Requirement already satisfied: zipp>=0.5 in /usr/local/lib/python3.7/dist-packages (from importlib-metadata>=0.20->catalogue<1.1.0,>=0.0.7->spacy) (3.8.0)\n",
            "Requirement already satisfied: urllib3!=1.25.0,!=1.25.1,<1.26,>=1.21.1 in /usr/local/lib/python3.7/dist-packages (from requests<3.0.0,>=2.13.0->spacy) (1.24.3)\n",
            "Requirement already satisfied: idna<3,>=2.5 in /usr/local/lib/python3.7/dist-packages (from requests<3.0.0,>=2.13.0->spacy) (2.10)\n",
            "Requirement already satisfied: chardet<4,>=3.0.2 in /usr/local/lib/python3.7/dist-packages (from requests<3.0.0,>=2.13.0->spacy) (3.0.4)\n",
            "Requirement already satisfied: certifi>=2017.4.17 in /usr/local/lib/python3.7/dist-packages (from requests<3.0.0,>=2.13.0->spacy) (2021.10.8)\n"
          ]
        }
      ]
    },
    {
      "cell_type": "code",
      "source": [
        "#Can we use spacy to tokeknize indic languages? Yes\n",
        "from spacy.lang.kn import Kannada\n",
        "nlp_kn = Kannada()\n",
        "print(nlp_kn.lang, [token.is_stop for token in nlp_kn(\"ಇಂಡೀಸ್‌ ಹಲವು\")])\n",
        "doc = nlp_kn(\"ವಿರುದ್ಧ ಮೂರು ಪಂದ್ಯಗಳ ಟಿ–20 ಸರಣಿಯಲ್ಲಿ ಆಡುವ ಮೊದಲ ಎರಡು ಪಂದ್ಯಗಳಿಗೆ ವೆಸ್ಟ್‌ \")\n",
        "for token in doc:\n",
        "  print(token)"
      ],
      "metadata": {
        "colab": {
          "base_uri": "https://localhost:8080/"
        },
        "id": "lyauzUVoZ0it",
        "outputId": "09854588-840f-46db-bdee-f5cc7403654a"
      },
      "execution_count": 56,
      "outputs": [
        {
          "output_type": "stream",
          "name": "stdout",
          "text": [
            "kn [False, True]\n",
            "ವಿರುದ್ಧ\n",
            "ಮೂರು\n",
            "ಪಂದ್ಯಗಳ\n",
            "ಟಿ–20\n",
            "ಸರಣಿಯಲ್ಲಿ\n",
            "ಆಡುವ\n",
            "ಮೊದಲ\n",
            "ಎರಡು\n",
            "ಪಂದ್ಯಗಳಿಗೆ\n",
            "ವೆಸ್ಟ್‌\n"
          ]
        }
      ]
    },
    {
      "cell_type": "code",
      "source": [
        "#Let's try tokenizer designed by Google and IIT Madras. It works! \n",
        "from indicnlp.tokenize import indic_tokenize \n",
        "kannada_string = \"ವಿರುದ್ಧ ಮೂರು ಪಂದ್ಯಗಳ ಟಿ–20 ಸರಣಿಯಲ್ಲಿ ಆಡುವ ಮೊದಲ ಎರಡು ಪಂದ್ಯಗಳಿಗೆ ವೆಸ್ಟ್‌ \"\n",
        "for t in indic_tokenize.trivial_tokenize(kannada_string): \n",
        "    print(t)"
      ],
      "metadata": {
        "colab": {
          "base_uri": "https://localhost:8080/"
        },
        "id": "rd2G3ABwegV2",
        "outputId": "bd61b61e-239b-4112-bc4c-fb790cbc79fc"
      },
      "execution_count": 7,
      "outputs": [
        {
          "output_type": "stream",
          "name": "stdout",
          "text": [
            "ವಿರುದ್ಧ\n",
            "ಮೂರು\n",
            "ಪಂದ್ಯಗಳ\n",
            "ಟಿ–20\n",
            "ಸರಣಿಯಲ್ಲಿ\n",
            "ಆಡುವ\n",
            "ಮೊದಲ\n",
            "ಎರಡು\n",
            "ಪಂದ್ಯಗಳಿಗೆ\n",
            "ವೆಸ್ಟ್‌\n"
          ]
        }
      ]
    },
    {
      "cell_type": "code",
      "source": [
        "from torchtext.data.utils import get_tokenizer\n",
        "from collections import Counter\n",
        "from torchtext.vocab import vocab"
      ],
      "metadata": {
        "id": "0kDDQTCmjnUz"
      },
      "execution_count": 17,
      "outputs": []
    },
    {
      "cell_type": "code",
      "source": [
        "# How about just splitting on spaces based on torchtext basic tokenizer\n",
        "tokenizer_basic = get_tokenizer(None)\n",
        "kannada_string = \"ವಿರುದ್ಧ ಮೂರು ಪಂದ್ಯಗಳ ಟಿ–20 ಸರಣಿಯಲ್ಲಿ ಆಡುವ ಮೊದಲ ಎರಡು ಪಂದ್ಯಗಳಿಗೆ ವೆಸ್ಟ್‌\"\n",
        "for t in tokenizer_basic(kannada_string): \n",
        "    print(t)"
      ],
      "metadata": {
        "colab": {
          "base_uri": "https://localhost:8080/"
        },
        "id": "HKcSAgIsegm8",
        "outputId": "695e8bf9-3e54-4c60-81da-8f877f5ae0d0"
      },
      "execution_count": 66,
      "outputs": [
        {
          "output_type": "stream",
          "name": "stdout",
          "text": [
            "ವಿರುದ್ಧ\n",
            "ಮೂರು\n",
            "ಪಂದ್ಯಗಳ\n",
            "ಟಿ–20\n",
            "ಸರಣಿಯಲ್ಲಿ\n",
            "ಆಡುವ\n",
            "ಮೊದಲ\n",
            "ಎರಡು\n",
            "ಪಂದ್ಯಗಳಿಗೆ\n",
            "ವೆಸ್ಟ್‌\n"
          ]
        }
      ]
    },
    {
      "cell_type": "markdown",
      "source": [
        "MILESTONE 1: LOAD THE DATASETS OF VARIOUS LANGUAGES"
      ],
      "metadata": {
        "id": "jz3t-rIyspFd"
      }
    },
    {
      "cell_type": "code",
      "source": [
        "# Load Hindi train and test\n",
        "train_hi = pd.read_csv('/content/gdrive/MyDrive/AML_Project/hi/hi-train.csv', names = [\"label\", \"text\"], header=None)\n",
        "train_hi['lang'] = \"hi\"\n",
        "test_hi = pd.read_csv('/content/gdrive/MyDrive/AML_Project/hi/hi-test.csv', names = [\"label\", \"text\"], header=None)\n",
        "test_hi['lang'] = \"hi\"\n",
        "train_hi"
      ],
      "metadata": {
        "colab": {
          "base_uri": "https://localhost:8080/",
          "height": 419
        },
        "id": "G0zNxozGbK_b",
        "outputId": "ee9e3dd1-3d74-4cce-a6c9-1c693d32e66b"
      },
      "execution_count": 61,
      "outputs": [
        {
          "output_type": "execute_result",
          "data": {
            "text/plain": [
              "              label                                               text lang\n",
              "0             india  मेट्रो की इस लाइन के चलने से दक्षिणी दिल्ली से...   hi\n",
              "1          pakistan  नेटिजन यानि इंटरनेट पर सक्रिय नागरिक अब ट्विटर...   hi\n",
              "2              news  इसमें एक फ़्लाइट एटेनडेंट की मदद की गुहार है औ...   hi\n",
              "3             india  प्रतीक खुलेपन का, आज़ाद ख्याली का और भीड़ से अ...   hi\n",
              "4             india  ख़ासकर पिछले 10 साल तक प्रधानमंत्री रहे मनमोहन...   hi\n",
              "...             ...                                                ...  ...\n",
              "3462          india  जैसे ही उन्हें पता चलता है कि कोई व्यक्ति परेश...   hi\n",
              "3463          india  जैसे ही सदन की कार्यवाही शुरू हुई तमिलनाडु की ...   hi\n",
              "3464           news  चीन ने पिछले हफ़्ते अप्रत्यक्ष रूप से भारत को ...   hi\n",
              "3465  entertainment  मुक्ता आर्ट्स की 'कांची' कहानी है एक ख़ूबसूरत ...   hi\n",
              "3466  entertainment  फॉक्स स्टार स्टूडियोज़ और विशेष फ़िल्म्स की सि...   hi\n",
              "\n",
              "[3467 rows x 3 columns]"
            ],
            "text/html": [
              "\n",
              "  <div id=\"df-38012e4a-5692-47ea-8b06-2c6498890878\">\n",
              "    <div class=\"colab-df-container\">\n",
              "      <div>\n",
              "<style scoped>\n",
              "    .dataframe tbody tr th:only-of-type {\n",
              "        vertical-align: middle;\n",
              "    }\n",
              "\n",
              "    .dataframe tbody tr th {\n",
              "        vertical-align: top;\n",
              "    }\n",
              "\n",
              "    .dataframe thead th {\n",
              "        text-align: right;\n",
              "    }\n",
              "</style>\n",
              "<table border=\"1\" class=\"dataframe\">\n",
              "  <thead>\n",
              "    <tr style=\"text-align: right;\">\n",
              "      <th></th>\n",
              "      <th>label</th>\n",
              "      <th>text</th>\n",
              "      <th>lang</th>\n",
              "    </tr>\n",
              "  </thead>\n",
              "  <tbody>\n",
              "    <tr>\n",
              "      <th>0</th>\n",
              "      <td>india</td>\n",
              "      <td>मेट्रो की इस लाइन के चलने से दक्षिणी दिल्ली से...</td>\n",
              "      <td>hi</td>\n",
              "    </tr>\n",
              "    <tr>\n",
              "      <th>1</th>\n",
              "      <td>pakistan</td>\n",
              "      <td>नेटिजन यानि इंटरनेट पर सक्रिय नागरिक अब ट्विटर...</td>\n",
              "      <td>hi</td>\n",
              "    </tr>\n",
              "    <tr>\n",
              "      <th>2</th>\n",
              "      <td>news</td>\n",
              "      <td>इसमें एक फ़्लाइट एटेनडेंट की मदद की गुहार है औ...</td>\n",
              "      <td>hi</td>\n",
              "    </tr>\n",
              "    <tr>\n",
              "      <th>3</th>\n",
              "      <td>india</td>\n",
              "      <td>प्रतीक खुलेपन का, आज़ाद ख्याली का और भीड़ से अ...</td>\n",
              "      <td>hi</td>\n",
              "    </tr>\n",
              "    <tr>\n",
              "      <th>4</th>\n",
              "      <td>india</td>\n",
              "      <td>ख़ासकर पिछले 10 साल तक प्रधानमंत्री रहे मनमोहन...</td>\n",
              "      <td>hi</td>\n",
              "    </tr>\n",
              "    <tr>\n",
              "      <th>...</th>\n",
              "      <td>...</td>\n",
              "      <td>...</td>\n",
              "      <td>...</td>\n",
              "    </tr>\n",
              "    <tr>\n",
              "      <th>3462</th>\n",
              "      <td>india</td>\n",
              "      <td>जैसे ही उन्हें पता चलता है कि कोई व्यक्ति परेश...</td>\n",
              "      <td>hi</td>\n",
              "    </tr>\n",
              "    <tr>\n",
              "      <th>3463</th>\n",
              "      <td>india</td>\n",
              "      <td>जैसे ही सदन की कार्यवाही शुरू हुई तमिलनाडु की ...</td>\n",
              "      <td>hi</td>\n",
              "    </tr>\n",
              "    <tr>\n",
              "      <th>3464</th>\n",
              "      <td>news</td>\n",
              "      <td>चीन ने पिछले हफ़्ते अप्रत्यक्ष रूप से भारत को ...</td>\n",
              "      <td>hi</td>\n",
              "    </tr>\n",
              "    <tr>\n",
              "      <th>3465</th>\n",
              "      <td>entertainment</td>\n",
              "      <td>मुक्ता आर्ट्स की 'कांची' कहानी है एक ख़ूबसूरत ...</td>\n",
              "      <td>hi</td>\n",
              "    </tr>\n",
              "    <tr>\n",
              "      <th>3466</th>\n",
              "      <td>entertainment</td>\n",
              "      <td>फॉक्स स्टार स्टूडियोज़ और विशेष फ़िल्म्स की सि...</td>\n",
              "      <td>hi</td>\n",
              "    </tr>\n",
              "  </tbody>\n",
              "</table>\n",
              "<p>3467 rows × 3 columns</p>\n",
              "</div>\n",
              "      <button class=\"colab-df-convert\" onclick=\"convertToInteractive('df-38012e4a-5692-47ea-8b06-2c6498890878')\"\n",
              "              title=\"Convert this dataframe to an interactive table.\"\n",
              "              style=\"display:none;\">\n",
              "        \n",
              "  <svg xmlns=\"http://www.w3.org/2000/svg\" height=\"24px\"viewBox=\"0 0 24 24\"\n",
              "       width=\"24px\">\n",
              "    <path d=\"M0 0h24v24H0V0z\" fill=\"none\"/>\n",
              "    <path d=\"M18.56 5.44l.94 2.06.94-2.06 2.06-.94-2.06-.94-.94-2.06-.94 2.06-2.06.94zm-11 1L8.5 8.5l.94-2.06 2.06-.94-2.06-.94L8.5 2.5l-.94 2.06-2.06.94zm10 10l.94 2.06.94-2.06 2.06-.94-2.06-.94-.94-2.06-.94 2.06-2.06.94z\"/><path d=\"M17.41 7.96l-1.37-1.37c-.4-.4-.92-.59-1.43-.59-.52 0-1.04.2-1.43.59L10.3 9.45l-7.72 7.72c-.78.78-.78 2.05 0 2.83L4 21.41c.39.39.9.59 1.41.59.51 0 1.02-.2 1.41-.59l7.78-7.78 2.81-2.81c.8-.78.8-2.07 0-2.86zM5.41 20L4 18.59l7.72-7.72 1.47 1.35L5.41 20z\"/>\n",
              "  </svg>\n",
              "      </button>\n",
              "      \n",
              "  <style>\n",
              "    .colab-df-container {\n",
              "      display:flex;\n",
              "      flex-wrap:wrap;\n",
              "      gap: 12px;\n",
              "    }\n",
              "\n",
              "    .colab-df-convert {\n",
              "      background-color: #E8F0FE;\n",
              "      border: none;\n",
              "      border-radius: 50%;\n",
              "      cursor: pointer;\n",
              "      display: none;\n",
              "      fill: #1967D2;\n",
              "      height: 32px;\n",
              "      padding: 0 0 0 0;\n",
              "      width: 32px;\n",
              "    }\n",
              "\n",
              "    .colab-df-convert:hover {\n",
              "      background-color: #E2EBFA;\n",
              "      box-shadow: 0px 1px 2px rgba(60, 64, 67, 0.3), 0px 1px 3px 1px rgba(60, 64, 67, 0.15);\n",
              "      fill: #174EA6;\n",
              "    }\n",
              "\n",
              "    [theme=dark] .colab-df-convert {\n",
              "      background-color: #3B4455;\n",
              "      fill: #D2E3FC;\n",
              "    }\n",
              "\n",
              "    [theme=dark] .colab-df-convert:hover {\n",
              "      background-color: #434B5C;\n",
              "      box-shadow: 0px 1px 3px 1px rgba(0, 0, 0, 0.15);\n",
              "      filter: drop-shadow(0px 1px 2px rgba(0, 0, 0, 0.3));\n",
              "      fill: #FFFFFF;\n",
              "    }\n",
              "  </style>\n",
              "\n",
              "      <script>\n",
              "        const buttonEl =\n",
              "          document.querySelector('#df-38012e4a-5692-47ea-8b06-2c6498890878 button.colab-df-convert');\n",
              "        buttonEl.style.display =\n",
              "          google.colab.kernel.accessAllowed ? 'block' : 'none';\n",
              "\n",
              "        async function convertToInteractive(key) {\n",
              "          const element = document.querySelector('#df-38012e4a-5692-47ea-8b06-2c6498890878');\n",
              "          const dataTable =\n",
              "            await google.colab.kernel.invokeFunction('convertToInteractive',\n",
              "                                                     [key], {});\n",
              "          if (!dataTable) return;\n",
              "\n",
              "          const docLinkHtml = 'Like what you see? Visit the ' +\n",
              "            '<a target=\"_blank\" href=https://colab.research.google.com/notebooks/data_table.ipynb>data table notebook</a>'\n",
              "            + ' to learn more about interactive tables.';\n",
              "          element.innerHTML = '';\n",
              "          dataTable['output_type'] = 'display_data';\n",
              "          await google.colab.output.renderOutput(dataTable, element);\n",
              "          const docLink = document.createElement('div');\n",
              "          docLink.innerHTML = docLinkHtml;\n",
              "          element.appendChild(docLink);\n",
              "        }\n",
              "      </script>\n",
              "    </div>\n",
              "  </div>\n",
              "  "
            ]
          },
          "metadata": {},
          "execution_count": 61
        }
      ]
    },
    {
      "cell_type": "code",
      "source": [
        "# Load Kannada train and test\n",
        "train_kn = pd.read_csv('/content/gdrive/MyDrive/AML_Project/kn/kn-train.csv', names = [\"label\", \"text\"],header=None)\n",
        "train_kn['lang'] = \"kn\"\n",
        "test_kn = pd.read_csv('/content/gdrive/MyDrive/AML_Project/kn/kn-test.csv', names = [\"label\", \"text\"],header=None)\n",
        "train_kn"
      ],
      "metadata": {
        "colab": {
          "base_uri": "https://localhost:8080/",
          "height": 419
        },
        "id": "TtmtKlNQcj-u",
        "outputId": "8915f767-ca54-4211-d13f-8aba84b93e52"
      },
      "execution_count": 60,
      "outputs": [
        {
          "output_type": "execute_result",
          "data": {
            "text/plain": [
              "               label                                               text lang\n",
              "0             sports  Samsung Galaxy M30s: ಲಭ್ಯವಾಗಲಿದೆ ಶಕ್ತಿಶಾಲಿ ಸ್ಮ...   kn\n",
              "1             sports  ಯುವೆಂಟಸ್ ತಂಡ ಸೇರಿದ ಕ್ರಿಸ್ಟಿಯಾನೊ ರೊನಾಲ್ಡೊ\\nಯುವೆ...   kn\n",
              "2             sports  ಬ್ಯಾಡ್ಮಿಂಟನ್‌: ಎರಡನೇ ಸುತ್ತಿಗೆ ಸಿಂಧು, ಸಮೀರ್‌\\nಬ...   kn\n",
              "3      entertainment  ತಮ್ಮದು ಒಪ್ಪಿತ ʼಸಂಬಂಧʼ ಎಂದು ಹೇಳಿದ ನಟ\\n  12-05-2...   kn\n",
              "4             sports  ಖ್ಯಾತ ಕ್ರಿಕೆಟಿಗನ ಪತ್ನಿ ನಿಧನ\\n  31-12-2018 7:57...   kn\n",
              "...              ...                                                ...  ...\n",
              "23995         sports  ಏಕದಿನ ಕ್ರಿಕೆಟ್‌: ಬ್ಯಾಟಿಂಗ್‌ ಆರಂಭಿಸಿದ ವಿಂಡೀಸ್‌ಗ...   kn\n",
              "23996         sports  Chennai, First Published 23, Aug 2019, 10:26 A...   kn\n",
              "23997         sports  ಬೆಳ್ಳಿ ಪದಕ ಗೆದ್ದರೂ ಟೀಂಇಂಡಿಯಾ ಹಾಕಿ ಕೋಚ್ ನಿರಾಸೆಗ...   kn\n",
              "23998      lifestyle  ಸೆನ್ಸಿಟಿವ್ ಹಲ್ಲುಗಳ ಸಮಸ್ಯೆ ಇದೆಯೇ? ಈ ಮನೆಮದ್ದುಗಳನ...   kn\n",
              "23999      lifestyle  ಮಧುಮೇಹ ರೋಗಿಗಳು ಖರ್ಜೂರ ತಿನ್ನಬಹುದೇ?\\nDiabetes\\n|...   kn\n",
              "\n",
              "[24000 rows x 3 columns]"
            ],
            "text/html": [
              "\n",
              "  <div id=\"df-6101815e-7df4-4dfb-9e0b-da53df8d6d36\">\n",
              "    <div class=\"colab-df-container\">\n",
              "      <div>\n",
              "<style scoped>\n",
              "    .dataframe tbody tr th:only-of-type {\n",
              "        vertical-align: middle;\n",
              "    }\n",
              "\n",
              "    .dataframe tbody tr th {\n",
              "        vertical-align: top;\n",
              "    }\n",
              "\n",
              "    .dataframe thead th {\n",
              "        text-align: right;\n",
              "    }\n",
              "</style>\n",
              "<table border=\"1\" class=\"dataframe\">\n",
              "  <thead>\n",
              "    <tr style=\"text-align: right;\">\n",
              "      <th></th>\n",
              "      <th>label</th>\n",
              "      <th>text</th>\n",
              "      <th>lang</th>\n",
              "    </tr>\n",
              "  </thead>\n",
              "  <tbody>\n",
              "    <tr>\n",
              "      <th>0</th>\n",
              "      <td>sports</td>\n",
              "      <td>Samsung Galaxy M30s: ಲಭ್ಯವಾಗಲಿದೆ ಶಕ್ತಿಶಾಲಿ ಸ್ಮ...</td>\n",
              "      <td>kn</td>\n",
              "    </tr>\n",
              "    <tr>\n",
              "      <th>1</th>\n",
              "      <td>sports</td>\n",
              "      <td>ಯುವೆಂಟಸ್ ತಂಡ ಸೇರಿದ ಕ್ರಿಸ್ಟಿಯಾನೊ ರೊನಾಲ್ಡೊ\\nಯುವೆ...</td>\n",
              "      <td>kn</td>\n",
              "    </tr>\n",
              "    <tr>\n",
              "      <th>2</th>\n",
              "      <td>sports</td>\n",
              "      <td>ಬ್ಯಾಡ್ಮಿಂಟನ್‌: ಎರಡನೇ ಸುತ್ತಿಗೆ ಸಿಂಧು, ಸಮೀರ್‌\\nಬ...</td>\n",
              "      <td>kn</td>\n",
              "    </tr>\n",
              "    <tr>\n",
              "      <th>3</th>\n",
              "      <td>entertainment</td>\n",
              "      <td>ತಮ್ಮದು ಒಪ್ಪಿತ ʼಸಂಬಂಧʼ ಎಂದು ಹೇಳಿದ ನಟ\\n  12-05-2...</td>\n",
              "      <td>kn</td>\n",
              "    </tr>\n",
              "    <tr>\n",
              "      <th>4</th>\n",
              "      <td>sports</td>\n",
              "      <td>ಖ್ಯಾತ ಕ್ರಿಕೆಟಿಗನ ಪತ್ನಿ ನಿಧನ\\n  31-12-2018 7:57...</td>\n",
              "      <td>kn</td>\n",
              "    </tr>\n",
              "    <tr>\n",
              "      <th>...</th>\n",
              "      <td>...</td>\n",
              "      <td>...</td>\n",
              "      <td>...</td>\n",
              "    </tr>\n",
              "    <tr>\n",
              "      <th>23995</th>\n",
              "      <td>sports</td>\n",
              "      <td>ಏಕದಿನ ಕ್ರಿಕೆಟ್‌: ಬ್ಯಾಟಿಂಗ್‌ ಆರಂಭಿಸಿದ ವಿಂಡೀಸ್‌ಗ...</td>\n",
              "      <td>kn</td>\n",
              "    </tr>\n",
              "    <tr>\n",
              "      <th>23996</th>\n",
              "      <td>sports</td>\n",
              "      <td>Chennai, First Published 23, Aug 2019, 10:26 A...</td>\n",
              "      <td>kn</td>\n",
              "    </tr>\n",
              "    <tr>\n",
              "      <th>23997</th>\n",
              "      <td>sports</td>\n",
              "      <td>ಬೆಳ್ಳಿ ಪದಕ ಗೆದ್ದರೂ ಟೀಂಇಂಡಿಯಾ ಹಾಕಿ ಕೋಚ್ ನಿರಾಸೆಗ...</td>\n",
              "      <td>kn</td>\n",
              "    </tr>\n",
              "    <tr>\n",
              "      <th>23998</th>\n",
              "      <td>lifestyle</td>\n",
              "      <td>ಸೆನ್ಸಿಟಿವ್ ಹಲ್ಲುಗಳ ಸಮಸ್ಯೆ ಇದೆಯೇ? ಈ ಮನೆಮದ್ದುಗಳನ...</td>\n",
              "      <td>kn</td>\n",
              "    </tr>\n",
              "    <tr>\n",
              "      <th>23999</th>\n",
              "      <td>lifestyle</td>\n",
              "      <td>ಮಧುಮೇಹ ರೋಗಿಗಳು ಖರ್ಜೂರ ತಿನ್ನಬಹುದೇ?\\nDiabetes\\n|...</td>\n",
              "      <td>kn</td>\n",
              "    </tr>\n",
              "  </tbody>\n",
              "</table>\n",
              "<p>24000 rows × 3 columns</p>\n",
              "</div>\n",
              "      <button class=\"colab-df-convert\" onclick=\"convertToInteractive('df-6101815e-7df4-4dfb-9e0b-da53df8d6d36')\"\n",
              "              title=\"Convert this dataframe to an interactive table.\"\n",
              "              style=\"display:none;\">\n",
              "        \n",
              "  <svg xmlns=\"http://www.w3.org/2000/svg\" height=\"24px\"viewBox=\"0 0 24 24\"\n",
              "       width=\"24px\">\n",
              "    <path d=\"M0 0h24v24H0V0z\" fill=\"none\"/>\n",
              "    <path d=\"M18.56 5.44l.94 2.06.94-2.06 2.06-.94-2.06-.94-.94-2.06-.94 2.06-2.06.94zm-11 1L8.5 8.5l.94-2.06 2.06-.94-2.06-.94L8.5 2.5l-.94 2.06-2.06.94zm10 10l.94 2.06.94-2.06 2.06-.94-2.06-.94-.94-2.06-.94 2.06-2.06.94z\"/><path d=\"M17.41 7.96l-1.37-1.37c-.4-.4-.92-.59-1.43-.59-.52 0-1.04.2-1.43.59L10.3 9.45l-7.72 7.72c-.78.78-.78 2.05 0 2.83L4 21.41c.39.39.9.59 1.41.59.51 0 1.02-.2 1.41-.59l7.78-7.78 2.81-2.81c.8-.78.8-2.07 0-2.86zM5.41 20L4 18.59l7.72-7.72 1.47 1.35L5.41 20z\"/>\n",
              "  </svg>\n",
              "      </button>\n",
              "      \n",
              "  <style>\n",
              "    .colab-df-container {\n",
              "      display:flex;\n",
              "      flex-wrap:wrap;\n",
              "      gap: 12px;\n",
              "    }\n",
              "\n",
              "    .colab-df-convert {\n",
              "      background-color: #E8F0FE;\n",
              "      border: none;\n",
              "      border-radius: 50%;\n",
              "      cursor: pointer;\n",
              "      display: none;\n",
              "      fill: #1967D2;\n",
              "      height: 32px;\n",
              "      padding: 0 0 0 0;\n",
              "      width: 32px;\n",
              "    }\n",
              "\n",
              "    .colab-df-convert:hover {\n",
              "      background-color: #E2EBFA;\n",
              "      box-shadow: 0px 1px 2px rgba(60, 64, 67, 0.3), 0px 1px 3px 1px rgba(60, 64, 67, 0.15);\n",
              "      fill: #174EA6;\n",
              "    }\n",
              "\n",
              "    [theme=dark] .colab-df-convert {\n",
              "      background-color: #3B4455;\n",
              "      fill: #D2E3FC;\n",
              "    }\n",
              "\n",
              "    [theme=dark] .colab-df-convert:hover {\n",
              "      background-color: #434B5C;\n",
              "      box-shadow: 0px 1px 3px 1px rgba(0, 0, 0, 0.15);\n",
              "      filter: drop-shadow(0px 1px 2px rgba(0, 0, 0, 0.3));\n",
              "      fill: #FFFFFF;\n",
              "    }\n",
              "  </style>\n",
              "\n",
              "      <script>\n",
              "        const buttonEl =\n",
              "          document.querySelector('#df-6101815e-7df4-4dfb-9e0b-da53df8d6d36 button.colab-df-convert');\n",
              "        buttonEl.style.display =\n",
              "          google.colab.kernel.accessAllowed ? 'block' : 'none';\n",
              "\n",
              "        async function convertToInteractive(key) {\n",
              "          const element = document.querySelector('#df-6101815e-7df4-4dfb-9e0b-da53df8d6d36');\n",
              "          const dataTable =\n",
              "            await google.colab.kernel.invokeFunction('convertToInteractive',\n",
              "                                                     [key], {});\n",
              "          if (!dataTable) return;\n",
              "\n",
              "          const docLinkHtml = 'Like what you see? Visit the ' +\n",
              "            '<a target=\"_blank\" href=https://colab.research.google.com/notebooks/data_table.ipynb>data table notebook</a>'\n",
              "            + ' to learn more about interactive tables.';\n",
              "          element.innerHTML = '';\n",
              "          dataTable['output_type'] = 'display_data';\n",
              "          await google.colab.output.renderOutput(dataTable, element);\n",
              "          const docLink = document.createElement('div');\n",
              "          docLink.innerHTML = docLinkHtml;\n",
              "          element.appendChild(docLink);\n",
              "        }\n",
              "      </script>\n",
              "    </div>\n",
              "  </div>\n",
              "  "
            ]
          },
          "metadata": {},
          "execution_count": 60
        }
      ]
    },
    {
      "cell_type": "code",
      "source": [
        "# Load Malyalam train and test\n",
        "train_ml = pd.read_csv('/content/gdrive/MyDrive/AML_Project/ml/ml-train.csv',names = [\"label\", \"text\"], header=None)\n",
        "train_ml['lang'] = \"ml\"\n",
        "test_ml = pd.read_csv('/content/gdrive/MyDrive/AML_Project/ml/ml-test.csv',names = [\"label\", \"text\"], header=None)\n",
        "test_ml['lang'] = \"ml\"\n",
        "train_ml"
      ],
      "metadata": {
        "colab": {
          "base_uri": "https://localhost:8080/",
          "height": 419
        },
        "id": "pGzIesWRd2MB",
        "outputId": "b3b0d0ed-4547-44e5-f7aa-5dd1b79c0d3e"
      },
      "execution_count": 59,
      "outputs": [
        {
          "output_type": "execute_result",
          "data": {
            "text/plain": [
              "              label                                               text lang\n",
              "0            sports  മത്സര പ്രതിഫലമായി സ്വന്തമാക്കിയത് പതിനേഴ് ദശലക...   ml\n",
              "1            sports  ഇന്ത്യൻ പ്രീമിയർ ലീഗിൽ കൊൽക്കത്ത നൈറ്റ് റൈഡേഴ്...   ml\n",
              "2     entertainment  സിനിമാ മേഖലയിൽ ഇപ്പോൾ ബയോപിക്കുകളുടെ കാലമാണ് ....   ml\n",
              "3          business  കോഴിയിറച്ചിക്ക് കിലോക്ക് 87രൂപ നിശ്ചയിച്ച സംസ്...   ml\n",
              "4            sports  ട്വന്റി - 20 ലോകകപ്പിൽ സൂപ്പർ ടെന്നിലെ ഇന്ത്യാ...   ml\n",
              "...             ...                                                ...  ...\n",
              "4795       business  സ്റ്റേറ്റ് ബാങ്കിൻറെ കറൻസി അഡ്മിനിസ്ട്രേറ്റീവ്...   ml\n",
              "4796  entertainment  മോഹൻലാൽ നായകനായ ഒടിയൻ എന്ന ചിത്രത്തിന്റ കഥ അമേ...   ml\n",
              "4797     technology  ജനുവരിയിൽ വാവ്വേ ഇന്ത്യയിൽ അവതരിപ്പിച്ച ഹോണർ 6...   ml\n",
              "4798  entertainment  തൻറെ ഏറ്റവും പുതിയ ചിത്രം സീറോയുടെ തിരക്കിലാണ്...   ml\n",
              "4799         sports  ചെന്നൈയിൽ തമിഴ്നാട് പ്രിമീയർ ലീഗ് ഉദ്ഘാടനത്തിന...   ml\n",
              "\n",
              "[4800 rows x 3 columns]"
            ],
            "text/html": [
              "\n",
              "  <div id=\"df-26ec0aec-0634-4921-bd72-7cb99481beb2\">\n",
              "    <div class=\"colab-df-container\">\n",
              "      <div>\n",
              "<style scoped>\n",
              "    .dataframe tbody tr th:only-of-type {\n",
              "        vertical-align: middle;\n",
              "    }\n",
              "\n",
              "    .dataframe tbody tr th {\n",
              "        vertical-align: top;\n",
              "    }\n",
              "\n",
              "    .dataframe thead th {\n",
              "        text-align: right;\n",
              "    }\n",
              "</style>\n",
              "<table border=\"1\" class=\"dataframe\">\n",
              "  <thead>\n",
              "    <tr style=\"text-align: right;\">\n",
              "      <th></th>\n",
              "      <th>label</th>\n",
              "      <th>text</th>\n",
              "      <th>lang</th>\n",
              "    </tr>\n",
              "  </thead>\n",
              "  <tbody>\n",
              "    <tr>\n",
              "      <th>0</th>\n",
              "      <td>sports</td>\n",
              "      <td>മത്സര പ്രതിഫലമായി സ്വന്തമാക്കിയത് പതിനേഴ് ദശലക...</td>\n",
              "      <td>ml</td>\n",
              "    </tr>\n",
              "    <tr>\n",
              "      <th>1</th>\n",
              "      <td>sports</td>\n",
              "      <td>ഇന്ത്യൻ പ്രീമിയർ ലീഗിൽ കൊൽക്കത്ത നൈറ്റ് റൈഡേഴ്...</td>\n",
              "      <td>ml</td>\n",
              "    </tr>\n",
              "    <tr>\n",
              "      <th>2</th>\n",
              "      <td>entertainment</td>\n",
              "      <td>സിനിമാ മേഖലയിൽ ഇപ്പോൾ ബയോപിക്കുകളുടെ കാലമാണ് ....</td>\n",
              "      <td>ml</td>\n",
              "    </tr>\n",
              "    <tr>\n",
              "      <th>3</th>\n",
              "      <td>business</td>\n",
              "      <td>കോഴിയിറച്ചിക്ക് കിലോക്ക് 87രൂപ നിശ്ചയിച്ച സംസ്...</td>\n",
              "      <td>ml</td>\n",
              "    </tr>\n",
              "    <tr>\n",
              "      <th>4</th>\n",
              "      <td>sports</td>\n",
              "      <td>ട്വന്റി - 20 ലോകകപ്പിൽ സൂപ്പർ ടെന്നിലെ ഇന്ത്യാ...</td>\n",
              "      <td>ml</td>\n",
              "    </tr>\n",
              "    <tr>\n",
              "      <th>...</th>\n",
              "      <td>...</td>\n",
              "      <td>...</td>\n",
              "      <td>...</td>\n",
              "    </tr>\n",
              "    <tr>\n",
              "      <th>4795</th>\n",
              "      <td>business</td>\n",
              "      <td>സ്റ്റേറ്റ് ബാങ്കിൻറെ കറൻസി അഡ്മിനിസ്ട്രേറ്റീവ്...</td>\n",
              "      <td>ml</td>\n",
              "    </tr>\n",
              "    <tr>\n",
              "      <th>4796</th>\n",
              "      <td>entertainment</td>\n",
              "      <td>മോഹൻലാൽ നായകനായ ഒടിയൻ എന്ന ചിത്രത്തിന്റ കഥ അമേ...</td>\n",
              "      <td>ml</td>\n",
              "    </tr>\n",
              "    <tr>\n",
              "      <th>4797</th>\n",
              "      <td>technology</td>\n",
              "      <td>ജനുവരിയിൽ വാവ്വേ ഇന്ത്യയിൽ അവതരിപ്പിച്ച ഹോണർ 6...</td>\n",
              "      <td>ml</td>\n",
              "    </tr>\n",
              "    <tr>\n",
              "      <th>4798</th>\n",
              "      <td>entertainment</td>\n",
              "      <td>തൻറെ ഏറ്റവും പുതിയ ചിത്രം സീറോയുടെ തിരക്കിലാണ്...</td>\n",
              "      <td>ml</td>\n",
              "    </tr>\n",
              "    <tr>\n",
              "      <th>4799</th>\n",
              "      <td>sports</td>\n",
              "      <td>ചെന്നൈയിൽ തമിഴ്നാട് പ്രിമീയർ ലീഗ് ഉദ്ഘാടനത്തിന...</td>\n",
              "      <td>ml</td>\n",
              "    </tr>\n",
              "  </tbody>\n",
              "</table>\n",
              "<p>4800 rows × 3 columns</p>\n",
              "</div>\n",
              "      <button class=\"colab-df-convert\" onclick=\"convertToInteractive('df-26ec0aec-0634-4921-bd72-7cb99481beb2')\"\n",
              "              title=\"Convert this dataframe to an interactive table.\"\n",
              "              style=\"display:none;\">\n",
              "        \n",
              "  <svg xmlns=\"http://www.w3.org/2000/svg\" height=\"24px\"viewBox=\"0 0 24 24\"\n",
              "       width=\"24px\">\n",
              "    <path d=\"M0 0h24v24H0V0z\" fill=\"none\"/>\n",
              "    <path d=\"M18.56 5.44l.94 2.06.94-2.06 2.06-.94-2.06-.94-.94-2.06-.94 2.06-2.06.94zm-11 1L8.5 8.5l.94-2.06 2.06-.94-2.06-.94L8.5 2.5l-.94 2.06-2.06.94zm10 10l.94 2.06.94-2.06 2.06-.94-2.06-.94-.94-2.06-.94 2.06-2.06.94z\"/><path d=\"M17.41 7.96l-1.37-1.37c-.4-.4-.92-.59-1.43-.59-.52 0-1.04.2-1.43.59L10.3 9.45l-7.72 7.72c-.78.78-.78 2.05 0 2.83L4 21.41c.39.39.9.59 1.41.59.51 0 1.02-.2 1.41-.59l7.78-7.78 2.81-2.81c.8-.78.8-2.07 0-2.86zM5.41 20L4 18.59l7.72-7.72 1.47 1.35L5.41 20z\"/>\n",
              "  </svg>\n",
              "      </button>\n",
              "      \n",
              "  <style>\n",
              "    .colab-df-container {\n",
              "      display:flex;\n",
              "      flex-wrap:wrap;\n",
              "      gap: 12px;\n",
              "    }\n",
              "\n",
              "    .colab-df-convert {\n",
              "      background-color: #E8F0FE;\n",
              "      border: none;\n",
              "      border-radius: 50%;\n",
              "      cursor: pointer;\n",
              "      display: none;\n",
              "      fill: #1967D2;\n",
              "      height: 32px;\n",
              "      padding: 0 0 0 0;\n",
              "      width: 32px;\n",
              "    }\n",
              "\n",
              "    .colab-df-convert:hover {\n",
              "      background-color: #E2EBFA;\n",
              "      box-shadow: 0px 1px 2px rgba(60, 64, 67, 0.3), 0px 1px 3px 1px rgba(60, 64, 67, 0.15);\n",
              "      fill: #174EA6;\n",
              "    }\n",
              "\n",
              "    [theme=dark] .colab-df-convert {\n",
              "      background-color: #3B4455;\n",
              "      fill: #D2E3FC;\n",
              "    }\n",
              "\n",
              "    [theme=dark] .colab-df-convert:hover {\n",
              "      background-color: #434B5C;\n",
              "      box-shadow: 0px 1px 3px 1px rgba(0, 0, 0, 0.15);\n",
              "      filter: drop-shadow(0px 1px 2px rgba(0, 0, 0, 0.3));\n",
              "      fill: #FFFFFF;\n",
              "    }\n",
              "  </style>\n",
              "\n",
              "      <script>\n",
              "        const buttonEl =\n",
              "          document.querySelector('#df-26ec0aec-0634-4921-bd72-7cb99481beb2 button.colab-df-convert');\n",
              "        buttonEl.style.display =\n",
              "          google.colab.kernel.accessAllowed ? 'block' : 'none';\n",
              "\n",
              "        async function convertToInteractive(key) {\n",
              "          const element = document.querySelector('#df-26ec0aec-0634-4921-bd72-7cb99481beb2');\n",
              "          const dataTable =\n",
              "            await google.colab.kernel.invokeFunction('convertToInteractive',\n",
              "                                                     [key], {});\n",
              "          if (!dataTable) return;\n",
              "\n",
              "          const docLinkHtml = 'Like what you see? Visit the ' +\n",
              "            '<a target=\"_blank\" href=https://colab.research.google.com/notebooks/data_table.ipynb>data table notebook</a>'\n",
              "            + ' to learn more about interactive tables.';\n",
              "          element.innerHTML = '';\n",
              "          dataTable['output_type'] = 'display_data';\n",
              "          await google.colab.output.renderOutput(dataTable, element);\n",
              "          const docLink = document.createElement('div');\n",
              "          docLink.innerHTML = docLinkHtml;\n",
              "          element.appendChild(docLink);\n",
              "        }\n",
              "      </script>\n",
              "    </div>\n",
              "  </div>\n",
              "  "
            ]
          },
          "metadata": {},
          "execution_count": 59
        }
      ]
    },
    {
      "cell_type": "code",
      "source": [
        "# Load Bengali train and test\n",
        "train_bn = pd.read_csv('/content/gdrive/MyDrive/AML_Project/bn/bn-train.csv',names = [\"label\", \"text\"], header=None)\n",
        "train_bn['lang'] = \"bn\"\n",
        "test_bn = pd.read_csv('/content/gdrive/MyDrive/AML_Project/bn/bn-test.csv',names = [\"label\", \"text\"], header=None)\n",
        "test_bn['lang'] = \"bn\"\n",
        "train_bn"
      ],
      "metadata": {
        "colab": {
          "base_uri": "https://localhost:8080/",
          "height": 419
        },
        "id": "okrjExpdd2RT",
        "outputId": "3ab4f1b1-4ffb-4222-bd8f-c94879c877d5"
      },
      "execution_count": 58,
      "outputs": [
        {
          "output_type": "execute_result",
          "data": {
            "text/plain": [
              "               label                                               text lang\n",
              "0      entertainment  শরদিন্দু বন্দ্যোপাধ্যাযের গল্প ‘মগ্ন মৈনাক’ নি...   bn\n",
              "1             sports  # লন্ডনঃ সচিন পুত্র অর্জুন তেন্ডুলকর এখন ক্রিক...   bn\n",
              "2             sports  জাতীয় দলের নির্বাচনে কি রাজনীতির ছোঁয়া থাকে ...   bn\n",
              "3             sports  আইপিএলের ফাইনালে ফের একবার ‘এল ক্ল্যাসিকো’ । র...   bn\n",
              "4      entertainment  # মুম্বইঃ অবেশেষে মুক্তি পেল এ বছরের সবচেয়ে ব...   bn\n",
              "...              ...                                                ...  ...\n",
              "11195         sports  জাতীয় দলের নির্বাচনে কি রাজনীতির ছোঁয়া থাকে ...   bn\n",
              "11196  entertainment  এবার বলিউডে জুটি বাঁধলেন রণবীর সিং ও আলিয়া ভা...   bn\n",
              "11197  entertainment  # মুম্বইঃ না , আর কিছু বাদ রাখলেন না অভিনেতা শ...   bn\n",
              "11198         sports  জাতীয় দলের নির্বাচনে কি রাজনীতির ছোঁয়া থাকে ...   bn\n",
              "11199  entertainment  # মুম্বইঃ প্রয়াত পরিচালক কল্পনা লাজমি । বয়স ...   bn\n",
              "\n",
              "[11200 rows x 3 columns]"
            ],
            "text/html": [
              "\n",
              "  <div id=\"df-bae7901a-af01-458c-85a3-1ddc285acf55\">\n",
              "    <div class=\"colab-df-container\">\n",
              "      <div>\n",
              "<style scoped>\n",
              "    .dataframe tbody tr th:only-of-type {\n",
              "        vertical-align: middle;\n",
              "    }\n",
              "\n",
              "    .dataframe tbody tr th {\n",
              "        vertical-align: top;\n",
              "    }\n",
              "\n",
              "    .dataframe thead th {\n",
              "        text-align: right;\n",
              "    }\n",
              "</style>\n",
              "<table border=\"1\" class=\"dataframe\">\n",
              "  <thead>\n",
              "    <tr style=\"text-align: right;\">\n",
              "      <th></th>\n",
              "      <th>label</th>\n",
              "      <th>text</th>\n",
              "      <th>lang</th>\n",
              "    </tr>\n",
              "  </thead>\n",
              "  <tbody>\n",
              "    <tr>\n",
              "      <th>0</th>\n",
              "      <td>entertainment</td>\n",
              "      <td>শরদিন্দু বন্দ্যোপাধ্যাযের গল্প ‘মগ্ন মৈনাক’ নি...</td>\n",
              "      <td>bn</td>\n",
              "    </tr>\n",
              "    <tr>\n",
              "      <th>1</th>\n",
              "      <td>sports</td>\n",
              "      <td># লন্ডনঃ সচিন পুত্র অর্জুন তেন্ডুলকর এখন ক্রিক...</td>\n",
              "      <td>bn</td>\n",
              "    </tr>\n",
              "    <tr>\n",
              "      <th>2</th>\n",
              "      <td>sports</td>\n",
              "      <td>জাতীয় দলের নির্বাচনে কি রাজনীতির ছোঁয়া থাকে ...</td>\n",
              "      <td>bn</td>\n",
              "    </tr>\n",
              "    <tr>\n",
              "      <th>3</th>\n",
              "      <td>sports</td>\n",
              "      <td>আইপিএলের ফাইনালে ফের একবার ‘এল ক্ল্যাসিকো’ । র...</td>\n",
              "      <td>bn</td>\n",
              "    </tr>\n",
              "    <tr>\n",
              "      <th>4</th>\n",
              "      <td>entertainment</td>\n",
              "      <td># মুম্বইঃ অবেশেষে মুক্তি পেল এ বছরের সবচেয়ে ব...</td>\n",
              "      <td>bn</td>\n",
              "    </tr>\n",
              "    <tr>\n",
              "      <th>...</th>\n",
              "      <td>...</td>\n",
              "      <td>...</td>\n",
              "      <td>...</td>\n",
              "    </tr>\n",
              "    <tr>\n",
              "      <th>11195</th>\n",
              "      <td>sports</td>\n",
              "      <td>জাতীয় দলের নির্বাচনে কি রাজনীতির ছোঁয়া থাকে ...</td>\n",
              "      <td>bn</td>\n",
              "    </tr>\n",
              "    <tr>\n",
              "      <th>11196</th>\n",
              "      <td>entertainment</td>\n",
              "      <td>এবার বলিউডে জুটি বাঁধলেন রণবীর সিং ও আলিয়া ভা...</td>\n",
              "      <td>bn</td>\n",
              "    </tr>\n",
              "    <tr>\n",
              "      <th>11197</th>\n",
              "      <td>entertainment</td>\n",
              "      <td># মুম্বইঃ না , আর কিছু বাদ রাখলেন না অভিনেতা শ...</td>\n",
              "      <td>bn</td>\n",
              "    </tr>\n",
              "    <tr>\n",
              "      <th>11198</th>\n",
              "      <td>sports</td>\n",
              "      <td>জাতীয় দলের নির্বাচনে কি রাজনীতির ছোঁয়া থাকে ...</td>\n",
              "      <td>bn</td>\n",
              "    </tr>\n",
              "    <tr>\n",
              "      <th>11199</th>\n",
              "      <td>entertainment</td>\n",
              "      <td># মুম্বইঃ প্রয়াত পরিচালক কল্পনা লাজমি । বয়স ...</td>\n",
              "      <td>bn</td>\n",
              "    </tr>\n",
              "  </tbody>\n",
              "</table>\n",
              "<p>11200 rows × 3 columns</p>\n",
              "</div>\n",
              "      <button class=\"colab-df-convert\" onclick=\"convertToInteractive('df-bae7901a-af01-458c-85a3-1ddc285acf55')\"\n",
              "              title=\"Convert this dataframe to an interactive table.\"\n",
              "              style=\"display:none;\">\n",
              "        \n",
              "  <svg xmlns=\"http://www.w3.org/2000/svg\" height=\"24px\"viewBox=\"0 0 24 24\"\n",
              "       width=\"24px\">\n",
              "    <path d=\"M0 0h24v24H0V0z\" fill=\"none\"/>\n",
              "    <path d=\"M18.56 5.44l.94 2.06.94-2.06 2.06-.94-2.06-.94-.94-2.06-.94 2.06-2.06.94zm-11 1L8.5 8.5l.94-2.06 2.06-.94-2.06-.94L8.5 2.5l-.94 2.06-2.06.94zm10 10l.94 2.06.94-2.06 2.06-.94-2.06-.94-.94-2.06-.94 2.06-2.06.94z\"/><path d=\"M17.41 7.96l-1.37-1.37c-.4-.4-.92-.59-1.43-.59-.52 0-1.04.2-1.43.59L10.3 9.45l-7.72 7.72c-.78.78-.78 2.05 0 2.83L4 21.41c.39.39.9.59 1.41.59.51 0 1.02-.2 1.41-.59l7.78-7.78 2.81-2.81c.8-.78.8-2.07 0-2.86zM5.41 20L4 18.59l7.72-7.72 1.47 1.35L5.41 20z\"/>\n",
              "  </svg>\n",
              "      </button>\n",
              "      \n",
              "  <style>\n",
              "    .colab-df-container {\n",
              "      display:flex;\n",
              "      flex-wrap:wrap;\n",
              "      gap: 12px;\n",
              "    }\n",
              "\n",
              "    .colab-df-convert {\n",
              "      background-color: #E8F0FE;\n",
              "      border: none;\n",
              "      border-radius: 50%;\n",
              "      cursor: pointer;\n",
              "      display: none;\n",
              "      fill: #1967D2;\n",
              "      height: 32px;\n",
              "      padding: 0 0 0 0;\n",
              "      width: 32px;\n",
              "    }\n",
              "\n",
              "    .colab-df-convert:hover {\n",
              "      background-color: #E2EBFA;\n",
              "      box-shadow: 0px 1px 2px rgba(60, 64, 67, 0.3), 0px 1px 3px 1px rgba(60, 64, 67, 0.15);\n",
              "      fill: #174EA6;\n",
              "    }\n",
              "\n",
              "    [theme=dark] .colab-df-convert {\n",
              "      background-color: #3B4455;\n",
              "      fill: #D2E3FC;\n",
              "    }\n",
              "\n",
              "    [theme=dark] .colab-df-convert:hover {\n",
              "      background-color: #434B5C;\n",
              "      box-shadow: 0px 1px 3px 1px rgba(0, 0, 0, 0.15);\n",
              "      filter: drop-shadow(0px 1px 2px rgba(0, 0, 0, 0.3));\n",
              "      fill: #FFFFFF;\n",
              "    }\n",
              "  </style>\n",
              "\n",
              "      <script>\n",
              "        const buttonEl =\n",
              "          document.querySelector('#df-bae7901a-af01-458c-85a3-1ddc285acf55 button.colab-df-convert');\n",
              "        buttonEl.style.display =\n",
              "          google.colab.kernel.accessAllowed ? 'block' : 'none';\n",
              "\n",
              "        async function convertToInteractive(key) {\n",
              "          const element = document.querySelector('#df-bae7901a-af01-458c-85a3-1ddc285acf55');\n",
              "          const dataTable =\n",
              "            await google.colab.kernel.invokeFunction('convertToInteractive',\n",
              "                                                     [key], {});\n",
              "          if (!dataTable) return;\n",
              "\n",
              "          const docLinkHtml = 'Like what you see? Visit the ' +\n",
              "            '<a target=\"_blank\" href=https://colab.research.google.com/notebooks/data_table.ipynb>data table notebook</a>'\n",
              "            + ' to learn more about interactive tables.';\n",
              "          element.innerHTML = '';\n",
              "          dataTable['output_type'] = 'display_data';\n",
              "          await google.colab.output.renderOutput(dataTable, element);\n",
              "          const docLink = document.createElement('div');\n",
              "          docLink.innerHTML = docLinkHtml;\n",
              "          element.appendChild(docLink);\n",
              "        }\n",
              "      </script>\n",
              "    </div>\n",
              "  </div>\n",
              "  "
            ]
          },
          "metadata": {},
          "execution_count": 58
        }
      ]
    },
    {
      "cell_type": "code",
      "source": [
        "# Load Tamil train and test\n",
        "train_ta = pd.read_csv('/content/gdrive/MyDrive/AML_Project/ta/ta-train.csv',names = [\"label\", \"text\"], header=None)\n",
        "train_ta['lang'] = \"ta\"\n",
        "test_ta = pd.read_csv('/content/gdrive/MyDrive/AML_Project/ta/ta-test.csv',names = [\"label\", \"text\"], header=None)\n",
        "test_ta['lang'] = \"ta\"\n",
        "train_ta"
      ],
      "metadata": {
        "colab": {
          "base_uri": "https://localhost:8080/",
          "height": 419
        },
        "id": "rNCd7ouRd2WM",
        "outputId": "97b2defa-2fdc-4516-8c13-20273da253c9"
      },
      "execution_count": 57,
      "outputs": [
        {
          "output_type": "execute_result",
          "data": {
            "text/plain": [
              "              label                                               text lang\n",
              "0     entertainment  கட் அவுட்டிற்கு பாலாபிஷேகம் செய்து வந்த காலமெல...   ta\n",
              "1     entertainment  தமிழ் சினிமாவில் குணச்சித்திர நடிகராக அறிமுகமா...   ta\n",
              "2     entertainment  மறைந்த முன்னாள் முதலமைச்சர் ஜெயலலிதாவின் மறைவி...   ta\n",
              "3          politics  அமைச்சர் விஜய பாஸ்கரை பதவி நீக்கம் செய்ய வேண்ட...   ta\n",
              "4          politics  ஆர்கே . நகர் இடைத்தேர்தல் களம் சூடுபிடித்துள்ள...   ta\n",
              "...             ...                                                ...  ...\n",
              "9355  entertainment  எம் . ஜி . ஆர் காலத்திலிருந்து விமல் காலம் வரை...   ta\n",
              "9356       politics  கப்பல்கள் மோதிய விவகாரத்தில் கடந்த 8 நாட்களாக ...   ta\n",
              "9357  entertainment  பிக்பாஸ் நிகழ்ச்சியில் தற்போது தலைவியாக இருக்க...   ta\n",
              "9358  entertainment  பரதன் இயக்கத்தில் விஜய் நடித்துள்ள அவருடைய 60வ...   ta\n",
              "9359         sports  இந்திய அணியின் கேப்டன் விராட் கோலி , ஒவ்வொரு ப...   ta\n",
              "\n",
              "[9360 rows x 3 columns]"
            ],
            "text/html": [
              "\n",
              "  <div id=\"df-6857f420-1de0-43c4-8423-e990573871cc\">\n",
              "    <div class=\"colab-df-container\">\n",
              "      <div>\n",
              "<style scoped>\n",
              "    .dataframe tbody tr th:only-of-type {\n",
              "        vertical-align: middle;\n",
              "    }\n",
              "\n",
              "    .dataframe tbody tr th {\n",
              "        vertical-align: top;\n",
              "    }\n",
              "\n",
              "    .dataframe thead th {\n",
              "        text-align: right;\n",
              "    }\n",
              "</style>\n",
              "<table border=\"1\" class=\"dataframe\">\n",
              "  <thead>\n",
              "    <tr style=\"text-align: right;\">\n",
              "      <th></th>\n",
              "      <th>label</th>\n",
              "      <th>text</th>\n",
              "      <th>lang</th>\n",
              "    </tr>\n",
              "  </thead>\n",
              "  <tbody>\n",
              "    <tr>\n",
              "      <th>0</th>\n",
              "      <td>entertainment</td>\n",
              "      <td>கட் அவுட்டிற்கு பாலாபிஷேகம் செய்து வந்த காலமெல...</td>\n",
              "      <td>ta</td>\n",
              "    </tr>\n",
              "    <tr>\n",
              "      <th>1</th>\n",
              "      <td>entertainment</td>\n",
              "      <td>தமிழ் சினிமாவில் குணச்சித்திர நடிகராக அறிமுகமா...</td>\n",
              "      <td>ta</td>\n",
              "    </tr>\n",
              "    <tr>\n",
              "      <th>2</th>\n",
              "      <td>entertainment</td>\n",
              "      <td>மறைந்த முன்னாள் முதலமைச்சர் ஜெயலலிதாவின் மறைவி...</td>\n",
              "      <td>ta</td>\n",
              "    </tr>\n",
              "    <tr>\n",
              "      <th>3</th>\n",
              "      <td>politics</td>\n",
              "      <td>அமைச்சர் விஜய பாஸ்கரை பதவி நீக்கம் செய்ய வேண்ட...</td>\n",
              "      <td>ta</td>\n",
              "    </tr>\n",
              "    <tr>\n",
              "      <th>4</th>\n",
              "      <td>politics</td>\n",
              "      <td>ஆர்கே . நகர் இடைத்தேர்தல் களம் சூடுபிடித்துள்ள...</td>\n",
              "      <td>ta</td>\n",
              "    </tr>\n",
              "    <tr>\n",
              "      <th>...</th>\n",
              "      <td>...</td>\n",
              "      <td>...</td>\n",
              "      <td>...</td>\n",
              "    </tr>\n",
              "    <tr>\n",
              "      <th>9355</th>\n",
              "      <td>entertainment</td>\n",
              "      <td>எம் . ஜி . ஆர் காலத்திலிருந்து விமல் காலம் வரை...</td>\n",
              "      <td>ta</td>\n",
              "    </tr>\n",
              "    <tr>\n",
              "      <th>9356</th>\n",
              "      <td>politics</td>\n",
              "      <td>கப்பல்கள் மோதிய விவகாரத்தில் கடந்த 8 நாட்களாக ...</td>\n",
              "      <td>ta</td>\n",
              "    </tr>\n",
              "    <tr>\n",
              "      <th>9357</th>\n",
              "      <td>entertainment</td>\n",
              "      <td>பிக்பாஸ் நிகழ்ச்சியில் தற்போது தலைவியாக இருக்க...</td>\n",
              "      <td>ta</td>\n",
              "    </tr>\n",
              "    <tr>\n",
              "      <th>9358</th>\n",
              "      <td>entertainment</td>\n",
              "      <td>பரதன் இயக்கத்தில் விஜய் நடித்துள்ள அவருடைய 60வ...</td>\n",
              "      <td>ta</td>\n",
              "    </tr>\n",
              "    <tr>\n",
              "      <th>9359</th>\n",
              "      <td>sports</td>\n",
              "      <td>இந்திய அணியின் கேப்டன் விராட் கோலி , ஒவ்வொரு ப...</td>\n",
              "      <td>ta</td>\n",
              "    </tr>\n",
              "  </tbody>\n",
              "</table>\n",
              "<p>9360 rows × 3 columns</p>\n",
              "</div>\n",
              "      <button class=\"colab-df-convert\" onclick=\"convertToInteractive('df-6857f420-1de0-43c4-8423-e990573871cc')\"\n",
              "              title=\"Convert this dataframe to an interactive table.\"\n",
              "              style=\"display:none;\">\n",
              "        \n",
              "  <svg xmlns=\"http://www.w3.org/2000/svg\" height=\"24px\"viewBox=\"0 0 24 24\"\n",
              "       width=\"24px\">\n",
              "    <path d=\"M0 0h24v24H0V0z\" fill=\"none\"/>\n",
              "    <path d=\"M18.56 5.44l.94 2.06.94-2.06 2.06-.94-2.06-.94-.94-2.06-.94 2.06-2.06.94zm-11 1L8.5 8.5l.94-2.06 2.06-.94-2.06-.94L8.5 2.5l-.94 2.06-2.06.94zm10 10l.94 2.06.94-2.06 2.06-.94-2.06-.94-.94-2.06-.94 2.06-2.06.94z\"/><path d=\"M17.41 7.96l-1.37-1.37c-.4-.4-.92-.59-1.43-.59-.52 0-1.04.2-1.43.59L10.3 9.45l-7.72 7.72c-.78.78-.78 2.05 0 2.83L4 21.41c.39.39.9.59 1.41.59.51 0 1.02-.2 1.41-.59l7.78-7.78 2.81-2.81c.8-.78.8-2.07 0-2.86zM5.41 20L4 18.59l7.72-7.72 1.47 1.35L5.41 20z\"/>\n",
              "  </svg>\n",
              "      </button>\n",
              "      \n",
              "  <style>\n",
              "    .colab-df-container {\n",
              "      display:flex;\n",
              "      flex-wrap:wrap;\n",
              "      gap: 12px;\n",
              "    }\n",
              "\n",
              "    .colab-df-convert {\n",
              "      background-color: #E8F0FE;\n",
              "      border: none;\n",
              "      border-radius: 50%;\n",
              "      cursor: pointer;\n",
              "      display: none;\n",
              "      fill: #1967D2;\n",
              "      height: 32px;\n",
              "      padding: 0 0 0 0;\n",
              "      width: 32px;\n",
              "    }\n",
              "\n",
              "    .colab-df-convert:hover {\n",
              "      background-color: #E2EBFA;\n",
              "      box-shadow: 0px 1px 2px rgba(60, 64, 67, 0.3), 0px 1px 3px 1px rgba(60, 64, 67, 0.15);\n",
              "      fill: #174EA6;\n",
              "    }\n",
              "\n",
              "    [theme=dark] .colab-df-convert {\n",
              "      background-color: #3B4455;\n",
              "      fill: #D2E3FC;\n",
              "    }\n",
              "\n",
              "    [theme=dark] .colab-df-convert:hover {\n",
              "      background-color: #434B5C;\n",
              "      box-shadow: 0px 1px 3px 1px rgba(0, 0, 0, 0.15);\n",
              "      filter: drop-shadow(0px 1px 2px rgba(0, 0, 0, 0.3));\n",
              "      fill: #FFFFFF;\n",
              "    }\n",
              "  </style>\n",
              "\n",
              "      <script>\n",
              "        const buttonEl =\n",
              "          document.querySelector('#df-6857f420-1de0-43c4-8423-e990573871cc button.colab-df-convert');\n",
              "        buttonEl.style.display =\n",
              "          google.colab.kernel.accessAllowed ? 'block' : 'none';\n",
              "\n",
              "        async function convertToInteractive(key) {\n",
              "          const element = document.querySelector('#df-6857f420-1de0-43c4-8423-e990573871cc');\n",
              "          const dataTable =\n",
              "            await google.colab.kernel.invokeFunction('convertToInteractive',\n",
              "                                                     [key], {});\n",
              "          if (!dataTable) return;\n",
              "\n",
              "          const docLinkHtml = 'Like what you see? Visit the ' +\n",
              "            '<a target=\"_blank\" href=https://colab.research.google.com/notebooks/data_table.ipynb>data table notebook</a>'\n",
              "            + ' to learn more about interactive tables.';\n",
              "          element.innerHTML = '';\n",
              "          dataTable['output_type'] = 'display_data';\n",
              "          await google.colab.output.renderOutput(dataTable, element);\n",
              "          const docLink = document.createElement('div');\n",
              "          docLink.innerHTML = docLinkHtml;\n",
              "          element.appendChild(docLink);\n",
              "        }\n",
              "      </script>\n",
              "    </div>\n",
              "  </div>\n",
              "  "
            ]
          },
          "metadata": {},
          "execution_count": 57
        }
      ]
    },
    {
      "cell_type": "code",
      "source": [
        "# Language classificaiton task starts\n",
        "# Merge the train datasets having test and lang columns alone\n",
        "\n"
      ],
      "metadata": {
        "id": "7JM4KZg-gXBP"
      },
      "execution_count": null,
      "outputs": []
    },
    {
      "cell_type": "code",
      "source": [
        ""
      ],
      "metadata": {
        "id": "-lPtDmDbgXEZ"
      },
      "execution_count": null,
      "outputs": []
    },
    {
      "cell_type": "code",
      "source": [
        "from torchtext.data.utils import get_tokenizer\n",
        "from torchtext.vocab import build_vocab_from_iterator\n",
        "\n",
        "tokenizer = get_tokenizer(None) #Can it to different tokenizers among above to experiment\n",
        "\n",
        "def yield_tokens(df):\n",
        "  for _, text in df.iterrows():\n",
        "    yield tokenizer(text[1])\n",
        "\n",
        "vocab = build_vocab_from_iterator(yield_tokens(train_ta), specials=[\"<unk>\"])\n",
        "vocab.set_default_index(vocab[\"<unk>\"])"
      ],
      "metadata": {
        "id": "nRTMEWtxOFey"
      },
      "execution_count": null,
      "outputs": []
    },
    {
      "cell_type": "code",
      "source": [
        "vocab.get_itos()[10:20]"
      ],
      "metadata": {
        "colab": {
          "base_uri": "https://localhost:8080/"
        },
        "id": "fgPZBzoQVCZT",
        "outputId": "69e133ed-a900-4d36-9233-6da3e536abeb"
      },
      "execution_count": 46,
      "outputs": [
        {
          "output_type": "execute_result",
          "data": {
            "text/plain": [
              "['மற்றும்',\n",
              " 'அவர்',\n",
              " 'அந்த',\n",
              " 'ஆனால்',\n",
              " 'முதல்',\n",
              " \"'\",\n",
              " 'தான்',\n",
              " 'வேண்டும்',\n",
              " 'என்ற',\n",
              " 'போட்டியில்']"
            ]
          },
          "metadata": {},
          "execution_count": 46
        }
      ]
    },
    {
      "cell_type": "code",
      "source": [
        "\n",
        "from torch.utils.data import DataLoader, Dataset\n",
        "language_dict = {'hi':0, 'kn':1, 'ta':2, 'ml':3, 'bn':4 }\n",
        "\n",
        "# Create a Dataset class so that we can feed it to dataloader\n",
        "# Ref: https://androidkt.com/load-pandas-dataframe-using-dataset-and-dataloader-in-pytorch/\n",
        "\n",
        "class MyDataset(Dataset):\n",
        "\n",
        "  def __init__(self, file_name, language, language_dict):\n",
        "    df = pd.read_csv(file_name, header=None)\n",
        "\n",
        "    label = language_dict[language] #gives an index number for each language\n",
        "    text = df.iloc[:,1].values\n",
        "\n",
        "    self.label = torch.tensor(label, dtype=torch.float32)\n",
        "    self.text = torch.tensor(text)\n",
        "\n",
        "  def __len__(self):\n",
        "    return len(self.text)\n",
        "\n",
        "  def __getitem__(self, idx):\n",
        "    return self.text[idx], label"
      ],
      "metadata": {
        "id": "5bjeUmHSEhGb"
      },
      "execution_count": 31,
      "outputs": []
    },
    {
      "cell_type": "code",
      "source": [
        "myDs=MyDataset('/content/gdrive/MyDrive/AML_Project/ta/ta-train.csv', 'ta', language_dict)"
      ],
      "metadata": {
        "colab": {
          "base_uri": "https://localhost:8080/",
          "height": 317
        },
        "id": "Donk6zQXFrPj",
        "outputId": "de4d2f56-fded-4815-94c5-97d898ee3266"
      },
      "execution_count": 32,
      "outputs": [
        {
          "output_type": "error",
          "ename": "TypeError",
          "evalue": "ignored",
          "traceback": [
            "\u001b[0;31m---------------------------------------------------------------------------\u001b[0m",
            "\u001b[0;31mTypeError\u001b[0m                                 Traceback (most recent call last)",
            "\u001b[0;32m<ipython-input-32-d4e665532942>\u001b[0m in \u001b[0;36m<module>\u001b[0;34m()\u001b[0m\n\u001b[0;32m----> 1\u001b[0;31m \u001b[0mmyDs\u001b[0m\u001b[0;34m=\u001b[0m\u001b[0mMyDataset\u001b[0m\u001b[0;34m(\u001b[0m\u001b[0;34m'/content/gdrive/MyDrive/AML_Project/ta/ta-train.csv'\u001b[0m\u001b[0;34m,\u001b[0m \u001b[0;34m'ta'\u001b[0m\u001b[0;34m,\u001b[0m \u001b[0mlanguage_dict\u001b[0m\u001b[0;34m)\u001b[0m\u001b[0;34m\u001b[0m\u001b[0;34m\u001b[0m\u001b[0m\n\u001b[0m",
            "\u001b[0;32m<ipython-input-31-9b204f281e65>\u001b[0m in \u001b[0;36m__init__\u001b[0;34m(self, file_name, language, language_dict)\u001b[0m\n\u001b[1;32m     15\u001b[0m \u001b[0;34m\u001b[0m\u001b[0m\n\u001b[1;32m     16\u001b[0m     \u001b[0mself\u001b[0m\u001b[0;34m.\u001b[0m\u001b[0mlabel\u001b[0m \u001b[0;34m=\u001b[0m \u001b[0mtorch\u001b[0m\u001b[0;34m.\u001b[0m\u001b[0mtensor\u001b[0m\u001b[0;34m(\u001b[0m\u001b[0mlabel\u001b[0m\u001b[0;34m,\u001b[0m \u001b[0mdtype\u001b[0m\u001b[0;34m=\u001b[0m\u001b[0mtorch\u001b[0m\u001b[0;34m.\u001b[0m\u001b[0mfloat32\u001b[0m\u001b[0;34m)\u001b[0m\u001b[0;34m\u001b[0m\u001b[0;34m\u001b[0m\u001b[0m\n\u001b[0;32m---> 17\u001b[0;31m     \u001b[0mself\u001b[0m\u001b[0;34m.\u001b[0m\u001b[0mtext\u001b[0m \u001b[0;34m=\u001b[0m \u001b[0mtorch\u001b[0m\u001b[0;34m.\u001b[0m\u001b[0mtensor\u001b[0m\u001b[0;34m(\u001b[0m\u001b[0mtext\u001b[0m\u001b[0;34m)\u001b[0m\u001b[0;34m\u001b[0m\u001b[0;34m\u001b[0m\u001b[0m\n\u001b[0m\u001b[1;32m     18\u001b[0m \u001b[0;34m\u001b[0m\u001b[0m\n\u001b[1;32m     19\u001b[0m   \u001b[0;32mdef\u001b[0m \u001b[0m__len__\u001b[0m\u001b[0;34m(\u001b[0m\u001b[0mself\u001b[0m\u001b[0;34m)\u001b[0m\u001b[0;34m:\u001b[0m\u001b[0;34m\u001b[0m\u001b[0;34m\u001b[0m\u001b[0m\n",
            "\u001b[0;31mTypeError\u001b[0m: can't convert np.ndarray of type numpy.object_. The only supported types are: float64, float32, float16, complex64, complex128, int64, int32, int16, int8, uint8, and bool."
          ]
        }
      ]
    },
    {
      "cell_type": "code",
      "source": [
        "from torch.utils.data import DataLoader, Dataset\n",
        "import torch.nn as nn\n",
        "import torch.nn.functional as F\n",
        "\n",
        "def collate_into_bow(batch):\n",
        "    \n",
        "## WRITE YOUR CODE BELOW \n",
        "    print(\"Came here\")\n",
        "    #len_batch = len(batch)\n",
        "    bow = torch.zeros(batch_size, len(vocab))\n",
        "    labels = []\n",
        "    for i in range(batch_size):\n",
        "        labels.append(batch[i][0] - 1)\n",
        "        for word in batch[i][1].split():\n",
        "            bow[i][vocab[word]] += 1\n",
        "        bow[i] = bow[i]/sum(bow[i])\n",
        "    return torch.tensor(labels), bow"
      ],
      "metadata": {
        "id": "iwuZ9CKMAEvF"
      },
      "execution_count": 112,
      "outputs": []
    },
    {
      "cell_type": "code",
      "source": [
        "dataloader = DataLoader(train_ta, batch_size=16, shuffle=False, \n",
        "                        collate_fn=collate_into_bow)\n",
        "for idx, (lt, tt) in dataloader:\n",
        "    print(idx, lt.shape, tt.shape)\n",
        "    if idx == 4: break"
      ],
      "metadata": {
        "colab": {
          "base_uri": "https://localhost:8080/",
          "height": 851
        },
        "id": "Pivk1wiTA3cE",
        "outputId": "bfc62fb3-6c4a-4409-f82c-548c1319cf6f"
      },
      "execution_count": 110,
      "outputs": [
        {
          "output_type": "error",
          "ename": "TypeError",
          "evalue": "ignored",
          "traceback": [
            "\u001b[0;31m---------------------------------------------------------------------------\u001b[0m",
            "\u001b[0;31mTypeError\u001b[0m                                 Traceback (most recent call last)",
            "\u001b[0;32m<ipython-input-110-0a32add3698c>\u001b[0m in \u001b[0;36m<module>\u001b[0;34m()\u001b[0m\n\u001b[1;32m      1\u001b[0m dataloader = DataLoader(train_ta.itertuples(), batch_size=16, shuffle=False, \n\u001b[1;32m      2\u001b[0m                         collate_fn=collate_into_bow)\n\u001b[0;32m----> 3\u001b[0;31m \u001b[0;32mfor\u001b[0m \u001b[0midx\u001b[0m\u001b[0;34m,\u001b[0m \u001b[0;34m(\u001b[0m\u001b[0mlt\u001b[0m\u001b[0;34m,\u001b[0m \u001b[0mtt\u001b[0m\u001b[0;34m)\u001b[0m \u001b[0;32min\u001b[0m \u001b[0mdataloader\u001b[0m\u001b[0;34m:\u001b[0m\u001b[0;34m\u001b[0m\u001b[0;34m\u001b[0m\u001b[0m\n\u001b[0m\u001b[1;32m      4\u001b[0m     \u001b[0mprint\u001b[0m\u001b[0;34m(\u001b[0m\u001b[0midx\u001b[0m\u001b[0;34m,\u001b[0m \u001b[0mlt\u001b[0m\u001b[0;34m.\u001b[0m\u001b[0mshape\u001b[0m\u001b[0;34m,\u001b[0m \u001b[0mtt\u001b[0m\u001b[0;34m.\u001b[0m\u001b[0mshape\u001b[0m\u001b[0;34m)\u001b[0m\u001b[0;34m\u001b[0m\u001b[0;34m\u001b[0m\u001b[0m\n\u001b[1;32m      5\u001b[0m     \u001b[0;32mif\u001b[0m \u001b[0midx\u001b[0m \u001b[0;34m==\u001b[0m \u001b[0;36m4\u001b[0m\u001b[0;34m:\u001b[0m \u001b[0;32mbreak\u001b[0m\u001b[0;34m\u001b[0m\u001b[0;34m\u001b[0m\u001b[0m\n",
            "\u001b[0;32m/usr/local/lib/python3.7/dist-packages/torch/utils/data/dataloader.py\u001b[0m in \u001b[0;36m__next__\u001b[0;34m(self)\u001b[0m\n\u001b[1;32m    528\u001b[0m             \u001b[0;32mif\u001b[0m \u001b[0mself\u001b[0m\u001b[0;34m.\u001b[0m\u001b[0m_sampler_iter\u001b[0m \u001b[0;32mis\u001b[0m \u001b[0;32mNone\u001b[0m\u001b[0;34m:\u001b[0m\u001b[0;34m\u001b[0m\u001b[0;34m\u001b[0m\u001b[0m\n\u001b[1;32m    529\u001b[0m                 \u001b[0mself\u001b[0m\u001b[0;34m.\u001b[0m\u001b[0m_reset\u001b[0m\u001b[0;34m(\u001b[0m\u001b[0;34m)\u001b[0m\u001b[0;34m\u001b[0m\u001b[0;34m\u001b[0m\u001b[0m\n\u001b[0;32m--> 530\u001b[0;31m             \u001b[0mdata\u001b[0m \u001b[0;34m=\u001b[0m \u001b[0mself\u001b[0m\u001b[0;34m.\u001b[0m\u001b[0m_next_data\u001b[0m\u001b[0;34m(\u001b[0m\u001b[0;34m)\u001b[0m\u001b[0;34m\u001b[0m\u001b[0;34m\u001b[0m\u001b[0m\n\u001b[0m\u001b[1;32m    531\u001b[0m             \u001b[0mself\u001b[0m\u001b[0;34m.\u001b[0m\u001b[0m_num_yielded\u001b[0m \u001b[0;34m+=\u001b[0m \u001b[0;36m1\u001b[0m\u001b[0;34m\u001b[0m\u001b[0;34m\u001b[0m\u001b[0m\n\u001b[1;32m    532\u001b[0m             \u001b[0;32mif\u001b[0m \u001b[0mself\u001b[0m\u001b[0;34m.\u001b[0m\u001b[0m_dataset_kind\u001b[0m \u001b[0;34m==\u001b[0m \u001b[0m_DatasetKind\u001b[0m\u001b[0;34m.\u001b[0m\u001b[0mIterable\u001b[0m \u001b[0;32mand\u001b[0m\u001b[0;31m \u001b[0m\u001b[0;31m\\\u001b[0m\u001b[0;34m\u001b[0m\u001b[0;34m\u001b[0m\u001b[0m\n",
            "\u001b[0;32m/usr/local/lib/python3.7/dist-packages/torch/utils/data/dataloader.py\u001b[0m in \u001b[0;36m_next_data\u001b[0;34m(self)\u001b[0m\n\u001b[1;32m    567\u001b[0m \u001b[0;34m\u001b[0m\u001b[0m\n\u001b[1;32m    568\u001b[0m     \u001b[0;32mdef\u001b[0m \u001b[0m_next_data\u001b[0m\u001b[0;34m(\u001b[0m\u001b[0mself\u001b[0m\u001b[0;34m)\u001b[0m\u001b[0;34m:\u001b[0m\u001b[0;34m\u001b[0m\u001b[0;34m\u001b[0m\u001b[0m\n\u001b[0;32m--> 569\u001b[0;31m         \u001b[0mindex\u001b[0m \u001b[0;34m=\u001b[0m \u001b[0mself\u001b[0m\u001b[0;34m.\u001b[0m\u001b[0m_next_index\u001b[0m\u001b[0;34m(\u001b[0m\u001b[0;34m)\u001b[0m  \u001b[0;31m# may raise StopIteration\u001b[0m\u001b[0;34m\u001b[0m\u001b[0;34m\u001b[0m\u001b[0m\n\u001b[0m\u001b[1;32m    570\u001b[0m         \u001b[0mdata\u001b[0m \u001b[0;34m=\u001b[0m \u001b[0mself\u001b[0m\u001b[0;34m.\u001b[0m\u001b[0m_dataset_fetcher\u001b[0m\u001b[0;34m.\u001b[0m\u001b[0mfetch\u001b[0m\u001b[0;34m(\u001b[0m\u001b[0mindex\u001b[0m\u001b[0;34m)\u001b[0m  \u001b[0;31m# may raise StopIteration\u001b[0m\u001b[0;34m\u001b[0m\u001b[0;34m\u001b[0m\u001b[0m\n\u001b[1;32m    571\u001b[0m         \u001b[0;32mif\u001b[0m \u001b[0mself\u001b[0m\u001b[0;34m.\u001b[0m\u001b[0m_pin_memory\u001b[0m\u001b[0;34m:\u001b[0m\u001b[0;34m\u001b[0m\u001b[0;34m\u001b[0m\u001b[0m\n",
            "\u001b[0;32m/usr/local/lib/python3.7/dist-packages/torch/utils/data/dataloader.py\u001b[0m in \u001b[0;36m_next_index\u001b[0;34m(self)\u001b[0m\n\u001b[1;32m    519\u001b[0m \u001b[0;34m\u001b[0m\u001b[0m\n\u001b[1;32m    520\u001b[0m     \u001b[0;32mdef\u001b[0m \u001b[0m_next_index\u001b[0m\u001b[0;34m(\u001b[0m\u001b[0mself\u001b[0m\u001b[0;34m)\u001b[0m\u001b[0;34m:\u001b[0m\u001b[0;34m\u001b[0m\u001b[0;34m\u001b[0m\u001b[0m\n\u001b[0;32m--> 521\u001b[0;31m         \u001b[0;32mreturn\u001b[0m \u001b[0mnext\u001b[0m\u001b[0;34m(\u001b[0m\u001b[0mself\u001b[0m\u001b[0;34m.\u001b[0m\u001b[0m_sampler_iter\u001b[0m\u001b[0;34m)\u001b[0m  \u001b[0;31m# may raise StopIteration\u001b[0m\u001b[0;34m\u001b[0m\u001b[0;34m\u001b[0m\u001b[0m\n\u001b[0m\u001b[1;32m    522\u001b[0m \u001b[0;34m\u001b[0m\u001b[0m\n\u001b[1;32m    523\u001b[0m     \u001b[0;32mdef\u001b[0m \u001b[0m_next_data\u001b[0m\u001b[0;34m(\u001b[0m\u001b[0mself\u001b[0m\u001b[0;34m)\u001b[0m\u001b[0;34m:\u001b[0m\u001b[0;34m\u001b[0m\u001b[0;34m\u001b[0m\u001b[0m\n",
            "\u001b[0;32m/usr/local/lib/python3.7/dist-packages/torch/utils/data/sampler.py\u001b[0m in \u001b[0;36m__iter__\u001b[0;34m(self)\u001b[0m\n\u001b[1;32m    224\u001b[0m     \u001b[0;32mdef\u001b[0m \u001b[0m__iter__\u001b[0m\u001b[0;34m(\u001b[0m\u001b[0mself\u001b[0m\u001b[0;34m)\u001b[0m \u001b[0;34m->\u001b[0m \u001b[0mIterator\u001b[0m\u001b[0;34m[\u001b[0m\u001b[0mList\u001b[0m\u001b[0;34m[\u001b[0m\u001b[0mint\u001b[0m\u001b[0;34m]\u001b[0m\u001b[0;34m]\u001b[0m\u001b[0;34m:\u001b[0m\u001b[0;34m\u001b[0m\u001b[0;34m\u001b[0m\u001b[0m\n\u001b[1;32m    225\u001b[0m         \u001b[0mbatch\u001b[0m \u001b[0;34m=\u001b[0m \u001b[0;34m[\u001b[0m\u001b[0;34m]\u001b[0m\u001b[0;34m\u001b[0m\u001b[0;34m\u001b[0m\u001b[0m\n\u001b[0;32m--> 226\u001b[0;31m         \u001b[0;32mfor\u001b[0m \u001b[0midx\u001b[0m \u001b[0;32min\u001b[0m \u001b[0mself\u001b[0m\u001b[0;34m.\u001b[0m\u001b[0msampler\u001b[0m\u001b[0;34m:\u001b[0m\u001b[0;34m\u001b[0m\u001b[0;34m\u001b[0m\u001b[0m\n\u001b[0m\u001b[1;32m    227\u001b[0m             \u001b[0mbatch\u001b[0m\u001b[0;34m.\u001b[0m\u001b[0mappend\u001b[0m\u001b[0;34m(\u001b[0m\u001b[0midx\u001b[0m\u001b[0;34m)\u001b[0m\u001b[0;34m\u001b[0m\u001b[0;34m\u001b[0m\u001b[0m\n\u001b[1;32m    228\u001b[0m             \u001b[0;32mif\u001b[0m \u001b[0mlen\u001b[0m\u001b[0;34m(\u001b[0m\u001b[0mbatch\u001b[0m\u001b[0;34m)\u001b[0m \u001b[0;34m==\u001b[0m \u001b[0mself\u001b[0m\u001b[0;34m.\u001b[0m\u001b[0mbatch_size\u001b[0m\u001b[0;34m:\u001b[0m\u001b[0;34m\u001b[0m\u001b[0;34m\u001b[0m\u001b[0m\n",
            "\u001b[0;32m/usr/local/lib/python3.7/dist-packages/torch/utils/data/sampler.py\u001b[0m in \u001b[0;36m__iter__\u001b[0;34m(self)\u001b[0m\n\u001b[1;32m     64\u001b[0m \u001b[0;34m\u001b[0m\u001b[0m\n\u001b[1;32m     65\u001b[0m     \u001b[0;32mdef\u001b[0m \u001b[0m__iter__\u001b[0m\u001b[0;34m(\u001b[0m\u001b[0mself\u001b[0m\u001b[0;34m)\u001b[0m \u001b[0;34m->\u001b[0m \u001b[0mIterator\u001b[0m\u001b[0;34m[\u001b[0m\u001b[0mint\u001b[0m\u001b[0;34m]\u001b[0m\u001b[0;34m:\u001b[0m\u001b[0;34m\u001b[0m\u001b[0;34m\u001b[0m\u001b[0m\n\u001b[0;32m---> 66\u001b[0;31m         \u001b[0;32mreturn\u001b[0m \u001b[0miter\u001b[0m\u001b[0;34m(\u001b[0m\u001b[0mrange\u001b[0m\u001b[0;34m(\u001b[0m\u001b[0mlen\u001b[0m\u001b[0;34m(\u001b[0m\u001b[0mself\u001b[0m\u001b[0;34m.\u001b[0m\u001b[0mdata_source\u001b[0m\u001b[0;34m)\u001b[0m\u001b[0;34m)\u001b[0m\u001b[0;34m)\u001b[0m\u001b[0;34m\u001b[0m\u001b[0;34m\u001b[0m\u001b[0m\n\u001b[0m\u001b[1;32m     67\u001b[0m \u001b[0;34m\u001b[0m\u001b[0m\n\u001b[1;32m     68\u001b[0m     \u001b[0;32mdef\u001b[0m \u001b[0m__len__\u001b[0m\u001b[0;34m(\u001b[0m\u001b[0mself\u001b[0m\u001b[0;34m)\u001b[0m \u001b[0;34m->\u001b[0m \u001b[0mint\u001b[0m\u001b[0;34m:\u001b[0m\u001b[0;34m\u001b[0m\u001b[0;34m\u001b[0m\u001b[0m\n",
            "\u001b[0;31mTypeError\u001b[0m: object of type 'map' has no len()"
          ]
        }
      ]
    },
    {
      "cell_type": "code",
      "source": [
        "tokenizer = get_tokenizer(None)\n",
        "counter = Counter()\n",
        "for label, line in itertuple(train_ta):\n",
        "  print(\"came in\")\n",
        "  print(line)\n",
        "  counter.update(tokenizer(line))\n",
        "vocab = vocab(counter)"
      ],
      "metadata": {
        "colab": {
          "base_uri": "https://localhost:8080/",
          "height": 368
        },
        "id": "SvWWaEJ0ckEa",
        "outputId": "8199df6c-986c-489e-e8b7-3825fc661fbb"
      },
      "execution_count": 86,
      "outputs": [
        {
          "output_type": "stream",
          "name": "stdout",
          "text": [
            "came in\n",
            "0\n"
          ]
        },
        {
          "output_type": "error",
          "ename": "AttributeError",
          "evalue": "ignored",
          "traceback": [
            "\u001b[0;31m---------------------------------------------------------------------------\u001b[0m",
            "\u001b[0;31mAttributeError\u001b[0m                            Traceback (most recent call last)",
            "\u001b[0;32m<ipython-input-86-b5fee75c6552>\u001b[0m in \u001b[0;36m<module>\u001b[0;34m()\u001b[0m\n\u001b[1;32m      4\u001b[0m   \u001b[0mprint\u001b[0m\u001b[0;34m(\u001b[0m\u001b[0;34m\"came in\"\u001b[0m\u001b[0;34m)\u001b[0m\u001b[0;34m\u001b[0m\u001b[0;34m\u001b[0m\u001b[0m\n\u001b[1;32m      5\u001b[0m   \u001b[0mprint\u001b[0m\u001b[0;34m(\u001b[0m\u001b[0mline\u001b[0m\u001b[0;34m)\u001b[0m\u001b[0;34m\u001b[0m\u001b[0;34m\u001b[0m\u001b[0m\n\u001b[0;32m----> 6\u001b[0;31m   \u001b[0mcounter\u001b[0m\u001b[0;34m.\u001b[0m\u001b[0mupdate\u001b[0m\u001b[0;34m(\u001b[0m\u001b[0mtokenizer\u001b[0m\u001b[0;34m(\u001b[0m\u001b[0mline\u001b[0m\u001b[0;34m)\u001b[0m\u001b[0;34m)\u001b[0m\u001b[0;34m\u001b[0m\u001b[0;34m\u001b[0m\u001b[0m\n\u001b[0m\u001b[1;32m      7\u001b[0m \u001b[0mvocab\u001b[0m \u001b[0;34m=\u001b[0m \u001b[0mvocab\u001b[0m\u001b[0;34m(\u001b[0m\u001b[0mcounter\u001b[0m\u001b[0;34m)\u001b[0m\u001b[0;34m\u001b[0m\u001b[0;34m\u001b[0m\u001b[0m\n",
            "\u001b[0;32m/usr/local/lib/python3.7/dist-packages/torchtext/data/utils.py\u001b[0m in \u001b[0;36m_split_tokenizer\u001b[0;34m(x)\u001b[0m\n\u001b[1;32m      8\u001b[0m \u001b[0;32mdef\u001b[0m \u001b[0m_split_tokenizer\u001b[0m\u001b[0;34m(\u001b[0m\u001b[0mx\u001b[0m\u001b[0;34m)\u001b[0m\u001b[0;34m:\u001b[0m  \u001b[0;31m# noqa: F821\u001b[0m\u001b[0;34m\u001b[0m\u001b[0;34m\u001b[0m\u001b[0m\n\u001b[1;32m      9\u001b[0m     \u001b[0;31m# type: (str) -> List[str]\u001b[0m\u001b[0;34m\u001b[0m\u001b[0;34m\u001b[0m\u001b[0;34m\u001b[0m\u001b[0m\n\u001b[0;32m---> 10\u001b[0;31m     \u001b[0;32mreturn\u001b[0m \u001b[0mx\u001b[0m\u001b[0;34m.\u001b[0m\u001b[0msplit\u001b[0m\u001b[0;34m(\u001b[0m\u001b[0;34m)\u001b[0m\u001b[0;34m\u001b[0m\u001b[0;34m\u001b[0m\u001b[0m\n\u001b[0m\u001b[1;32m     11\u001b[0m \u001b[0;34m\u001b[0m\u001b[0m\n\u001b[1;32m     12\u001b[0m \u001b[0;34m\u001b[0m\u001b[0m\n",
            "\u001b[0;31mAttributeError\u001b[0m: 'int' object has no attribute 'split'"
          ]
        }
      ]
    },
    {
      "cell_type": "code",
      "source": [
        "len(vocab)"
      ],
      "metadata": {
        "colab": {
          "base_uri": "https://localhost:8080/"
        },
        "id": "MlxDvtBy09rb",
        "outputId": "43e112da-8a5f-41db-80b5-87279f0ed1ab"
      },
      "execution_count": 62,
      "outputs": [
        {
          "output_type": "execute_result",
          "data": {
            "text/plain": [
              "117"
            ]
          },
          "metadata": {},
          "execution_count": 62
        }
      ]
    },
    {
      "cell_type": "code",
      "source": [
        "from indicnlp.tokenize import indic_tokenize \n",
        "tokenizer = indic_tokenize.trivial_tokenize\n",
        "counter = Counter()\n",
        "for (label, line) in enumerate(train_kn):\n",
        "    counter.update(tokenizer(line))\n",
        "vocab = vocab(counter, min_freq=1)"
      ],
      "metadata": {
        "colab": {
          "base_uri": "https://localhost:8080/",
          "height": 351
        },
        "id": "Zty02kGXzvcA",
        "outputId": "95f0d312-3cb4-4e81-8c9a-7edeb20f76a8"
      },
      "execution_count": 55,
      "outputs": [
        {
          "output_type": "error",
          "ename": "TypeError",
          "evalue": "ignored",
          "traceback": [
            "\u001b[0;31m---------------------------------------------------------------------------\u001b[0m",
            "\u001b[0;31mTypeError\u001b[0m                                 Traceback (most recent call last)",
            "\u001b[0;32m<ipython-input-55-700e60ab8ca5>\u001b[0m in \u001b[0;36m<module>\u001b[0;34m()\u001b[0m\n\u001b[1;32m      4\u001b[0m \u001b[0;32mfor\u001b[0m \u001b[0;34m(\u001b[0m\u001b[0mlabel\u001b[0m\u001b[0;34m,\u001b[0m \u001b[0mline\u001b[0m\u001b[0;34m)\u001b[0m \u001b[0;32min\u001b[0m \u001b[0menumerate\u001b[0m\u001b[0;34m(\u001b[0m\u001b[0mtrain_kn\u001b[0m\u001b[0;34m)\u001b[0m\u001b[0;34m:\u001b[0m\u001b[0;34m\u001b[0m\u001b[0;34m\u001b[0m\u001b[0m\n\u001b[1;32m      5\u001b[0m     \u001b[0mcounter\u001b[0m\u001b[0;34m.\u001b[0m\u001b[0mupdate\u001b[0m\u001b[0;34m(\u001b[0m\u001b[0mtokenizer\u001b[0m\u001b[0;34m(\u001b[0m\u001b[0mline\u001b[0m\u001b[0;34m)\u001b[0m\u001b[0;34m)\u001b[0m\u001b[0;34m\u001b[0m\u001b[0;34m\u001b[0m\u001b[0m\n\u001b[0;32m----> 6\u001b[0;31m \u001b[0mvocab\u001b[0m \u001b[0;34m=\u001b[0m \u001b[0mvocab\u001b[0m\u001b[0;34m(\u001b[0m\u001b[0mcounter\u001b[0m\u001b[0;34m,\u001b[0m \u001b[0mmin_freq\u001b[0m\u001b[0;34m=\u001b[0m\u001b[0;36m1\u001b[0m\u001b[0;34m)\u001b[0m\u001b[0;34m\u001b[0m\u001b[0;34m\u001b[0m\u001b[0m\n\u001b[0m",
            "\u001b[0;32m/usr/local/lib/python3.7/dist-packages/torch/nn/modules/module.py\u001b[0m in \u001b[0;36m_call_impl\u001b[0;34m(self, *input, **kwargs)\u001b[0m\n\u001b[1;32m   1108\u001b[0m         if not (self._backward_hooks or self._forward_hooks or self._forward_pre_hooks or _global_backward_hooks\n\u001b[1;32m   1109\u001b[0m                 or _global_forward_hooks or _global_forward_pre_hooks):\n\u001b[0;32m-> 1110\u001b[0;31m             \u001b[0;32mreturn\u001b[0m \u001b[0mforward_call\u001b[0m\u001b[0;34m(\u001b[0m\u001b[0;34m*\u001b[0m\u001b[0minput\u001b[0m\u001b[0;34m,\u001b[0m \u001b[0;34m**\u001b[0m\u001b[0mkwargs\u001b[0m\u001b[0;34m)\u001b[0m\u001b[0;34m\u001b[0m\u001b[0;34m\u001b[0m\u001b[0m\n\u001b[0m\u001b[1;32m   1111\u001b[0m         \u001b[0;31m# Do not call functions when jit is used\u001b[0m\u001b[0;34m\u001b[0m\u001b[0;34m\u001b[0m\u001b[0;34m\u001b[0m\u001b[0m\n\u001b[1;32m   1112\u001b[0m         \u001b[0mfull_backward_hooks\u001b[0m\u001b[0;34m,\u001b[0m \u001b[0mnon_full_backward_hooks\u001b[0m \u001b[0;34m=\u001b[0m \u001b[0;34m[\u001b[0m\u001b[0;34m]\u001b[0m\u001b[0;34m,\u001b[0m \u001b[0;34m[\u001b[0m\u001b[0;34m]\u001b[0m\u001b[0;34m\u001b[0m\u001b[0;34m\u001b[0m\u001b[0m\n",
            "\u001b[0;31mTypeError\u001b[0m: forward() got an unexpected keyword argument 'min_freq'"
          ]
        }
      ]
    },
    {
      "cell_type": "code",
      "source": [
        "len(vocab)"
      ],
      "metadata": {
        "colab": {
          "base_uri": "https://localhost:8080/"
        },
        "id": "USDFGNjOckGq",
        "outputId": "773951a2-6774-460d-931a-a58740432f48"
      },
      "execution_count": 54,
      "outputs": [
        {
          "output_type": "execute_result",
          "data": {
            "text/plain": [
              "103"
            ]
          },
          "metadata": {},
          "execution_count": 54
        }
      ]
    },
    {
      "cell_type": "code",
      "source": [
        ""
      ],
      "metadata": {
        "colab": {
          "base_uri": "https://localhost:8080/"
        },
        "id": "qO3x3k-IckJa",
        "outputId": "36f6ce1c-6402-4ec6-d87a-00b87e4a5bfd"
      },
      "execution_count": 49,
      "outputs": [
        {
          "output_type": "stream",
          "name": "stdout",
          "text": [
            "பாலாபிஷேகம்\n"
          ]
        }
      ]
    },
    {
      "cell_type": "code",
      "source": [
        ""
      ],
      "metadata": {
        "id": "XLTj4b8hckLl"
      },
      "execution_count": null,
      "outputs": []
    },
    {
      "cell_type": "code",
      "source": [
        ""
      ],
      "metadata": {
        "id": "10_3h72bj7jI"
      },
      "execution_count": null,
      "outputs": []
    },
    {
      "cell_type": "code",
      "source": [
        ""
      ],
      "metadata": {
        "id": "miKmVCyrj7lr"
      },
      "execution_count": null,
      "outputs": []
    },
    {
      "cell_type": "markdown",
      "source": [
        "Credit for datasets: @inproceedings{kakwani2020indicnlpsuite,\n",
        "    title={{IndicNLPSuite: Monolingual Corpora, Evaluation Benchmarks and Pre-trained Multilingual Language Models for Indian Languages}},\n",
        "    author={Divyanshu Kakwani and Anoop Kunchukuttan and Satish Golla and Gokul N.C. and Avik Bhattacharyya and Mitesh M. Khapra and Pratyush Kumar},\n",
        "    year={2020},\n",
        "    booktitle={Findings of EMNLP},\n",
        "}\n",
        "\n"
      ],
      "metadata": {
        "id": "wnBltzx687d5"
      }
    },
    {
      "cell_type": "markdown",
      "source": [
        ""
      ],
      "metadata": {
        "id": "7lCc3YYu9Fdo"
      }
    }
  ]
}