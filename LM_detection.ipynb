{
  "nbformat": 4,
  "nbformat_minor": 0,
  "metadata": {
    "colab": {
      "name": "LM_detection.ipynb",
      "provenance": [],
      "collapsed_sections": [],
      "mount_file_id": "1sKSfNt2xKWWCRMcyKE7vjIaUEvN1kCw1",
      "authorship_tag": "ABX9TyMryyeZ6rj6G+s5Xo2Hz4k/",
      "include_colab_link": true
    },
    "kernelspec": {
      "name": "python3",
      "display_name": "Python 3"
    },
    "language_info": {
      "name": "python"
    }
  },
  "cells": [
    {
      "cell_type": "markdown",
      "metadata": {
        "id": "view-in-github",
        "colab_type": "text"
      },
      "source": [
        "<a href=\"https://colab.research.google.com/github/Tiru-Kaggundi/Adv_ML_project/blob/main/LM_detection.ipynb\" target=\"_parent\"><img src=\"https://colab.research.google.com/assets/colab-badge.svg\" alt=\"Open In Colab\"/></a>"
      ]
    },
    {
      "cell_type": "markdown",
      "source": [
        "In this milestone, we will be categorizing whether a given text belongs to one of the Indian languages from a set of {Hindi, Malayalam, Kannada, Tamil, Bengali}. For this we will create a Bag of Vectors for each language. Here are the steps that we aim to implement-\n",
        "\n",
        "Collate the dataset for each language. We will use the Hindi, Kannada, Tamil, Malayalam, and Bengali Wikipedia articles to train our model. Use publicly available tokenizers (or generate a new one if possible - stretch goal) to create a Bag of Words Create a Bag of Words classifier using linear layers Train the Classifier\n",
        "\n",
        "For Language Identification, a lot of work has been done to classify and identify languages with latin as the predominant script. Some work has also been done to identify Chinese, Japanese, and Korean languages. Jauhiaihen et al has done a detailed survey on the literature that exists for Language Identification tasks. Kerwin (2006) used character frequencies as feature vectors. In a feature vector, each feature vector f has its own integer value. Raw frequency and relative frequency for each feature is calculated for each language. For our project, we will be using something very similar.\n",
        "\n",
        "There are several intuitive techniques that are used to classify languages- Position of words- Kumar et al. (2015) used the position of the current word in word-level LI. Dictionary of unique words: Unique word dictionaries include only those words of the language, that do not belong to the other languages targeted by the language identifier. Discriminating words Kolkus (2009) used the most relevant words for each language"
      ],
      "metadata": {
        "id": "evIv8ZP0fQJR"
      }
    },
    {
      "cell_type": "code",
      "source": [
        "!pip install indic-nlp-library\n",
        "!pip install torch\n",
        "!pip install torchtext\n"
      ],
      "metadata": {
        "colab": {
          "base_uri": "https://localhost:8080/"
        },
        "id": "WP-RKClxj07i",
        "outputId": "91fd6630-a3e6-4ab3-f3b8-22b62210824e"
      },
      "execution_count": 1,
      "outputs": [
        {
          "output_type": "stream",
          "name": "stdout",
          "text": [
            "Collecting indic-nlp-library\n",
            "  Downloading indic_nlp_library-0.81-py3-none-any.whl (40 kB)\n",
            "\u001b[?25l\r\u001b[K     |████████▏                       | 10 kB 15.9 MB/s eta 0:00:01\r\u001b[K     |████████████████▍               | 20 kB 18.2 MB/s eta 0:00:01\r\u001b[K     |████████████████████████▌       | 30 kB 13.6 MB/s eta 0:00:01\r\u001b[K     |████████████████████████████████| 40 kB 3.7 MB/s \n",
            "\u001b[?25hCollecting morfessor\n",
            "  Downloading Morfessor-2.0.6-py3-none-any.whl (35 kB)\n",
            "Requirement already satisfied: numpy in /usr/local/lib/python3.7/dist-packages (from indic-nlp-library) (1.21.6)\n",
            "Collecting sphinx-argparse\n",
            "  Downloading sphinx_argparse-0.3.1-py2.py3-none-any.whl (12 kB)\n",
            "Requirement already satisfied: pandas in /usr/local/lib/python3.7/dist-packages (from indic-nlp-library) (1.3.5)\n",
            "Collecting sphinx-rtd-theme\n",
            "  Downloading sphinx_rtd_theme-1.0.0-py2.py3-none-any.whl (2.8 MB)\n",
            "\u001b[K     |████████████████████████████████| 2.8 MB 23.1 MB/s \n",
            "\u001b[?25hRequirement already satisfied: python-dateutil>=2.7.3 in /usr/local/lib/python3.7/dist-packages (from pandas->indic-nlp-library) (2.8.2)\n",
            "Requirement already satisfied: pytz>=2017.3 in /usr/local/lib/python3.7/dist-packages (from pandas->indic-nlp-library) (2022.1)\n",
            "Requirement already satisfied: six>=1.5 in /usr/local/lib/python3.7/dist-packages (from python-dateutil>=2.7.3->pandas->indic-nlp-library) (1.15.0)\n",
            "Requirement already satisfied: sphinx>=1.2.0 in /usr/local/lib/python3.7/dist-packages (from sphinx-argparse->indic-nlp-library) (1.8.6)\n",
            "Requirement already satisfied: imagesize in /usr/local/lib/python3.7/dist-packages (from sphinx>=1.2.0->sphinx-argparse->indic-nlp-library) (1.3.0)\n",
            "Requirement already satisfied: Jinja2>=2.3 in /usr/local/lib/python3.7/dist-packages (from sphinx>=1.2.0->sphinx-argparse->indic-nlp-library) (2.11.3)\n",
            "Requirement already satisfied: docutils<0.18,>=0.11 in /usr/local/lib/python3.7/dist-packages (from sphinx>=1.2.0->sphinx-argparse->indic-nlp-library) (0.17.1)\n",
            "Requirement already satisfied: setuptools in /usr/local/lib/python3.7/dist-packages (from sphinx>=1.2.0->sphinx-argparse->indic-nlp-library) (57.4.0)\n",
            "Requirement already satisfied: babel!=2.0,>=1.3 in /usr/local/lib/python3.7/dist-packages (from sphinx>=1.2.0->sphinx-argparse->indic-nlp-library) (2.10.1)\n",
            "Requirement already satisfied: packaging in /usr/local/lib/python3.7/dist-packages (from sphinx>=1.2.0->sphinx-argparse->indic-nlp-library) (21.3)\n",
            "Requirement already satisfied: sphinxcontrib-websupport in /usr/local/lib/python3.7/dist-packages (from sphinx>=1.2.0->sphinx-argparse->indic-nlp-library) (1.2.4)\n",
            "Requirement already satisfied: alabaster<0.8,>=0.7 in /usr/local/lib/python3.7/dist-packages (from sphinx>=1.2.0->sphinx-argparse->indic-nlp-library) (0.7.12)\n",
            "Requirement already satisfied: snowballstemmer>=1.1 in /usr/local/lib/python3.7/dist-packages (from sphinx>=1.2.0->sphinx-argparse->indic-nlp-library) (2.2.0)\n",
            "Requirement already satisfied: requests>=2.0.0 in /usr/local/lib/python3.7/dist-packages (from sphinx>=1.2.0->sphinx-argparse->indic-nlp-library) (2.23.0)\n",
            "Requirement already satisfied: Pygments>=2.0 in /usr/local/lib/python3.7/dist-packages (from sphinx>=1.2.0->sphinx-argparse->indic-nlp-library) (2.6.1)\n",
            "Requirement already satisfied: MarkupSafe>=0.23 in /usr/local/lib/python3.7/dist-packages (from Jinja2>=2.3->sphinx>=1.2.0->sphinx-argparse->indic-nlp-library) (2.0.1)\n",
            "Requirement already satisfied: chardet<4,>=3.0.2 in /usr/local/lib/python3.7/dist-packages (from requests>=2.0.0->sphinx>=1.2.0->sphinx-argparse->indic-nlp-library) (3.0.4)\n",
            "Requirement already satisfied: certifi>=2017.4.17 in /usr/local/lib/python3.7/dist-packages (from requests>=2.0.0->sphinx>=1.2.0->sphinx-argparse->indic-nlp-library) (2021.10.8)\n",
            "Requirement already satisfied: urllib3!=1.25.0,!=1.25.1,<1.26,>=1.21.1 in /usr/local/lib/python3.7/dist-packages (from requests>=2.0.0->sphinx>=1.2.0->sphinx-argparse->indic-nlp-library) (1.24.3)\n",
            "Requirement already satisfied: idna<3,>=2.5 in /usr/local/lib/python3.7/dist-packages (from requests>=2.0.0->sphinx>=1.2.0->sphinx-argparse->indic-nlp-library) (2.10)\n",
            "Requirement already satisfied: pyparsing!=3.0.5,>=2.0.2 in /usr/local/lib/python3.7/dist-packages (from packaging->sphinx>=1.2.0->sphinx-argparse->indic-nlp-library) (3.0.9)\n",
            "Requirement already satisfied: sphinxcontrib-serializinghtml in /usr/local/lib/python3.7/dist-packages (from sphinxcontrib-websupport->sphinx>=1.2.0->sphinx-argparse->indic-nlp-library) (1.1.5)\n",
            "Installing collected packages: sphinx-rtd-theme, sphinx-argparse, morfessor, indic-nlp-library\n",
            "Successfully installed indic-nlp-library-0.81 morfessor-2.0.6 sphinx-argparse-0.3.1 sphinx-rtd-theme-1.0.0\n",
            "Requirement already satisfied: torch in /usr/local/lib/python3.7/dist-packages (1.11.0+cu113)\n",
            "Requirement already satisfied: typing-extensions in /usr/local/lib/python3.7/dist-packages (from torch) (4.2.0)\n",
            "Requirement already satisfied: torchtext in /usr/local/lib/python3.7/dist-packages (0.12.0)\n",
            "Requirement already satisfied: numpy in /usr/local/lib/python3.7/dist-packages (from torchtext) (1.21.6)\n",
            "Requirement already satisfied: torch==1.11.0 in /usr/local/lib/python3.7/dist-packages (from torchtext) (1.11.0+cu113)\n",
            "Requirement already satisfied: requests in /usr/local/lib/python3.7/dist-packages (from torchtext) (2.23.0)\n",
            "Requirement already satisfied: tqdm in /usr/local/lib/python3.7/dist-packages (from torchtext) (4.64.0)\n",
            "Requirement already satisfied: typing-extensions in /usr/local/lib/python3.7/dist-packages (from torch==1.11.0->torchtext) (4.2.0)\n",
            "Requirement already satisfied: chardet<4,>=3.0.2 in /usr/local/lib/python3.7/dist-packages (from requests->torchtext) (3.0.4)\n",
            "Requirement already satisfied: idna<3,>=2.5 in /usr/local/lib/python3.7/dist-packages (from requests->torchtext) (2.10)\n",
            "Requirement already satisfied: urllib3!=1.25.0,!=1.25.1,<1.26,>=1.21.1 in /usr/local/lib/python3.7/dist-packages (from requests->torchtext) (1.24.3)\n",
            "Requirement already satisfied: certifi>=2017.4.17 in /usr/local/lib/python3.7/dist-packages (from requests->torchtext) (2021.10.8)\n"
          ]
        }
      ]
    },
    {
      "cell_type": "code",
      "source": [
        "import sys\n",
        "import os\n",
        "from google.colab import drive \n",
        "drive.mount('/content/gdrive', force_remount=True)\n",
        "%cd /content/gdrive/MyDrive/AML_Project/\n",
        "os.environ['KAGGLE_CONFIG_DIR'] = \"/content/gdrive/MyDrive/AML_Project\""
      ],
      "metadata": {
        "colab": {
          "base_uri": "https://localhost:8080/"
        },
        "id": "82kEOzxUQ1tR",
        "outputId": "36dd8128-9b14-482b-a598-d37beea60e59"
      },
      "execution_count": 13,
      "outputs": [
        {
          "output_type": "stream",
          "name": "stdout",
          "text": [
            "Mounted at /content/gdrive\n",
            "/content/gdrive/MyDrive/AML_Project\n"
          ]
        }
      ]
    },
    {
      "cell_type": "code",
      "source": [
        "# This command is to unmount gdrive - need it sometimes\n",
        "#!fusermount -u gdrive"
      ],
      "metadata": {
        "id": "ticPf3gEHsRl"
      },
      "execution_count": 11,
      "outputs": []
    },
    {
      "cell_type": "code",
      "source": [
        "\n",
        "import torch\n",
        "import torchtext\n",
        "import spacy\n",
        "from torchtext import data, datasets\n",
        "from torchtext.vocab import Vectors\n",
        "from torch.nn import init\n",
        "import torch.nn as nn\n",
        "import torch.nn.functional as F\n",
        "import torch.optim as optim\n",
        "import numpy as np\n",
        "from sklearn.model_selection import train_test_split\n",
        "import pandas as pd"
      ],
      "metadata": {
        "id": "rJFxwE7Q6at1"
      },
      "execution_count": 14,
      "outputs": []
    },
    {
      "cell_type": "markdown",
      "source": [
        "Citation for datasets: @inproceedings{kakwani2020indicnlpsuite,\n",
        "    title={{IndicNLPSuite: Monolingual Corpora, Evaluation Benchmarks and Pre-trained Multilingual Language Models for Indian Languages}},\n",
        "    author={Divyanshu Kakwani and Anoop Kunchukuttan and Satish Golla and Gokul N.C. and Avik Bhattacharyya and Mitesh M. Khapra and Pratyush Kumar},\n",
        "    year={2020},\n",
        "    booktitle={Findings of EMNLP},\n",
        "}\n",
        "\n",
        "\n",
        "@article{kunchukuttan2020indicnlpcorpus,\n",
        "    title={AI4Bharat-IndicNLP Corpus: Monolingual Corpora and Word Embeddings for Indic Languages},\n",
        "    author={Anoop Kunchukuttan and Divyanshu Kakwani and Satish Golla and Gokul N.C. and Avik Bhattacharyya and Mitesh M. Khapra and Pratyush Kumar},\n",
        "    year={2020},\n",
        "    journal={arXiv preprint},\n"
      ],
      "metadata": {
        "id": "WwGjckD0hHic"
      }
    },
    {
      "cell_type": "markdown",
      "source": [
        "\n",
        "\n",
        "Trials for data download, cleaning and some experiments in tokenizers"
      ],
      "metadata": {
        "id": "SAJvXySujkB-"
      }
    },
    {
      "cell_type": "markdown",
      "source": [
        "Reference: https://nbviewer.org/url/anoopkunchukuttan.github.io/indic_nlp_library/doc/indic_nlp_examples.ipynb"
      ],
      "metadata": {
        "id": "wRlQFfacli72"
      }
    },
    {
      "cell_type": "code",
      "source": [
        "from indicnlp.tokenize import sentence_tokenize\n",
        "\n",
        "indic_string=\"\"\"तो क्या विश्व कप 2019 में मैच का बॉस टॉस है? यानी मैच में हार-जीत में \\\n",
        "टॉस की भूमिका अहम है? आप ऐसा सोच सकते हैं। विश्वकप के अपने-अपने पहले मैच में बुरी तरह हारने वाली एशिया की दो टीमों \\\n",
        "पाकिस्तान और श्रीलंका के कप्तान ने हालांकि अपने हार के पीछे टॉस की दलील तो नहीं दी, लेकिन यह जरूर कहा था कि वह एक अहम टॉस हार गए थे।\"\"\"\n",
        "sentences=sentence_tokenize.sentence_split(indic_string, lang='hi')\n",
        "for t in sentences:\n",
        "    print(t)"
      ],
      "metadata": {
        "colab": {
          "base_uri": "https://localhost:8080/"
        },
        "id": "cFoOmcifeHMP",
        "outputId": "b5b752f7-436e-42d2-855f-6a7f89626992"
      },
      "execution_count": 40,
      "outputs": [
        {
          "output_type": "stream",
          "name": "stdout",
          "text": [
            "तो क्या विश्व कप 2019 में मैच का बॉस टॉस है?\n",
            "यानी मैच में हार-जीत में टॉस की भूमिका अहम है?\n",
            "आप ऐसा सोच सकते हैं।\n",
            "विश्वकप के अपने-अपने पहले मैच में बुरी तरह हारने वाली एशिया की दो टीमों पाकिस्तान और श्रीलंका के कप्तान ने हालांकि अपने हार के पीछे टॉस की दलील तो नहीं दी, लेकिन यह जरूर कहा था कि वह एक अहम टॉस हार गए थे।\n"
          ]
        }
      ]
    },
    {
      "cell_type": "code",
      "source": [
        "from indicnlp.tokenize import indic_tokenize  \n",
        "\n",
        "indic_string='सुनो, कुछ आवाज़ आ रही है। फोन?'\n",
        "\n",
        "print('Input String: {}'.format(indic_string))\n",
        "print('Tokens: ')\n",
        "for t in indic_tokenize.trivial_tokenize(indic_string): \n",
        "    print(t)"
      ],
      "metadata": {
        "id": "mDSqkNZ6g0q1",
        "colab": {
          "base_uri": "https://localhost:8080/"
        },
        "outputId": "7109fce0-4d4d-4a4d-ec4f-a496690513cc"
      },
      "execution_count": 41,
      "outputs": [
        {
          "output_type": "stream",
          "name": "stdout",
          "text": [
            "Input String: सुनो, कुछ आवाज़ आ रही है। फोन?\n",
            "Tokens: \n",
            "सुनो\n",
            ",\n",
            "कुछ\n",
            "आवाज़\n",
            "आ\n",
            "रही\n",
            "है\n",
            "।\n",
            "फोन\n",
            "?\n"
          ]
        }
      ]
    },
    {
      "cell_type": "code",
      "source": [
        "!kaggle datasets list -s 'hindi-wikipedia'"
      ],
      "metadata": {
        "colab": {
          "base_uri": "https://localhost:8080/"
        },
        "id": "OjYX7fAEd_oH",
        "outputId": "556507de-e98a-41b0-a48e-6e56e01f27df"
      },
      "execution_count": null,
      "outputs": [
        {
          "output_type": "stream",
          "name": "stdout",
          "text": [
            "ref                                                        title                                               size  lastUpdated          downloadCount  voteCount  usabilityRating  \n",
            "---------------------------------------------------------  -------------------------------------------------  -----  -------------------  -------------  ---------  ---------------  \n",
            "disisbig/hindi-wikipedia-articles-172k                     Hindi Wikipedia Articles - 172k                    208MB  2019-12-24 05:01:30            393         19  0.6875           \n",
            "zarajamshaid/language-identification-datasst               Language Identification dataset                      6MB  2018-12-19 18:12:23           2117         36  1.0              \n",
            "disisbig/hindi-wikipedia-articles-55k                      Hindi Wikipedia Articles - 55k                      63MB  2019-12-24 04:31:32            200          8  0.625            \n",
            "shivavashishtha/shark-tank-india-dataset                   Shark Tank India Dataset                             4KB  2022-02-24 12:57:31           1667         56  1.0              \n",
            "prateekagrawal1405/hindi-wikipedia-articles-172k-csv       Hindi Wikipedia Articles 172k CSV                  166MB  2021-07-09 17:47:52              3          2  0.64705884       \n",
            "mitesh58/bollywood-movie-dataset                           Bollywood Movie Dataset                            100KB  2018-02-04 10:23:40           5302         60  0.7352941        \n",
            "nbroad/muril-large-pt                                      MuRIL Large pt                                       2GB  2021-10-16 14:35:24             61         12  0.5              \n",
            "nbroad/chaii-qa-hindi-q                                    chaii-qa hindi questions                            12MB  2021-08-14 20:00:25             23          4  0.5294118        \n",
            "amayagarwal/hindienglish-ted-talks-wikipedia-articles-etc  Hindi-English TED talks, Wikipedia articles, etc.   48MB  2020-10-31 06:26:53             18          0  0.6875           \n",
            "zzy990106/murilbasecased                                   muril-base-cased                                     2GB  2021-08-21 16:36:07             26          8  0.6875           \n",
            "shankkumar/multilingualopenrelations15                     MultilingualOpenRelations15                         12GB  2021-03-22 20:30:43             73          4  0.5625           \n",
            "zhangbl/multi-languages-stopwords                          multi_languages_stopwords                           85KB  2020-06-20 03:19:21             51          3  0.5625           \n",
            "parthplc/facebook-mlqa                                     Facebook MLQA                                       76MB  2020-11-29 08:44:09             27          1  0.5625           \n",
            "mathurinache/flores101                                     FLORES-101                                          13MB  2021-06-07 09:16:01             40         13  0.9117647        \n",
            "nbroad/muril-large-tf                                      MuRIL Large tf                                       2GB  2021-10-16 14:29:14              0          1  0.4375           \n",
            "sizlingdhairya1/iiit-spoken-language-datasets              IIIT Spoken Language Datasets                      920MB  2022-05-02 08:37:28              2          0  0.3125           \n"
          ]
        }
      ]
    },
    {
      "cell_type": "code",
      "source": [
        "!kaggle datasets download -d 'disisbig/hindi-wikipedia-articles-55k'"
      ],
      "metadata": {
        "colab": {
          "base_uri": "https://localhost:8080/"
        },
        "id": "bTvgATXzd_ql",
        "outputId": "9133f85a-5792-4cbe-f45b-ca77abb91b20"
      },
      "execution_count": null,
      "outputs": [
        {
          "output_type": "stream",
          "name": "stdout",
          "text": [
            "Downloading hindi-wikipedia-articles-55k.zip to /content/drive/MyDrive/Adv_ML_Project\n",
            " 90% 57.0M/63.3M [00:02<00:00, 28.3MB/s]\n",
            "100% 63.3M/63.3M [00:02<00:00, 31.5MB/s]\n"
          ]
        }
      ]
    },
    {
      "cell_type": "markdown",
      "source": [
        "The hindi dataset is now sitting in the folder in zip format at '/content/drive/MyDrive/Adv_ML_Project/hindi-wikipedia-articles-55k.zip'"
      ],
      "metadata": {
        "id": "qupM9aW0fvq9"
      }
    },
    {
      "cell_type": "markdown",
      "source": [
        ""
      ],
      "metadata": {
        "id": "mF4YwWLvfzFE"
      }
    },
    {
      "cell_type": "code",
      "source": [
        "from zipfile import ZipFile\n",
        "\n",
        "with ZipFile('hindi-wikipedia-articles-55k.zip', 'r') as zipObj:\n",
        "   # Extract all the contents of zip file in current directory\n",
        "   zipObj.extractall()\n",
        "# This above code is shit slow. It takes 20 hours to extract. \n",
        "\n",
        "\n",
        "\n"
      ],
      "metadata": {
        "id": "VRiGYfiFg_AD"
      },
      "execution_count": null,
      "outputs": []
    },
    {
      "cell_type": "code",
      "source": [
        "!unzip 'hindi-wikipedia-articles-55k.zip' # This is relatively fast"
      ],
      "metadata": {
        "id": "oj4XYD7UKRCN"
      },
      "execution_count": null,
      "outputs": []
    },
    {
      "cell_type": "code",
      "source": [
        "!kaggle datasets list -s 'bengali-wikipedia'"
      ],
      "metadata": {
        "colab": {
          "base_uri": "https://localhost:8080/"
        },
        "id": "ffg6keiYg_Cg",
        "outputId": "e6fffbd5-9211-484d-9262-389b64e9b3bc"
      },
      "execution_count": null,
      "outputs": [
        {
          "output_type": "stream",
          "name": "stdout",
          "text": [
            "ref                                            title                                   size  lastUpdated          downloadCount  voteCount  usabilityRating  \n",
            "---------------------------------------------  -------------------------------------  -----  -------------------  -------------  ---------  ---------------  \n",
            "disisbig/bengali-wikipedia-articles            Bengali Wikipedia Articles             105MB  2019-12-25 04:35:21            135          6  0.5              \n",
            "nrkapri/rabindranath-tagore-online-variorum    Rabindranath Tagore Online Variorum    173MB  2020-06-07 20:04:16             50          9  1.0              \n",
            "nbroad/muril-large-pt                          MuRIL Large pt                           2GB  2021-10-16 14:35:24             61         12  0.5              \n",
            "aagalib/complete-works-of-rabindranath-tagore  Complete Works of Rabindranath Tagore   43MB  2022-01-04 16:05:23             28          8  0.9411765        \n",
            "zzy990106/murilbasecased                       muril-base-cased                         2GB  2021-08-21 16:36:07             26          8  0.6875           \n",
            "tapash39/bengai-sentencepiece-model            bengai_sentencepiece_model             626KB  2020-02-09 15:22:16              7          0  0.375            \n",
            "zhangbl/multi-languages-stopwords              multi_languages_stopwords               85KB  2020-06-20 03:19:21             51          3  0.5625           \n",
            "iamsouvik/bengaliword2vec                      Bengali Word2Vec                       583MB  2021-01-13 06:31:07              8          0  0.25             \n",
            "mathurinache/flores101                         FLORES-101                              13MB  2021-06-07 09:16:01             40         13  0.9117647        \n",
            "nbroad/muril-large-tf                          MuRIL Large tf                           2GB  2021-10-16 14:29:14              0          1  0.4375           \n",
            "sizlingdhairya1/iiit-spoken-language-datasets  IIIT Spoken Language Datasets          920MB  2022-05-02 08:37:28              2          0  0.3125           \n"
          ]
        }
      ]
    },
    {
      "cell_type": "code",
      "source": [
        "!kaggle datasets download -d 'disisbig/bengali-wikipedia-articles'"
      ],
      "metadata": {
        "colab": {
          "base_uri": "https://localhost:8080/"
        },
        "id": "LE9TnVIIKh4U",
        "outputId": "175a1b3e-8665-491d-e3a5-f1de53685a86"
      },
      "execution_count": 45,
      "outputs": [
        {
          "output_type": "stream",
          "name": "stdout",
          "text": [
            "bengali-wikipedia-articles.zip: Skipping, found more recently modified local copy (use --force to force download)\n"
          ]
        }
      ]
    },
    {
      "cell_type": "code",
      "source": [
        "!unzip 'bengali-wikipedia-articles.zip' # This is relatively fast"
      ],
      "metadata": {
        "id": "2vTi5Iz-Km5f"
      },
      "execution_count": null,
      "outputs": []
    },
    {
      "cell_type": "code",
      "source": [
        "!kaggle datasets list -s 'kannada-wikipedia'"
      ],
      "metadata": {
        "colab": {
          "base_uri": "https://localhost:8080/"
        },
        "id": "E0vkzLwMg_E5",
        "outputId": "bf7a006e-e98c-46b3-becf-05a8c48cc7cb"
      },
      "execution_count": null,
      "outputs": [
        {
          "output_type": "stream",
          "name": "stdout",
          "text": [
            "ref                                            title                           size  lastUpdated          downloadCount  voteCount  usabilityRating  \n",
            "---------------------------------------------  -----------------------------  -----  -------------------  -------------  ---------  ---------------  \n",
            "disisbig/kannada-wikipedia-articles            Kannada Wikipedia Articles      81MB  2019-12-25 04:38:53            168          1  0.5              \n",
            "nbroad/muril-large-pt                          MuRIL Large pt                   2GB  2021-10-16 14:35:24             61         12  0.5              \n",
            "zzy990106/murilbasecased                       muril-base-cased                 2GB  2021-08-21 16:36:07             26          8  0.6875           \n",
            "sizlingdhairya1/iiit-spoken-language-datasets  IIIT Spoken Language Datasets  920MB  2022-05-02 08:37:28              2          0  0.3125           \n",
            "nbroad/muril-large-tf                          MuRIL Large tf                   2GB  2021-10-16 14:29:14              0          1  0.4375           \n"
          ]
        }
      ]
    },
    {
      "cell_type": "code",
      "source": [
        "!kaggle datasets list -s 'malayalam-wikipedia'"
      ],
      "metadata": {
        "colab": {
          "base_uri": "https://localhost:8080/"
        },
        "id": "B-E7_UAmg_Hh",
        "outputId": "1db5f55d-f772-42fe-b506-7eef643723e5"
      },
      "execution_count": null,
      "outputs": [
        {
          "output_type": "stream",
          "name": "stdout",
          "text": [
            "ref                                            title                           size  lastUpdated          downloadCount  voteCount  usabilityRating  \n",
            "---------------------------------------------  -----------------------------  -----  -------------------  -------------  ---------  ---------------  \n",
            "disisbig/malayalam-wikipedia-articles          Malayalam Wikipedia Articles    19MB  2019-12-25 04:39:06            121          6  0.5              \n",
            "nbroad/muril-large-pt                          MuRIL Large pt                   2GB  2021-10-16 14:35:24             61         12  0.5              \n",
            "zzy990106/murilbasecased                       muril-base-cased                 2GB  2021-08-21 16:36:07             26          8  0.6875           \n",
            "sizlingdhairya1/iiit-spoken-language-datasets  IIIT Spoken Language Datasets  920MB  2022-05-02 08:37:28              2          0  0.3125           \n",
            "nbroad/muril-large-tf                          MuRIL Large tf                   2GB  2021-10-16 14:29:14              0          1  0.4375           \n"
          ]
        }
      ]
    },
    {
      "cell_type": "code",
      "source": [
        "!kaggle datasets list -s 'tamil-wikipedia'"
      ],
      "metadata": {
        "colab": {
          "base_uri": "https://localhost:8080/"
        },
        "id": "YQEt1wTIf0GS",
        "outputId": "9dba0524-e5e5-4368-aeca-0c4ef4ce34dd"
      },
      "execution_count": null,
      "outputs": [
        {
          "output_type": "stream",
          "name": "stdout",
          "text": [
            "ref                                                title                                       size  lastUpdated          downloadCount  voteCount  usabilityRating  \n",
            "-------------------------------------------------  -----------------------------------------  -----  -------------------  -------------  ---------  ---------------  \n",
            "disisbig/tamil-wikipedia-articles                  Tamil Wikipedia Articles                    95MB  2019-12-25 04:30:22            172         12  0.64705884       \n",
            "jrobischon/wikipedia-movie-plots                   Wikipedia Movie Plots                       30MB  2018-10-15 19:59:54          14585        432  0.88235295       \n",
            "sudalairajkumar/tamil-nlp                          Tamil NLP                                    3MB  2019-03-11 06:29:11           1284        100  1.0              \n",
            "zarajamshaid/language-identification-datasst       Language Identification dataset              6MB  2018-12-19 18:12:23           2117         36  1.0              \n",
            "praveengovi/tamil-language-corpus-for-nlp          Tamil - Language Corpus for NLP              2GB  2020-04-08 16:00:54            359         29  0.8235294        \n",
            "nbroad/muril-large-pt                              MuRIL Large pt                               2GB  2021-10-16 14:35:24             61         12  0.5              \n",
            "zzy990106/murilbasecased                           muril-base-cased                             2GB  2021-08-21 16:36:07             26          8  0.6875           \n",
            "thanish/capped-cricket-players                     Capped Male International Cricket players  150KB  2020-12-23 09:22:45             70          4  0.5882353        \n",
            "saravananselvamohan/tamil-kollywood-films-dataset  Tamil KollyWood Films Dataset               25KB  2020-08-17 10:08:57            174          4  0.9117647        \n",
            "nbroad/muril-large-tf                              MuRIL Large tf                               2GB  2021-10-16 14:29:14              0          1  0.4375           \n",
            "sizlingdhairya1/iiit-spoken-language-datasets      IIIT Spoken Language Datasets              920MB  2022-05-02 08:37:28              2          0  0.3125           \n",
            "shankkumar/multilingualopenrelations15             MultilingualOpenRelations15                 12GB  2021-03-22 20:30:43             73          4  0.5625           \n"
          ]
        }
      ]
    },
    {
      "cell_type": "markdown",
      "source": [
        ""
      ],
      "metadata": {
        "id": "Zk6qlmavKUNA"
      }
    },
    {
      "cell_type": "code",
      "source": [
        "DEVICE = torch.device(\"cuda\" if torch.cuda.is_available() else \"cpu\")"
      ],
      "metadata": {
        "id": "eFRPvjjAf0Q1"
      },
      "execution_count": 15,
      "outputs": []
    },
    {
      "cell_type": "markdown",
      "source": [
        "Indic NLP news articles is collection of news articles in various Indian langauges. \n",
        "Ref: https://github.com/AI4Bharat/indicnlp_corpus#indicnlp-news-article-classification-dataset"
      ],
      "metadata": {
        "id": "-3v2sDIKrJHs"
      }
    },
    {
      "cell_type": "code",
      "source": [
        "train_kn = pd.read_csv('/content/gdrive/MyDrive/AML_Project/kn/kn-train.csv')\n",
        "test_kn = pd.read_csv('/content/gdrive/MyDrive/AML_Project/kn/kn-test.csv')\n",
        "valid_kn = pd.read_csv('/content/gdrive/MyDrive/AML_Project/kn/kn-valid.csv')"
      ],
      "metadata": {
        "id": "bDd9IYobPbJn"
      },
      "execution_count": 17,
      "outputs": []
    },
    {
      "cell_type": "code",
      "source": [
        "test_kn"
      ],
      "metadata": {
        "colab": {
          "base_uri": "https://localhost:8080/",
          "height": 1000
        },
        "id": "TG0UlxAmbmoG",
        "outputId": "f523a657-a2bd-4fb7-843b-8eed870148ef"
      },
      "execution_count": 46,
      "outputs": [
        {
          "output_type": "execute_result",
          "data": {
            "text/plain": [
              "             sports  \\\n",
              "0     entertainment   \n",
              "1     entertainment   \n",
              "2            sports   \n",
              "3         lifestyle   \n",
              "4     entertainment   \n",
              "...             ...   \n",
              "2994  entertainment   \n",
              "2995  entertainment   \n",
              "2996  entertainment   \n",
              "2997      lifestyle   \n",
              "2998      lifestyle   \n",
              "\n",
              "     ವಿಂಡೀಸ್‌ ತಂಡಕ್ಕೆ ಮರಳಿದ ಸುನೀಲ್‌, ಪೊಲ್ಲಾರ್ಡ್‌\\n‌ಭಾರತ ವಿರುದ್ಧ ಟಿ–20 ಸರಣಿಗೆ ತಂಡ ಪ್ರಕಟ\\nವಿಂಡೀಸ್‌ ತಂಡಕ್ಕೆ ಮರಳಿದ ಸುನೀಲ್‌, ಪೊಲ್ಲಾರ್ಡ್‌\\nಪ್ರಜಾವಾಣಿ ವಾರ್ತೆ\\nPublished:\\n23 ಜುಲೈ 2019, 17:00  IST\\nUpdated:\\n23 ಜುಲೈ 2019, 17:00  IST\\nಅಕ್ಷರ ಗಾತ್ರ :\\nಆ\\nಆ\\nಸೇಂಟ್‌ ಜಾನ್ಸ್‌, ಆ್ಯಂಟೀಗಾ (ಪಿಟಿಐ): ಭಾರತ ವಿರುದ್ಧ ಮೂರು ಪಂದ್ಯಗಳ ಟಿ–20 ಸರಣಿಯಲ್ಲಿ ಆಡುವ ಮೊದಲ ಎರಡು ಪಂದ್ಯಗಳಿಗೆ ವೆಸ್ಟ್‌ ಇಂಡೀಸ್‌ ತಂಡವನ್ನು ಪ್ರಕಟಿಸಲಾಗಿದೆ. ಹಿರಿಯ ಆಟಗಾರರಾದ ಸುನೀಲ್‌ ನಾರಾಯಣ್‌ ಮತ್ತು ಕೀರನ್‌ ಪೊಲ್ಲಾರ್ಡ್‌ ಅವರನ್ನು ಮರಳಿ ಕರೆಸಿಕೊಳ್ಳಲಾಗಿದೆ.\\nಕಾರ್ಲೋಸ್‌ ಬ್ರಾತ್‌ವೇಟ್‌ ನಾಯಕತ್ವದ 14 ಮಂದಿಯ ತಂಡವನ್ನು ಮಂಗಳವಾರ ಪ್ರಕಟಿಸಲಾಯಿತು. ವಿಕೆಟ್‌ ಕೀಪರ್‌– ಬ್ಯಾಟ್ಸ್‌ಮನ್‌ ಅಂಥೋನಿ ಬ್ರಾಂಬಲ್ ತಂಡದಲ್ಲಿರುವ ಏಕೈಕ ಹೊಸಮುಖ. 28 ವರ್ಷದ ಬ್ರಾಂಬಲ್‌, ನಿಕೋಲಸ್‌ ಪೂರನ್‌ಗೆ ಬ್ಯಾಕ್‌ಅಪ್‌ ವಿಕೆಟ್‌ ಕೀಪರ್ ಆಗಿದ್ದಾರೆ.\\nಮೊದಲ ಎರಡು ಪಂದ್ಯಗಳು ಆಗಸ್ಟ್‌ 3 ಮತ್ತು 4ರಂದು ಅಮೆರಿಕದ ಫ್ಲಾರಿಡಾದ ಲಾಡರ್‌ಹಿಲ್‌ನ ಬ್ರೊವಾರ್ಡ್‌ ಕೌಂಟಿ ಸ್ಟೇಡಿಯಂನಲ್ಲಿ ನಡೆಯಲಿವೆ. ಗಯಾನಾದ ನ್ಯಾಷನಲ್‌ ಸ್ಟೇಡಿಯಂನಲ್ಲಿ ಆಗಸ್ಟ್‌ 6ರಂದು ಅಂತಿಮ ಪಂದ್ಯ ನಡೆಯಲಿದೆ ಎಂದು ವೆಸ್ಟ್‌ ಇಂಡೀಸ್‌ ಕ್ರಿಕೆಟ್‌ ಮಂಡಳಿ ತಿಳಿಸಿದೆ. ಈ ಸರಣಿಯ ಬಳಿಕ ಮೂರು ಏಕದಿನ ಮತ್ತು ಎರಡು ಟೆಸ್ಟ್‌ ಪಂದ್ಯಗಳ ಸರಣಿ ಆಡಬೇಕಿದೆ.\\nಆಲ್‌ರೌಂಡರ್‌ ಆ್ಯಂಡ್ರೆ ರಸೆಲ್‌ ತಂಡದಲ್ಲಿ ಅವಕಾಶ ಪಡೆದರೂ, ಅವರು ದೈಹಿಕ ಕ್ಷಮತೆ ಪರೀಕ್ಷೆ ತೇರ್ಗಡೆ ಆಗಬೇಕಾಗಿದೆ. ಇತ್ತೀಚಿನ ವಿಶ್ವಕಪ್‌ ಸಂದರ್ಭದಲ್ಲಿ ರಸೆಲ್‌, ಎಡ ಮಂಡಿ ನೋವು ಕಾಡುತ್ತಿದ್ದ ಪರಿಣಾಮ ಶಸ್ತ್ರಚಿಕಿತ್ಸೆ ಮಾಡಿಸಿಕೊಳ್ಳಲು ಅರ್ಧದಲ್ಲೇ ಸ್ವದೇಶಕ್ಕೆ ಮರಳಿದ್ದರು.\\nಕೀರನ್‌ ಪೊಲ್ಲಾರ್ಡ್‌\\nಅನುಭವಿ ಓಪನರ್‌ ಕ್ರಿಸ್‌ ಗೇಲ್‌, ಕೆನಡಾದಲ್ಲಿ ಜಿಟಿ–20 ಟೂರ್ನಿಯಲ್ಲಿ ಆಡಬೇಕಾಗಿರುವ ಕಾರಣ ಈ ಸರಣಿಗೆ ಲಭ್ಯವಿರುವುದಿಲ್ಲ ಎಂದು ಆಯ್ಕೆ ಸಮಿತಿಗೆ ತಿಳಿಸಿದ್ದಾಗಿ ಸಮಿತಿಯ ಹಂಗಾಮಿ ಅಧ್ಯಕ್ಷ ರಾಬರ್ಟ್‌ ಹೇನ್ಸ್‌ ತಿಳಿಸಿದರು.\\nಮುಂದಿನ ವರ್ಷ ಆಸ್ಟ್ರೇಲಿಯಾದಲ್ಲಿ ನಡೆಯಲಿರುವ ಟಿ–20 ವಿಶ್ವಕಪ್‌ಗೆ ಸಿದ್ಧತೆಯ ಉದ್ದೇಶ ದೃಷ್ಟಿಯಲ್ಲಿಟ್ಟುಕೊಂಡು ಎಡಗೈ ಆರಂಭ ಆಟಗಾರ ಜಾನ್‌ ಕ್ಯಾಂಪ್‌ಬೆಲ್‌ ಮತ್ತು ಎಡಗೈ ಸ್ಪಿನ್ನರ್‌ ಖಾರಿ ಪಿಯರೆ ಅವರನ್ನೂ ಸೇರ್ಪಡೆ ಮಾಡಲಾಗಿದೆ.\\n‘ತಂಡ ಅನುಭವಿ ಮತ್ತು ಯುವಮುಖಗಳೊಂದಿಗೆ ಸಂತುಲಿತವಾಗಿದೆ. ಇದು ಭಾರತ ವಿರುದ್ಧ ಸರಣಿ ಉದ್ದೇಶದಿಂದ ಮಾತ್ರ ಆಯ್ಕೆ ಮಾಡಿದ ತಂಡವಲ್ಲ. ಮುಂದಿನ ಟಿ–20 ವಿಶ್ವಕಪ್‌ಗೆ ತಂಡ ಸಂಯೋಜನೆ ಮಾಡುವ ಉದ್ದೇಶವೂ ಇದರಲ್ಲಿದೆ’ ಎಂದು ಅವರು ಹೇಳಿದರು.\\n‘ತಂಡಕ್ಕೆ ಆಯ್ಕೆಯಾಗಿರುವ ಹೆಚ್ಚಿನ ಆಟಗಾರರು ಐಪಿಎಲ್‌ ಆಡಿದವರು. ಅವರು ಭಾರತದ ಆಟಗಾರರನ್ನು ಚೆನ್ನಾಗಿ ಬಲ್ಲರು. ಸ್ವದೇಶದಲ್ಲೇ ಆಡುವುದರಿಂದ ನಮಗೆ ಸ್ವಲ್ಪ ಅನುಕೂಲವಿದೆ. ಆದರೆ ಅಂತಿಮವಾಗಿ ತಂಡದ ಆಟಗಾರರು ಗೆಲ್ಲಿಸುವುದು ಮುಖ್ಯವಾಗುತ್ತದೆ’ ಎಂದರು.\\nಆಫ್‌ ಬ್ರೇಕ್‌ ಬೌಲರ್ ಸುನೀಲ್‌ ನಾರಾಯಣ್‌, ಎರಡು ವರ್ಷದ ಹಿಂದೆ ಇಂಗ್ಲೆಂಡ್‌ ಪ್ರವಾಸದ ವೇಳೆ ಕೊನೆಯ ಬಾರಿ  ಟಿ–20 ಅಂತರರಾಷ್ಟ್ರೀಯ ಪಂದ್ಯ ಆಡಿದ್ದರು. ಪೊಲ್ಲಾರ್ಡ್‌, ಕಳೆದ ನವೆಂಬರ್‌ನಲ್ಲಿ ಭಾರತ ಪ್ರವಾಸದ ವೇಳೆ ಕೊನೆಯ ಬಾರಿ ಟಿ–20 ಪಂದ್ಯ ಆಡಿದ್ದರು. \\nತಂಡ ಇಂತಿದೆ: ಕಾರ್ಲೋಸ್‌ ಬ್ರಾತ್‌ವೇಟ್‌ (ಕ್ಯಾಪ್ಟನ್‌), ಸುನೀಲ್‌ ನಾರಾಯಣ್‌, ಕೀಮೊ ಪಾಲ್‌, ಖಾರಿ ಪಿಯರೆ, ಕೀರನ್‌ ಪೊಲ್ಲಾರ್ಡ್‌, ನಿಕೋಲಸ್‌ ಪೂರನ್‌ (ವಿಕೆಟ್‌ ಕೀಪರ್‌), ರೊವ್‌ಮನ್‌ ಪೊವೆಲ್‌, ಆ್ಯಂಡ್ರೆ ರಸೆಲ್‌, ಒಷಾನೆ ಥಾಮಸ್‌, ಆಂಥೋನಿ ಬ್ರಾಂಬಲ್‌ (ವಿಕೆಟ್‌ ಕೀಪರ್‌), ಜಾನ್‌ ಕ್ಯಾಂಪ್‌ಬೆಲ್‌, ಶೆಲ್ಟನ್‌ ಕಾಟ್ರೆಲ್‌, ಶಿಮ್ರಾನ್‌ ಹೆಟ್ಮೆಯರ್‌, ಎವಿನ್‌ ಲೂಯಿಸ್‌.\\n0 Post Comments (+)  \n",
              "0     ರಂಗದಲ್ಲಿ ಕಮಲಾದೇವಿ ಚಟ್ಟೋಪಾಧ್ಯಾಯ\\nkamaladevi cha...                                                                                                                                                                                                                                                                                                                                                                                                                                                                                                                                                                                                                                                                                                                                                                                                                                                                                                                                                                                                                                                                                                                                                                                                                                                                                                                                                                                                                                                                                                                                                                                                                                                                                                                                                                                                                                                                                                                                                                                                                                                                                                                                                                                                                                                                                                                                                                                                                                                                                                                                                                                                     \n",
              "1     Bengaluru, First Published 23, Nov 2018, 9:38 ...                                                                                                                                                                                                                                                                                                                                                                                                                                                                                                                                                                                                                                                                                                                                                                                                                                                                                                                                                                                                                                                                                                                                                                                                                                                                                                                                                                                                                                                                                                                                                                                                                                                                                                                                                                                                                                                                                                                                                                                                                                                                                                                                                                                                                                                                                                                                                                                                                                                                                                                                                                                                     \n",
              "2     ಅಧ್ಯಯನ, ಅಭ್ಯಾಸದ ಗೊಂದಲದಲ್ಲಿ ಹಿಮಾ ದಾಸ್‌\\nಅಧ್ಯಯನ,...                                                                                                                                                                                                                                                                                                                                                                                                                                                                                                                                                                                                                                                                                                                                                                                                                                                                                                                                                                                                                                                                                                                                                                                                                                                                                                                                                                                                                                                                                                                                                                                                                                                                                                                                                                                                                                                                                                                                                                                                                                                                                                                                                                                                                                                                                                                                                                                                                                                                                                                                                                                                     \n",
              "3     ದೇಶ ಜೀವನದ ಕೊನೆಯ ಹಂತದಲ್ಲಿ ಆರೋಗ್ಯದ ದುಃಸ್ಥಿತಿ!\\nJ...                                                                                                                                                                                                                                                                                                                                                                                                                                                                                                                                                                                                                                                                                                                                                                                                                                                                                                                                                                                                                                                                                                                                                                                                                                                                                                                                                                                                                                                                                                                                                                                                                                                                                                                                                                                                                                                                                                                                                                                                                                                                                                                                                                                                                                                                                                                                                                                                                                                                                                                                                                                                     \n",
              "4     Bangalore, First Published 11, Jun 2019, 10:40...                                                                                                                                                                                                                                                                                                                                                                                                                                                                                                                                                                                                                                                                                                                                                                                                                                                                                                                                                                                                                                                                                                                                                                                                                                                                                                                                                                                                                                                                                                                                                                                                                                                                                                                                                                                                                                                                                                                                                                                                                                                                                                                                                                                                                                                                                                                                                                                                                                                                                                                                                                                                     \n",
              "...                                                 ...                                                                                                                                                                                                                                                                                                                                                                                                                                                                                                                                                                                                                                                                                                                                                                                                                                                                                                                                                                                                                                                                                                                                                                                                                                                                                                                                                                                                                                                                                                                                                                                                                                                                                                                                                                                                                                                                                                                                                                                                                                                                                                                                                                                                                                                                                                                                                                                                                                                                                                                                                                                                     \n",
              "2994  ವೀಕೆಂಡ್‌ ವಿಥ್‌ ರಮೇಶ್‌; ನಾಲ್ಕನೇ ಸೀಸನ್‌ ಸದ್ಯದಲ್ಲ...                                                                                                                                                                                                                                                                                                                                                                                                                                                                                                                                                                                                                                                                                                                                                                                                                                                                                                                                                                                                                                                                                                                                                                                                                                                                                                                                                                                                                                                                                                                                                                                                                                                                                                                                                                                                                                                                                                                                                                                                                                                                                                                                                                                                                                                                                                                                                                                                                                                                                                                                                                                                     \n",
              "2995  Bangalore, First Published 15, Jul 2019, 8:58 ...                                                                                                                                                                                                                                                                                                                                                                                                                                                                                                                                                                                                                                                                                                                                                                                                                                                                                                                                                                                                                                                                                                                                                                                                                                                                                                                                                                                                                                                                                                                                                                                                                                                                                                                                                                                                                                                                                                                                                                                                                                                                                                                                                                                                                                                                                                                                                                                                                                                                                                                                                                                                     \n",
              "2996  ಅಬ್ಬಾ...! ಕರೀನಾ ಕಪೂರ್  ಅಭಿಮಾನಿ ಜೈಲು ಸೇರಿದ್ಯಾಕೆ...                                                                                                                                                                                                                                                                                                                                                                                                                                                                                                                                                                                                                                                                                                                                                                                                                                                                                                                                                                                                                                                                                                                                                                                                                                                                                                                                                                                                                                                                                                                                                                                                                                                                                                                                                                                                                                                                                                                                                                                                                                                                                                                                                                                                                                                                                                                                                                                                                                                                                                                                                                                                     \n",
              "2997  ದೇಹದ ರಕ್ತ ಹೆಪ್ಪುಗಟ್ಟುವಿಕೆಯ ಬಗ್ಗೆ ಇರುವ  ಕುತೂಹಲಕ...                                                                                                                                                                                                                                                                                                                                                                                                                                                                                                                                                                                                                                                                                                                                                                                                                                                                                                                                                                                                                                                                                                                                                                                                                                                                                                                                                                                                                                                                                                                                                                                                                                                                                                                                                                                                                                                                                                                                                                                                                                                                                                                                                                                                                                                                                                                                                                                                                                                                                                                                                                                                     \n",
              "2998  ವಯಾಗ್ರ ಖರೀದಿದಾರರಿಗೊಂದು ಶಾಕಿಂಗ್ ನ್ಯೂಸ್\\n  04-07...                                                                                                                                                                                                                                                                                                                                                                                                                                                                                                                                                                                                                                                                                                                                                                                                                                                                                                                                                                                                                                                                                                                                                                                                                                                                                                                                                                                                                                                                                                                                                                                                                                                                                                                                                                                                                                                                                                                                                                                                                                                                                                                                                                                                                                                                                                                                                                                                                                                                                                                                                                                                     \n",
              "\n",
              "[2999 rows x 2 columns]"
            ],
            "text/html": [
              "\n",
              "  <div id=\"df-ca6201a5-458e-440f-a3bb-ca4d9be4afe2\">\n",
              "    <div class=\"colab-df-container\">\n",
              "      <div>\n",
              "<style scoped>\n",
              "    .dataframe tbody tr th:only-of-type {\n",
              "        vertical-align: middle;\n",
              "    }\n",
              "\n",
              "    .dataframe tbody tr th {\n",
              "        vertical-align: top;\n",
              "    }\n",
              "\n",
              "    .dataframe thead th {\n",
              "        text-align: right;\n",
              "    }\n",
              "</style>\n",
              "<table border=\"1\" class=\"dataframe\">\n",
              "  <thead>\n",
              "    <tr style=\"text-align: right;\">\n",
              "      <th></th>\n",
              "      <th>sports</th>\n",
              "      <th>ವಿಂಡೀಸ್‌ ತಂಡಕ್ಕೆ ಮರಳಿದ ಸುನೀಲ್‌, ಪೊಲ್ಲಾರ್ಡ್‌\\n‌ಭಾರತ ವಿರುದ್ಧ ಟಿ–20 ಸರಣಿಗೆ ತಂಡ ಪ್ರಕಟ\\nವಿಂಡೀಸ್‌ ತಂಡಕ್ಕೆ ಮರಳಿದ ಸುನೀಲ್‌, ಪೊಲ್ಲಾರ್ಡ್‌\\nಪ್ರಜಾವಾಣಿ ವಾರ್ತೆ\\nPublished:\\n23 ಜುಲೈ 2019, 17:00  IST\\nUpdated:\\n23 ಜುಲೈ 2019, 17:00  IST\\nಅಕ್ಷರ ಗಾತ್ರ :\\nಆ\\nಆ\\nಸೇಂಟ್‌ ಜಾನ್ಸ್‌, ಆ್ಯಂಟೀಗಾ (ಪಿಟಿಐ): ಭಾರತ ವಿರುದ್ಧ ಮೂರು ಪಂದ್ಯಗಳ ಟಿ–20 ಸರಣಿಯಲ್ಲಿ ಆಡುವ ಮೊದಲ ಎರಡು ಪಂದ್ಯಗಳಿಗೆ ವೆಸ್ಟ್‌ ಇಂಡೀಸ್‌ ತಂಡವನ್ನು ಪ್ರಕಟಿಸಲಾಗಿದೆ. ಹಿರಿಯ ಆಟಗಾರರಾದ ಸುನೀಲ್‌ ನಾರಾಯಣ್‌ ಮತ್ತು ಕೀರನ್‌ ಪೊಲ್ಲಾರ್ಡ್‌ ಅವರನ್ನು ಮರಳಿ ಕರೆಸಿಕೊಳ್ಳಲಾಗಿದೆ.\\nಕಾರ್ಲೋಸ್‌ ಬ್ರಾತ್‌ವೇಟ್‌ ನಾಯಕತ್ವದ 14 ಮಂದಿಯ ತಂಡವನ್ನು ಮಂಗಳವಾರ ಪ್ರಕಟಿಸಲಾಯಿತು. ವಿಕೆಟ್‌ ಕೀಪರ್‌– ಬ್ಯಾಟ್ಸ್‌ಮನ್‌ ಅಂಥೋನಿ ಬ್ರಾಂಬಲ್ ತಂಡದಲ್ಲಿರುವ ಏಕೈಕ ಹೊಸಮುಖ. 28 ವರ್ಷದ ಬ್ರಾಂಬಲ್‌, ನಿಕೋಲಸ್‌ ಪೂರನ್‌ಗೆ ಬ್ಯಾಕ್‌ಅಪ್‌ ವಿಕೆಟ್‌ ಕೀಪರ್ ಆಗಿದ್ದಾರೆ.\\nಮೊದಲ ಎರಡು ಪಂದ್ಯಗಳು ಆಗಸ್ಟ್‌ 3 ಮತ್ತು 4ರಂದು ಅಮೆರಿಕದ ಫ್ಲಾರಿಡಾದ ಲಾಡರ್‌ಹಿಲ್‌ನ ಬ್ರೊವಾರ್ಡ್‌ ಕೌಂಟಿ ಸ್ಟೇಡಿಯಂನಲ್ಲಿ ನಡೆಯಲಿವೆ. ಗಯಾನಾದ ನ್ಯಾಷನಲ್‌ ಸ್ಟೇಡಿಯಂನಲ್ಲಿ ಆಗಸ್ಟ್‌ 6ರಂದು ಅಂತಿಮ ಪಂದ್ಯ ನಡೆಯಲಿದೆ ಎಂದು ವೆಸ್ಟ್‌ ಇಂಡೀಸ್‌ ಕ್ರಿಕೆಟ್‌ ಮಂಡಳಿ ತಿಳಿಸಿದೆ. ಈ ಸರಣಿಯ ಬಳಿಕ ಮೂರು ಏಕದಿನ ಮತ್ತು ಎರಡು ಟೆಸ್ಟ್‌ ಪಂದ್ಯಗಳ ಸರಣಿ ಆಡಬೇಕಿದೆ.\\nಆಲ್‌ರೌಂಡರ್‌ ಆ್ಯಂಡ್ರೆ ರಸೆಲ್‌ ತಂಡದಲ್ಲಿ ಅವಕಾಶ ಪಡೆದರೂ, ಅವರು ದೈಹಿಕ ಕ್ಷಮತೆ ಪರೀಕ್ಷೆ ತೇರ್ಗಡೆ ಆಗಬೇಕಾಗಿದೆ. ಇತ್ತೀಚಿನ ವಿಶ್ವಕಪ್‌ ಸಂದರ್ಭದಲ್ಲಿ ರಸೆಲ್‌, ಎಡ ಮಂಡಿ ನೋವು ಕಾಡುತ್ತಿದ್ದ ಪರಿಣಾಮ ಶಸ್ತ್ರಚಿಕಿತ್ಸೆ ಮಾಡಿಸಿಕೊಳ್ಳಲು ಅರ್ಧದಲ್ಲೇ ಸ್ವದೇಶಕ್ಕೆ ಮರಳಿದ್ದರು.\\nಕೀರನ್‌ ಪೊಲ್ಲಾರ್ಡ್‌\\nಅನುಭವಿ ಓಪನರ್‌ ಕ್ರಿಸ್‌ ಗೇಲ್‌, ಕೆನಡಾದಲ್ಲಿ ಜಿಟಿ–20 ಟೂರ್ನಿಯಲ್ಲಿ ಆಡಬೇಕಾಗಿರುವ ಕಾರಣ ಈ ಸರಣಿಗೆ ಲಭ್ಯವಿರುವುದಿಲ್ಲ ಎಂದು ಆಯ್ಕೆ ಸಮಿತಿಗೆ ತಿಳಿಸಿದ್ದಾಗಿ ಸಮಿತಿಯ ಹಂಗಾಮಿ ಅಧ್ಯಕ್ಷ ರಾಬರ್ಟ್‌ ಹೇನ್ಸ್‌ ತಿಳಿಸಿದರು.\\nಮುಂದಿನ ವರ್ಷ ಆಸ್ಟ್ರೇಲಿಯಾದಲ್ಲಿ ನಡೆಯಲಿರುವ ಟಿ–20 ವಿಶ್ವಕಪ್‌ಗೆ ಸಿದ್ಧತೆಯ ಉದ್ದೇಶ ದೃಷ್ಟಿಯಲ್ಲಿಟ್ಟುಕೊಂಡು ಎಡಗೈ ಆರಂಭ ಆಟಗಾರ ಜಾನ್‌ ಕ್ಯಾಂಪ್‌ಬೆಲ್‌ ಮತ್ತು ಎಡಗೈ ಸ್ಪಿನ್ನರ್‌ ಖಾರಿ ಪಿಯರೆ ಅವರನ್ನೂ ಸೇರ್ಪಡೆ ಮಾಡಲಾಗಿದೆ.\\n‘ತಂಡ ಅನುಭವಿ ಮತ್ತು ಯುವಮುಖಗಳೊಂದಿಗೆ ಸಂತುಲಿತವಾಗಿದೆ. ಇದು ಭಾರತ ವಿರುದ್ಧ ಸರಣಿ ಉದ್ದೇಶದಿಂದ ಮಾತ್ರ ಆಯ್ಕೆ ಮಾಡಿದ ತಂಡವಲ್ಲ. ಮುಂದಿನ ಟಿ–20 ವಿಶ್ವಕಪ್‌ಗೆ ತಂಡ ಸಂಯೋಜನೆ ಮಾಡುವ ಉದ್ದೇಶವೂ ಇದರಲ್ಲಿದೆ’ ಎಂದು ಅವರು ಹೇಳಿದರು.\\n‘ತಂಡಕ್ಕೆ ಆಯ್ಕೆಯಾಗಿರುವ ಹೆಚ್ಚಿನ ಆಟಗಾರರು ಐಪಿಎಲ್‌ ಆಡಿದವರು. ಅವರು ಭಾರತದ ಆಟಗಾರರನ್ನು ಚೆನ್ನಾಗಿ ಬಲ್ಲರು. ಸ್ವದೇಶದಲ್ಲೇ ಆಡುವುದರಿಂದ ನಮಗೆ ಸ್ವಲ್ಪ ಅನುಕೂಲವಿದೆ. ಆದರೆ ಅಂತಿಮವಾಗಿ ತಂಡದ ಆಟಗಾರರು ಗೆಲ್ಲಿಸುವುದು ಮುಖ್ಯವಾಗುತ್ತದೆ’ ಎಂದರು.\\nಆಫ್‌ ಬ್ರೇಕ್‌ ಬೌಲರ್ ಸುನೀಲ್‌ ನಾರಾಯಣ್‌, ಎರಡು ವರ್ಷದ ಹಿಂದೆ ಇಂಗ್ಲೆಂಡ್‌ ಪ್ರವಾಸದ ವೇಳೆ ಕೊನೆಯ ಬಾರಿ  ಟಿ–20 ಅಂತರರಾಷ್ಟ್ರೀಯ ಪಂದ್ಯ ಆಡಿದ್ದರು. ಪೊಲ್ಲಾರ್ಡ್‌, ಕಳೆದ ನವೆಂಬರ್‌ನಲ್ಲಿ ಭಾರತ ಪ್ರವಾಸದ ವೇಳೆ ಕೊನೆಯ ಬಾರಿ ಟಿ–20 ಪಂದ್ಯ ಆಡಿದ್ದರು. \\nತಂಡ ಇಂತಿದೆ: ಕಾರ್ಲೋಸ್‌ ಬ್ರಾತ್‌ವೇಟ್‌ (ಕ್ಯಾಪ್ಟನ್‌), ಸುನೀಲ್‌ ನಾರಾಯಣ್‌, ಕೀಮೊ ಪಾಲ್‌, ಖಾರಿ ಪಿಯರೆ, ಕೀರನ್‌ ಪೊಲ್ಲಾರ್ಡ್‌, ನಿಕೋಲಸ್‌ ಪೂರನ್‌ (ವಿಕೆಟ್‌ ಕೀಪರ್‌), ರೊವ್‌ಮನ್‌ ಪೊವೆಲ್‌, ಆ್ಯಂಡ್ರೆ ರಸೆಲ್‌, ಒಷಾನೆ ಥಾಮಸ್‌, ಆಂಥೋನಿ ಬ್ರಾಂಬಲ್‌ (ವಿಕೆಟ್‌ ಕೀಪರ್‌), ಜಾನ್‌ ಕ್ಯಾಂಪ್‌ಬೆಲ್‌, ಶೆಲ್ಟನ್‌ ಕಾಟ್ರೆಲ್‌, ಶಿಮ್ರಾನ್‌ ಹೆಟ್ಮೆಯರ್‌, ಎವಿನ್‌ ಲೂಯಿಸ್‌.\\n0 Post Comments (+)</th>\n",
              "    </tr>\n",
              "  </thead>\n",
              "  <tbody>\n",
              "    <tr>\n",
              "      <th>0</th>\n",
              "      <td>entertainment</td>\n",
              "      <td>ರಂಗದಲ್ಲಿ ಕಮಲಾದೇವಿ ಚಟ್ಟೋಪಾಧ್ಯಾಯ\\nkamaladevi cha...</td>\n",
              "    </tr>\n",
              "    <tr>\n",
              "      <th>1</th>\n",
              "      <td>entertainment</td>\n",
              "      <td>Bengaluru, First Published 23, Nov 2018, 9:38 ...</td>\n",
              "    </tr>\n",
              "    <tr>\n",
              "      <th>2</th>\n",
              "      <td>sports</td>\n",
              "      <td>ಅಧ್ಯಯನ, ಅಭ್ಯಾಸದ ಗೊಂದಲದಲ್ಲಿ ಹಿಮಾ ದಾಸ್‌\\nಅಧ್ಯಯನ,...</td>\n",
              "    </tr>\n",
              "    <tr>\n",
              "      <th>3</th>\n",
              "      <td>lifestyle</td>\n",
              "      <td>ದೇಶ ಜೀವನದ ಕೊನೆಯ ಹಂತದಲ್ಲಿ ಆರೋಗ್ಯದ ದುಃಸ್ಥಿತಿ!\\nJ...</td>\n",
              "    </tr>\n",
              "    <tr>\n",
              "      <th>4</th>\n",
              "      <td>entertainment</td>\n",
              "      <td>Bangalore, First Published 11, Jun 2019, 10:40...</td>\n",
              "    </tr>\n",
              "    <tr>\n",
              "      <th>...</th>\n",
              "      <td>...</td>\n",
              "      <td>...</td>\n",
              "    </tr>\n",
              "    <tr>\n",
              "      <th>2994</th>\n",
              "      <td>entertainment</td>\n",
              "      <td>ವೀಕೆಂಡ್‌ ವಿಥ್‌ ರಮೇಶ್‌; ನಾಲ್ಕನೇ ಸೀಸನ್‌ ಸದ್ಯದಲ್ಲ...</td>\n",
              "    </tr>\n",
              "    <tr>\n",
              "      <th>2995</th>\n",
              "      <td>entertainment</td>\n",
              "      <td>Bangalore, First Published 15, Jul 2019, 8:58 ...</td>\n",
              "    </tr>\n",
              "    <tr>\n",
              "      <th>2996</th>\n",
              "      <td>entertainment</td>\n",
              "      <td>ಅಬ್ಬಾ...! ಕರೀನಾ ಕಪೂರ್  ಅಭಿಮಾನಿ ಜೈಲು ಸೇರಿದ್ಯಾಕೆ...</td>\n",
              "    </tr>\n",
              "    <tr>\n",
              "      <th>2997</th>\n",
              "      <td>lifestyle</td>\n",
              "      <td>ದೇಹದ ರಕ್ತ ಹೆಪ್ಪುಗಟ್ಟುವಿಕೆಯ ಬಗ್ಗೆ ಇರುವ  ಕುತೂಹಲಕ...</td>\n",
              "    </tr>\n",
              "    <tr>\n",
              "      <th>2998</th>\n",
              "      <td>lifestyle</td>\n",
              "      <td>ವಯಾಗ್ರ ಖರೀದಿದಾರರಿಗೊಂದು ಶಾಕಿಂಗ್ ನ್ಯೂಸ್\\n  04-07...</td>\n",
              "    </tr>\n",
              "  </tbody>\n",
              "</table>\n",
              "<p>2999 rows × 2 columns</p>\n",
              "</div>\n",
              "      <button class=\"colab-df-convert\" onclick=\"convertToInteractive('df-ca6201a5-458e-440f-a3bb-ca4d9be4afe2')\"\n",
              "              title=\"Convert this dataframe to an interactive table.\"\n",
              "              style=\"display:none;\">\n",
              "        \n",
              "  <svg xmlns=\"http://www.w3.org/2000/svg\" height=\"24px\"viewBox=\"0 0 24 24\"\n",
              "       width=\"24px\">\n",
              "    <path d=\"M0 0h24v24H0V0z\" fill=\"none\"/>\n",
              "    <path d=\"M18.56 5.44l.94 2.06.94-2.06 2.06-.94-2.06-.94-.94-2.06-.94 2.06-2.06.94zm-11 1L8.5 8.5l.94-2.06 2.06-.94-2.06-.94L8.5 2.5l-.94 2.06-2.06.94zm10 10l.94 2.06.94-2.06 2.06-.94-2.06-.94-.94-2.06-.94 2.06-2.06.94z\"/><path d=\"M17.41 7.96l-1.37-1.37c-.4-.4-.92-.59-1.43-.59-.52 0-1.04.2-1.43.59L10.3 9.45l-7.72 7.72c-.78.78-.78 2.05 0 2.83L4 21.41c.39.39.9.59 1.41.59.51 0 1.02-.2 1.41-.59l7.78-7.78 2.81-2.81c.8-.78.8-2.07 0-2.86zM5.41 20L4 18.59l7.72-7.72 1.47 1.35L5.41 20z\"/>\n",
              "  </svg>\n",
              "      </button>\n",
              "      \n",
              "  <style>\n",
              "    .colab-df-container {\n",
              "      display:flex;\n",
              "      flex-wrap:wrap;\n",
              "      gap: 12px;\n",
              "    }\n",
              "\n",
              "    .colab-df-convert {\n",
              "      background-color: #E8F0FE;\n",
              "      border: none;\n",
              "      border-radius: 50%;\n",
              "      cursor: pointer;\n",
              "      display: none;\n",
              "      fill: #1967D2;\n",
              "      height: 32px;\n",
              "      padding: 0 0 0 0;\n",
              "      width: 32px;\n",
              "    }\n",
              "\n",
              "    .colab-df-convert:hover {\n",
              "      background-color: #E2EBFA;\n",
              "      box-shadow: 0px 1px 2px rgba(60, 64, 67, 0.3), 0px 1px 3px 1px rgba(60, 64, 67, 0.15);\n",
              "      fill: #174EA6;\n",
              "    }\n",
              "\n",
              "    [theme=dark] .colab-df-convert {\n",
              "      background-color: #3B4455;\n",
              "      fill: #D2E3FC;\n",
              "    }\n",
              "\n",
              "    [theme=dark] .colab-df-convert:hover {\n",
              "      background-color: #434B5C;\n",
              "      box-shadow: 0px 1px 3px 1px rgba(0, 0, 0, 0.15);\n",
              "      filter: drop-shadow(0px 1px 2px rgba(0, 0, 0, 0.3));\n",
              "      fill: #FFFFFF;\n",
              "    }\n",
              "  </style>\n",
              "\n",
              "      <script>\n",
              "        const buttonEl =\n",
              "          document.querySelector('#df-ca6201a5-458e-440f-a3bb-ca4d9be4afe2 button.colab-df-convert');\n",
              "        buttonEl.style.display =\n",
              "          google.colab.kernel.accessAllowed ? 'block' : 'none';\n",
              "\n",
              "        async function convertToInteractive(key) {\n",
              "          const element = document.querySelector('#df-ca6201a5-458e-440f-a3bb-ca4d9be4afe2');\n",
              "          const dataTable =\n",
              "            await google.colab.kernel.invokeFunction('convertToInteractive',\n",
              "                                                     [key], {});\n",
              "          if (!dataTable) return;\n",
              "\n",
              "          const docLinkHtml = 'Like what you see? Visit the ' +\n",
              "            '<a target=\"_blank\" href=https://colab.research.google.com/notebooks/data_table.ipynb>data table notebook</a>'\n",
              "            + ' to learn more about interactive tables.';\n",
              "          element.innerHTML = '';\n",
              "          dataTable['output_type'] = 'display_data';\n",
              "          await google.colab.output.renderOutput(dataTable, element);\n",
              "          const docLink = document.createElement('div');\n",
              "          docLink.innerHTML = docLinkHtml;\n",
              "          element.appendChild(docLink);\n",
              "        }\n",
              "      </script>\n",
              "    </div>\n",
              "  </div>\n",
              "  "
            ]
          },
          "metadata": {},
          "execution_count": 46
        }
      ]
    },
    {
      "cell_type": "code",
      "source": [
        "!pip install spacy\n"
      ],
      "metadata": {
        "colab": {
          "base_uri": "https://localhost:8080/"
        },
        "id": "6jQRh-yIXmRl",
        "outputId": "7eb1c42a-e851-46b0-9ab9-915199f6de1f"
      },
      "execution_count": 16,
      "outputs": [
        {
          "output_type": "stream",
          "name": "stdout",
          "text": [
            "Requirement already satisfied: spacy in /usr/local/lib/python3.7/dist-packages (2.2.4)\n",
            "Requirement already satisfied: cymem<2.1.0,>=2.0.2 in /usr/local/lib/python3.7/dist-packages (from spacy) (2.0.6)\n",
            "Requirement already satisfied: catalogue<1.1.0,>=0.0.7 in /usr/local/lib/python3.7/dist-packages (from spacy) (1.0.0)\n",
            "Requirement already satisfied: tqdm<5.0.0,>=4.38.0 in /usr/local/lib/python3.7/dist-packages (from spacy) (4.64.0)\n",
            "Requirement already satisfied: thinc==7.4.0 in /usr/local/lib/python3.7/dist-packages (from spacy) (7.4.0)\n",
            "Requirement already satisfied: setuptools in /usr/local/lib/python3.7/dist-packages (from spacy) (57.4.0)\n",
            "Requirement already satisfied: plac<1.2.0,>=0.9.6 in /usr/local/lib/python3.7/dist-packages (from spacy) (1.1.3)\n",
            "Requirement already satisfied: preshed<3.1.0,>=3.0.2 in /usr/local/lib/python3.7/dist-packages (from spacy) (3.0.6)\n",
            "Requirement already satisfied: numpy>=1.15.0 in /usr/local/lib/python3.7/dist-packages (from spacy) (1.21.6)\n",
            "Requirement already satisfied: srsly<1.1.0,>=1.0.2 in /usr/local/lib/python3.7/dist-packages (from spacy) (1.0.5)\n",
            "Requirement already satisfied: requests<3.0.0,>=2.13.0 in /usr/local/lib/python3.7/dist-packages (from spacy) (2.23.0)\n",
            "Requirement already satisfied: wasabi<1.1.0,>=0.4.0 in /usr/local/lib/python3.7/dist-packages (from spacy) (0.9.1)\n",
            "Requirement already satisfied: blis<0.5.0,>=0.4.0 in /usr/local/lib/python3.7/dist-packages (from spacy) (0.4.1)\n",
            "Requirement already satisfied: murmurhash<1.1.0,>=0.28.0 in /usr/local/lib/python3.7/dist-packages (from spacy) (1.0.7)\n",
            "Requirement already satisfied: importlib-metadata>=0.20 in /usr/local/lib/python3.7/dist-packages (from catalogue<1.1.0,>=0.0.7->spacy) (4.11.3)\n",
            "Requirement already satisfied: typing-extensions>=3.6.4 in /usr/local/lib/python3.7/dist-packages (from importlib-metadata>=0.20->catalogue<1.1.0,>=0.0.7->spacy) (4.2.0)\n",
            "Requirement already satisfied: zipp>=0.5 in /usr/local/lib/python3.7/dist-packages (from importlib-metadata>=0.20->catalogue<1.1.0,>=0.0.7->spacy) (3.8.0)\n",
            "Requirement already satisfied: urllib3!=1.25.0,!=1.25.1,<1.26,>=1.21.1 in /usr/local/lib/python3.7/dist-packages (from requests<3.0.0,>=2.13.0->spacy) (1.24.3)\n",
            "Requirement already satisfied: idna<3,>=2.5 in /usr/local/lib/python3.7/dist-packages (from requests<3.0.0,>=2.13.0->spacy) (2.10)\n",
            "Requirement already satisfied: chardet<4,>=3.0.2 in /usr/local/lib/python3.7/dist-packages (from requests<3.0.0,>=2.13.0->spacy) (3.0.4)\n",
            "Requirement already satisfied: certifi>=2017.4.17 in /usr/local/lib/python3.7/dist-packages (from requests<3.0.0,>=2.13.0->spacy) (2021.10.8)\n"
          ]
        }
      ]
    },
    {
      "cell_type": "code",
      "source": [
        "#Can we use spacy to tokeknize indic languages? Yes\n",
        "from spacy.lang.kn import Kannada\n",
        "nlp_kn = Kannada()\n",
        "print(nlp_kn.lang, [token.is_stop for token in nlp_kn(\"ಇಂಡೀಸ್‌ ಹಲವು\")])\n",
        "doc = nlp_kn(\"ವಿರುದ್ಧ ಮೂರು ಪಂದ್ಯಗಳ ಟಿ–20 ಸರಣಿಯಲ್ಲಿ ಆಡುವ ಮೊದಲ ಎರಡು ಪಂದ್ಯಗಳಿಗೆ ವೆಸ್ಟ್‌ \")\n",
        "for token in doc:\n",
        "  print(token)"
      ],
      "metadata": {
        "colab": {
          "base_uri": "https://localhost:8080/"
        },
        "id": "lyauzUVoZ0it",
        "outputId": "09854588-840f-46db-bdee-f5cc7403654a"
      },
      "execution_count": 56,
      "outputs": [
        {
          "output_type": "stream",
          "name": "stdout",
          "text": [
            "kn [False, True]\n",
            "ವಿರುದ್ಧ\n",
            "ಮೂರು\n",
            "ಪಂದ್ಯಗಳ\n",
            "ಟಿ–20\n",
            "ಸರಣಿಯಲ್ಲಿ\n",
            "ಆಡುವ\n",
            "ಮೊದಲ\n",
            "ಎರಡು\n",
            "ಪಂದ್ಯಗಳಿಗೆ\n",
            "ವೆಸ್ಟ್‌\n"
          ]
        }
      ]
    },
    {
      "cell_type": "code",
      "source": [
        "#Let's try tokenizer designed by Google and IIT Madras. It works! \n",
        "from indicnlp.tokenize import indic_tokenize \n",
        "kannada_string = \"ವಿರುದ್ಧ ಮೂರು ಪಂದ್ಯಗಳ ಟಿ–20 ಸರಣಿಯಲ್ಲಿ ಆಡುವ ಮೊದಲ ಎರಡು ಪಂದ್ಯಗಳಿಗೆ ವೆಸ್ಟ್‌ \"\n",
        "for t in indic_tokenize.trivial_tokenize(kannada_string): \n",
        "    print(t)"
      ],
      "metadata": {
        "colab": {
          "base_uri": "https://localhost:8080/"
        },
        "id": "rd2G3ABwegV2",
        "outputId": "bd61b61e-239b-4112-bc4c-fb790cbc79fc"
      },
      "execution_count": 7,
      "outputs": [
        {
          "output_type": "stream",
          "name": "stdout",
          "text": [
            "ವಿರುದ್ಧ\n",
            "ಮೂರು\n",
            "ಪಂದ್ಯಗಳ\n",
            "ಟಿ–20\n",
            "ಸರಣಿಯಲ್ಲಿ\n",
            "ಆಡುವ\n",
            "ಮೊದಲ\n",
            "ಎರಡು\n",
            "ಪಂದ್ಯಗಳಿಗೆ\n",
            "ವೆಸ್ಟ್‌\n"
          ]
        }
      ]
    },
    {
      "cell_type": "code",
      "source": [
        "from torchtext.data.utils import get_tokenizer\n",
        "from collections import Counter\n",
        "from torchtext.vocab import vocab"
      ],
      "metadata": {
        "id": "0kDDQTCmjnUz"
      },
      "execution_count": 17,
      "outputs": []
    },
    {
      "cell_type": "code",
      "source": [
        "# How about just splitting on spaces based on torchtext basic tokenizer\n",
        "tokenizer_basic = get_tokenizer(None)\n",
        "kannada_string = \"ವಿರುದ್ಧ ಮೂರು ಪಂದ್ಯಗಳ ಟಿ–20 ಸರಣಿಯಲ್ಲಿ ಆಡುವ ಮೊದಲ ಎರಡು ಪಂದ್ಯಗಳಿಗೆ ವೆಸ್ಟ್‌\"\n",
        "for t in tokenizer_basic(kannada_string): \n",
        "    print(t)"
      ],
      "metadata": {
        "colab": {
          "base_uri": "https://localhost:8080/"
        },
        "id": "HKcSAgIsegm8",
        "outputId": "695e8bf9-3e54-4c60-81da-8f877f5ae0d0"
      },
      "execution_count": 66,
      "outputs": [
        {
          "output_type": "stream",
          "name": "stdout",
          "text": [
            "ವಿರುದ್ಧ\n",
            "ಮೂರು\n",
            "ಪಂದ್ಯಗಳ\n",
            "ಟಿ–20\n",
            "ಸರಣಿಯಲ್ಲಿ\n",
            "ಆಡುವ\n",
            "ಮೊದಲ\n",
            "ಎರಡು\n",
            "ಪಂದ್ಯಗಳಿಗೆ\n",
            "ವೆಸ್ಟ್‌\n"
          ]
        }
      ]
    },
    {
      "cell_type": "markdown",
      "source": [
        "MILESTONE 1: LOAD THE DATASETS OF VARIOUS LANGUAGES"
      ],
      "metadata": {
        "id": "jz3t-rIyspFd"
      }
    },
    {
      "cell_type": "code",
      "source": [
        "# Load Hindi train and test\n",
        "train_hi = pd.read_csv('/content/gdrive/MyDrive/AML_Project/hi/hi-train.csv', names = [\"label\", \"text\"], header=None)\n",
        "train_hi['lang'] = \"hi\"\n",
        "test_hi = pd.read_csv('/content/gdrive/MyDrive/AML_Project/hi/hi-test.csv', names = [\"label\", \"text\"], header=None)\n",
        "test_hi['lang'] = \"hi\"\n",
        "train_hi"
      ],
      "metadata": {
        "colab": {
          "base_uri": "https://localhost:8080/",
          "height": 419
        },
        "id": "G0zNxozGbK_b",
        "outputId": "ee9e3dd1-3d74-4cce-a6c9-1c693d32e66b"
      },
      "execution_count": 61,
      "outputs": [
        {
          "output_type": "execute_result",
          "data": {
            "text/plain": [
              "              label                                               text lang\n",
              "0             india  मेट्रो की इस लाइन के चलने से दक्षिणी दिल्ली से...   hi\n",
              "1          pakistan  नेटिजन यानि इंटरनेट पर सक्रिय नागरिक अब ट्विटर...   hi\n",
              "2              news  इसमें एक फ़्लाइट एटेनडेंट की मदद की गुहार है औ...   hi\n",
              "3             india  प्रतीक खुलेपन का, आज़ाद ख्याली का और भीड़ से अ...   hi\n",
              "4             india  ख़ासकर पिछले 10 साल तक प्रधानमंत्री रहे मनमोहन...   hi\n",
              "...             ...                                                ...  ...\n",
              "3462          india  जैसे ही उन्हें पता चलता है कि कोई व्यक्ति परेश...   hi\n",
              "3463          india  जैसे ही सदन की कार्यवाही शुरू हुई तमिलनाडु की ...   hi\n",
              "3464           news  चीन ने पिछले हफ़्ते अप्रत्यक्ष रूप से भारत को ...   hi\n",
              "3465  entertainment  मुक्ता आर्ट्स की 'कांची' कहानी है एक ख़ूबसूरत ...   hi\n",
              "3466  entertainment  फॉक्स स्टार स्टूडियोज़ और विशेष फ़िल्म्स की सि...   hi\n",
              "\n",
              "[3467 rows x 3 columns]"
            ],
            "text/html": [
              "\n",
              "  <div id=\"df-38012e4a-5692-47ea-8b06-2c6498890878\">\n",
              "    <div class=\"colab-df-container\">\n",
              "      <div>\n",
              "<style scoped>\n",
              "    .dataframe tbody tr th:only-of-type {\n",
              "        vertical-align: middle;\n",
              "    }\n",
              "\n",
              "    .dataframe tbody tr th {\n",
              "        vertical-align: top;\n",
              "    }\n",
              "\n",
              "    .dataframe thead th {\n",
              "        text-align: right;\n",
              "    }\n",
              "</style>\n",
              "<table border=\"1\" class=\"dataframe\">\n",
              "  <thead>\n",
              "    <tr style=\"text-align: right;\">\n",
              "      <th></th>\n",
              "      <th>label</th>\n",
              "      <th>text</th>\n",
              "      <th>lang</th>\n",
              "    </tr>\n",
              "  </thead>\n",
              "  <tbody>\n",
              "    <tr>\n",
              "      <th>0</th>\n",
              "      <td>india</td>\n",
              "      <td>मेट्रो की इस लाइन के चलने से दक्षिणी दिल्ली से...</td>\n",
              "      <td>hi</td>\n",
              "    </tr>\n",
              "    <tr>\n",
              "      <th>1</th>\n",
              "      <td>pakistan</td>\n",
              "      <td>नेटिजन यानि इंटरनेट पर सक्रिय नागरिक अब ट्विटर...</td>\n",
              "      <td>hi</td>\n",
              "    </tr>\n",
              "    <tr>\n",
              "      <th>2</th>\n",
              "      <td>news</td>\n",
              "      <td>इसमें एक फ़्लाइट एटेनडेंट की मदद की गुहार है औ...</td>\n",
              "      <td>hi</td>\n",
              "    </tr>\n",
              "    <tr>\n",
              "      <th>3</th>\n",
              "      <td>india</td>\n",
              "      <td>प्रतीक खुलेपन का, आज़ाद ख्याली का और भीड़ से अ...</td>\n",
              "      <td>hi</td>\n",
              "    </tr>\n",
              "    <tr>\n",
              "      <th>4</th>\n",
              "      <td>india</td>\n",
              "      <td>ख़ासकर पिछले 10 साल तक प्रधानमंत्री रहे मनमोहन...</td>\n",
              "      <td>hi</td>\n",
              "    </tr>\n",
              "    <tr>\n",
              "      <th>...</th>\n",
              "      <td>...</td>\n",
              "      <td>...</td>\n",
              "      <td>...</td>\n",
              "    </tr>\n",
              "    <tr>\n",
              "      <th>3462</th>\n",
              "      <td>india</td>\n",
              "      <td>जैसे ही उन्हें पता चलता है कि कोई व्यक्ति परेश...</td>\n",
              "      <td>hi</td>\n",
              "    </tr>\n",
              "    <tr>\n",
              "      <th>3463</th>\n",
              "      <td>india</td>\n",
              "      <td>जैसे ही सदन की कार्यवाही शुरू हुई तमिलनाडु की ...</td>\n",
              "      <td>hi</td>\n",
              "    </tr>\n",
              "    <tr>\n",
              "      <th>3464</th>\n",
              "      <td>news</td>\n",
              "      <td>चीन ने पिछले हफ़्ते अप्रत्यक्ष रूप से भारत को ...</td>\n",
              "      <td>hi</td>\n",
              "    </tr>\n",
              "    <tr>\n",
              "      <th>3465</th>\n",
              "      <td>entertainment</td>\n",
              "      <td>मुक्ता आर्ट्स की 'कांची' कहानी है एक ख़ूबसूरत ...</td>\n",
              "      <td>hi</td>\n",
              "    </tr>\n",
              "    <tr>\n",
              "      <th>3466</th>\n",
              "      <td>entertainment</td>\n",
              "      <td>फॉक्स स्टार स्टूडियोज़ और विशेष फ़िल्म्स की सि...</td>\n",
              "      <td>hi</td>\n",
              "    </tr>\n",
              "  </tbody>\n",
              "</table>\n",
              "<p>3467 rows × 3 columns</p>\n",
              "</div>\n",
              "      <button class=\"colab-df-convert\" onclick=\"convertToInteractive('df-38012e4a-5692-47ea-8b06-2c6498890878')\"\n",
              "              title=\"Convert this dataframe to an interactive table.\"\n",
              "              style=\"display:none;\">\n",
              "        \n",
              "  <svg xmlns=\"http://www.w3.org/2000/svg\" height=\"24px\"viewBox=\"0 0 24 24\"\n",
              "       width=\"24px\">\n",
              "    <path d=\"M0 0h24v24H0V0z\" fill=\"none\"/>\n",
              "    <path d=\"M18.56 5.44l.94 2.06.94-2.06 2.06-.94-2.06-.94-.94-2.06-.94 2.06-2.06.94zm-11 1L8.5 8.5l.94-2.06 2.06-.94-2.06-.94L8.5 2.5l-.94 2.06-2.06.94zm10 10l.94 2.06.94-2.06 2.06-.94-2.06-.94-.94-2.06-.94 2.06-2.06.94z\"/><path d=\"M17.41 7.96l-1.37-1.37c-.4-.4-.92-.59-1.43-.59-.52 0-1.04.2-1.43.59L10.3 9.45l-7.72 7.72c-.78.78-.78 2.05 0 2.83L4 21.41c.39.39.9.59 1.41.59.51 0 1.02-.2 1.41-.59l7.78-7.78 2.81-2.81c.8-.78.8-2.07 0-2.86zM5.41 20L4 18.59l7.72-7.72 1.47 1.35L5.41 20z\"/>\n",
              "  </svg>\n",
              "      </button>\n",
              "      \n",
              "  <style>\n",
              "    .colab-df-container {\n",
              "      display:flex;\n",
              "      flex-wrap:wrap;\n",
              "      gap: 12px;\n",
              "    }\n",
              "\n",
              "    .colab-df-convert {\n",
              "      background-color: #E8F0FE;\n",
              "      border: none;\n",
              "      border-radius: 50%;\n",
              "      cursor: pointer;\n",
              "      display: none;\n",
              "      fill: #1967D2;\n",
              "      height: 32px;\n",
              "      padding: 0 0 0 0;\n",
              "      width: 32px;\n",
              "    }\n",
              "\n",
              "    .colab-df-convert:hover {\n",
              "      background-color: #E2EBFA;\n",
              "      box-shadow: 0px 1px 2px rgba(60, 64, 67, 0.3), 0px 1px 3px 1px rgba(60, 64, 67, 0.15);\n",
              "      fill: #174EA6;\n",
              "    }\n",
              "\n",
              "    [theme=dark] .colab-df-convert {\n",
              "      background-color: #3B4455;\n",
              "      fill: #D2E3FC;\n",
              "    }\n",
              "\n",
              "    [theme=dark] .colab-df-convert:hover {\n",
              "      background-color: #434B5C;\n",
              "      box-shadow: 0px 1px 3px 1px rgba(0, 0, 0, 0.15);\n",
              "      filter: drop-shadow(0px 1px 2px rgba(0, 0, 0, 0.3));\n",
              "      fill: #FFFFFF;\n",
              "    }\n",
              "  </style>\n",
              "\n",
              "      <script>\n",
              "        const buttonEl =\n",
              "          document.querySelector('#df-38012e4a-5692-47ea-8b06-2c6498890878 button.colab-df-convert');\n",
              "        buttonEl.style.display =\n",
              "          google.colab.kernel.accessAllowed ? 'block' : 'none';\n",
              "\n",
              "        async function convertToInteractive(key) {\n",
              "          const element = document.querySelector('#df-38012e4a-5692-47ea-8b06-2c6498890878');\n",
              "          const dataTable =\n",
              "            await google.colab.kernel.invokeFunction('convertToInteractive',\n",
              "                                                     [key], {});\n",
              "          if (!dataTable) return;\n",
              "\n",
              "          const docLinkHtml = 'Like what you see? Visit the ' +\n",
              "            '<a target=\"_blank\" href=https://colab.research.google.com/notebooks/data_table.ipynb>data table notebook</a>'\n",
              "            + ' to learn more about interactive tables.';\n",
              "          element.innerHTML = '';\n",
              "          dataTable['output_type'] = 'display_data';\n",
              "          await google.colab.output.renderOutput(dataTable, element);\n",
              "          const docLink = document.createElement('div');\n",
              "          docLink.innerHTML = docLinkHtml;\n",
              "          element.appendChild(docLink);\n",
              "        }\n",
              "      </script>\n",
              "    </div>\n",
              "  </div>\n",
              "  "
            ]
          },
          "metadata": {},
          "execution_count": 61
        }
      ]
    },
    {
      "cell_type": "code",
      "source": [
        "# Load Kannada train and test\n",
        "train_kn = pd.read_csv('/content/gdrive/MyDrive/AML_Project/kn/kn-train.csv', names = [\"label\", \"text\"],header=None)\n",
        "train_kn['lang'] = \"kn\"\n",
        "test_kn = pd.read_csv('/content/gdrive/MyDrive/AML_Project/kn/kn-test.csv', names = [\"label\", \"text\"],header=None)\n",
        "train_kn"
      ],
      "metadata": {
        "colab": {
          "base_uri": "https://localhost:8080/",
          "height": 419
        },
        "id": "TtmtKlNQcj-u",
        "outputId": "8915f767-ca54-4211-d13f-8aba84b93e52"
      },
      "execution_count": 60,
      "outputs": [
        {
          "output_type": "execute_result",
          "data": {
            "text/plain": [
              "               label                                               text lang\n",
              "0             sports  Samsung Galaxy M30s: ಲಭ್ಯವಾಗಲಿದೆ ಶಕ್ತಿಶಾಲಿ ಸ್ಮ...   kn\n",
              "1             sports  ಯುವೆಂಟಸ್ ತಂಡ ಸೇರಿದ ಕ್ರಿಸ್ಟಿಯಾನೊ ರೊನಾಲ್ಡೊ\\nಯುವೆ...   kn\n",
              "2             sports  ಬ್ಯಾಡ್ಮಿಂಟನ್‌: ಎರಡನೇ ಸುತ್ತಿಗೆ ಸಿಂಧು, ಸಮೀರ್‌\\nಬ...   kn\n",
              "3      entertainment  ತಮ್ಮದು ಒಪ್ಪಿತ ʼಸಂಬಂಧʼ ಎಂದು ಹೇಳಿದ ನಟ\\n  12-05-2...   kn\n",
              "4             sports  ಖ್ಯಾತ ಕ್ರಿಕೆಟಿಗನ ಪತ್ನಿ ನಿಧನ\\n  31-12-2018 7:57...   kn\n",
              "...              ...                                                ...  ...\n",
              "23995         sports  ಏಕದಿನ ಕ್ರಿಕೆಟ್‌: ಬ್ಯಾಟಿಂಗ್‌ ಆರಂಭಿಸಿದ ವಿಂಡೀಸ್‌ಗ...   kn\n",
              "23996         sports  Chennai, First Published 23, Aug 2019, 10:26 A...   kn\n",
              "23997         sports  ಬೆಳ್ಳಿ ಪದಕ ಗೆದ್ದರೂ ಟೀಂಇಂಡಿಯಾ ಹಾಕಿ ಕೋಚ್ ನಿರಾಸೆಗ...   kn\n",
              "23998      lifestyle  ಸೆನ್ಸಿಟಿವ್ ಹಲ್ಲುಗಳ ಸಮಸ್ಯೆ ಇದೆಯೇ? ಈ ಮನೆಮದ್ದುಗಳನ...   kn\n",
              "23999      lifestyle  ಮಧುಮೇಹ ರೋಗಿಗಳು ಖರ್ಜೂರ ತಿನ್ನಬಹುದೇ?\\nDiabetes\\n|...   kn\n",
              "\n",
              "[24000 rows x 3 columns]"
            ],
            "text/html": [
              "\n",
              "  <div id=\"df-6101815e-7df4-4dfb-9e0b-da53df8d6d36\">\n",
              "    <div class=\"colab-df-container\">\n",
              "      <div>\n",
              "<style scoped>\n",
              "    .dataframe tbody tr th:only-of-type {\n",
              "        vertical-align: middle;\n",
              "    }\n",
              "\n",
              "    .dataframe tbody tr th {\n",
              "        vertical-align: top;\n",
              "    }\n",
              "\n",
              "    .dataframe thead th {\n",
              "        text-align: right;\n",
              "    }\n",
              "</style>\n",
              "<table border=\"1\" class=\"dataframe\">\n",
              "  <thead>\n",
              "    <tr style=\"text-align: right;\">\n",
              "      <th></th>\n",
              "      <th>label</th>\n",
              "      <th>text</th>\n",
              "      <th>lang</th>\n",
              "    </tr>\n",
              "  </thead>\n",
              "  <tbody>\n",
              "    <tr>\n",
              "      <th>0</th>\n",
              "      <td>sports</td>\n",
              "      <td>Samsung Galaxy M30s: ಲಭ್ಯವಾಗಲಿದೆ ಶಕ್ತಿಶಾಲಿ ಸ್ಮ...</td>\n",
              "      <td>kn</td>\n",
              "    </tr>\n",
              "    <tr>\n",
              "      <th>1</th>\n",
              "      <td>sports</td>\n",
              "      <td>ಯುವೆಂಟಸ್ ತಂಡ ಸೇರಿದ ಕ್ರಿಸ್ಟಿಯಾನೊ ರೊನಾಲ್ಡೊ\\nಯುವೆ...</td>\n",
              "      <td>kn</td>\n",
              "    </tr>\n",
              "    <tr>\n",
              "      <th>2</th>\n",
              "      <td>sports</td>\n",
              "      <td>ಬ್ಯಾಡ್ಮಿಂಟನ್‌: ಎರಡನೇ ಸುತ್ತಿಗೆ ಸಿಂಧು, ಸಮೀರ್‌\\nಬ...</td>\n",
              "      <td>kn</td>\n",
              "    </tr>\n",
              "    <tr>\n",
              "      <th>3</th>\n",
              "      <td>entertainment</td>\n",
              "      <td>ತಮ್ಮದು ಒಪ್ಪಿತ ʼಸಂಬಂಧʼ ಎಂದು ಹೇಳಿದ ನಟ\\n  12-05-2...</td>\n",
              "      <td>kn</td>\n",
              "    </tr>\n",
              "    <tr>\n",
              "      <th>4</th>\n",
              "      <td>sports</td>\n",
              "      <td>ಖ್ಯಾತ ಕ್ರಿಕೆಟಿಗನ ಪತ್ನಿ ನಿಧನ\\n  31-12-2018 7:57...</td>\n",
              "      <td>kn</td>\n",
              "    </tr>\n",
              "    <tr>\n",
              "      <th>...</th>\n",
              "      <td>...</td>\n",
              "      <td>...</td>\n",
              "      <td>...</td>\n",
              "    </tr>\n",
              "    <tr>\n",
              "      <th>23995</th>\n",
              "      <td>sports</td>\n",
              "      <td>ಏಕದಿನ ಕ್ರಿಕೆಟ್‌: ಬ್ಯಾಟಿಂಗ್‌ ಆರಂಭಿಸಿದ ವಿಂಡೀಸ್‌ಗ...</td>\n",
              "      <td>kn</td>\n",
              "    </tr>\n",
              "    <tr>\n",
              "      <th>23996</th>\n",
              "      <td>sports</td>\n",
              "      <td>Chennai, First Published 23, Aug 2019, 10:26 A...</td>\n",
              "      <td>kn</td>\n",
              "    </tr>\n",
              "    <tr>\n",
              "      <th>23997</th>\n",
              "      <td>sports</td>\n",
              "      <td>ಬೆಳ್ಳಿ ಪದಕ ಗೆದ್ದರೂ ಟೀಂಇಂಡಿಯಾ ಹಾಕಿ ಕೋಚ್ ನಿರಾಸೆಗ...</td>\n",
              "      <td>kn</td>\n",
              "    </tr>\n",
              "    <tr>\n",
              "      <th>23998</th>\n",
              "      <td>lifestyle</td>\n",
              "      <td>ಸೆನ್ಸಿಟಿವ್ ಹಲ್ಲುಗಳ ಸಮಸ್ಯೆ ಇದೆಯೇ? ಈ ಮನೆಮದ್ದುಗಳನ...</td>\n",
              "      <td>kn</td>\n",
              "    </tr>\n",
              "    <tr>\n",
              "      <th>23999</th>\n",
              "      <td>lifestyle</td>\n",
              "      <td>ಮಧುಮೇಹ ರೋಗಿಗಳು ಖರ್ಜೂರ ತಿನ್ನಬಹುದೇ?\\nDiabetes\\n|...</td>\n",
              "      <td>kn</td>\n",
              "    </tr>\n",
              "  </tbody>\n",
              "</table>\n",
              "<p>24000 rows × 3 columns</p>\n",
              "</div>\n",
              "      <button class=\"colab-df-convert\" onclick=\"convertToInteractive('df-6101815e-7df4-4dfb-9e0b-da53df8d6d36')\"\n",
              "              title=\"Convert this dataframe to an interactive table.\"\n",
              "              style=\"display:none;\">\n",
              "        \n",
              "  <svg xmlns=\"http://www.w3.org/2000/svg\" height=\"24px\"viewBox=\"0 0 24 24\"\n",
              "       width=\"24px\">\n",
              "    <path d=\"M0 0h24v24H0V0z\" fill=\"none\"/>\n",
              "    <path d=\"M18.56 5.44l.94 2.06.94-2.06 2.06-.94-2.06-.94-.94-2.06-.94 2.06-2.06.94zm-11 1L8.5 8.5l.94-2.06 2.06-.94-2.06-.94L8.5 2.5l-.94 2.06-2.06.94zm10 10l.94 2.06.94-2.06 2.06-.94-2.06-.94-.94-2.06-.94 2.06-2.06.94z\"/><path d=\"M17.41 7.96l-1.37-1.37c-.4-.4-.92-.59-1.43-.59-.52 0-1.04.2-1.43.59L10.3 9.45l-7.72 7.72c-.78.78-.78 2.05 0 2.83L4 21.41c.39.39.9.59 1.41.59.51 0 1.02-.2 1.41-.59l7.78-7.78 2.81-2.81c.8-.78.8-2.07 0-2.86zM5.41 20L4 18.59l7.72-7.72 1.47 1.35L5.41 20z\"/>\n",
              "  </svg>\n",
              "      </button>\n",
              "      \n",
              "  <style>\n",
              "    .colab-df-container {\n",
              "      display:flex;\n",
              "      flex-wrap:wrap;\n",
              "      gap: 12px;\n",
              "    }\n",
              "\n",
              "    .colab-df-convert {\n",
              "      background-color: #E8F0FE;\n",
              "      border: none;\n",
              "      border-radius: 50%;\n",
              "      cursor: pointer;\n",
              "      display: none;\n",
              "      fill: #1967D2;\n",
              "      height: 32px;\n",
              "      padding: 0 0 0 0;\n",
              "      width: 32px;\n",
              "    }\n",
              "\n",
              "    .colab-df-convert:hover {\n",
              "      background-color: #E2EBFA;\n",
              "      box-shadow: 0px 1px 2px rgba(60, 64, 67, 0.3), 0px 1px 3px 1px rgba(60, 64, 67, 0.15);\n",
              "      fill: #174EA6;\n",
              "    }\n",
              "\n",
              "    [theme=dark] .colab-df-convert {\n",
              "      background-color: #3B4455;\n",
              "      fill: #D2E3FC;\n",
              "    }\n",
              "\n",
              "    [theme=dark] .colab-df-convert:hover {\n",
              "      background-color: #434B5C;\n",
              "      box-shadow: 0px 1px 3px 1px rgba(0, 0, 0, 0.15);\n",
              "      filter: drop-shadow(0px 1px 2px rgba(0, 0, 0, 0.3));\n",
              "      fill: #FFFFFF;\n",
              "    }\n",
              "  </style>\n",
              "\n",
              "      <script>\n",
              "        const buttonEl =\n",
              "          document.querySelector('#df-6101815e-7df4-4dfb-9e0b-da53df8d6d36 button.colab-df-convert');\n",
              "        buttonEl.style.display =\n",
              "          google.colab.kernel.accessAllowed ? 'block' : 'none';\n",
              "\n",
              "        async function convertToInteractive(key) {\n",
              "          const element = document.querySelector('#df-6101815e-7df4-4dfb-9e0b-da53df8d6d36');\n",
              "          const dataTable =\n",
              "            await google.colab.kernel.invokeFunction('convertToInteractive',\n",
              "                                                     [key], {});\n",
              "          if (!dataTable) return;\n",
              "\n",
              "          const docLinkHtml = 'Like what you see? Visit the ' +\n",
              "            '<a target=\"_blank\" href=https://colab.research.google.com/notebooks/data_table.ipynb>data table notebook</a>'\n",
              "            + ' to learn more about interactive tables.';\n",
              "          element.innerHTML = '';\n",
              "          dataTable['output_type'] = 'display_data';\n",
              "          await google.colab.output.renderOutput(dataTable, element);\n",
              "          const docLink = document.createElement('div');\n",
              "          docLink.innerHTML = docLinkHtml;\n",
              "          element.appendChild(docLink);\n",
              "        }\n",
              "      </script>\n",
              "    </div>\n",
              "  </div>\n",
              "  "
            ]
          },
          "metadata": {},
          "execution_count": 60
        }
      ]
    },
    {
      "cell_type": "code",
      "source": [
        "# Load Malyalam train and test\n",
        "train_ml = pd.read_csv('/content/gdrive/MyDrive/AML_Project/ml/ml-train.csv',names = [\"label\", \"text\"], header=None)\n",
        "train_ml['lang'] = \"ml\"\n",
        "test_ml = pd.read_csv('/content/gdrive/MyDrive/AML_Project/ml/ml-test.csv',names = [\"label\", \"text\"], header=None)\n",
        "test_ml['lang'] = \"ml\"\n",
        "train_ml"
      ],
      "metadata": {
        "colab": {
          "base_uri": "https://localhost:8080/",
          "height": 419
        },
        "id": "pGzIesWRd2MB",
        "outputId": "b3b0d0ed-4547-44e5-f7aa-5dd1b79c0d3e"
      },
      "execution_count": 59,
      "outputs": [
        {
          "output_type": "execute_result",
          "data": {
            "text/plain": [
              "              label                                               text lang\n",
              "0            sports  മത്സര പ്രതിഫലമായി സ്വന്തമാക്കിയത് പതിനേഴ് ദശലക...   ml\n",
              "1            sports  ഇന്ത്യൻ പ്രീമിയർ ലീഗിൽ കൊൽക്കത്ത നൈറ്റ് റൈഡേഴ്...   ml\n",
              "2     entertainment  സിനിമാ മേഖലയിൽ ഇപ്പോൾ ബയോപിക്കുകളുടെ കാലമാണ് ....   ml\n",
              "3          business  കോഴിയിറച്ചിക്ക് കിലോക്ക് 87രൂപ നിശ്ചയിച്ച സംസ്...   ml\n",
              "4            sports  ട്വന്റി - 20 ലോകകപ്പിൽ സൂപ്പർ ടെന്നിലെ ഇന്ത്യാ...   ml\n",
              "...             ...                                                ...  ...\n",
              "4795       business  സ്റ്റേറ്റ് ബാങ്കിൻറെ കറൻസി അഡ്മിനിസ്ട്രേറ്റീവ്...   ml\n",
              "4796  entertainment  മോഹൻലാൽ നായകനായ ഒടിയൻ എന്ന ചിത്രത്തിന്റ കഥ അമേ...   ml\n",
              "4797     technology  ജനുവരിയിൽ വാവ്വേ ഇന്ത്യയിൽ അവതരിപ്പിച്ച ഹോണർ 6...   ml\n",
              "4798  entertainment  തൻറെ ഏറ്റവും പുതിയ ചിത്രം സീറോയുടെ തിരക്കിലാണ്...   ml\n",
              "4799         sports  ചെന്നൈയിൽ തമിഴ്നാട് പ്രിമീയർ ലീഗ് ഉദ്ഘാടനത്തിന...   ml\n",
              "\n",
              "[4800 rows x 3 columns]"
            ],
            "text/html": [
              "\n",
              "  <div id=\"df-26ec0aec-0634-4921-bd72-7cb99481beb2\">\n",
              "    <div class=\"colab-df-container\">\n",
              "      <div>\n",
              "<style scoped>\n",
              "    .dataframe tbody tr th:only-of-type {\n",
              "        vertical-align: middle;\n",
              "    }\n",
              "\n",
              "    .dataframe tbody tr th {\n",
              "        vertical-align: top;\n",
              "    }\n",
              "\n",
              "    .dataframe thead th {\n",
              "        text-align: right;\n",
              "    }\n",
              "</style>\n",
              "<table border=\"1\" class=\"dataframe\">\n",
              "  <thead>\n",
              "    <tr style=\"text-align: right;\">\n",
              "      <th></th>\n",
              "      <th>label</th>\n",
              "      <th>text</th>\n",
              "      <th>lang</th>\n",
              "    </tr>\n",
              "  </thead>\n",
              "  <tbody>\n",
              "    <tr>\n",
              "      <th>0</th>\n",
              "      <td>sports</td>\n",
              "      <td>മത്സര പ്രതിഫലമായി സ്വന്തമാക്കിയത് പതിനേഴ് ദശലക...</td>\n",
              "      <td>ml</td>\n",
              "    </tr>\n",
              "    <tr>\n",
              "      <th>1</th>\n",
              "      <td>sports</td>\n",
              "      <td>ഇന്ത്യൻ പ്രീമിയർ ലീഗിൽ കൊൽക്കത്ത നൈറ്റ് റൈഡേഴ്...</td>\n",
              "      <td>ml</td>\n",
              "    </tr>\n",
              "    <tr>\n",
              "      <th>2</th>\n",
              "      <td>entertainment</td>\n",
              "      <td>സിനിമാ മേഖലയിൽ ഇപ്പോൾ ബയോപിക്കുകളുടെ കാലമാണ് ....</td>\n",
              "      <td>ml</td>\n",
              "    </tr>\n",
              "    <tr>\n",
              "      <th>3</th>\n",
              "      <td>business</td>\n",
              "      <td>കോഴിയിറച്ചിക്ക് കിലോക്ക് 87രൂപ നിശ്ചയിച്ച സംസ്...</td>\n",
              "      <td>ml</td>\n",
              "    </tr>\n",
              "    <tr>\n",
              "      <th>4</th>\n",
              "      <td>sports</td>\n",
              "      <td>ട്വന്റി - 20 ലോകകപ്പിൽ സൂപ്പർ ടെന്നിലെ ഇന്ത്യാ...</td>\n",
              "      <td>ml</td>\n",
              "    </tr>\n",
              "    <tr>\n",
              "      <th>...</th>\n",
              "      <td>...</td>\n",
              "      <td>...</td>\n",
              "      <td>...</td>\n",
              "    </tr>\n",
              "    <tr>\n",
              "      <th>4795</th>\n",
              "      <td>business</td>\n",
              "      <td>സ്റ്റേറ്റ് ബാങ്കിൻറെ കറൻസി അഡ്മിനിസ്ട്രേറ്റീവ്...</td>\n",
              "      <td>ml</td>\n",
              "    </tr>\n",
              "    <tr>\n",
              "      <th>4796</th>\n",
              "      <td>entertainment</td>\n",
              "      <td>മോഹൻലാൽ നായകനായ ഒടിയൻ എന്ന ചിത്രത്തിന്റ കഥ അമേ...</td>\n",
              "      <td>ml</td>\n",
              "    </tr>\n",
              "    <tr>\n",
              "      <th>4797</th>\n",
              "      <td>technology</td>\n",
              "      <td>ജനുവരിയിൽ വാവ്വേ ഇന്ത്യയിൽ അവതരിപ്പിച്ച ഹോണർ 6...</td>\n",
              "      <td>ml</td>\n",
              "    </tr>\n",
              "    <tr>\n",
              "      <th>4798</th>\n",
              "      <td>entertainment</td>\n",
              "      <td>തൻറെ ഏറ്റവും പുതിയ ചിത്രം സീറോയുടെ തിരക്കിലാണ്...</td>\n",
              "      <td>ml</td>\n",
              "    </tr>\n",
              "    <tr>\n",
              "      <th>4799</th>\n",
              "      <td>sports</td>\n",
              "      <td>ചെന്നൈയിൽ തമിഴ്നാട് പ്രിമീയർ ലീഗ് ഉദ്ഘാടനത്തിന...</td>\n",
              "      <td>ml</td>\n",
              "    </tr>\n",
              "  </tbody>\n",
              "</table>\n",
              "<p>4800 rows × 3 columns</p>\n",
              "</div>\n",
              "      <button class=\"colab-df-convert\" onclick=\"convertToInteractive('df-26ec0aec-0634-4921-bd72-7cb99481beb2')\"\n",
              "              title=\"Convert this dataframe to an interactive table.\"\n",
              "              style=\"display:none;\">\n",
              "        \n",
              "  <svg xmlns=\"http://www.w3.org/2000/svg\" height=\"24px\"viewBox=\"0 0 24 24\"\n",
              "       width=\"24px\">\n",
              "    <path d=\"M0 0h24v24H0V0z\" fill=\"none\"/>\n",
              "    <path d=\"M18.56 5.44l.94 2.06.94-2.06 2.06-.94-2.06-.94-.94-2.06-.94 2.06-2.06.94zm-11 1L8.5 8.5l.94-2.06 2.06-.94-2.06-.94L8.5 2.5l-.94 2.06-2.06.94zm10 10l.94 2.06.94-2.06 2.06-.94-2.06-.94-.94-2.06-.94 2.06-2.06.94z\"/><path d=\"M17.41 7.96l-1.37-1.37c-.4-.4-.92-.59-1.43-.59-.52 0-1.04.2-1.43.59L10.3 9.45l-7.72 7.72c-.78.78-.78 2.05 0 2.83L4 21.41c.39.39.9.59 1.41.59.51 0 1.02-.2 1.41-.59l7.78-7.78 2.81-2.81c.8-.78.8-2.07 0-2.86zM5.41 20L4 18.59l7.72-7.72 1.47 1.35L5.41 20z\"/>\n",
              "  </svg>\n",
              "      </button>\n",
              "      \n",
              "  <style>\n",
              "    .colab-df-container {\n",
              "      display:flex;\n",
              "      flex-wrap:wrap;\n",
              "      gap: 12px;\n",
              "    }\n",
              "\n",
              "    .colab-df-convert {\n",
              "      background-color: #E8F0FE;\n",
              "      border: none;\n",
              "      border-radius: 50%;\n",
              "      cursor: pointer;\n",
              "      display: none;\n",
              "      fill: #1967D2;\n",
              "      height: 32px;\n",
              "      padding: 0 0 0 0;\n",
              "      width: 32px;\n",
              "    }\n",
              "\n",
              "    .colab-df-convert:hover {\n",
              "      background-color: #E2EBFA;\n",
              "      box-shadow: 0px 1px 2px rgba(60, 64, 67, 0.3), 0px 1px 3px 1px rgba(60, 64, 67, 0.15);\n",
              "      fill: #174EA6;\n",
              "    }\n",
              "\n",
              "    [theme=dark] .colab-df-convert {\n",
              "      background-color: #3B4455;\n",
              "      fill: #D2E3FC;\n",
              "    }\n",
              "\n",
              "    [theme=dark] .colab-df-convert:hover {\n",
              "      background-color: #434B5C;\n",
              "      box-shadow: 0px 1px 3px 1px rgba(0, 0, 0, 0.15);\n",
              "      filter: drop-shadow(0px 1px 2px rgba(0, 0, 0, 0.3));\n",
              "      fill: #FFFFFF;\n",
              "    }\n",
              "  </style>\n",
              "\n",
              "      <script>\n",
              "        const buttonEl =\n",
              "          document.querySelector('#df-26ec0aec-0634-4921-bd72-7cb99481beb2 button.colab-df-convert');\n",
              "        buttonEl.style.display =\n",
              "          google.colab.kernel.accessAllowed ? 'block' : 'none';\n",
              "\n",
              "        async function convertToInteractive(key) {\n",
              "          const element = document.querySelector('#df-26ec0aec-0634-4921-bd72-7cb99481beb2');\n",
              "          const dataTable =\n",
              "            await google.colab.kernel.invokeFunction('convertToInteractive',\n",
              "                                                     [key], {});\n",
              "          if (!dataTable) return;\n",
              "\n",
              "          const docLinkHtml = 'Like what you see? Visit the ' +\n",
              "            '<a target=\"_blank\" href=https://colab.research.google.com/notebooks/data_table.ipynb>data table notebook</a>'\n",
              "            + ' to learn more about interactive tables.';\n",
              "          element.innerHTML = '';\n",
              "          dataTable['output_type'] = 'display_data';\n",
              "          await google.colab.output.renderOutput(dataTable, element);\n",
              "          const docLink = document.createElement('div');\n",
              "          docLink.innerHTML = docLinkHtml;\n",
              "          element.appendChild(docLink);\n",
              "        }\n",
              "      </script>\n",
              "    </div>\n",
              "  </div>\n",
              "  "
            ]
          },
          "metadata": {},
          "execution_count": 59
        }
      ]
    },
    {
      "cell_type": "code",
      "source": [
        "# Load Bengali train and test\n",
        "train_bn = pd.read_csv('/content/gdrive/MyDrive/AML_Project/bn/bn-train.csv',names = [\"label\", \"text\"], header=None)\n",
        "train_bn['lang'] = \"bn\"\n",
        "test_bn = pd.read_csv('/content/gdrive/MyDrive/AML_Project/bn/bn-test.csv',names = [\"label\", \"text\"], header=None)\n",
        "test_bn['lang'] = \"bn\"\n",
        "train_bn"
      ],
      "metadata": {
        "colab": {
          "base_uri": "https://localhost:8080/",
          "height": 419
        },
        "id": "okrjExpdd2RT",
        "outputId": "3ab4f1b1-4ffb-4222-bd8f-c94879c877d5"
      },
      "execution_count": 58,
      "outputs": [
        {
          "output_type": "execute_result",
          "data": {
            "text/plain": [
              "               label                                               text lang\n",
              "0      entertainment  শরদিন্দু বন্দ্যোপাধ্যাযের গল্প ‘মগ্ন মৈনাক’ নি...   bn\n",
              "1             sports  # লন্ডনঃ সচিন পুত্র অর্জুন তেন্ডুলকর এখন ক্রিক...   bn\n",
              "2             sports  জাতীয় দলের নির্বাচনে কি রাজনীতির ছোঁয়া থাকে ...   bn\n",
              "3             sports  আইপিএলের ফাইনালে ফের একবার ‘এল ক্ল্যাসিকো’ । র...   bn\n",
              "4      entertainment  # মুম্বইঃ অবেশেষে মুক্তি পেল এ বছরের সবচেয়ে ব...   bn\n",
              "...              ...                                                ...  ...\n",
              "11195         sports  জাতীয় দলের নির্বাচনে কি রাজনীতির ছোঁয়া থাকে ...   bn\n",
              "11196  entertainment  এবার বলিউডে জুটি বাঁধলেন রণবীর সিং ও আলিয়া ভা...   bn\n",
              "11197  entertainment  # মুম্বইঃ না , আর কিছু বাদ রাখলেন না অভিনেতা শ...   bn\n",
              "11198         sports  জাতীয় দলের নির্বাচনে কি রাজনীতির ছোঁয়া থাকে ...   bn\n",
              "11199  entertainment  # মুম্বইঃ প্রয়াত পরিচালক কল্পনা লাজমি । বয়স ...   bn\n",
              "\n",
              "[11200 rows x 3 columns]"
            ],
            "text/html": [
              "\n",
              "  <div id=\"df-bae7901a-af01-458c-85a3-1ddc285acf55\">\n",
              "    <div class=\"colab-df-container\">\n",
              "      <div>\n",
              "<style scoped>\n",
              "    .dataframe tbody tr th:only-of-type {\n",
              "        vertical-align: middle;\n",
              "    }\n",
              "\n",
              "    .dataframe tbody tr th {\n",
              "        vertical-align: top;\n",
              "    }\n",
              "\n",
              "    .dataframe thead th {\n",
              "        text-align: right;\n",
              "    }\n",
              "</style>\n",
              "<table border=\"1\" class=\"dataframe\">\n",
              "  <thead>\n",
              "    <tr style=\"text-align: right;\">\n",
              "      <th></th>\n",
              "      <th>label</th>\n",
              "      <th>text</th>\n",
              "      <th>lang</th>\n",
              "    </tr>\n",
              "  </thead>\n",
              "  <tbody>\n",
              "    <tr>\n",
              "      <th>0</th>\n",
              "      <td>entertainment</td>\n",
              "      <td>শরদিন্দু বন্দ্যোপাধ্যাযের গল্প ‘মগ্ন মৈনাক’ নি...</td>\n",
              "      <td>bn</td>\n",
              "    </tr>\n",
              "    <tr>\n",
              "      <th>1</th>\n",
              "      <td>sports</td>\n",
              "      <td># লন্ডনঃ সচিন পুত্র অর্জুন তেন্ডুলকর এখন ক্রিক...</td>\n",
              "      <td>bn</td>\n",
              "    </tr>\n",
              "    <tr>\n",
              "      <th>2</th>\n",
              "      <td>sports</td>\n",
              "      <td>জাতীয় দলের নির্বাচনে কি রাজনীতির ছোঁয়া থাকে ...</td>\n",
              "      <td>bn</td>\n",
              "    </tr>\n",
              "    <tr>\n",
              "      <th>3</th>\n",
              "      <td>sports</td>\n",
              "      <td>আইপিএলের ফাইনালে ফের একবার ‘এল ক্ল্যাসিকো’ । র...</td>\n",
              "      <td>bn</td>\n",
              "    </tr>\n",
              "    <tr>\n",
              "      <th>4</th>\n",
              "      <td>entertainment</td>\n",
              "      <td># মুম্বইঃ অবেশেষে মুক্তি পেল এ বছরের সবচেয়ে ব...</td>\n",
              "      <td>bn</td>\n",
              "    </tr>\n",
              "    <tr>\n",
              "      <th>...</th>\n",
              "      <td>...</td>\n",
              "      <td>...</td>\n",
              "      <td>...</td>\n",
              "    </tr>\n",
              "    <tr>\n",
              "      <th>11195</th>\n",
              "      <td>sports</td>\n",
              "      <td>জাতীয় দলের নির্বাচনে কি রাজনীতির ছোঁয়া থাকে ...</td>\n",
              "      <td>bn</td>\n",
              "    </tr>\n",
              "    <tr>\n",
              "      <th>11196</th>\n",
              "      <td>entertainment</td>\n",
              "      <td>এবার বলিউডে জুটি বাঁধলেন রণবীর সিং ও আলিয়া ভা...</td>\n",
              "      <td>bn</td>\n",
              "    </tr>\n",
              "    <tr>\n",
              "      <th>11197</th>\n",
              "      <td>entertainment</td>\n",
              "      <td># মুম্বইঃ না , আর কিছু বাদ রাখলেন না অভিনেতা শ...</td>\n",
              "      <td>bn</td>\n",
              "    </tr>\n",
              "    <tr>\n",
              "      <th>11198</th>\n",
              "      <td>sports</td>\n",
              "      <td>জাতীয় দলের নির্বাচনে কি রাজনীতির ছোঁয়া থাকে ...</td>\n",
              "      <td>bn</td>\n",
              "    </tr>\n",
              "    <tr>\n",
              "      <th>11199</th>\n",
              "      <td>entertainment</td>\n",
              "      <td># মুম্বইঃ প্রয়াত পরিচালক কল্পনা লাজমি । বয়স ...</td>\n",
              "      <td>bn</td>\n",
              "    </tr>\n",
              "  </tbody>\n",
              "</table>\n",
              "<p>11200 rows × 3 columns</p>\n",
              "</div>\n",
              "      <button class=\"colab-df-convert\" onclick=\"convertToInteractive('df-bae7901a-af01-458c-85a3-1ddc285acf55')\"\n",
              "              title=\"Convert this dataframe to an interactive table.\"\n",
              "              style=\"display:none;\">\n",
              "        \n",
              "  <svg xmlns=\"http://www.w3.org/2000/svg\" height=\"24px\"viewBox=\"0 0 24 24\"\n",
              "       width=\"24px\">\n",
              "    <path d=\"M0 0h24v24H0V0z\" fill=\"none\"/>\n",
              "    <path d=\"M18.56 5.44l.94 2.06.94-2.06 2.06-.94-2.06-.94-.94-2.06-.94 2.06-2.06.94zm-11 1L8.5 8.5l.94-2.06 2.06-.94-2.06-.94L8.5 2.5l-.94 2.06-2.06.94zm10 10l.94 2.06.94-2.06 2.06-.94-2.06-.94-.94-2.06-.94 2.06-2.06.94z\"/><path d=\"M17.41 7.96l-1.37-1.37c-.4-.4-.92-.59-1.43-.59-.52 0-1.04.2-1.43.59L10.3 9.45l-7.72 7.72c-.78.78-.78 2.05 0 2.83L4 21.41c.39.39.9.59 1.41.59.51 0 1.02-.2 1.41-.59l7.78-7.78 2.81-2.81c.8-.78.8-2.07 0-2.86zM5.41 20L4 18.59l7.72-7.72 1.47 1.35L5.41 20z\"/>\n",
              "  </svg>\n",
              "      </button>\n",
              "      \n",
              "  <style>\n",
              "    .colab-df-container {\n",
              "      display:flex;\n",
              "      flex-wrap:wrap;\n",
              "      gap: 12px;\n",
              "    }\n",
              "\n",
              "    .colab-df-convert {\n",
              "      background-color: #E8F0FE;\n",
              "      border: none;\n",
              "      border-radius: 50%;\n",
              "      cursor: pointer;\n",
              "      display: none;\n",
              "      fill: #1967D2;\n",
              "      height: 32px;\n",
              "      padding: 0 0 0 0;\n",
              "      width: 32px;\n",
              "    }\n",
              "\n",
              "    .colab-df-convert:hover {\n",
              "      background-color: #E2EBFA;\n",
              "      box-shadow: 0px 1px 2px rgba(60, 64, 67, 0.3), 0px 1px 3px 1px rgba(60, 64, 67, 0.15);\n",
              "      fill: #174EA6;\n",
              "    }\n",
              "\n",
              "    [theme=dark] .colab-df-convert {\n",
              "      background-color: #3B4455;\n",
              "      fill: #D2E3FC;\n",
              "    }\n",
              "\n",
              "    [theme=dark] .colab-df-convert:hover {\n",
              "      background-color: #434B5C;\n",
              "      box-shadow: 0px 1px 3px 1px rgba(0, 0, 0, 0.15);\n",
              "      filter: drop-shadow(0px 1px 2px rgba(0, 0, 0, 0.3));\n",
              "      fill: #FFFFFF;\n",
              "    }\n",
              "  </style>\n",
              "\n",
              "      <script>\n",
              "        const buttonEl =\n",
              "          document.querySelector('#df-bae7901a-af01-458c-85a3-1ddc285acf55 button.colab-df-convert');\n",
              "        buttonEl.style.display =\n",
              "          google.colab.kernel.accessAllowed ? 'block' : 'none';\n",
              "\n",
              "        async function convertToInteractive(key) {\n",
              "          const element = document.querySelector('#df-bae7901a-af01-458c-85a3-1ddc285acf55');\n",
              "          const dataTable =\n",
              "            await google.colab.kernel.invokeFunction('convertToInteractive',\n",
              "                                                     [key], {});\n",
              "          if (!dataTable) return;\n",
              "\n",
              "          const docLinkHtml = 'Like what you see? Visit the ' +\n",
              "            '<a target=\"_blank\" href=https://colab.research.google.com/notebooks/data_table.ipynb>data table notebook</a>'\n",
              "            + ' to learn more about interactive tables.';\n",
              "          element.innerHTML = '';\n",
              "          dataTable['output_type'] = 'display_data';\n",
              "          await google.colab.output.renderOutput(dataTable, element);\n",
              "          const docLink = document.createElement('div');\n",
              "          docLink.innerHTML = docLinkHtml;\n",
              "          element.appendChild(docLink);\n",
              "        }\n",
              "      </script>\n",
              "    </div>\n",
              "  </div>\n",
              "  "
            ]
          },
          "metadata": {},
          "execution_count": 58
        }
      ]
    },
    {
      "cell_type": "code",
      "source": [
        "# Load Tamil train and test\n",
        "train_ta = pd.read_csv('/content/gdrive/MyDrive/AML_Project/ta/ta-train.csv',names = [\"label\", \"text\"], header=None)\n",
        "train_ta['lang'] = \"ta\"\n",
        "test_ta = pd.read_csv('/content/gdrive/MyDrive/AML_Project/ta/ta-test.csv',names = [\"label\", \"text\"], header=None)\n",
        "test_ta['lang'] = \"ta\"\n",
        "train_ta"
      ],
      "metadata": {
        "colab": {
          "base_uri": "https://localhost:8080/",
          "height": 419
        },
        "id": "rNCd7ouRd2WM",
        "outputId": "97b2defa-2fdc-4516-8c13-20273da253c9"
      },
      "execution_count": 57,
      "outputs": [
        {
          "output_type": "execute_result",
          "data": {
            "text/plain": [
              "              label                                               text lang\n",
              "0     entertainment  கட் அவுட்டிற்கு பாலாபிஷேகம் செய்து வந்த காலமெல...   ta\n",
              "1     entertainment  தமிழ் சினிமாவில் குணச்சித்திர நடிகராக அறிமுகமா...   ta\n",
              "2     entertainment  மறைந்த முன்னாள் முதலமைச்சர் ஜெயலலிதாவின் மறைவி...   ta\n",
              "3          politics  அமைச்சர் விஜய பாஸ்கரை பதவி நீக்கம் செய்ய வேண்ட...   ta\n",
              "4          politics  ஆர்கே . நகர் இடைத்தேர்தல் களம் சூடுபிடித்துள்ள...   ta\n",
              "...             ...                                                ...  ...\n",
              "9355  entertainment  எம் . ஜி . ஆர் காலத்திலிருந்து விமல் காலம் வரை...   ta\n",
              "9356       politics  கப்பல்கள் மோதிய விவகாரத்தில் கடந்த 8 நாட்களாக ...   ta\n",
              "9357  entertainment  பிக்பாஸ் நிகழ்ச்சியில் தற்போது தலைவியாக இருக்க...   ta\n",
              "9358  entertainment  பரதன் இயக்கத்தில் விஜய் நடித்துள்ள அவருடைய 60வ...   ta\n",
              "9359         sports  இந்திய அணியின் கேப்டன் விராட் கோலி , ஒவ்வொரு ப...   ta\n",
              "\n",
              "[9360 rows x 3 columns]"
            ],
            "text/html": [
              "\n",
              "  <div id=\"df-6857f420-1de0-43c4-8423-e990573871cc\">\n",
              "    <div class=\"colab-df-container\">\n",
              "      <div>\n",
              "<style scoped>\n",
              "    .dataframe tbody tr th:only-of-type {\n",
              "        vertical-align: middle;\n",
              "    }\n",
              "\n",
              "    .dataframe tbody tr th {\n",
              "        vertical-align: top;\n",
              "    }\n",
              "\n",
              "    .dataframe thead th {\n",
              "        text-align: right;\n",
              "    }\n",
              "</style>\n",
              "<table border=\"1\" class=\"dataframe\">\n",
              "  <thead>\n",
              "    <tr style=\"text-align: right;\">\n",
              "      <th></th>\n",
              "      <th>label</th>\n",
              "      <th>text</th>\n",
              "      <th>lang</th>\n",
              "    </tr>\n",
              "  </thead>\n",
              "  <tbody>\n",
              "    <tr>\n",
              "      <th>0</th>\n",
              "      <td>entertainment</td>\n",
              "      <td>கட் அவுட்டிற்கு பாலாபிஷேகம் செய்து வந்த காலமெல...</td>\n",
              "      <td>ta</td>\n",
              "    </tr>\n",
              "    <tr>\n",
              "      <th>1</th>\n",
              "      <td>entertainment</td>\n",
              "      <td>தமிழ் சினிமாவில் குணச்சித்திர நடிகராக அறிமுகமா...</td>\n",
              "      <td>ta</td>\n",
              "    </tr>\n",
              "    <tr>\n",
              "      <th>2</th>\n",
              "      <td>entertainment</td>\n",
              "      <td>மறைந்த முன்னாள் முதலமைச்சர் ஜெயலலிதாவின் மறைவி...</td>\n",
              "      <td>ta</td>\n",
              "    </tr>\n",
              "    <tr>\n",
              "      <th>3</th>\n",
              "      <td>politics</td>\n",
              "      <td>அமைச்சர் விஜய பாஸ்கரை பதவி நீக்கம் செய்ய வேண்ட...</td>\n",
              "      <td>ta</td>\n",
              "    </tr>\n",
              "    <tr>\n",
              "      <th>4</th>\n",
              "      <td>politics</td>\n",
              "      <td>ஆர்கே . நகர் இடைத்தேர்தல் களம் சூடுபிடித்துள்ள...</td>\n",
              "      <td>ta</td>\n",
              "    </tr>\n",
              "    <tr>\n",
              "      <th>...</th>\n",
              "      <td>...</td>\n",
              "      <td>...</td>\n",
              "      <td>...</td>\n",
              "    </tr>\n",
              "    <tr>\n",
              "      <th>9355</th>\n",
              "      <td>entertainment</td>\n",
              "      <td>எம் . ஜி . ஆர் காலத்திலிருந்து விமல் காலம் வரை...</td>\n",
              "      <td>ta</td>\n",
              "    </tr>\n",
              "    <tr>\n",
              "      <th>9356</th>\n",
              "      <td>politics</td>\n",
              "      <td>கப்பல்கள் மோதிய விவகாரத்தில் கடந்த 8 நாட்களாக ...</td>\n",
              "      <td>ta</td>\n",
              "    </tr>\n",
              "    <tr>\n",
              "      <th>9357</th>\n",
              "      <td>entertainment</td>\n",
              "      <td>பிக்பாஸ் நிகழ்ச்சியில் தற்போது தலைவியாக இருக்க...</td>\n",
              "      <td>ta</td>\n",
              "    </tr>\n",
              "    <tr>\n",
              "      <th>9358</th>\n",
              "      <td>entertainment</td>\n",
              "      <td>பரதன் இயக்கத்தில் விஜய் நடித்துள்ள அவருடைய 60வ...</td>\n",
              "      <td>ta</td>\n",
              "    </tr>\n",
              "    <tr>\n",
              "      <th>9359</th>\n",
              "      <td>sports</td>\n",
              "      <td>இந்திய அணியின் கேப்டன் விராட் கோலி , ஒவ்வொரு ப...</td>\n",
              "      <td>ta</td>\n",
              "    </tr>\n",
              "  </tbody>\n",
              "</table>\n",
              "<p>9360 rows × 3 columns</p>\n",
              "</div>\n",
              "      <button class=\"colab-df-convert\" onclick=\"convertToInteractive('df-6857f420-1de0-43c4-8423-e990573871cc')\"\n",
              "              title=\"Convert this dataframe to an interactive table.\"\n",
              "              style=\"display:none;\">\n",
              "        \n",
              "  <svg xmlns=\"http://www.w3.org/2000/svg\" height=\"24px\"viewBox=\"0 0 24 24\"\n",
              "       width=\"24px\">\n",
              "    <path d=\"M0 0h24v24H0V0z\" fill=\"none\"/>\n",
              "    <path d=\"M18.56 5.44l.94 2.06.94-2.06 2.06-.94-2.06-.94-.94-2.06-.94 2.06-2.06.94zm-11 1L8.5 8.5l.94-2.06 2.06-.94-2.06-.94L8.5 2.5l-.94 2.06-2.06.94zm10 10l.94 2.06.94-2.06 2.06-.94-2.06-.94-.94-2.06-.94 2.06-2.06.94z\"/><path d=\"M17.41 7.96l-1.37-1.37c-.4-.4-.92-.59-1.43-.59-.52 0-1.04.2-1.43.59L10.3 9.45l-7.72 7.72c-.78.78-.78 2.05 0 2.83L4 21.41c.39.39.9.59 1.41.59.51 0 1.02-.2 1.41-.59l7.78-7.78 2.81-2.81c.8-.78.8-2.07 0-2.86zM5.41 20L4 18.59l7.72-7.72 1.47 1.35L5.41 20z\"/>\n",
              "  </svg>\n",
              "      </button>\n",
              "      \n",
              "  <style>\n",
              "    .colab-df-container {\n",
              "      display:flex;\n",
              "      flex-wrap:wrap;\n",
              "      gap: 12px;\n",
              "    }\n",
              "\n",
              "    .colab-df-convert {\n",
              "      background-color: #E8F0FE;\n",
              "      border: none;\n",
              "      border-radius: 50%;\n",
              "      cursor: pointer;\n",
              "      display: none;\n",
              "      fill: #1967D2;\n",
              "      height: 32px;\n",
              "      padding: 0 0 0 0;\n",
              "      width: 32px;\n",
              "    }\n",
              "\n",
              "    .colab-df-convert:hover {\n",
              "      background-color: #E2EBFA;\n",
              "      box-shadow: 0px 1px 2px rgba(60, 64, 67, 0.3), 0px 1px 3px 1px rgba(60, 64, 67, 0.15);\n",
              "      fill: #174EA6;\n",
              "    }\n",
              "\n",
              "    [theme=dark] .colab-df-convert {\n",
              "      background-color: #3B4455;\n",
              "      fill: #D2E3FC;\n",
              "    }\n",
              "\n",
              "    [theme=dark] .colab-df-convert:hover {\n",
              "      background-color: #434B5C;\n",
              "      box-shadow: 0px 1px 3px 1px rgba(0, 0, 0, 0.15);\n",
              "      filter: drop-shadow(0px 1px 2px rgba(0, 0, 0, 0.3));\n",
              "      fill: #FFFFFF;\n",
              "    }\n",
              "  </style>\n",
              "\n",
              "      <script>\n",
              "        const buttonEl =\n",
              "          document.querySelector('#df-6857f420-1de0-43c4-8423-e990573871cc button.colab-df-convert');\n",
              "        buttonEl.style.display =\n",
              "          google.colab.kernel.accessAllowed ? 'block' : 'none';\n",
              "\n",
              "        async function convertToInteractive(key) {\n",
              "          const element = document.querySelector('#df-6857f420-1de0-43c4-8423-e990573871cc');\n",
              "          const dataTable =\n",
              "            await google.colab.kernel.invokeFunction('convertToInteractive',\n",
              "                                                     [key], {});\n",
              "          if (!dataTable) return;\n",
              "\n",
              "          const docLinkHtml = 'Like what you see? Visit the ' +\n",
              "            '<a target=\"_blank\" href=https://colab.research.google.com/notebooks/data_table.ipynb>data table notebook</a>'\n",
              "            + ' to learn more about interactive tables.';\n",
              "          element.innerHTML = '';\n",
              "          dataTable['output_type'] = 'display_data';\n",
              "          await google.colab.output.renderOutput(dataTable, element);\n",
              "          const docLink = document.createElement('div');\n",
              "          docLink.innerHTML = docLinkHtml;\n",
              "          element.appendChild(docLink);\n",
              "        }\n",
              "      </script>\n",
              "    </div>\n",
              "  </div>\n",
              "  "
            ]
          },
          "metadata": {},
          "execution_count": 57
        }
      ]
    },
    {
      "cell_type": "code",
      "source": [
        "# Language classificaiton task starts\n",
        "# Merge the train datasets having test and lang columns alone\n",
        "train_all = pd.concat([train_hi, train_bn, train_kn, train_ml, train_ta], ignore_index=True)\n",
        "train_lang = train_all[[\"lang\", \"text\"]]\n",
        "train_lang"
      ],
      "metadata": {
        "colab": {
          "base_uri": "https://localhost:8080/",
          "height": 419
        },
        "id": "7JM4KZg-gXBP",
        "outputId": "775de7ad-f3ea-4076-98e1-4611702312b0"
      },
      "execution_count": 64,
      "outputs": [
        {
          "output_type": "execute_result",
          "data": {
            "text/plain": [
              "      lang                                               text\n",
              "0       hi  मेट्रो की इस लाइन के चलने से दक्षिणी दिल्ली से...\n",
              "1       hi  नेटिजन यानि इंटरनेट पर सक्रिय नागरिक अब ट्विटर...\n",
              "2       hi  इसमें एक फ़्लाइट एटेनडेंट की मदद की गुहार है औ...\n",
              "3       hi  प्रतीक खुलेपन का, आज़ाद ख्याली का और भीड़ से अ...\n",
              "4       hi  ख़ासकर पिछले 10 साल तक प्रधानमंत्री रहे मनमोहन...\n",
              "...    ...                                                ...\n",
              "52822   ta  எம் . ஜி . ஆர் காலத்திலிருந்து விமல் காலம் வரை...\n",
              "52823   ta  கப்பல்கள் மோதிய விவகாரத்தில் கடந்த 8 நாட்களாக ...\n",
              "52824   ta  பிக்பாஸ் நிகழ்ச்சியில் தற்போது தலைவியாக இருக்க...\n",
              "52825   ta  பரதன் இயக்கத்தில் விஜய் நடித்துள்ள அவருடைய 60வ...\n",
              "52826   ta  இந்திய அணியின் கேப்டன் விராட் கோலி , ஒவ்வொரு ப...\n",
              "\n",
              "[52827 rows x 2 columns]"
            ],
            "text/html": [
              "\n",
              "  <div id=\"df-1089f1b6-fbc2-481b-9e9a-73c1af3336d7\">\n",
              "    <div class=\"colab-df-container\">\n",
              "      <div>\n",
              "<style scoped>\n",
              "    .dataframe tbody tr th:only-of-type {\n",
              "        vertical-align: middle;\n",
              "    }\n",
              "\n",
              "    .dataframe tbody tr th {\n",
              "        vertical-align: top;\n",
              "    }\n",
              "\n",
              "    .dataframe thead th {\n",
              "        text-align: right;\n",
              "    }\n",
              "</style>\n",
              "<table border=\"1\" class=\"dataframe\">\n",
              "  <thead>\n",
              "    <tr style=\"text-align: right;\">\n",
              "      <th></th>\n",
              "      <th>lang</th>\n",
              "      <th>text</th>\n",
              "    </tr>\n",
              "  </thead>\n",
              "  <tbody>\n",
              "    <tr>\n",
              "      <th>0</th>\n",
              "      <td>hi</td>\n",
              "      <td>मेट्रो की इस लाइन के चलने से दक्षिणी दिल्ली से...</td>\n",
              "    </tr>\n",
              "    <tr>\n",
              "      <th>1</th>\n",
              "      <td>hi</td>\n",
              "      <td>नेटिजन यानि इंटरनेट पर सक्रिय नागरिक अब ट्विटर...</td>\n",
              "    </tr>\n",
              "    <tr>\n",
              "      <th>2</th>\n",
              "      <td>hi</td>\n",
              "      <td>इसमें एक फ़्लाइट एटेनडेंट की मदद की गुहार है औ...</td>\n",
              "    </tr>\n",
              "    <tr>\n",
              "      <th>3</th>\n",
              "      <td>hi</td>\n",
              "      <td>प्रतीक खुलेपन का, आज़ाद ख्याली का और भीड़ से अ...</td>\n",
              "    </tr>\n",
              "    <tr>\n",
              "      <th>4</th>\n",
              "      <td>hi</td>\n",
              "      <td>ख़ासकर पिछले 10 साल तक प्रधानमंत्री रहे मनमोहन...</td>\n",
              "    </tr>\n",
              "    <tr>\n",
              "      <th>...</th>\n",
              "      <td>...</td>\n",
              "      <td>...</td>\n",
              "    </tr>\n",
              "    <tr>\n",
              "      <th>52822</th>\n",
              "      <td>ta</td>\n",
              "      <td>எம் . ஜி . ஆர் காலத்திலிருந்து விமல் காலம் வரை...</td>\n",
              "    </tr>\n",
              "    <tr>\n",
              "      <th>52823</th>\n",
              "      <td>ta</td>\n",
              "      <td>கப்பல்கள் மோதிய விவகாரத்தில் கடந்த 8 நாட்களாக ...</td>\n",
              "    </tr>\n",
              "    <tr>\n",
              "      <th>52824</th>\n",
              "      <td>ta</td>\n",
              "      <td>பிக்பாஸ் நிகழ்ச்சியில் தற்போது தலைவியாக இருக்க...</td>\n",
              "    </tr>\n",
              "    <tr>\n",
              "      <th>52825</th>\n",
              "      <td>ta</td>\n",
              "      <td>பரதன் இயக்கத்தில் விஜய் நடித்துள்ள அவருடைய 60வ...</td>\n",
              "    </tr>\n",
              "    <tr>\n",
              "      <th>52826</th>\n",
              "      <td>ta</td>\n",
              "      <td>இந்திய அணியின் கேப்டன் விராட் கோலி , ஒவ்வொரு ப...</td>\n",
              "    </tr>\n",
              "  </tbody>\n",
              "</table>\n",
              "<p>52827 rows × 2 columns</p>\n",
              "</div>\n",
              "      <button class=\"colab-df-convert\" onclick=\"convertToInteractive('df-1089f1b6-fbc2-481b-9e9a-73c1af3336d7')\"\n",
              "              title=\"Convert this dataframe to an interactive table.\"\n",
              "              style=\"display:none;\">\n",
              "        \n",
              "  <svg xmlns=\"http://www.w3.org/2000/svg\" height=\"24px\"viewBox=\"0 0 24 24\"\n",
              "       width=\"24px\">\n",
              "    <path d=\"M0 0h24v24H0V0z\" fill=\"none\"/>\n",
              "    <path d=\"M18.56 5.44l.94 2.06.94-2.06 2.06-.94-2.06-.94-.94-2.06-.94 2.06-2.06.94zm-11 1L8.5 8.5l.94-2.06 2.06-.94-2.06-.94L8.5 2.5l-.94 2.06-2.06.94zm10 10l.94 2.06.94-2.06 2.06-.94-2.06-.94-.94-2.06-.94 2.06-2.06.94z\"/><path d=\"M17.41 7.96l-1.37-1.37c-.4-.4-.92-.59-1.43-.59-.52 0-1.04.2-1.43.59L10.3 9.45l-7.72 7.72c-.78.78-.78 2.05 0 2.83L4 21.41c.39.39.9.59 1.41.59.51 0 1.02-.2 1.41-.59l7.78-7.78 2.81-2.81c.8-.78.8-2.07 0-2.86zM5.41 20L4 18.59l7.72-7.72 1.47 1.35L5.41 20z\"/>\n",
              "  </svg>\n",
              "      </button>\n",
              "      \n",
              "  <style>\n",
              "    .colab-df-container {\n",
              "      display:flex;\n",
              "      flex-wrap:wrap;\n",
              "      gap: 12px;\n",
              "    }\n",
              "\n",
              "    .colab-df-convert {\n",
              "      background-color: #E8F0FE;\n",
              "      border: none;\n",
              "      border-radius: 50%;\n",
              "      cursor: pointer;\n",
              "      display: none;\n",
              "      fill: #1967D2;\n",
              "      height: 32px;\n",
              "      padding: 0 0 0 0;\n",
              "      width: 32px;\n",
              "    }\n",
              "\n",
              "    .colab-df-convert:hover {\n",
              "      background-color: #E2EBFA;\n",
              "      box-shadow: 0px 1px 2px rgba(60, 64, 67, 0.3), 0px 1px 3px 1px rgba(60, 64, 67, 0.15);\n",
              "      fill: #174EA6;\n",
              "    }\n",
              "\n",
              "    [theme=dark] .colab-df-convert {\n",
              "      background-color: #3B4455;\n",
              "      fill: #D2E3FC;\n",
              "    }\n",
              "\n",
              "    [theme=dark] .colab-df-convert:hover {\n",
              "      background-color: #434B5C;\n",
              "      box-shadow: 0px 1px 3px 1px rgba(0, 0, 0, 0.15);\n",
              "      filter: drop-shadow(0px 1px 2px rgba(0, 0, 0, 0.3));\n",
              "      fill: #FFFFFF;\n",
              "    }\n",
              "  </style>\n",
              "\n",
              "      <script>\n",
              "        const buttonEl =\n",
              "          document.querySelector('#df-1089f1b6-fbc2-481b-9e9a-73c1af3336d7 button.colab-df-convert');\n",
              "        buttonEl.style.display =\n",
              "          google.colab.kernel.accessAllowed ? 'block' : 'none';\n",
              "\n",
              "        async function convertToInteractive(key) {\n",
              "          const element = document.querySelector('#df-1089f1b6-fbc2-481b-9e9a-73c1af3336d7');\n",
              "          const dataTable =\n",
              "            await google.colab.kernel.invokeFunction('convertToInteractive',\n",
              "                                                     [key], {});\n",
              "          if (!dataTable) return;\n",
              "\n",
              "          const docLinkHtml = 'Like what you see? Visit the ' +\n",
              "            '<a target=\"_blank\" href=https://colab.research.google.com/notebooks/data_table.ipynb>data table notebook</a>'\n",
              "            + ' to learn more about interactive tables.';\n",
              "          element.innerHTML = '';\n",
              "          dataTable['output_type'] = 'display_data';\n",
              "          await google.colab.output.renderOutput(dataTable, element);\n",
              "          const docLink = document.createElement('div');\n",
              "          docLink.innerHTML = docLinkHtml;\n",
              "          element.appendChild(docLink);\n",
              "        }\n",
              "      </script>\n",
              "    </div>\n",
              "  </div>\n",
              "  "
            ]
          },
          "metadata": {},
          "execution_count": 64
        }
      ]
    },
    {
      "cell_type": "code",
      "source": [
        "#Ref https://pytorch.org/tutorials/beginner/text_sentiment_ngrams_tutorial.html\n",
        "\n",
        "from torchtext.data.utils import get_tokenizer\n",
        "from torchtext.vocab import build_vocab_from_iterator\n",
        "\n",
        "tokenizer = get_tokenizer(None) #Can it to different tokenizers among above to experiment\n",
        "\n",
        "def yield_tokens(df):\n",
        "  for _, text in df.iterrows():\n",
        "    yield tokenizer(text[1])\n",
        "\n",
        "vocab = build_vocab_from_iterator(yield_tokens(train_lang), specials=[\"<unk>\"])\n",
        "vocab.set_default_index(vocab[\"<unk>\"])"
      ],
      "metadata": {
        "id": "nRTMEWtxOFey"
      },
      "execution_count": 65,
      "outputs": []
    },
    {
      "cell_type": "code",
      "source": [
        "len(vocab)"
      ],
      "metadata": {
        "colab": {
          "base_uri": "https://localhost:8080/"
        },
        "id": "olzyB-5blNf8",
        "outputId": "ba7b667f-5ec2-4b8c-b248-29f7b3f2d2b5"
      },
      "execution_count": 76,
      "outputs": [
        {
          "output_type": "execute_result",
          "data": {
            "text/plain": [
              "959917"
            ]
          },
          "metadata": {},
          "execution_count": 76
        }
      ]
    },
    {
      "cell_type": "code",
      "source": [
        "vocab.get_itos()[10:22]"
      ],
      "metadata": {
        "colab": {
          "base_uri": "https://localhost:8080/"
        },
        "id": "fgPZBzoQVCZT",
        "outputId": "5c18eee5-c310-416f-c800-38fb167485c1"
      },
      "execution_count": 72,
      "outputs": [
        {
          "output_type": "execute_result",
          "data": {
            "text/plain": [
              "['और', 'से', 'को', 'ಹಾಗೂ', 'এই', 'IST', 'ಎಂದು', 'कि', \"'\", 'का', 'ने', 'ಒಂದು']"
            ]
          },
          "metadata": {},
          "execution_count": 72
        }
      ]
    },
    {
      "cell_type": "code",
      "source": [
        "# Ref: generated text and label processing pipelines\n",
        "language_dict = {'hi':0, 'kn':1, 'ta':2, 'ml':3, 'bn':4 } #language dictionary to convert lang to int\n",
        "text_pipeline = lambda x: vocab(tokenizer(x))\n",
        "label_pipeline = lambda x: language_dict[x]\n",
        "print(text_pipeline('here is tamil கப்பல்கள் மோதிய விவகாரத்தில் கடந்த'))\n",
        "print(label_pipeline('kn'))"
      ],
      "metadata": {
        "colab": {
          "base_uri": "https://localhost:8080/"
        },
        "id": "q6kKt1nmlA6Z",
        "outputId": "c9c464eb-a6f1-4c3c-97e1-3c87b81dd853"
      },
      "execution_count": 158,
      "outputs": [
        {
          "output_type": "stream",
          "name": "stdout",
          "text": [
            "[34730, 4194, 202494, 214338, 23480, 4061, 260]\n",
            "1\n"
          ]
        }
      ]
    },
    {
      "cell_type": "code",
      "source": [
        "# create custom dataset class\n",
        "class CustomTextDataset(Dataset):\n",
        "    def __init__(self, df):\n",
        "        self.labels = df.iloc[:,0]\n",
        "        self.text = df.iloc[:,1]\n",
        "\n",
        "    def __len__(self):\n",
        "        return len(self.labels)\n",
        "\n",
        "    def __getitem__(self, idx):\n",
        "        label = self.labels[idx]\n",
        "        text = self.text[idx]\n",
        "        return (label, text)\n",
        "        #sample = {\"text\": data, \"lang\": label}\n",
        "        #return sample"
      ],
      "metadata": {
        "id": "3EtrB5qcF8TV"
      },
      "execution_count": 167,
      "outputs": []
    },
    {
      "cell_type": "code",
      "source": [
        "from torch.utils.data import DataLoader\n",
        "device = torch.device(\"cuda\" if torch.cuda.is_available() else \"cpu\")\n",
        "\n",
        "def collate_batch(batch):\n",
        "    label_list, text_list, offsets = [], [], [0]\n",
        "    for (_label, _text) in batch:\n",
        "      #print(_label, _text)\n",
        "      label_list.append(label_pipeline(_label))\n",
        "      processed_text = torch.tensor(text_pipeline(_text), dtype=torch.int64)\n",
        "      text_list.append(processed_text)\n",
        "      offsets.append(processed_text.size(0))\n",
        "    label_list = torch.tensor(label_list, dtype=torch.int64)\n",
        "    offsets = torch.tensor(offsets[:-1]).cumsum(dim=0)\n",
        "    text_list = torch.cat(text_list)\n",
        "    return label_list.to(device), text_list.to(device), offsets.to(device)\n",
        "\n",
        "train_iter = CustomTextDataset(train_lang)\n",
        "dataloader = DataLoader(train_iter, batch_size=32, shuffle=False, collate_fn=collate_batch)"
      ],
      "metadata": {
        "id": "aih6ohPUqLt7"
      },
      "execution_count": 194,
      "outputs": []
    },
    {
      "cell_type": "code",
      "source": [
        "dataloader"
      ],
      "metadata": {
        "colab": {
          "base_uri": "https://localhost:8080/"
        },
        "id": "6z4ZdB8KuKnx",
        "outputId": "2d1c29fc-2861-411a-87fa-5a824640de9d"
      },
      "execution_count": 195,
      "outputs": [
        {
          "output_type": "execute_result",
          "data": {
            "text/plain": [
              "<torch.utils.data.dataloader.DataLoader at 0x7f125ef7c290>"
            ]
          },
          "metadata": {},
          "execution_count": 195
        }
      ]
    },
    {
      "cell_type": "code",
      "source": [
        "for idx, item in enumerate(dataloader):\n",
        "    print(idx, item[0].shape, item[1].shape)\n",
        "    if idx == 4: break"
      ],
      "metadata": {
        "colab": {
          "base_uri": "https://localhost:8080/"
        },
        "id": "1Pg0uu0DvJzY",
        "outputId": "10f730b7-07c3-4d0f-80d1-cc4a1ce5f639"
      },
      "execution_count": 196,
      "outputs": [
        {
          "output_type": "stream",
          "name": "stdout",
          "text": [
            "0 torch.Size([32]) torch.Size([17907])\n",
            "1 torch.Size([32]) torch.Size([17095])\n",
            "2 torch.Size([32]) torch.Size([13007])\n",
            "3 torch.Size([32]) torch.Size([16547])\n",
            "4 torch.Size([32]) torch.Size([15630])\n"
          ]
        }
      ]
    },
    {
      "cell_type": "code",
      "source": [
        "from torch import nn\n",
        "\n",
        "class TextClassificationModel(nn.Module):\n",
        "\n",
        "    def __init__(self, vocab_size, embed_dim, num_class):\n",
        "        super(TextClassificationModel, self).__init__()\n",
        "        self.embedding = nn.EmbeddingBag(vocab_size, embed_dim, sparse=True)\n",
        "        self.fc = nn.Linear(embed_dim, num_class)\n",
        "        self.init_weights()\n",
        "\n",
        "    def init_weights(self):\n",
        "        initrange = 0.5\n",
        "        self.embedding.weight.data.uniform_(-initrange, initrange)\n",
        "        self.fc.weight.data.uniform_(-initrange, initrange)\n",
        "        self.fc.bias.data.zero_()\n",
        "\n",
        "    def forward(self, text, offsets):\n",
        "        embedded = self.embedding(text, offsets)\n",
        "        return self.fc(embedded)"
      ],
      "metadata": {
        "id": "tgE6oArGvJ2s"
      },
      "execution_count": null,
      "outputs": []
    },
    {
      "cell_type": "code",
      "source": [
        "train_iter = AG_NEWS(split='train')\n",
        "num_class = len(set([label for (label, text) in train_iter]))\n",
        "vocab_size = len(vocab)\n",
        "emsize = 64\n",
        "model = TextClassificationModel(vocab_size, emsize, num_class).to(device)"
      ],
      "metadata": {
        "id": "wTOCHlQbvJ6H"
      },
      "execution_count": null,
      "outputs": []
    },
    {
      "cell_type": "code",
      "source": [
        "import time\n",
        "\n",
        "def train(dataloader):\n",
        "    model.train()\n",
        "    total_acc, total_count = 0, 0\n",
        "    log_interval = 500\n",
        "    start_time = time.time()\n",
        "\n",
        "    for idx, (label, text, offsets) in enumerate(dataloader):\n",
        "        optimizer.zero_grad()\n",
        "        predicted_label = model(text, offsets)\n",
        "        loss = criterion(predicted_label, label)\n",
        "        loss.backward()\n",
        "        torch.nn.utils.clip_grad_norm_(model.parameters(), 0.1)\n",
        "        optimizer.step()\n",
        "        total_acc += (predicted_label.argmax(1) == label).sum().item()\n",
        "        total_count += label.size(0)\n",
        "        if idx % log_interval == 0 and idx > 0:\n",
        "            elapsed = time.time() - start_time\n",
        "            print('| epoch {:3d} | {:5d}/{:5d} batches '\n",
        "                  '| accuracy {:8.3f}'.format(epoch, idx, len(dataloader),\n",
        "                                              total_acc/total_count))\n",
        "            total_acc, total_count = 0, 0\n",
        "            start_time = time.time()\n",
        "\n",
        "def evaluate(dataloader):\n",
        "    model.eval()\n",
        "    total_acc, total_count = 0, 0\n",
        "\n",
        "    with torch.no_grad():\n",
        "        for idx, (label, text, offsets) in enumerate(dataloader):\n",
        "            predicted_label = model(text, offsets)\n",
        "            loss = criterion(predicted_label, label)\n",
        "            total_acc += (predicted_label.argmax(1) == label).sum().item()\n",
        "            total_count += label.size(0)\n",
        "    return total_acc/total_count"
      ],
      "metadata": {
        "id": "6y7FiO1IvJ9o"
      },
      "execution_count": null,
      "outputs": []
    },
    {
      "cell_type": "code",
      "source": [
        "from torch.utils.data.dataset import random_split\n",
        "from torchtext.data.functional import to_map_style_dataset\n",
        "# Hyperparameters\n",
        "EPOCHS = 10 # epoch\n",
        "LR = 5  # learning rate\n",
        "BATCH_SIZE = 64 # batch size for training\n",
        "\n",
        "criterion = torch.nn.CrossEntropyLoss()\n",
        "optimizer = torch.optim.SGD(model.parameters(), lr=LR)\n",
        "scheduler = torch.optim.lr_scheduler.StepLR(optimizer, 1.0, gamma=0.1)\n",
        "total_accu = None\n",
        "train_iter, test_iter = AG_NEWS()\n",
        "train_dataset = to_map_style_dataset(train_iter)\n",
        "test_dataset = to_map_style_dataset(test_iter)\n",
        "num_train = int(len(train_dataset) * 0.95)\n",
        "split_train_, split_valid_ = \\\n",
        "    random_split(train_dataset, [num_train, len(train_dataset) - num_train])\n",
        "\n",
        "train_dataloader = DataLoader(split_train_, batch_size=BATCH_SIZE,\n",
        "                              shuffle=True, collate_fn=collate_batch)\n",
        "valid_dataloader = DataLoader(split_valid_, batch_size=BATCH_SIZE,\n",
        "                              shuffle=True, collate_fn=collate_batch)\n",
        "test_dataloader = DataLoader(test_dataset, batch_size=BATCH_SIZE,\n",
        "                             shuffle=True, collate_fn=collate_batch)\n",
        "\n",
        "for epoch in range(1, EPOCHS + 1):\n",
        "    epoch_start_time = time.time()\n",
        "    train(train_dataloader)\n",
        "    accu_val = evaluate(valid_dataloader)\n",
        "    if total_accu is not None and total_accu > accu_val:\n",
        "      scheduler.step()\n",
        "    else:\n",
        "       total_accu = accu_val\n",
        "    print('-' * 59)\n",
        "    print('| end of epoch {:3d} | time: {:5.2f}s | '\n",
        "          'valid accuracy {:8.3f} '.format(epoch,\n",
        "                                           time.time() - epoch_start_time,\n",
        "                                           accu_val))\n",
        "    print('-' * 59)"
      ],
      "metadata": {
        "id": "10_3h72bj7jI"
      },
      "execution_count": null,
      "outputs": []
    },
    {
      "cell_type": "code",
      "source": [
        "print('Checking the results of test dataset.')\n",
        "accu_test = evaluate(test_dataloader)\n",
        "print('test accuracy {:8.3f}'.format(accu_test))"
      ],
      "metadata": {
        "id": "miKmVCyrj7lr"
      },
      "execution_count": null,
      "outputs": []
    },
    {
      "cell_type": "code",
      "source": [
        "ag_news_label = {1: \"World\",\n",
        "                 2: \"Sports\",\n",
        "                 3: \"Business\",\n",
        "                 4: \"Sci/Tec\"}\n",
        "\n",
        "def predict(text, text_pipeline):\n",
        "    with torch.no_grad():\n",
        "        text = torch.tensor(text_pipeline(text))\n",
        "        output = model(text, torch.tensor([0]))\n",
        "        return output.argmax(1).item() + 1\n",
        "\n",
        "ex_text_str = \"MEMPHIS, Tenn. – Four days ago, Jon Rahm was \\\n",
        "    enduring the season’s worst weather conditions on Sunday at The \\\n",
        "    Open on his way to a closing 75 at Royal Portrush, which \\\n",
        "    considering the wind and the rain was a respectable showing. \\\n",
        "    Thursday’s first round at the WGC-FedEx St. Jude Invitational \\\n",
        "    was another story. With temperatures in the mid-80s and hardly any \\\n",
        "    wind, the Spaniard was 13 strokes better in a flawless round. \\\n",
        "    Thanks to his best putting performance on the PGA Tour, Rahm \\\n",
        "    finished with an 8-under 62 for a three-stroke lead, which \\\n",
        "    was even more impressive considering he’d never played the \\\n",
        "    front nine at TPC Southwind.\"\n",
        "\n",
        "model = model.to(\"cpu\")\n",
        "\n",
        "print(\"This is a %s news\" %ag_news_label[predict(ex_text_str, text_pipeline)])"
      ],
      "metadata": {
        "id": "xurJFXOiuJ-d"
      },
      "execution_count": null,
      "outputs": []
    },
    {
      "cell_type": "code",
      "source": [
        ""
      ],
      "metadata": {
        "id": "NDuWTImeuKCC"
      },
      "execution_count": null,
      "outputs": []
    },
    {
      "cell_type": "code",
      "source": [
        ""
      ],
      "metadata": {
        "id": "SYQa85NVuKFn"
      },
      "execution_count": null,
      "outputs": []
    },
    {
      "cell_type": "code",
      "source": [
        ""
      ],
      "metadata": {
        "id": "ZZ3mIuBNuKJh"
      },
      "execution_count": null,
      "outputs": []
    },
    {
      "cell_type": "code",
      "source": [
        ""
      ],
      "metadata": {
        "id": "fGwo3MlDuKM3"
      },
      "execution_count": null,
      "outputs": []
    },
    {
      "cell_type": "code",
      "source": [
        ""
      ],
      "metadata": {
        "id": "wUiA3xF4uKQQ"
      },
      "execution_count": null,
      "outputs": []
    },
    {
      "cell_type": "code",
      "source": [
        ""
      ],
      "metadata": {
        "id": "ktVY4EEVuKUC"
      },
      "execution_count": null,
      "outputs": []
    },
    {
      "cell_type": "markdown",
      "source": [
        "Credit for datasets: @inproceedings{kakwani2020indicnlpsuite,\n",
        "    title={{IndicNLPSuite: Monolingual Corpora, Evaluation Benchmarks and Pre-trained Multilingual Language Models for Indian Languages}},\n",
        "    author={Divyanshu Kakwani and Anoop Kunchukuttan and Satish Golla and Gokul N.C. and Avik Bhattacharyya and Mitesh M. Khapra and Pratyush Kumar},\n",
        "    year={2020},\n",
        "    booktitle={Findings of EMNLP},\n",
        "}\n",
        "\n"
      ],
      "metadata": {
        "id": "wnBltzx687d5"
      }
    },
    {
      "cell_type": "markdown",
      "source": [
        ""
      ],
      "metadata": {
        "id": "7lCc3YYu9Fdo"
      }
    }
  ]
}