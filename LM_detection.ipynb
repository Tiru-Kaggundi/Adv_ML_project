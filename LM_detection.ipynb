{
  "nbformat": 4,
  "nbformat_minor": 0,
  "metadata": {
    "colab": {
      "name": "LM_detection.ipynb",
      "provenance": [],
      "collapsed_sections": [],
      "machine_shape": "hm",
      "mount_file_id": "1sKSfNt2xKWWCRMcyKE7vjIaUEvN1kCw1",
      "authorship_tag": "ABX9TyNPWkJSIXVhR90rP1z/LmZ7",
      "include_colab_link": true
    },
    "kernelspec": {
      "name": "python3",
      "display_name": "Python 3"
    },
    "language_info": {
      "name": "python"
    },
    "accelerator": "GPU"
  },
  "cells": [
    {
      "cell_type": "markdown",
      "metadata": {
        "id": "view-in-github",
        "colab_type": "text"
      },
      "source": [
        "<a href=\"https://colab.research.google.com/github/Tiru-Kaggundi/Adv_ML_project/blob/main/LM_detection.ipynb\" target=\"_parent\"><img src=\"https://colab.research.google.com/assets/colab-badge.svg\" alt=\"Open In Colab\"/></a>"
      ]
    },
    {
      "cell_type": "markdown",
      "source": [
        "In this milestone, we will be categorizing whether a given text belongs to one of the Indian languages from a set of {Hindi, Malayalam, Kannada, Tamil, Bengali}. For this we will create a Bag of Vectors for each language. Here are the steps that we aim to implement-\n",
        "\n",
        "Collate the dataset for each language. We will use the Hindi, Kannada, Tamil, Malayalam, and Bengali Wikipedia articles to train our model. Use publicly available tokenizers (or generate a new one if possible - stretch goal) to create a Bag of Words Create a Bag of Words classifier using linear layers Train the Classifier\n",
        "\n",
        "For Language Identification, a lot of work has been done to classify and identify languages with latin as the predominant script. Some work has also been done to identify Chinese, Japanese, and Korean languages. Jauhiaihen et al has done a detailed survey on the literature that exists for Language Identification tasks. Kerwin (2006) used character frequencies as feature vectors. In a feature vector, each feature vector f has its own integer value. Raw frequency and relative frequency for each feature is calculated for each language. For our project, we will be using something very similar.\n",
        "\n",
        "There are several intuitive techniques that are used to classify languages- Position of words- Kumar et al. (2015) used the position of the current word in word-level LI. Dictionary of unique words: Unique word dictionaries include only those words of the language, that do not belong to the other languages targeted by the language identifier. Discriminating words Kolkus (2009) used the most relevant words for each language\n",
        "\n",
        "What we do: \n",
        "1. Collect free datasets from various places (Wikipedia articles [from Kaggle], AI4Bharat,indtlk etc. - reference/citation placed at relevant places for any dataset used) - This proved to be a major task as described in report\n",
        "2. Try out various tokenizers and see their efficacy in prediction task\n",
        "3. Prepare and train a model  \n",
        "4. Predict and see the performance - mainly to see how a simple tokenizer performs against customized tokenizers traine by earlier teams (Google+IIT Madras, indltk etc.)\n",
        "\n"
      ],
      "metadata": {
        "id": "evIv8ZP0fQJR"
      }
    },
    {
      "cell_type": "code",
      "source": [
        "!pip install indic-nlp-library\n",
        "!pip install torch\n",
        "!pip install torchtext\n",
        "!pip install spacy\n",
        "!pip install torchdata"
      ],
      "metadata": {
        "id": "WP-RKClxj07i"
      },
      "execution_count": null,
      "outputs": []
    },
    {
      "cell_type": "code",
      "source": [
        "import sys\n",
        "import os\n",
        "from google.colab import drive \n",
        "drive.mount('/content/gdrive', force_remount=True)\n",
        "%cd /content/gdrive/MyDrive/AML_Project/\n",
        "os.environ['KAGGLE_CONFIG_DIR'] = \"/content/gdrive/MyDrive/AML_Project\""
      ],
      "metadata": {
        "colab": {
          "base_uri": "https://localhost:8080/"
        },
        "id": "82kEOzxUQ1tR",
        "outputId": "b796e840-fe42-443e-c604-eee8e782df62"
      },
      "execution_count": 2,
      "outputs": [
        {
          "output_type": "stream",
          "name": "stdout",
          "text": [
            "Mounted at /content/gdrive\n",
            "/content/gdrive/MyDrive/AML_Project\n"
          ]
        }
      ]
    },
    {
      "cell_type": "code",
      "source": [
        "# This command is to unmount gdrive - need it sometimes\n",
        "#!fusermount -u gdrive"
      ],
      "metadata": {
        "colab": {
          "base_uri": "https://localhost:8080/"
        },
        "id": "ticPf3gEHsRl",
        "outputId": "20f2df82-d979-4b86-8480-ffdab8d00fcd"
      },
      "execution_count": 21,
      "outputs": [
        {
          "output_type": "stream",
          "name": "stdout",
          "text": [
            "shell-init: error retrieving current directory: getcwd: cannot access parent directories: Transport endpoint is not connected\n",
            "fusermount: bad mount point gdrive: Transport endpoint is not connected\n"
          ]
        }
      ]
    },
    {
      "cell_type": "code",
      "source": [
        "\n",
        "import torch\n",
        "import torchtext\n",
        "import spacy\n",
        "from torchtext import data, datasets\n",
        "from torchtext.vocab import Vectors\n",
        "from torch.nn import init\n",
        "import torch.nn as nn\n",
        "import torch.nn.functional as F\n",
        "import torch.optim as optim\n",
        "import numpy as np\n",
        "from sklearn.model_selection import train_test_split\n",
        "import pandas as pd\n",
        "import torch\n",
        "from torchtext.datasets import AG_NEWS\n",
        "from torch.utils.data import Dataset, DataLoader\n"
      ],
      "metadata": {
        "id": "rJFxwE7Q6at1"
      },
      "execution_count": 3,
      "outputs": []
    },
    {
      "cell_type": "markdown",
      "source": [
        "Citation for datasets: @inproceedings{kakwani2020indicnlpsuite,\n",
        "    title={{IndicNLPSuite: Monolingual Corpora, Evaluation Benchmarks and Pre-trained Multilingual Language Models for Indian Languages}},\n",
        "    author={Divyanshu Kakwani and Anoop Kunchukuttan and Satish Golla and Gokul N.C. and Avik Bhattacharyya and Mitesh M. Khapra and Pratyush Kumar},\n",
        "    year={2020},\n",
        "    booktitle={Findings of EMNLP},\n",
        "}\n",
        "\n",
        "\n",
        "@article{kunchukuttan2020indicnlpcorpus,\n",
        "    title={AI4Bharat-IndicNLP Corpus: Monolingual Corpora and Word Embeddings for Indic Languages},\n",
        "    author={Anoop Kunchukuttan and Divyanshu Kakwani and Satish Golla and Gokul N.C. and Avik Bhattacharyya and Mitesh M. Khapra and Pratyush Kumar},\n",
        "    year={2020},\n",
        "    journal={arXiv preprint},\n"
      ],
      "metadata": {
        "id": "WwGjckD0hHic"
      }
    },
    {
      "cell_type": "markdown",
      "source": [
        "\n",
        "\n",
        "Trials for data download, cleaning and some experiments in tokenizers"
      ],
      "metadata": {
        "id": "SAJvXySujkB-"
      }
    },
    {
      "cell_type": "markdown",
      "source": [
        "Reference: https://nbviewer.org/url/anoopkunchukuttan.github.io/indic_nlp_library/doc/indic_nlp_examples.ipynb"
      ],
      "metadata": {
        "id": "wRlQFfacli72"
      }
    },
    {
      "cell_type": "code",
      "source": [
        "from indicnlp.tokenize import sentence_tokenize\n",
        "\n",
        "indic_string=\"\"\"तो क्या विश्व कप 2019 में मैच का बॉस टॉस है? यानी मैच में हार-जीत में \\\n",
        "टॉस की भूमिका अहम है? आप ऐसा सोच सकते हैं। विश्वकप के अपने-अपने पहले मैच में बुरी तरह हारने वाली एशिया की दो टीमों \\\n",
        "पाकिस्तान और श्रीलंका के कप्तान ने हालांकि अपने हार के पीछे टॉस की दलील तो नहीं दी, लेकिन यह जरूर कहा था कि वह एक अहम टॉस हार गए थे।\"\"\"\n",
        "sentences=sentence_tokenize.sentence_split(indic_string, lang='hi')\n",
        "for t in sentences:\n",
        "    print(t)"
      ],
      "metadata": {
        "colab": {
          "base_uri": "https://localhost:8080/"
        },
        "id": "cFoOmcifeHMP",
        "outputId": "636aa10f-b101-440c-a3bb-20249df94a70"
      },
      "execution_count": 4,
      "outputs": [
        {
          "output_type": "stream",
          "name": "stdout",
          "text": [
            "तो क्या विश्व कप 2019 में मैच का बॉस टॉस है?\n",
            "यानी मैच में हार-जीत में टॉस की भूमिका अहम है?\n",
            "आप ऐसा सोच सकते हैं।\n",
            "विश्वकप के अपने-अपने पहले मैच में बुरी तरह हारने वाली एशिया की दो टीमों पाकिस्तान और श्रीलंका के कप्तान ने हालांकि अपने हार के पीछे टॉस की दलील तो नहीं दी, लेकिन यह जरूर कहा था कि वह एक अहम टॉस हार गए थे।\n"
          ]
        }
      ]
    },
    {
      "cell_type": "code",
      "source": [
        "from indicnlp.tokenize import indic_tokenize  \n",
        "\n",
        "indic_string='सुनो, कुछ आवाज़ आ रही है। फोन?'\n",
        "\n",
        "print('Input String: {}'.format(indic_string))\n",
        "print('Tokens: ')\n",
        "for t in indic_tokenize.trivial_tokenize(indic_string): \n",
        "    print(t)"
      ],
      "metadata": {
        "id": "mDSqkNZ6g0q1",
        "colab": {
          "base_uri": "https://localhost:8080/"
        },
        "outputId": "4b6b3092-65e9-43b5-ded5-b6875f3b81c2"
      },
      "execution_count": 5,
      "outputs": [
        {
          "output_type": "stream",
          "name": "stdout",
          "text": [
            "Input String: सुनो, कुछ आवाज़ आ रही है। फोन?\n",
            "Tokens: \n",
            "सुनो\n",
            ",\n",
            "कुछ\n",
            "आवाज़\n",
            "आ\n",
            "रही\n",
            "है\n",
            "।\n",
            "फोन\n",
            "?\n"
          ]
        }
      ]
    },
    {
      "cell_type": "code",
      "source": [
        "!kaggle datasets list -s 'hindi-wikipedia'"
      ],
      "metadata": {
        "colab": {
          "base_uri": "https://localhost:8080/"
        },
        "id": "OjYX7fAEd_oH",
        "outputId": "027650b0-ef6d-42d1-e62e-44f8c1bdd2c1"
      },
      "execution_count": 6,
      "outputs": [
        {
          "output_type": "stream",
          "name": "stdout",
          "text": [
            "ref                                                        title                                               size  lastUpdated          downloadCount  voteCount  usabilityRating  \n",
            "---------------------------------------------------------  -------------------------------------------------  -----  -------------------  -------------  ---------  ---------------  \n",
            "disisbig/hindi-wikipedia-articles-172k                     Hindi Wikipedia Articles - 172k                    208MB  2019-12-24 05:01:30            395         19  0.6875           \n",
            "zarajamshaid/language-identification-datasst               Language Identification dataset                      6MB  2018-12-19 18:12:23           2124         36  1.0              \n",
            "disisbig/hindi-wikipedia-articles-55k                      Hindi Wikipedia Articles - 55k                      63MB  2019-12-24 04:31:32            201          8  0.625            \n",
            "shivavashishtha/shark-tank-india-dataset                   Shark Tank India Dataset                             4KB  2022-02-24 12:57:31           1683         56  1.0              \n",
            "prateekagrawal1405/hindi-wikipedia-articles-172k-csv       Hindi Wikipedia Articles 172k CSV                  166MB  2021-07-09 17:47:52              3          2  0.64705884       \n",
            "mitesh58/bollywood-movie-dataset                           Bollywood Movie Dataset                            100KB  2018-02-04 10:23:40           5304         60  0.7352941        \n",
            "nbroad/muril-large-pt                                      MuRIL Large pt                                       2GB  2021-10-16 14:35:24             61         12  0.5              \n",
            "nbroad/chaii-qa-hindi-q                                    chaii-qa hindi questions                            12MB  2021-08-14 20:00:25             23          4  0.5294118        \n",
            "amayagarwal/hindienglish-ted-talks-wikipedia-articles-etc  Hindi-English TED talks, Wikipedia articles, etc.   48MB  2020-10-31 06:26:53             18          0  0.6875           \n",
            "zzy990106/murilbasecased                                   muril-base-cased                                     2GB  2021-08-21 16:36:07             26          8  0.6875           \n",
            "shankkumar/multilingualopenrelations15                     MultilingualOpenRelations15                         12GB  2021-03-22 20:30:43             74          4  0.5625           \n",
            "zhangbl/multi-languages-stopwords                          multi_languages_stopwords                           85KB  2020-06-20 03:19:21             52          3  0.5625           \n",
            "parthplc/facebook-mlqa                                     Facebook MLQA                                       76MB  2020-11-29 08:44:09             27          1  0.5625           \n",
            "mathurinache/flores101                                     FLORES-101                                          13MB  2021-06-07 09:16:01             40         13  0.9117647        \n",
            "nbroad/muril-large-tf                                      MuRIL Large tf                                       2GB  2021-10-16 14:29:14              0          1  0.4375           \n",
            "sizlingdhairya1/iiit-spoken-language-datasets              IIIT Spoken Language Datasets                      920MB  2022-05-02 08:37:28              2          0  0.3125           \n"
          ]
        }
      ]
    },
    {
      "cell_type": "code",
      "source": [
        "#!kaggle datasets download -d 'disisbig/hindi-wikipedia-articles-55k'"
      ],
      "metadata": {
        "colab": {
          "base_uri": "https://localhost:8080/"
        },
        "id": "bTvgATXzd_ql",
        "outputId": "86565457-01f8-4bb4-ea8e-572a062eb73a"
      },
      "execution_count": 7,
      "outputs": [
        {
          "output_type": "stream",
          "name": "stdout",
          "text": [
            "Downloading hindi-wikipedia-articles-55k.zip to /content/gdrive/MyDrive/AML_Project\n",
            " 96% 61.0M/63.3M [00:01<00:00, 77.8MB/s]\n",
            "100% 63.3M/63.3M [00:01<00:00, 61.6MB/s]\n"
          ]
        }
      ]
    },
    {
      "cell_type": "markdown",
      "source": [
        "The hindi dataset is now sitting in the folder in zip format at '/content/drive/MyDrive/Adv_ML_Project/hindi-wikipedia-articles-55k.zip'"
      ],
      "metadata": {
        "id": "qupM9aW0fvq9"
      }
    },
    {
      "cell_type": "markdown",
      "source": [
        ""
      ],
      "metadata": {
        "id": "mF4YwWLvfzFE"
      }
    },
    {
      "cell_type": "code",
      "source": [
        "# #Don't use this part of code - it's very slow\n",
        "# from zipfile import ZipFile\n",
        "\n",
        "# with ZipFile('hindi-wikipedia-articles-55k.zip', 'r') as zipObj:\n",
        "#    # Extract all the contents of zip file in current directory\n",
        "#    zipObj.extractall()\n",
        "# # This above code is shit slow. It takes 20 hours to extract. "
      ],
      "metadata": {
        "id": "VRiGYfiFg_AD"
      },
      "execution_count": null,
      "outputs": []
    },
    {
      "cell_type": "code",
      "source": [
        "#!unzip 'hindi-wikipedia-articles-55k.zip' # This is relatively fast"
      ],
      "metadata": {
        "id": "oj4XYD7UKRCN"
      },
      "execution_count": null,
      "outputs": []
    },
    {
      "cell_type": "code",
      "source": [
        "!kaggle datasets list -s 'bengali-wikipedia'"
      ],
      "metadata": {
        "colab": {
          "base_uri": "https://localhost:8080/"
        },
        "id": "ffg6keiYg_Cg",
        "outputId": "a7270c20-034b-4bab-ffbf-fa0f2e6c8ffb"
      },
      "execution_count": 8,
      "outputs": [
        {
          "output_type": "stream",
          "name": "stdout",
          "text": [
            "ref                                            title                                   size  lastUpdated          downloadCount  voteCount  usabilityRating  \n",
            "---------------------------------------------  -------------------------------------  -----  -------------------  -------------  ---------  ---------------  \n",
            "disisbig/bengali-wikipedia-articles            Bengali Wikipedia Articles             105MB  2019-12-25 04:35:21            137          6  0.5              \n",
            "nrkapri/rabindranath-tagore-online-variorum    Rabindranath Tagore Online Variorum    173MB  2020-06-07 20:04:16             50          9  1.0              \n",
            "nbroad/muril-large-pt                          MuRIL Large pt                           2GB  2021-10-16 14:35:24             61         12  0.5              \n",
            "aagalib/complete-works-of-rabindranath-tagore  Complete Works of Rabindranath Tagore   43MB  2022-01-04 16:05:23             28          8  0.9411765        \n",
            "zzy990106/murilbasecased                       muril-base-cased                         2GB  2021-08-21 16:36:07             26          8  0.6875           \n",
            "tapash39/bengai-sentencepiece-model            bengai_sentencepiece_model             626KB  2020-02-09 15:22:16              7          0  0.375            \n",
            "zhangbl/multi-languages-stopwords              multi_languages_stopwords               85KB  2020-06-20 03:19:21             52          3  0.5625           \n",
            "iamsouvik/bengaliword2vec                      Bengali Word2Vec                       583MB  2021-01-13 06:31:07              8          0  0.25             \n",
            "mathurinache/flores101                         FLORES-101                              13MB  2021-06-07 09:16:01             40         13  0.9117647        \n",
            "nbroad/muril-large-tf                          MuRIL Large tf                           2GB  2021-10-16 14:29:14              0          1  0.4375           \n",
            "sizlingdhairya1/iiit-spoken-language-datasets  IIIT Spoken Language Datasets          920MB  2022-05-02 08:37:28              2          0  0.3125           \n"
          ]
        }
      ]
    },
    {
      "cell_type": "code",
      "source": [
        "#!kaggle datasets download -d 'disisbig/bengali-wikipedia-articles'"
      ],
      "metadata": {
        "colab": {
          "base_uri": "https://localhost:8080/"
        },
        "id": "LE9TnVIIKh4U",
        "outputId": "a599fd0c-afc5-4bc3-b839-80097c49110e"
      },
      "execution_count": 9,
      "outputs": [
        {
          "output_type": "stream",
          "name": "stdout",
          "text": [
            "Downloading bengali-wikipedia-articles.zip to /content/gdrive/MyDrive/AML_Project\n",
            " 95% 100M/105M [00:01<00:00, 70.0MB/s] \n",
            "100% 105M/105M [00:01<00:00, 59.8MB/s]\n"
          ]
        }
      ]
    },
    {
      "cell_type": "code",
      "source": [
        "#!unzip 'bengali-wikipedia-articles.zip' # This is relatively fast"
      ],
      "metadata": {
        "id": "2vTi5Iz-Km5f"
      },
      "execution_count": null,
      "outputs": []
    },
    {
      "cell_type": "code",
      "source": [
        "!kaggle datasets list -s 'kannada-wikipedia'"
      ],
      "metadata": {
        "colab": {
          "base_uri": "https://localhost:8080/"
        },
        "id": "E0vkzLwMg_E5",
        "outputId": "c51c8f29-5f22-49be-87a8-d6d909327747"
      },
      "execution_count": 10,
      "outputs": [
        {
          "output_type": "stream",
          "name": "stdout",
          "text": [
            "ref                                            title                           size  lastUpdated          downloadCount  voteCount  usabilityRating  \n",
            "---------------------------------------------  -----------------------------  -----  -------------------  -------------  ---------  ---------------  \n",
            "disisbig/kannada-wikipedia-articles            Kannada Wikipedia Articles      81MB  2019-12-25 04:38:53            168          1  0.5              \n",
            "nbroad/muril-large-pt                          MuRIL Large pt                   2GB  2021-10-16 14:35:24             61         12  0.5              \n",
            "zzy990106/murilbasecased                       muril-base-cased                 2GB  2021-08-21 16:36:07             26          8  0.6875           \n",
            "sizlingdhairya1/iiit-spoken-language-datasets  IIIT Spoken Language Datasets  920MB  2022-05-02 08:37:28              2          0  0.3125           \n",
            "nbroad/muril-large-tf                          MuRIL Large tf                   2GB  2021-10-16 14:29:14              0          1  0.4375           \n"
          ]
        }
      ]
    },
    {
      "cell_type": "code",
      "source": [
        "!kaggle datasets list -s 'malayalam-wikipedia'"
      ],
      "metadata": {
        "colab": {
          "base_uri": "https://localhost:8080/"
        },
        "id": "B-E7_UAmg_Hh",
        "outputId": "e935ca04-65b5-4512-b5e2-bd2f8db17e50"
      },
      "execution_count": 11,
      "outputs": [
        {
          "output_type": "stream",
          "name": "stdout",
          "text": [
            "ref                                            title                           size  lastUpdated          downloadCount  voteCount  usabilityRating  \n",
            "---------------------------------------------  -----------------------------  -----  -------------------  -------------  ---------  ---------------  \n",
            "disisbig/malayalam-wikipedia-articles          Malayalam Wikipedia Articles    19MB  2019-12-25 04:39:06            121          6  0.5              \n",
            "nbroad/muril-large-pt                          MuRIL Large pt                   2GB  2021-10-16 14:35:24             61         12  0.5              \n",
            "zzy990106/murilbasecased                       muril-base-cased                 2GB  2021-08-21 16:36:07             26          8  0.6875           \n",
            "sizlingdhairya1/iiit-spoken-language-datasets  IIIT Spoken Language Datasets  920MB  2022-05-02 08:37:28              2          0  0.3125           \n",
            "nbroad/muril-large-tf                          MuRIL Large tf                   2GB  2021-10-16 14:29:14              0          1  0.4375           \n"
          ]
        }
      ]
    },
    {
      "cell_type": "code",
      "source": [
        "!kaggle datasets list -s 'tamil-wikipedia'"
      ],
      "metadata": {
        "colab": {
          "base_uri": "https://localhost:8080/"
        },
        "id": "YQEt1wTIf0GS",
        "outputId": "17f068d8-80d9-4e51-e183-534ec2a23298"
      },
      "execution_count": 12,
      "outputs": [
        {
          "output_type": "stream",
          "name": "stdout",
          "text": [
            "ref                                                title                                       size  lastUpdated          downloadCount  voteCount  usabilityRating  \n",
            "-------------------------------------------------  -----------------------------------------  -----  -------------------  -------------  ---------  ---------------  \n",
            "disisbig/tamil-wikipedia-articles                  Tamil Wikipedia Articles                    95MB  2019-12-25 04:30:22            172         12  0.64705884       \n",
            "jrobischon/wikipedia-movie-plots                   Wikipedia Movie Plots                       30MB  2018-10-15 19:59:54          14602        432  0.88235295       \n",
            "sudalairajkumar/tamil-nlp                          Tamil NLP                                    3MB  2019-03-11 06:29:11           1286        101  1.0              \n",
            "zarajamshaid/language-identification-datasst       Language Identification dataset              6MB  2018-12-19 18:12:23           2124         36  1.0              \n",
            "praveengovi/tamil-language-corpus-for-nlp          Tamil - Language Corpus for NLP              2GB  2020-04-08 16:00:54            359         29  0.8235294        \n",
            "nbroad/muril-large-pt                              MuRIL Large pt                               2GB  2021-10-16 14:35:24             61         12  0.5              \n",
            "zzy990106/murilbasecased                           muril-base-cased                             2GB  2021-08-21 16:36:07             26          8  0.6875           \n",
            "thanish/capped-cricket-players                     Capped Male International Cricket players  150KB  2020-12-23 09:22:45             70          4  0.5882353        \n",
            "saravananselvamohan/tamil-kollywood-films-dataset  Tamil KollyWood Films Dataset               25KB  2020-08-17 10:08:57            174          4  0.9117647        \n",
            "nbroad/muril-large-tf                              MuRIL Large tf                               2GB  2021-10-16 14:29:14              0          1  0.4375           \n",
            "sizlingdhairya1/iiit-spoken-language-datasets      IIIT Spoken Language Datasets              920MB  2022-05-02 08:37:28              2          0  0.3125           \n",
            "shankkumar/multilingualopenrelations15             MultilingualOpenRelations15                 12GB  2021-03-22 20:30:43             74          4  0.5625           \n"
          ]
        }
      ]
    },
    {
      "cell_type": "markdown",
      "source": [
        "Indic NLP news articles is collection of news articles in various Indian langauges. \n",
        "Ref: https://github.com/AI4Bharat/indicnlp_corpus#indicnlp-news-article-classification-dataset"
      ],
      "metadata": {
        "id": "-3v2sDIKrJHs"
      }
    },
    {
      "cell_type": "code",
      "source": [
        "train_kn = pd.read_csv('/content/gdrive/MyDrive/AML_Project/kn/kn-train.csv')\n",
        "test_kn = pd.read_csv('/content/gdrive/MyDrive/AML_Project/kn/kn-test.csv')\n",
        "valid_kn = pd.read_csv('/content/gdrive/MyDrive/AML_Project/kn/kn-valid.csv')"
      ],
      "metadata": {
        "id": "bDd9IYobPbJn"
      },
      "execution_count": 13,
      "outputs": []
    },
    {
      "cell_type": "code",
      "source": [
        "#Can we use spacy to tokeknize indic languages? Yes\n",
        "from spacy.lang.kn import Kannada\n",
        "nlp_kn = Kannada()\n",
        "print(nlp_kn.lang, [token.is_stop for token in nlp_kn(\"ಇಂಡೀಸ್‌ ಹಲವು\")])\n",
        "doc = nlp_kn(\"ವಿರುದ್ಧ ಮೂರು ಪಂದ್ಯಗಳ ಟಿ–20 ಸರಣಿಯಲ್ಲಿ ಆಡುವ ಮೊದಲ ಎರಡು ಪಂದ್ಯಗಳಿಗೆ ವೆಸ್ಟ್‌ \")\n",
        "for token in doc:\n",
        "  print(token)"
      ],
      "metadata": {
        "colab": {
          "base_uri": "https://localhost:8080/"
        },
        "id": "lyauzUVoZ0it",
        "outputId": "c39540e7-88bc-4921-c5fd-80bff0352da4"
      },
      "execution_count": 14,
      "outputs": [
        {
          "output_type": "stream",
          "name": "stdout",
          "text": [
            "kn [False, True]\n",
            "ವಿರುದ್ಧ\n",
            "ಮೂರು\n",
            "ಪಂದ್ಯಗಳ\n",
            "ಟಿ–20\n",
            "ಸರಣಿಯಲ್ಲಿ\n",
            "ಆಡುವ\n",
            "ಮೊದಲ\n",
            "ಎರಡು\n",
            "ಪಂದ್ಯಗಳಿಗೆ\n",
            "ವೆಸ್ಟ್‌\n"
          ]
        }
      ]
    },
    {
      "cell_type": "code",
      "source": [
        "#Let's try tokenizer designed by Google and IIT Madras. It works! \n",
        "from indicnlp.tokenize import indic_tokenize \n",
        "kannada_string = \"ವಿರುದ್ಧ ಮೂರು ಪಂದ್ಯಗಳ ಟಿ–20 ಸರಣಿಯಲ್ಲಿ ಆಡುವ ಮೊದಲ ಎರಡು ಪಂದ್ಯಗಳಿಗೆ ವೆಸ್ಟ್‌ \"\n",
        "for t in indic_tokenize.trivial_tokenize(kannada_string): \n",
        "    print(t)"
      ],
      "metadata": {
        "colab": {
          "base_uri": "https://localhost:8080/"
        },
        "id": "rd2G3ABwegV2",
        "outputId": "f211547e-df1a-4357-de22-77bad2b2ae57"
      },
      "execution_count": 15,
      "outputs": [
        {
          "output_type": "stream",
          "name": "stdout",
          "text": [
            "ವಿರುದ್ಧ\n",
            "ಮೂರು\n",
            "ಪಂದ್ಯಗಳ\n",
            "ಟಿ–20\n",
            "ಸರಣಿಯಲ್ಲಿ\n",
            "ಆಡುವ\n",
            "ಮೊದಲ\n",
            "ಎರಡು\n",
            "ಪಂದ್ಯಗಳಿಗೆ\n",
            "ವೆಸ್ಟ್‌\n"
          ]
        }
      ]
    },
    {
      "cell_type": "code",
      "source": [
        "from torchtext.data.utils import get_tokenizer\n",
        "from collections import Counter\n",
        "from torchtext.vocab import vocab"
      ],
      "metadata": {
        "id": "0kDDQTCmjnUz"
      },
      "execution_count": 16,
      "outputs": []
    },
    {
      "cell_type": "code",
      "source": [
        "# How about just splitting on spaces based on torchtext basic tokenizer\n",
        "tokenizer_basic = get_tokenizer(None)\n",
        "kannada_string = \"ವಿರುದ್ಧ ಮೂರು ಪಂದ್ಯಗಳ ಟಿ–20 ಸರಣಿಯಲ್ಲಿ ಆಡುವ ಮೊದಲ ಎರಡು ಪಂದ್ಯಗಳಿಗೆ ವೆಸ್ಟ್‌\"\n",
        "for t in tokenizer_basic(kannada_string): \n",
        "    print(t)"
      ],
      "metadata": {
        "colab": {
          "base_uri": "https://localhost:8080/"
        },
        "id": "HKcSAgIsegm8",
        "outputId": "7688d672-e8b1-4aff-86ac-44beb19755ff"
      },
      "execution_count": 17,
      "outputs": [
        {
          "output_type": "stream",
          "name": "stdout",
          "text": [
            "ವಿರುದ್ಧ\n",
            "ಮೂರು\n",
            "ಪಂದ್ಯಗಳ\n",
            "ಟಿ–20\n",
            "ಸರಣಿಯಲ್ಲಿ\n",
            "ಆಡುವ\n",
            "ಮೊದಲ\n",
            "ಎರಡು\n",
            "ಪಂದ್ಯಗಳಿಗೆ\n",
            "ವೆಸ್ಟ್‌\n"
          ]
        }
      ]
    },
    {
      "cell_type": "markdown",
      "source": [
        "MILESTONE 1: LOAD THE DATASETS OF VARIOUS LANGUAGES"
      ],
      "metadata": {
        "id": "jz3t-rIyspFd"
      }
    },
    {
      "cell_type": "code",
      "source": [
        "# Load Hindi train and test\n",
        "train_hi = pd.read_csv('/content/gdrive/MyDrive/AML_Project/hi/hi-train.csv', names = [\"label\", \"text\"], header=None)\n",
        "train_hi['lang'] = \"hi\"\n",
        "test_hi = pd.read_csv('/content/gdrive/MyDrive/AML_Project/hi/hi-test.csv', names = [\"label\", \"text\"], header=None)\n",
        "test_hi['lang'] = \"hi\"\n",
        "train_hi"
      ],
      "metadata": {
        "colab": {
          "base_uri": "https://localhost:8080/",
          "height": 419
        },
        "id": "G0zNxozGbK_b",
        "outputId": "f024c25e-4640-4521-89e8-9f355c86b679"
      },
      "execution_count": 18,
      "outputs": [
        {
          "output_type": "execute_result",
          "data": {
            "text/plain": [
              "              label                                               text lang\n",
              "0             india  मेट्रो की इस लाइन के चलने से दक्षिणी दिल्ली से...   hi\n",
              "1          pakistan  नेटिजन यानि इंटरनेट पर सक्रिय नागरिक अब ट्विटर...   hi\n",
              "2              news  इसमें एक फ़्लाइट एटेनडेंट की मदद की गुहार है औ...   hi\n",
              "3             india  प्रतीक खुलेपन का, आज़ाद ख्याली का और भीड़ से अ...   hi\n",
              "4             india  ख़ासकर पिछले 10 साल तक प्रधानमंत्री रहे मनमोहन...   hi\n",
              "...             ...                                                ...  ...\n",
              "3462          india  जैसे ही उन्हें पता चलता है कि कोई व्यक्ति परेश...   hi\n",
              "3463          india  जैसे ही सदन की कार्यवाही शुरू हुई तमिलनाडु की ...   hi\n",
              "3464           news  चीन ने पिछले हफ़्ते अप्रत्यक्ष रूप से भारत को ...   hi\n",
              "3465  entertainment  मुक्ता आर्ट्स की 'कांची' कहानी है एक ख़ूबसूरत ...   hi\n",
              "3466  entertainment  फॉक्स स्टार स्टूडियोज़ और विशेष फ़िल्म्स की सि...   hi\n",
              "\n",
              "[3467 rows x 3 columns]"
            ],
            "text/html": [
              "\n",
              "  <div id=\"df-44d5a6de-9fcd-4659-b513-a2481cc0b6d5\">\n",
              "    <div class=\"colab-df-container\">\n",
              "      <div>\n",
              "<style scoped>\n",
              "    .dataframe tbody tr th:only-of-type {\n",
              "        vertical-align: middle;\n",
              "    }\n",
              "\n",
              "    .dataframe tbody tr th {\n",
              "        vertical-align: top;\n",
              "    }\n",
              "\n",
              "    .dataframe thead th {\n",
              "        text-align: right;\n",
              "    }\n",
              "</style>\n",
              "<table border=\"1\" class=\"dataframe\">\n",
              "  <thead>\n",
              "    <tr style=\"text-align: right;\">\n",
              "      <th></th>\n",
              "      <th>label</th>\n",
              "      <th>text</th>\n",
              "      <th>lang</th>\n",
              "    </tr>\n",
              "  </thead>\n",
              "  <tbody>\n",
              "    <tr>\n",
              "      <th>0</th>\n",
              "      <td>india</td>\n",
              "      <td>मेट्रो की इस लाइन के चलने से दक्षिणी दिल्ली से...</td>\n",
              "      <td>hi</td>\n",
              "    </tr>\n",
              "    <tr>\n",
              "      <th>1</th>\n",
              "      <td>pakistan</td>\n",
              "      <td>नेटिजन यानि इंटरनेट पर सक्रिय नागरिक अब ट्विटर...</td>\n",
              "      <td>hi</td>\n",
              "    </tr>\n",
              "    <tr>\n",
              "      <th>2</th>\n",
              "      <td>news</td>\n",
              "      <td>इसमें एक फ़्लाइट एटेनडेंट की मदद की गुहार है औ...</td>\n",
              "      <td>hi</td>\n",
              "    </tr>\n",
              "    <tr>\n",
              "      <th>3</th>\n",
              "      <td>india</td>\n",
              "      <td>प्रतीक खुलेपन का, आज़ाद ख्याली का और भीड़ से अ...</td>\n",
              "      <td>hi</td>\n",
              "    </tr>\n",
              "    <tr>\n",
              "      <th>4</th>\n",
              "      <td>india</td>\n",
              "      <td>ख़ासकर पिछले 10 साल तक प्रधानमंत्री रहे मनमोहन...</td>\n",
              "      <td>hi</td>\n",
              "    </tr>\n",
              "    <tr>\n",
              "      <th>...</th>\n",
              "      <td>...</td>\n",
              "      <td>...</td>\n",
              "      <td>...</td>\n",
              "    </tr>\n",
              "    <tr>\n",
              "      <th>3462</th>\n",
              "      <td>india</td>\n",
              "      <td>जैसे ही उन्हें पता चलता है कि कोई व्यक्ति परेश...</td>\n",
              "      <td>hi</td>\n",
              "    </tr>\n",
              "    <tr>\n",
              "      <th>3463</th>\n",
              "      <td>india</td>\n",
              "      <td>जैसे ही सदन की कार्यवाही शुरू हुई तमिलनाडु की ...</td>\n",
              "      <td>hi</td>\n",
              "    </tr>\n",
              "    <tr>\n",
              "      <th>3464</th>\n",
              "      <td>news</td>\n",
              "      <td>चीन ने पिछले हफ़्ते अप्रत्यक्ष रूप से भारत को ...</td>\n",
              "      <td>hi</td>\n",
              "    </tr>\n",
              "    <tr>\n",
              "      <th>3465</th>\n",
              "      <td>entertainment</td>\n",
              "      <td>मुक्ता आर्ट्स की 'कांची' कहानी है एक ख़ूबसूरत ...</td>\n",
              "      <td>hi</td>\n",
              "    </tr>\n",
              "    <tr>\n",
              "      <th>3466</th>\n",
              "      <td>entertainment</td>\n",
              "      <td>फॉक्स स्टार स्टूडियोज़ और विशेष फ़िल्म्स की सि...</td>\n",
              "      <td>hi</td>\n",
              "    </tr>\n",
              "  </tbody>\n",
              "</table>\n",
              "<p>3467 rows × 3 columns</p>\n",
              "</div>\n",
              "      <button class=\"colab-df-convert\" onclick=\"convertToInteractive('df-44d5a6de-9fcd-4659-b513-a2481cc0b6d5')\"\n",
              "              title=\"Convert this dataframe to an interactive table.\"\n",
              "              style=\"display:none;\">\n",
              "        \n",
              "  <svg xmlns=\"http://www.w3.org/2000/svg\" height=\"24px\"viewBox=\"0 0 24 24\"\n",
              "       width=\"24px\">\n",
              "    <path d=\"M0 0h24v24H0V0z\" fill=\"none\"/>\n",
              "    <path d=\"M18.56 5.44l.94 2.06.94-2.06 2.06-.94-2.06-.94-.94-2.06-.94 2.06-2.06.94zm-11 1L8.5 8.5l.94-2.06 2.06-.94-2.06-.94L8.5 2.5l-.94 2.06-2.06.94zm10 10l.94 2.06.94-2.06 2.06-.94-2.06-.94-.94-2.06-.94 2.06-2.06.94z\"/><path d=\"M17.41 7.96l-1.37-1.37c-.4-.4-.92-.59-1.43-.59-.52 0-1.04.2-1.43.59L10.3 9.45l-7.72 7.72c-.78.78-.78 2.05 0 2.83L4 21.41c.39.39.9.59 1.41.59.51 0 1.02-.2 1.41-.59l7.78-7.78 2.81-2.81c.8-.78.8-2.07 0-2.86zM5.41 20L4 18.59l7.72-7.72 1.47 1.35L5.41 20z\"/>\n",
              "  </svg>\n",
              "      </button>\n",
              "      \n",
              "  <style>\n",
              "    .colab-df-container {\n",
              "      display:flex;\n",
              "      flex-wrap:wrap;\n",
              "      gap: 12px;\n",
              "    }\n",
              "\n",
              "    .colab-df-convert {\n",
              "      background-color: #E8F0FE;\n",
              "      border: none;\n",
              "      border-radius: 50%;\n",
              "      cursor: pointer;\n",
              "      display: none;\n",
              "      fill: #1967D2;\n",
              "      height: 32px;\n",
              "      padding: 0 0 0 0;\n",
              "      width: 32px;\n",
              "    }\n",
              "\n",
              "    .colab-df-convert:hover {\n",
              "      background-color: #E2EBFA;\n",
              "      box-shadow: 0px 1px 2px rgba(60, 64, 67, 0.3), 0px 1px 3px 1px rgba(60, 64, 67, 0.15);\n",
              "      fill: #174EA6;\n",
              "    }\n",
              "\n",
              "    [theme=dark] .colab-df-convert {\n",
              "      background-color: #3B4455;\n",
              "      fill: #D2E3FC;\n",
              "    }\n",
              "\n",
              "    [theme=dark] .colab-df-convert:hover {\n",
              "      background-color: #434B5C;\n",
              "      box-shadow: 0px 1px 3px 1px rgba(0, 0, 0, 0.15);\n",
              "      filter: drop-shadow(0px 1px 2px rgba(0, 0, 0, 0.3));\n",
              "      fill: #FFFFFF;\n",
              "    }\n",
              "  </style>\n",
              "\n",
              "      <script>\n",
              "        const buttonEl =\n",
              "          document.querySelector('#df-44d5a6de-9fcd-4659-b513-a2481cc0b6d5 button.colab-df-convert');\n",
              "        buttonEl.style.display =\n",
              "          google.colab.kernel.accessAllowed ? 'block' : 'none';\n",
              "\n",
              "        async function convertToInteractive(key) {\n",
              "          const element = document.querySelector('#df-44d5a6de-9fcd-4659-b513-a2481cc0b6d5');\n",
              "          const dataTable =\n",
              "            await google.colab.kernel.invokeFunction('convertToInteractive',\n",
              "                                                     [key], {});\n",
              "          if (!dataTable) return;\n",
              "\n",
              "          const docLinkHtml = 'Like what you see? Visit the ' +\n",
              "            '<a target=\"_blank\" href=https://colab.research.google.com/notebooks/data_table.ipynb>data table notebook</a>'\n",
              "            + ' to learn more about interactive tables.';\n",
              "          element.innerHTML = '';\n",
              "          dataTable['output_type'] = 'display_data';\n",
              "          await google.colab.output.renderOutput(dataTable, element);\n",
              "          const docLink = document.createElement('div');\n",
              "          docLink.innerHTML = docLinkHtml;\n",
              "          element.appendChild(docLink);\n",
              "        }\n",
              "      </script>\n",
              "    </div>\n",
              "  </div>\n",
              "  "
            ]
          },
          "metadata": {},
          "execution_count": 18
        }
      ]
    },
    {
      "cell_type": "code",
      "source": [
        "# Load Kannada train and test\n",
        "train_kn = pd.read_csv('/content/gdrive/MyDrive/AML_Project/kn/kn-train.csv', names = [\"label\", \"text\"],header=None)\n",
        "train_kn['lang'] = \"kn\"\n",
        "test_kn = pd.read_csv('/content/gdrive/MyDrive/AML_Project/kn/kn-test.csv', names = [\"label\", \"text\"],header=None)\n",
        "test_kn['lang'] = \"kn\"\n",
        "train_kn"
      ],
      "metadata": {
        "colab": {
          "base_uri": "https://localhost:8080/",
          "height": 419
        },
        "id": "TtmtKlNQcj-u",
        "outputId": "0ec91674-7d39-4c50-a2fe-2f36fb00e741"
      },
      "execution_count": 57,
      "outputs": [
        {
          "output_type": "execute_result",
          "data": {
            "text/plain": [
              "               label                                               text lang\n",
              "0             sports  Samsung Galaxy M30s: ಲಭ್ಯವಾಗಲಿದೆ ಶಕ್ತಿಶಾಲಿ ಸ್ಮ...   kn\n",
              "1             sports  ಯುವೆಂಟಸ್ ತಂಡ ಸೇರಿದ ಕ್ರಿಸ್ಟಿಯಾನೊ ರೊನಾಲ್ಡೊ\\nಯುವೆ...   kn\n",
              "2             sports  ಬ್ಯಾಡ್ಮಿಂಟನ್‌: ಎರಡನೇ ಸುತ್ತಿಗೆ ಸಿಂಧು, ಸಮೀರ್‌\\nಬ...   kn\n",
              "3      entertainment  ತಮ್ಮದು ಒಪ್ಪಿತ ʼಸಂಬಂಧʼ ಎಂದು ಹೇಳಿದ ನಟ\\n  12-05-2...   kn\n",
              "4             sports  ಖ್ಯಾತ ಕ್ರಿಕೆಟಿಗನ ಪತ್ನಿ ನಿಧನ\\n  31-12-2018 7:57...   kn\n",
              "...              ...                                                ...  ...\n",
              "23995         sports  ಏಕದಿನ ಕ್ರಿಕೆಟ್‌: ಬ್ಯಾಟಿಂಗ್‌ ಆರಂಭಿಸಿದ ವಿಂಡೀಸ್‌ಗ...   kn\n",
              "23996         sports  Chennai, First Published 23, Aug 2019, 10:26 A...   kn\n",
              "23997         sports  ಬೆಳ್ಳಿ ಪದಕ ಗೆದ್ದರೂ ಟೀಂಇಂಡಿಯಾ ಹಾಕಿ ಕೋಚ್ ನಿರಾಸೆಗ...   kn\n",
              "23998      lifestyle  ಸೆನ್ಸಿಟಿವ್ ಹಲ್ಲುಗಳ ಸಮಸ್ಯೆ ಇದೆಯೇ? ಈ ಮನೆಮದ್ದುಗಳನ...   kn\n",
              "23999      lifestyle  ಮಧುಮೇಹ ರೋಗಿಗಳು ಖರ್ಜೂರ ತಿನ್ನಬಹುದೇ?\\nDiabetes\\n|...   kn\n",
              "\n",
              "[24000 rows x 3 columns]"
            ],
            "text/html": [
              "\n",
              "  <div id=\"df-cd099e6f-8dcb-4f2b-8d09-11228bd5df0d\">\n",
              "    <div class=\"colab-df-container\">\n",
              "      <div>\n",
              "<style scoped>\n",
              "    .dataframe tbody tr th:only-of-type {\n",
              "        vertical-align: middle;\n",
              "    }\n",
              "\n",
              "    .dataframe tbody tr th {\n",
              "        vertical-align: top;\n",
              "    }\n",
              "\n",
              "    .dataframe thead th {\n",
              "        text-align: right;\n",
              "    }\n",
              "</style>\n",
              "<table border=\"1\" class=\"dataframe\">\n",
              "  <thead>\n",
              "    <tr style=\"text-align: right;\">\n",
              "      <th></th>\n",
              "      <th>label</th>\n",
              "      <th>text</th>\n",
              "      <th>lang</th>\n",
              "    </tr>\n",
              "  </thead>\n",
              "  <tbody>\n",
              "    <tr>\n",
              "      <th>0</th>\n",
              "      <td>sports</td>\n",
              "      <td>Samsung Galaxy M30s: ಲಭ್ಯವಾಗಲಿದೆ ಶಕ್ತಿಶಾಲಿ ಸ್ಮ...</td>\n",
              "      <td>kn</td>\n",
              "    </tr>\n",
              "    <tr>\n",
              "      <th>1</th>\n",
              "      <td>sports</td>\n",
              "      <td>ಯುವೆಂಟಸ್ ತಂಡ ಸೇರಿದ ಕ್ರಿಸ್ಟಿಯಾನೊ ರೊನಾಲ್ಡೊ\\nಯುವೆ...</td>\n",
              "      <td>kn</td>\n",
              "    </tr>\n",
              "    <tr>\n",
              "      <th>2</th>\n",
              "      <td>sports</td>\n",
              "      <td>ಬ್ಯಾಡ್ಮಿಂಟನ್‌: ಎರಡನೇ ಸುತ್ತಿಗೆ ಸಿಂಧು, ಸಮೀರ್‌\\nಬ...</td>\n",
              "      <td>kn</td>\n",
              "    </tr>\n",
              "    <tr>\n",
              "      <th>3</th>\n",
              "      <td>entertainment</td>\n",
              "      <td>ತಮ್ಮದು ಒಪ್ಪಿತ ʼಸಂಬಂಧʼ ಎಂದು ಹೇಳಿದ ನಟ\\n  12-05-2...</td>\n",
              "      <td>kn</td>\n",
              "    </tr>\n",
              "    <tr>\n",
              "      <th>4</th>\n",
              "      <td>sports</td>\n",
              "      <td>ಖ್ಯಾತ ಕ್ರಿಕೆಟಿಗನ ಪತ್ನಿ ನಿಧನ\\n  31-12-2018 7:57...</td>\n",
              "      <td>kn</td>\n",
              "    </tr>\n",
              "    <tr>\n",
              "      <th>...</th>\n",
              "      <td>...</td>\n",
              "      <td>...</td>\n",
              "      <td>...</td>\n",
              "    </tr>\n",
              "    <tr>\n",
              "      <th>23995</th>\n",
              "      <td>sports</td>\n",
              "      <td>ಏಕದಿನ ಕ್ರಿಕೆಟ್‌: ಬ್ಯಾಟಿಂಗ್‌ ಆರಂಭಿಸಿದ ವಿಂಡೀಸ್‌ಗ...</td>\n",
              "      <td>kn</td>\n",
              "    </tr>\n",
              "    <tr>\n",
              "      <th>23996</th>\n",
              "      <td>sports</td>\n",
              "      <td>Chennai, First Published 23, Aug 2019, 10:26 A...</td>\n",
              "      <td>kn</td>\n",
              "    </tr>\n",
              "    <tr>\n",
              "      <th>23997</th>\n",
              "      <td>sports</td>\n",
              "      <td>ಬೆಳ್ಳಿ ಪದಕ ಗೆದ್ದರೂ ಟೀಂಇಂಡಿಯಾ ಹಾಕಿ ಕೋಚ್ ನಿರಾಸೆಗ...</td>\n",
              "      <td>kn</td>\n",
              "    </tr>\n",
              "    <tr>\n",
              "      <th>23998</th>\n",
              "      <td>lifestyle</td>\n",
              "      <td>ಸೆನ್ಸಿಟಿವ್ ಹಲ್ಲುಗಳ ಸಮಸ್ಯೆ ಇದೆಯೇ? ಈ ಮನೆಮದ್ದುಗಳನ...</td>\n",
              "      <td>kn</td>\n",
              "    </tr>\n",
              "    <tr>\n",
              "      <th>23999</th>\n",
              "      <td>lifestyle</td>\n",
              "      <td>ಮಧುಮೇಹ ರೋಗಿಗಳು ಖರ್ಜೂರ ತಿನ್ನಬಹುದೇ?\\nDiabetes\\n|...</td>\n",
              "      <td>kn</td>\n",
              "    </tr>\n",
              "  </tbody>\n",
              "</table>\n",
              "<p>24000 rows × 3 columns</p>\n",
              "</div>\n",
              "      <button class=\"colab-df-convert\" onclick=\"convertToInteractive('df-cd099e6f-8dcb-4f2b-8d09-11228bd5df0d')\"\n",
              "              title=\"Convert this dataframe to an interactive table.\"\n",
              "              style=\"display:none;\">\n",
              "        \n",
              "  <svg xmlns=\"http://www.w3.org/2000/svg\" height=\"24px\"viewBox=\"0 0 24 24\"\n",
              "       width=\"24px\">\n",
              "    <path d=\"M0 0h24v24H0V0z\" fill=\"none\"/>\n",
              "    <path d=\"M18.56 5.44l.94 2.06.94-2.06 2.06-.94-2.06-.94-.94-2.06-.94 2.06-2.06.94zm-11 1L8.5 8.5l.94-2.06 2.06-.94-2.06-.94L8.5 2.5l-.94 2.06-2.06.94zm10 10l.94 2.06.94-2.06 2.06-.94-2.06-.94-.94-2.06-.94 2.06-2.06.94z\"/><path d=\"M17.41 7.96l-1.37-1.37c-.4-.4-.92-.59-1.43-.59-.52 0-1.04.2-1.43.59L10.3 9.45l-7.72 7.72c-.78.78-.78 2.05 0 2.83L4 21.41c.39.39.9.59 1.41.59.51 0 1.02-.2 1.41-.59l7.78-7.78 2.81-2.81c.8-.78.8-2.07 0-2.86zM5.41 20L4 18.59l7.72-7.72 1.47 1.35L5.41 20z\"/>\n",
              "  </svg>\n",
              "      </button>\n",
              "      \n",
              "  <style>\n",
              "    .colab-df-container {\n",
              "      display:flex;\n",
              "      flex-wrap:wrap;\n",
              "      gap: 12px;\n",
              "    }\n",
              "\n",
              "    .colab-df-convert {\n",
              "      background-color: #E8F0FE;\n",
              "      border: none;\n",
              "      border-radius: 50%;\n",
              "      cursor: pointer;\n",
              "      display: none;\n",
              "      fill: #1967D2;\n",
              "      height: 32px;\n",
              "      padding: 0 0 0 0;\n",
              "      width: 32px;\n",
              "    }\n",
              "\n",
              "    .colab-df-convert:hover {\n",
              "      background-color: #E2EBFA;\n",
              "      box-shadow: 0px 1px 2px rgba(60, 64, 67, 0.3), 0px 1px 3px 1px rgba(60, 64, 67, 0.15);\n",
              "      fill: #174EA6;\n",
              "    }\n",
              "\n",
              "    [theme=dark] .colab-df-convert {\n",
              "      background-color: #3B4455;\n",
              "      fill: #D2E3FC;\n",
              "    }\n",
              "\n",
              "    [theme=dark] .colab-df-convert:hover {\n",
              "      background-color: #434B5C;\n",
              "      box-shadow: 0px 1px 3px 1px rgba(0, 0, 0, 0.15);\n",
              "      filter: drop-shadow(0px 1px 2px rgba(0, 0, 0, 0.3));\n",
              "      fill: #FFFFFF;\n",
              "    }\n",
              "  </style>\n",
              "\n",
              "      <script>\n",
              "        const buttonEl =\n",
              "          document.querySelector('#df-cd099e6f-8dcb-4f2b-8d09-11228bd5df0d button.colab-df-convert');\n",
              "        buttonEl.style.display =\n",
              "          google.colab.kernel.accessAllowed ? 'block' : 'none';\n",
              "\n",
              "        async function convertToInteractive(key) {\n",
              "          const element = document.querySelector('#df-cd099e6f-8dcb-4f2b-8d09-11228bd5df0d');\n",
              "          const dataTable =\n",
              "            await google.colab.kernel.invokeFunction('convertToInteractive',\n",
              "                                                     [key], {});\n",
              "          if (!dataTable) return;\n",
              "\n",
              "          const docLinkHtml = 'Like what you see? Visit the ' +\n",
              "            '<a target=\"_blank\" href=https://colab.research.google.com/notebooks/data_table.ipynb>data table notebook</a>'\n",
              "            + ' to learn more about interactive tables.';\n",
              "          element.innerHTML = '';\n",
              "          dataTable['output_type'] = 'display_data';\n",
              "          await google.colab.output.renderOutput(dataTable, element);\n",
              "          const docLink = document.createElement('div');\n",
              "          docLink.innerHTML = docLinkHtml;\n",
              "          element.appendChild(docLink);\n",
              "        }\n",
              "      </script>\n",
              "    </div>\n",
              "  </div>\n",
              "  "
            ]
          },
          "metadata": {},
          "execution_count": 57
        }
      ]
    },
    {
      "cell_type": "code",
      "source": [
        "# Load Malyalam train and test\n",
        "train_ml = pd.read_csv('/content/gdrive/MyDrive/AML_Project/ml/ml-train.csv',names = [\"label\", \"text\"], header=None)\n",
        "train_ml['lang'] = \"ml\"\n",
        "test_ml = pd.read_csv('/content/gdrive/MyDrive/AML_Project/ml/ml-test.csv',names = [\"label\", \"text\"], header=None)\n",
        "test_ml['lang'] = \"ml\"\n",
        "train_ml"
      ],
      "metadata": {
        "colab": {
          "base_uri": "https://localhost:8080/",
          "height": 419
        },
        "id": "pGzIesWRd2MB",
        "outputId": "5c9b7e4f-7d5d-4a39-e99a-9c8dd985dcbb"
      },
      "execution_count": 20,
      "outputs": [
        {
          "output_type": "execute_result",
          "data": {
            "text/plain": [
              "              label                                               text lang\n",
              "0            sports  മത്സര പ്രതിഫലമായി സ്വന്തമാക്കിയത് പതിനേഴ് ദശലക...   ml\n",
              "1            sports  ഇന്ത്യൻ പ്രീമിയർ ലീഗിൽ കൊൽക്കത്ത നൈറ്റ് റൈഡേഴ്...   ml\n",
              "2     entertainment  സിനിമാ മേഖലയിൽ ഇപ്പോൾ ബയോപിക്കുകളുടെ കാലമാണ് ....   ml\n",
              "3          business  കോഴിയിറച്ചിക്ക് കിലോക്ക് 87രൂപ നിശ്ചയിച്ച സംസ്...   ml\n",
              "4            sports  ട്വന്റി - 20 ലോകകപ്പിൽ സൂപ്പർ ടെന്നിലെ ഇന്ത്യാ...   ml\n",
              "...             ...                                                ...  ...\n",
              "4795       business  സ്റ്റേറ്റ് ബാങ്കിൻറെ കറൻസി അഡ്മിനിസ്ട്രേറ്റീവ്...   ml\n",
              "4796  entertainment  മോഹൻലാൽ നായകനായ ഒടിയൻ എന്ന ചിത്രത്തിന്റ കഥ അമേ...   ml\n",
              "4797     technology  ജനുവരിയിൽ വാവ്വേ ഇന്ത്യയിൽ അവതരിപ്പിച്ച ഹോണർ 6...   ml\n",
              "4798  entertainment  തൻറെ ഏറ്റവും പുതിയ ചിത്രം സീറോയുടെ തിരക്കിലാണ്...   ml\n",
              "4799         sports  ചെന്നൈയിൽ തമിഴ്നാട് പ്രിമീയർ ലീഗ് ഉദ്ഘാടനത്തിന...   ml\n",
              "\n",
              "[4800 rows x 3 columns]"
            ],
            "text/html": [
              "\n",
              "  <div id=\"df-30526632-61f4-4696-8065-1f6da4021e64\">\n",
              "    <div class=\"colab-df-container\">\n",
              "      <div>\n",
              "<style scoped>\n",
              "    .dataframe tbody tr th:only-of-type {\n",
              "        vertical-align: middle;\n",
              "    }\n",
              "\n",
              "    .dataframe tbody tr th {\n",
              "        vertical-align: top;\n",
              "    }\n",
              "\n",
              "    .dataframe thead th {\n",
              "        text-align: right;\n",
              "    }\n",
              "</style>\n",
              "<table border=\"1\" class=\"dataframe\">\n",
              "  <thead>\n",
              "    <tr style=\"text-align: right;\">\n",
              "      <th></th>\n",
              "      <th>label</th>\n",
              "      <th>text</th>\n",
              "      <th>lang</th>\n",
              "    </tr>\n",
              "  </thead>\n",
              "  <tbody>\n",
              "    <tr>\n",
              "      <th>0</th>\n",
              "      <td>sports</td>\n",
              "      <td>മത്സര പ്രതിഫലമായി സ്വന്തമാക്കിയത് പതിനേഴ് ദശലക...</td>\n",
              "      <td>ml</td>\n",
              "    </tr>\n",
              "    <tr>\n",
              "      <th>1</th>\n",
              "      <td>sports</td>\n",
              "      <td>ഇന്ത്യൻ പ്രീമിയർ ലീഗിൽ കൊൽക്കത്ത നൈറ്റ് റൈഡേഴ്...</td>\n",
              "      <td>ml</td>\n",
              "    </tr>\n",
              "    <tr>\n",
              "      <th>2</th>\n",
              "      <td>entertainment</td>\n",
              "      <td>സിനിമാ മേഖലയിൽ ഇപ്പോൾ ബയോപിക്കുകളുടെ കാലമാണ് ....</td>\n",
              "      <td>ml</td>\n",
              "    </tr>\n",
              "    <tr>\n",
              "      <th>3</th>\n",
              "      <td>business</td>\n",
              "      <td>കോഴിയിറച്ചിക്ക് കിലോക്ക് 87രൂപ നിശ്ചയിച്ച സംസ്...</td>\n",
              "      <td>ml</td>\n",
              "    </tr>\n",
              "    <tr>\n",
              "      <th>4</th>\n",
              "      <td>sports</td>\n",
              "      <td>ട്വന്റി - 20 ലോകകപ്പിൽ സൂപ്പർ ടെന്നിലെ ഇന്ത്യാ...</td>\n",
              "      <td>ml</td>\n",
              "    </tr>\n",
              "    <tr>\n",
              "      <th>...</th>\n",
              "      <td>...</td>\n",
              "      <td>...</td>\n",
              "      <td>...</td>\n",
              "    </tr>\n",
              "    <tr>\n",
              "      <th>4795</th>\n",
              "      <td>business</td>\n",
              "      <td>സ്റ്റേറ്റ് ബാങ്കിൻറെ കറൻസി അഡ്മിനിസ്ട്രേറ്റീവ്...</td>\n",
              "      <td>ml</td>\n",
              "    </tr>\n",
              "    <tr>\n",
              "      <th>4796</th>\n",
              "      <td>entertainment</td>\n",
              "      <td>മോഹൻലാൽ നായകനായ ഒടിയൻ എന്ന ചിത്രത്തിന്റ കഥ അമേ...</td>\n",
              "      <td>ml</td>\n",
              "    </tr>\n",
              "    <tr>\n",
              "      <th>4797</th>\n",
              "      <td>technology</td>\n",
              "      <td>ജനുവരിയിൽ വാവ്വേ ഇന്ത്യയിൽ അവതരിപ്പിച്ച ഹോണർ 6...</td>\n",
              "      <td>ml</td>\n",
              "    </tr>\n",
              "    <tr>\n",
              "      <th>4798</th>\n",
              "      <td>entertainment</td>\n",
              "      <td>തൻറെ ഏറ്റവും പുതിയ ചിത്രം സീറോയുടെ തിരക്കിലാണ്...</td>\n",
              "      <td>ml</td>\n",
              "    </tr>\n",
              "    <tr>\n",
              "      <th>4799</th>\n",
              "      <td>sports</td>\n",
              "      <td>ചെന്നൈയിൽ തമിഴ്നാട് പ്രിമീയർ ലീഗ് ഉദ്ഘാടനത്തിന...</td>\n",
              "      <td>ml</td>\n",
              "    </tr>\n",
              "  </tbody>\n",
              "</table>\n",
              "<p>4800 rows × 3 columns</p>\n",
              "</div>\n",
              "      <button class=\"colab-df-convert\" onclick=\"convertToInteractive('df-30526632-61f4-4696-8065-1f6da4021e64')\"\n",
              "              title=\"Convert this dataframe to an interactive table.\"\n",
              "              style=\"display:none;\">\n",
              "        \n",
              "  <svg xmlns=\"http://www.w3.org/2000/svg\" height=\"24px\"viewBox=\"0 0 24 24\"\n",
              "       width=\"24px\">\n",
              "    <path d=\"M0 0h24v24H0V0z\" fill=\"none\"/>\n",
              "    <path d=\"M18.56 5.44l.94 2.06.94-2.06 2.06-.94-2.06-.94-.94-2.06-.94 2.06-2.06.94zm-11 1L8.5 8.5l.94-2.06 2.06-.94-2.06-.94L8.5 2.5l-.94 2.06-2.06.94zm10 10l.94 2.06.94-2.06 2.06-.94-2.06-.94-.94-2.06-.94 2.06-2.06.94z\"/><path d=\"M17.41 7.96l-1.37-1.37c-.4-.4-.92-.59-1.43-.59-.52 0-1.04.2-1.43.59L10.3 9.45l-7.72 7.72c-.78.78-.78 2.05 0 2.83L4 21.41c.39.39.9.59 1.41.59.51 0 1.02-.2 1.41-.59l7.78-7.78 2.81-2.81c.8-.78.8-2.07 0-2.86zM5.41 20L4 18.59l7.72-7.72 1.47 1.35L5.41 20z\"/>\n",
              "  </svg>\n",
              "      </button>\n",
              "      \n",
              "  <style>\n",
              "    .colab-df-container {\n",
              "      display:flex;\n",
              "      flex-wrap:wrap;\n",
              "      gap: 12px;\n",
              "    }\n",
              "\n",
              "    .colab-df-convert {\n",
              "      background-color: #E8F0FE;\n",
              "      border: none;\n",
              "      border-radius: 50%;\n",
              "      cursor: pointer;\n",
              "      display: none;\n",
              "      fill: #1967D2;\n",
              "      height: 32px;\n",
              "      padding: 0 0 0 0;\n",
              "      width: 32px;\n",
              "    }\n",
              "\n",
              "    .colab-df-convert:hover {\n",
              "      background-color: #E2EBFA;\n",
              "      box-shadow: 0px 1px 2px rgba(60, 64, 67, 0.3), 0px 1px 3px 1px rgba(60, 64, 67, 0.15);\n",
              "      fill: #174EA6;\n",
              "    }\n",
              "\n",
              "    [theme=dark] .colab-df-convert {\n",
              "      background-color: #3B4455;\n",
              "      fill: #D2E3FC;\n",
              "    }\n",
              "\n",
              "    [theme=dark] .colab-df-convert:hover {\n",
              "      background-color: #434B5C;\n",
              "      box-shadow: 0px 1px 3px 1px rgba(0, 0, 0, 0.15);\n",
              "      filter: drop-shadow(0px 1px 2px rgba(0, 0, 0, 0.3));\n",
              "      fill: #FFFFFF;\n",
              "    }\n",
              "  </style>\n",
              "\n",
              "      <script>\n",
              "        const buttonEl =\n",
              "          document.querySelector('#df-30526632-61f4-4696-8065-1f6da4021e64 button.colab-df-convert');\n",
              "        buttonEl.style.display =\n",
              "          google.colab.kernel.accessAllowed ? 'block' : 'none';\n",
              "\n",
              "        async function convertToInteractive(key) {\n",
              "          const element = document.querySelector('#df-30526632-61f4-4696-8065-1f6da4021e64');\n",
              "          const dataTable =\n",
              "            await google.colab.kernel.invokeFunction('convertToInteractive',\n",
              "                                                     [key], {});\n",
              "          if (!dataTable) return;\n",
              "\n",
              "          const docLinkHtml = 'Like what you see? Visit the ' +\n",
              "            '<a target=\"_blank\" href=https://colab.research.google.com/notebooks/data_table.ipynb>data table notebook</a>'\n",
              "            + ' to learn more about interactive tables.';\n",
              "          element.innerHTML = '';\n",
              "          dataTable['output_type'] = 'display_data';\n",
              "          await google.colab.output.renderOutput(dataTable, element);\n",
              "          const docLink = document.createElement('div');\n",
              "          docLink.innerHTML = docLinkHtml;\n",
              "          element.appendChild(docLink);\n",
              "        }\n",
              "      </script>\n",
              "    </div>\n",
              "  </div>\n",
              "  "
            ]
          },
          "metadata": {},
          "execution_count": 20
        }
      ]
    },
    {
      "cell_type": "code",
      "source": [
        "# Load Bengali train and test\n",
        "train_bn = pd.read_csv('/content/gdrive/MyDrive/AML_Project/bn/bn-train.csv',names = [\"label\", \"text\"], header=None)\n",
        "train_bn['lang'] = \"bn\"\n",
        "test_bn = pd.read_csv('/content/gdrive/MyDrive/AML_Project/bn/bn-test.csv',names = [\"label\", \"text\"], header=None)\n",
        "test_bn['lang'] = \"bn\"\n",
        "train_bn"
      ],
      "metadata": {
        "colab": {
          "base_uri": "https://localhost:8080/",
          "height": 419
        },
        "id": "okrjExpdd2RT",
        "outputId": "cc5de2e2-4dd7-4dd6-ade4-406713d49188"
      },
      "execution_count": 21,
      "outputs": [
        {
          "output_type": "execute_result",
          "data": {
            "text/plain": [
              "               label                                               text lang\n",
              "0      entertainment  শরদিন্দু বন্দ্যোপাধ্যাযের গল্প ‘মগ্ন মৈনাক’ নি...   bn\n",
              "1             sports  # লন্ডনঃ সচিন পুত্র অর্জুন তেন্ডুলকর এখন ক্রিক...   bn\n",
              "2             sports  জাতীয় দলের নির্বাচনে কি রাজনীতির ছোঁয়া থাকে ...   bn\n",
              "3             sports  আইপিএলের ফাইনালে ফের একবার ‘এল ক্ল্যাসিকো’ । র...   bn\n",
              "4      entertainment  # মুম্বইঃ অবেশেষে মুক্তি পেল এ বছরের সবচেয়ে ব...   bn\n",
              "...              ...                                                ...  ...\n",
              "11195         sports  জাতীয় দলের নির্বাচনে কি রাজনীতির ছোঁয়া থাকে ...   bn\n",
              "11196  entertainment  এবার বলিউডে জুটি বাঁধলেন রণবীর সিং ও আলিয়া ভা...   bn\n",
              "11197  entertainment  # মুম্বইঃ না , আর কিছু বাদ রাখলেন না অভিনেতা শ...   bn\n",
              "11198         sports  জাতীয় দলের নির্বাচনে কি রাজনীতির ছোঁয়া থাকে ...   bn\n",
              "11199  entertainment  # মুম্বইঃ প্রয়াত পরিচালক কল্পনা লাজমি । বয়স ...   bn\n",
              "\n",
              "[11200 rows x 3 columns]"
            ],
            "text/html": [
              "\n",
              "  <div id=\"df-b5363efe-0099-42a0-8401-8382de5a9b8a\">\n",
              "    <div class=\"colab-df-container\">\n",
              "      <div>\n",
              "<style scoped>\n",
              "    .dataframe tbody tr th:only-of-type {\n",
              "        vertical-align: middle;\n",
              "    }\n",
              "\n",
              "    .dataframe tbody tr th {\n",
              "        vertical-align: top;\n",
              "    }\n",
              "\n",
              "    .dataframe thead th {\n",
              "        text-align: right;\n",
              "    }\n",
              "</style>\n",
              "<table border=\"1\" class=\"dataframe\">\n",
              "  <thead>\n",
              "    <tr style=\"text-align: right;\">\n",
              "      <th></th>\n",
              "      <th>label</th>\n",
              "      <th>text</th>\n",
              "      <th>lang</th>\n",
              "    </tr>\n",
              "  </thead>\n",
              "  <tbody>\n",
              "    <tr>\n",
              "      <th>0</th>\n",
              "      <td>entertainment</td>\n",
              "      <td>শরদিন্দু বন্দ্যোপাধ্যাযের গল্প ‘মগ্ন মৈনাক’ নি...</td>\n",
              "      <td>bn</td>\n",
              "    </tr>\n",
              "    <tr>\n",
              "      <th>1</th>\n",
              "      <td>sports</td>\n",
              "      <td># লন্ডনঃ সচিন পুত্র অর্জুন তেন্ডুলকর এখন ক্রিক...</td>\n",
              "      <td>bn</td>\n",
              "    </tr>\n",
              "    <tr>\n",
              "      <th>2</th>\n",
              "      <td>sports</td>\n",
              "      <td>জাতীয় দলের নির্বাচনে কি রাজনীতির ছোঁয়া থাকে ...</td>\n",
              "      <td>bn</td>\n",
              "    </tr>\n",
              "    <tr>\n",
              "      <th>3</th>\n",
              "      <td>sports</td>\n",
              "      <td>আইপিএলের ফাইনালে ফের একবার ‘এল ক্ল্যাসিকো’ । র...</td>\n",
              "      <td>bn</td>\n",
              "    </tr>\n",
              "    <tr>\n",
              "      <th>4</th>\n",
              "      <td>entertainment</td>\n",
              "      <td># মুম্বইঃ অবেশেষে মুক্তি পেল এ বছরের সবচেয়ে ব...</td>\n",
              "      <td>bn</td>\n",
              "    </tr>\n",
              "    <tr>\n",
              "      <th>...</th>\n",
              "      <td>...</td>\n",
              "      <td>...</td>\n",
              "      <td>...</td>\n",
              "    </tr>\n",
              "    <tr>\n",
              "      <th>11195</th>\n",
              "      <td>sports</td>\n",
              "      <td>জাতীয় দলের নির্বাচনে কি রাজনীতির ছোঁয়া থাকে ...</td>\n",
              "      <td>bn</td>\n",
              "    </tr>\n",
              "    <tr>\n",
              "      <th>11196</th>\n",
              "      <td>entertainment</td>\n",
              "      <td>এবার বলিউডে জুটি বাঁধলেন রণবীর সিং ও আলিয়া ভা...</td>\n",
              "      <td>bn</td>\n",
              "    </tr>\n",
              "    <tr>\n",
              "      <th>11197</th>\n",
              "      <td>entertainment</td>\n",
              "      <td># মুম্বইঃ না , আর কিছু বাদ রাখলেন না অভিনেতা শ...</td>\n",
              "      <td>bn</td>\n",
              "    </tr>\n",
              "    <tr>\n",
              "      <th>11198</th>\n",
              "      <td>sports</td>\n",
              "      <td>জাতীয় দলের নির্বাচনে কি রাজনীতির ছোঁয়া থাকে ...</td>\n",
              "      <td>bn</td>\n",
              "    </tr>\n",
              "    <tr>\n",
              "      <th>11199</th>\n",
              "      <td>entertainment</td>\n",
              "      <td># মুম্বইঃ প্রয়াত পরিচালক কল্পনা লাজমি । বয়স ...</td>\n",
              "      <td>bn</td>\n",
              "    </tr>\n",
              "  </tbody>\n",
              "</table>\n",
              "<p>11200 rows × 3 columns</p>\n",
              "</div>\n",
              "      <button class=\"colab-df-convert\" onclick=\"convertToInteractive('df-b5363efe-0099-42a0-8401-8382de5a9b8a')\"\n",
              "              title=\"Convert this dataframe to an interactive table.\"\n",
              "              style=\"display:none;\">\n",
              "        \n",
              "  <svg xmlns=\"http://www.w3.org/2000/svg\" height=\"24px\"viewBox=\"0 0 24 24\"\n",
              "       width=\"24px\">\n",
              "    <path d=\"M0 0h24v24H0V0z\" fill=\"none\"/>\n",
              "    <path d=\"M18.56 5.44l.94 2.06.94-2.06 2.06-.94-2.06-.94-.94-2.06-.94 2.06-2.06.94zm-11 1L8.5 8.5l.94-2.06 2.06-.94-2.06-.94L8.5 2.5l-.94 2.06-2.06.94zm10 10l.94 2.06.94-2.06 2.06-.94-2.06-.94-.94-2.06-.94 2.06-2.06.94z\"/><path d=\"M17.41 7.96l-1.37-1.37c-.4-.4-.92-.59-1.43-.59-.52 0-1.04.2-1.43.59L10.3 9.45l-7.72 7.72c-.78.78-.78 2.05 0 2.83L4 21.41c.39.39.9.59 1.41.59.51 0 1.02-.2 1.41-.59l7.78-7.78 2.81-2.81c.8-.78.8-2.07 0-2.86zM5.41 20L4 18.59l7.72-7.72 1.47 1.35L5.41 20z\"/>\n",
              "  </svg>\n",
              "      </button>\n",
              "      \n",
              "  <style>\n",
              "    .colab-df-container {\n",
              "      display:flex;\n",
              "      flex-wrap:wrap;\n",
              "      gap: 12px;\n",
              "    }\n",
              "\n",
              "    .colab-df-convert {\n",
              "      background-color: #E8F0FE;\n",
              "      border: none;\n",
              "      border-radius: 50%;\n",
              "      cursor: pointer;\n",
              "      display: none;\n",
              "      fill: #1967D2;\n",
              "      height: 32px;\n",
              "      padding: 0 0 0 0;\n",
              "      width: 32px;\n",
              "    }\n",
              "\n",
              "    .colab-df-convert:hover {\n",
              "      background-color: #E2EBFA;\n",
              "      box-shadow: 0px 1px 2px rgba(60, 64, 67, 0.3), 0px 1px 3px 1px rgba(60, 64, 67, 0.15);\n",
              "      fill: #174EA6;\n",
              "    }\n",
              "\n",
              "    [theme=dark] .colab-df-convert {\n",
              "      background-color: #3B4455;\n",
              "      fill: #D2E3FC;\n",
              "    }\n",
              "\n",
              "    [theme=dark] .colab-df-convert:hover {\n",
              "      background-color: #434B5C;\n",
              "      box-shadow: 0px 1px 3px 1px rgba(0, 0, 0, 0.15);\n",
              "      filter: drop-shadow(0px 1px 2px rgba(0, 0, 0, 0.3));\n",
              "      fill: #FFFFFF;\n",
              "    }\n",
              "  </style>\n",
              "\n",
              "      <script>\n",
              "        const buttonEl =\n",
              "          document.querySelector('#df-b5363efe-0099-42a0-8401-8382de5a9b8a button.colab-df-convert');\n",
              "        buttonEl.style.display =\n",
              "          google.colab.kernel.accessAllowed ? 'block' : 'none';\n",
              "\n",
              "        async function convertToInteractive(key) {\n",
              "          const element = document.querySelector('#df-b5363efe-0099-42a0-8401-8382de5a9b8a');\n",
              "          const dataTable =\n",
              "            await google.colab.kernel.invokeFunction('convertToInteractive',\n",
              "                                                     [key], {});\n",
              "          if (!dataTable) return;\n",
              "\n",
              "          const docLinkHtml = 'Like what you see? Visit the ' +\n",
              "            '<a target=\"_blank\" href=https://colab.research.google.com/notebooks/data_table.ipynb>data table notebook</a>'\n",
              "            + ' to learn more about interactive tables.';\n",
              "          element.innerHTML = '';\n",
              "          dataTable['output_type'] = 'display_data';\n",
              "          await google.colab.output.renderOutput(dataTable, element);\n",
              "          const docLink = document.createElement('div');\n",
              "          docLink.innerHTML = docLinkHtml;\n",
              "          element.appendChild(docLink);\n",
              "        }\n",
              "      </script>\n",
              "    </div>\n",
              "  </div>\n",
              "  "
            ]
          },
          "metadata": {},
          "execution_count": 21
        }
      ]
    },
    {
      "cell_type": "code",
      "source": [
        "# Load Tamil train and test\n",
        "train_ta = pd.read_csv('/content/gdrive/MyDrive/AML_Project/ta/ta-train.csv',names = [\"label\", \"text\"], header=None)\n",
        "train_ta['lang'] = \"ta\"\n",
        "test_ta = pd.read_csv('/content/gdrive/MyDrive/AML_Project/ta/ta-test.csv',names = [\"label\", \"text\"], header=None)\n",
        "test_ta['lang'] = \"ta\"\n",
        "print(train_ta.shape)\n",
        "print(test_ta.shape)\n",
        "train_ta"
      ],
      "metadata": {
        "colab": {
          "base_uri": "https://localhost:8080/",
          "height": 453
        },
        "id": "rNCd7ouRd2WM",
        "outputId": "6158d6e6-f96a-4cba-92f1-7ddb982ebe75"
      },
      "execution_count": 22,
      "outputs": [
        {
          "output_type": "stream",
          "name": "stdout",
          "text": [
            "(9360, 3)\n",
            "(1170, 3)\n"
          ]
        },
        {
          "output_type": "execute_result",
          "data": {
            "text/plain": [
              "              label                                               text lang\n",
              "0     entertainment  கட் அவுட்டிற்கு பாலாபிஷேகம் செய்து வந்த காலமெல...   ta\n",
              "1     entertainment  தமிழ் சினிமாவில் குணச்சித்திர நடிகராக அறிமுகமா...   ta\n",
              "2     entertainment  மறைந்த முன்னாள் முதலமைச்சர் ஜெயலலிதாவின் மறைவி...   ta\n",
              "3          politics  அமைச்சர் விஜய பாஸ்கரை பதவி நீக்கம் செய்ய வேண்ட...   ta\n",
              "4          politics  ஆர்கே . நகர் இடைத்தேர்தல் களம் சூடுபிடித்துள்ள...   ta\n",
              "...             ...                                                ...  ...\n",
              "9355  entertainment  எம் . ஜி . ஆர் காலத்திலிருந்து விமல் காலம் வரை...   ta\n",
              "9356       politics  கப்பல்கள் மோதிய விவகாரத்தில் கடந்த 8 நாட்களாக ...   ta\n",
              "9357  entertainment  பிக்பாஸ் நிகழ்ச்சியில் தற்போது தலைவியாக இருக்க...   ta\n",
              "9358  entertainment  பரதன் இயக்கத்தில் விஜய் நடித்துள்ள அவருடைய 60வ...   ta\n",
              "9359         sports  இந்திய அணியின் கேப்டன் விராட் கோலி , ஒவ்வொரு ப...   ta\n",
              "\n",
              "[9360 rows x 3 columns]"
            ],
            "text/html": [
              "\n",
              "  <div id=\"df-1a4913fd-75d1-4a8e-aad7-e80a88f26e22\">\n",
              "    <div class=\"colab-df-container\">\n",
              "      <div>\n",
              "<style scoped>\n",
              "    .dataframe tbody tr th:only-of-type {\n",
              "        vertical-align: middle;\n",
              "    }\n",
              "\n",
              "    .dataframe tbody tr th {\n",
              "        vertical-align: top;\n",
              "    }\n",
              "\n",
              "    .dataframe thead th {\n",
              "        text-align: right;\n",
              "    }\n",
              "</style>\n",
              "<table border=\"1\" class=\"dataframe\">\n",
              "  <thead>\n",
              "    <tr style=\"text-align: right;\">\n",
              "      <th></th>\n",
              "      <th>label</th>\n",
              "      <th>text</th>\n",
              "      <th>lang</th>\n",
              "    </tr>\n",
              "  </thead>\n",
              "  <tbody>\n",
              "    <tr>\n",
              "      <th>0</th>\n",
              "      <td>entertainment</td>\n",
              "      <td>கட் அவுட்டிற்கு பாலாபிஷேகம் செய்து வந்த காலமெல...</td>\n",
              "      <td>ta</td>\n",
              "    </tr>\n",
              "    <tr>\n",
              "      <th>1</th>\n",
              "      <td>entertainment</td>\n",
              "      <td>தமிழ் சினிமாவில் குணச்சித்திர நடிகராக அறிமுகமா...</td>\n",
              "      <td>ta</td>\n",
              "    </tr>\n",
              "    <tr>\n",
              "      <th>2</th>\n",
              "      <td>entertainment</td>\n",
              "      <td>மறைந்த முன்னாள் முதலமைச்சர் ஜெயலலிதாவின் மறைவி...</td>\n",
              "      <td>ta</td>\n",
              "    </tr>\n",
              "    <tr>\n",
              "      <th>3</th>\n",
              "      <td>politics</td>\n",
              "      <td>அமைச்சர் விஜய பாஸ்கரை பதவி நீக்கம் செய்ய வேண்ட...</td>\n",
              "      <td>ta</td>\n",
              "    </tr>\n",
              "    <tr>\n",
              "      <th>4</th>\n",
              "      <td>politics</td>\n",
              "      <td>ஆர்கே . நகர் இடைத்தேர்தல் களம் சூடுபிடித்துள்ள...</td>\n",
              "      <td>ta</td>\n",
              "    </tr>\n",
              "    <tr>\n",
              "      <th>...</th>\n",
              "      <td>...</td>\n",
              "      <td>...</td>\n",
              "      <td>...</td>\n",
              "    </tr>\n",
              "    <tr>\n",
              "      <th>9355</th>\n",
              "      <td>entertainment</td>\n",
              "      <td>எம் . ஜி . ஆர் காலத்திலிருந்து விமல் காலம் வரை...</td>\n",
              "      <td>ta</td>\n",
              "    </tr>\n",
              "    <tr>\n",
              "      <th>9356</th>\n",
              "      <td>politics</td>\n",
              "      <td>கப்பல்கள் மோதிய விவகாரத்தில் கடந்த 8 நாட்களாக ...</td>\n",
              "      <td>ta</td>\n",
              "    </tr>\n",
              "    <tr>\n",
              "      <th>9357</th>\n",
              "      <td>entertainment</td>\n",
              "      <td>பிக்பாஸ் நிகழ்ச்சியில் தற்போது தலைவியாக இருக்க...</td>\n",
              "      <td>ta</td>\n",
              "    </tr>\n",
              "    <tr>\n",
              "      <th>9358</th>\n",
              "      <td>entertainment</td>\n",
              "      <td>பரதன் இயக்கத்தில் விஜய் நடித்துள்ள அவருடைய 60வ...</td>\n",
              "      <td>ta</td>\n",
              "    </tr>\n",
              "    <tr>\n",
              "      <th>9359</th>\n",
              "      <td>sports</td>\n",
              "      <td>இந்திய அணியின் கேப்டன் விராட் கோலி , ஒவ்வொரு ப...</td>\n",
              "      <td>ta</td>\n",
              "    </tr>\n",
              "  </tbody>\n",
              "</table>\n",
              "<p>9360 rows × 3 columns</p>\n",
              "</div>\n",
              "      <button class=\"colab-df-convert\" onclick=\"convertToInteractive('df-1a4913fd-75d1-4a8e-aad7-e80a88f26e22')\"\n",
              "              title=\"Convert this dataframe to an interactive table.\"\n",
              "              style=\"display:none;\">\n",
              "        \n",
              "  <svg xmlns=\"http://www.w3.org/2000/svg\" height=\"24px\"viewBox=\"0 0 24 24\"\n",
              "       width=\"24px\">\n",
              "    <path d=\"M0 0h24v24H0V0z\" fill=\"none\"/>\n",
              "    <path d=\"M18.56 5.44l.94 2.06.94-2.06 2.06-.94-2.06-.94-.94-2.06-.94 2.06-2.06.94zm-11 1L8.5 8.5l.94-2.06 2.06-.94-2.06-.94L8.5 2.5l-.94 2.06-2.06.94zm10 10l.94 2.06.94-2.06 2.06-.94-2.06-.94-.94-2.06-.94 2.06-2.06.94z\"/><path d=\"M17.41 7.96l-1.37-1.37c-.4-.4-.92-.59-1.43-.59-.52 0-1.04.2-1.43.59L10.3 9.45l-7.72 7.72c-.78.78-.78 2.05 0 2.83L4 21.41c.39.39.9.59 1.41.59.51 0 1.02-.2 1.41-.59l7.78-7.78 2.81-2.81c.8-.78.8-2.07 0-2.86zM5.41 20L4 18.59l7.72-7.72 1.47 1.35L5.41 20z\"/>\n",
              "  </svg>\n",
              "      </button>\n",
              "      \n",
              "  <style>\n",
              "    .colab-df-container {\n",
              "      display:flex;\n",
              "      flex-wrap:wrap;\n",
              "      gap: 12px;\n",
              "    }\n",
              "\n",
              "    .colab-df-convert {\n",
              "      background-color: #E8F0FE;\n",
              "      border: none;\n",
              "      border-radius: 50%;\n",
              "      cursor: pointer;\n",
              "      display: none;\n",
              "      fill: #1967D2;\n",
              "      height: 32px;\n",
              "      padding: 0 0 0 0;\n",
              "      width: 32px;\n",
              "    }\n",
              "\n",
              "    .colab-df-convert:hover {\n",
              "      background-color: #E2EBFA;\n",
              "      box-shadow: 0px 1px 2px rgba(60, 64, 67, 0.3), 0px 1px 3px 1px rgba(60, 64, 67, 0.15);\n",
              "      fill: #174EA6;\n",
              "    }\n",
              "\n",
              "    [theme=dark] .colab-df-convert {\n",
              "      background-color: #3B4455;\n",
              "      fill: #D2E3FC;\n",
              "    }\n",
              "\n",
              "    [theme=dark] .colab-df-convert:hover {\n",
              "      background-color: #434B5C;\n",
              "      box-shadow: 0px 1px 3px 1px rgba(0, 0, 0, 0.15);\n",
              "      filter: drop-shadow(0px 1px 2px rgba(0, 0, 0, 0.3));\n",
              "      fill: #FFFFFF;\n",
              "    }\n",
              "  </style>\n",
              "\n",
              "      <script>\n",
              "        const buttonEl =\n",
              "          document.querySelector('#df-1a4913fd-75d1-4a8e-aad7-e80a88f26e22 button.colab-df-convert');\n",
              "        buttonEl.style.display =\n",
              "          google.colab.kernel.accessAllowed ? 'block' : 'none';\n",
              "\n",
              "        async function convertToInteractive(key) {\n",
              "          const element = document.querySelector('#df-1a4913fd-75d1-4a8e-aad7-e80a88f26e22');\n",
              "          const dataTable =\n",
              "            await google.colab.kernel.invokeFunction('convertToInteractive',\n",
              "                                                     [key], {});\n",
              "          if (!dataTable) return;\n",
              "\n",
              "          const docLinkHtml = 'Like what you see? Visit the ' +\n",
              "            '<a target=\"_blank\" href=https://colab.research.google.com/notebooks/data_table.ipynb>data table notebook</a>'\n",
              "            + ' to learn more about interactive tables.';\n",
              "          element.innerHTML = '';\n",
              "          dataTable['output_type'] = 'display_data';\n",
              "          await google.colab.output.renderOutput(dataTable, element);\n",
              "          const docLink = document.createElement('div');\n",
              "          docLink.innerHTML = docLinkHtml;\n",
              "          element.appendChild(docLink);\n",
              "        }\n",
              "      </script>\n",
              "    </div>\n",
              "  </div>\n",
              "  "
            ]
          },
          "metadata": {},
          "execution_count": 22
        }
      ]
    },
    {
      "cell_type": "code",
      "source": [
        "# Language classificaiton task starts\n",
        "# Merge the train and test datasets having test and lang columns alone\n",
        "train_all = pd.concat([train_hi, train_bn, train_kn, train_ml, train_ta], ignore_index=True)\n",
        "test_all = pd.concat([test_hi, test_bn, test_kn, test_ml, test_ta], ignore_index=True)\n",
        "train_lang = train_all[[\"lang\", \"text\"]]\n",
        "test_lang = test_all[[\"lang\", \"text\"]]"
      ],
      "metadata": {
        "id": "7JM4KZg-gXBP"
      },
      "execution_count": 58,
      "outputs": []
    },
    {
      "cell_type": "code",
      "source": [
        "train_lang.shape"
      ],
      "metadata": {
        "colab": {
          "base_uri": "https://localhost:8080/"
        },
        "id": "f3UhQo9VaEUt",
        "outputId": "cbfbb139-3361-4e51-f357-25024934d556"
      },
      "execution_count": 24,
      "outputs": [
        {
          "output_type": "execute_result",
          "data": {
            "text/plain": [
              "(52827, 2)"
            ]
          },
          "metadata": {},
          "execution_count": 24
        }
      ]
    },
    {
      "cell_type": "code",
      "source": [
        "test_lang.shape"
      ],
      "metadata": {
        "colab": {
          "base_uri": "https://localhost:8080/"
        },
        "id": "qK0vyr5ANYKM",
        "outputId": "0c5a0000-b0d4-4119-eacc-4ce41156701d"
      },
      "execution_count": 25,
      "outputs": [
        {
          "output_type": "execute_result",
          "data": {
            "text/plain": [
              "(7036, 2)"
            ]
          },
          "metadata": {},
          "execution_count": 25
        }
      ]
    },
    {
      "cell_type": "code",
      "source": [
        "train_lang"
      ],
      "metadata": {
        "colab": {
          "base_uri": "https://localhost:8080/",
          "height": 419
        },
        "id": "mlmv_TlrmP-g",
        "outputId": "57851df3-b38f-4f2d-f755-cc1ed3b83dc2"
      },
      "execution_count": 26,
      "outputs": [
        {
          "output_type": "execute_result",
          "data": {
            "text/plain": [
              "      lang                                               text\n",
              "0       hi  मेट्रो की इस लाइन के चलने से दक्षिणी दिल्ली से...\n",
              "1       hi  नेटिजन यानि इंटरनेट पर सक्रिय नागरिक अब ट्विटर...\n",
              "2       hi  इसमें एक फ़्लाइट एटेनडेंट की मदद की गुहार है औ...\n",
              "3       hi  प्रतीक खुलेपन का, आज़ाद ख्याली का और भीड़ से अ...\n",
              "4       hi  ख़ासकर पिछले 10 साल तक प्रधानमंत्री रहे मनमोहन...\n",
              "...    ...                                                ...\n",
              "52822   ta  எம் . ஜி . ஆர் காலத்திலிருந்து விமல் காலம் வரை...\n",
              "52823   ta  கப்பல்கள் மோதிய விவகாரத்தில் கடந்த 8 நாட்களாக ...\n",
              "52824   ta  பிக்பாஸ் நிகழ்ச்சியில் தற்போது தலைவியாக இருக்க...\n",
              "52825   ta  பரதன் இயக்கத்தில் விஜய் நடித்துள்ள அவருடைய 60வ...\n",
              "52826   ta  இந்திய அணியின் கேப்டன் விராட் கோலி , ஒவ்வொரு ப...\n",
              "\n",
              "[52827 rows x 2 columns]"
            ],
            "text/html": [
              "\n",
              "  <div id=\"df-6f36650d-6ccb-4449-8594-a618e368947b\">\n",
              "    <div class=\"colab-df-container\">\n",
              "      <div>\n",
              "<style scoped>\n",
              "    .dataframe tbody tr th:only-of-type {\n",
              "        vertical-align: middle;\n",
              "    }\n",
              "\n",
              "    .dataframe tbody tr th {\n",
              "        vertical-align: top;\n",
              "    }\n",
              "\n",
              "    .dataframe thead th {\n",
              "        text-align: right;\n",
              "    }\n",
              "</style>\n",
              "<table border=\"1\" class=\"dataframe\">\n",
              "  <thead>\n",
              "    <tr style=\"text-align: right;\">\n",
              "      <th></th>\n",
              "      <th>lang</th>\n",
              "      <th>text</th>\n",
              "    </tr>\n",
              "  </thead>\n",
              "  <tbody>\n",
              "    <tr>\n",
              "      <th>0</th>\n",
              "      <td>hi</td>\n",
              "      <td>मेट्रो की इस लाइन के चलने से दक्षिणी दिल्ली से...</td>\n",
              "    </tr>\n",
              "    <tr>\n",
              "      <th>1</th>\n",
              "      <td>hi</td>\n",
              "      <td>नेटिजन यानि इंटरनेट पर सक्रिय नागरिक अब ट्विटर...</td>\n",
              "    </tr>\n",
              "    <tr>\n",
              "      <th>2</th>\n",
              "      <td>hi</td>\n",
              "      <td>इसमें एक फ़्लाइट एटेनडेंट की मदद की गुहार है औ...</td>\n",
              "    </tr>\n",
              "    <tr>\n",
              "      <th>3</th>\n",
              "      <td>hi</td>\n",
              "      <td>प्रतीक खुलेपन का, आज़ाद ख्याली का और भीड़ से अ...</td>\n",
              "    </tr>\n",
              "    <tr>\n",
              "      <th>4</th>\n",
              "      <td>hi</td>\n",
              "      <td>ख़ासकर पिछले 10 साल तक प्रधानमंत्री रहे मनमोहन...</td>\n",
              "    </tr>\n",
              "    <tr>\n",
              "      <th>...</th>\n",
              "      <td>...</td>\n",
              "      <td>...</td>\n",
              "    </tr>\n",
              "    <tr>\n",
              "      <th>52822</th>\n",
              "      <td>ta</td>\n",
              "      <td>எம் . ஜி . ஆர் காலத்திலிருந்து விமல் காலம் வரை...</td>\n",
              "    </tr>\n",
              "    <tr>\n",
              "      <th>52823</th>\n",
              "      <td>ta</td>\n",
              "      <td>கப்பல்கள் மோதிய விவகாரத்தில் கடந்த 8 நாட்களாக ...</td>\n",
              "    </tr>\n",
              "    <tr>\n",
              "      <th>52824</th>\n",
              "      <td>ta</td>\n",
              "      <td>பிக்பாஸ் நிகழ்ச்சியில் தற்போது தலைவியாக இருக்க...</td>\n",
              "    </tr>\n",
              "    <tr>\n",
              "      <th>52825</th>\n",
              "      <td>ta</td>\n",
              "      <td>பரதன் இயக்கத்தில் விஜய் நடித்துள்ள அவருடைய 60வ...</td>\n",
              "    </tr>\n",
              "    <tr>\n",
              "      <th>52826</th>\n",
              "      <td>ta</td>\n",
              "      <td>இந்திய அணியின் கேப்டன் விராட் கோலி , ஒவ்வொரு ப...</td>\n",
              "    </tr>\n",
              "  </tbody>\n",
              "</table>\n",
              "<p>52827 rows × 2 columns</p>\n",
              "</div>\n",
              "      <button class=\"colab-df-convert\" onclick=\"convertToInteractive('df-6f36650d-6ccb-4449-8594-a618e368947b')\"\n",
              "              title=\"Convert this dataframe to an interactive table.\"\n",
              "              style=\"display:none;\">\n",
              "        \n",
              "  <svg xmlns=\"http://www.w3.org/2000/svg\" height=\"24px\"viewBox=\"0 0 24 24\"\n",
              "       width=\"24px\">\n",
              "    <path d=\"M0 0h24v24H0V0z\" fill=\"none\"/>\n",
              "    <path d=\"M18.56 5.44l.94 2.06.94-2.06 2.06-.94-2.06-.94-.94-2.06-.94 2.06-2.06.94zm-11 1L8.5 8.5l.94-2.06 2.06-.94-2.06-.94L8.5 2.5l-.94 2.06-2.06.94zm10 10l.94 2.06.94-2.06 2.06-.94-2.06-.94-.94-2.06-.94 2.06-2.06.94z\"/><path d=\"M17.41 7.96l-1.37-1.37c-.4-.4-.92-.59-1.43-.59-.52 0-1.04.2-1.43.59L10.3 9.45l-7.72 7.72c-.78.78-.78 2.05 0 2.83L4 21.41c.39.39.9.59 1.41.59.51 0 1.02-.2 1.41-.59l7.78-7.78 2.81-2.81c.8-.78.8-2.07 0-2.86zM5.41 20L4 18.59l7.72-7.72 1.47 1.35L5.41 20z\"/>\n",
              "  </svg>\n",
              "      </button>\n",
              "      \n",
              "  <style>\n",
              "    .colab-df-container {\n",
              "      display:flex;\n",
              "      flex-wrap:wrap;\n",
              "      gap: 12px;\n",
              "    }\n",
              "\n",
              "    .colab-df-convert {\n",
              "      background-color: #E8F0FE;\n",
              "      border: none;\n",
              "      border-radius: 50%;\n",
              "      cursor: pointer;\n",
              "      display: none;\n",
              "      fill: #1967D2;\n",
              "      height: 32px;\n",
              "      padding: 0 0 0 0;\n",
              "      width: 32px;\n",
              "    }\n",
              "\n",
              "    .colab-df-convert:hover {\n",
              "      background-color: #E2EBFA;\n",
              "      box-shadow: 0px 1px 2px rgba(60, 64, 67, 0.3), 0px 1px 3px 1px rgba(60, 64, 67, 0.15);\n",
              "      fill: #174EA6;\n",
              "    }\n",
              "\n",
              "    [theme=dark] .colab-df-convert {\n",
              "      background-color: #3B4455;\n",
              "      fill: #D2E3FC;\n",
              "    }\n",
              "\n",
              "    [theme=dark] .colab-df-convert:hover {\n",
              "      background-color: #434B5C;\n",
              "      box-shadow: 0px 1px 3px 1px rgba(0, 0, 0, 0.15);\n",
              "      filter: drop-shadow(0px 1px 2px rgba(0, 0, 0, 0.3));\n",
              "      fill: #FFFFFF;\n",
              "    }\n",
              "  </style>\n",
              "\n",
              "      <script>\n",
              "        const buttonEl =\n",
              "          document.querySelector('#df-6f36650d-6ccb-4449-8594-a618e368947b button.colab-df-convert');\n",
              "        buttonEl.style.display =\n",
              "          google.colab.kernel.accessAllowed ? 'block' : 'none';\n",
              "\n",
              "        async function convertToInteractive(key) {\n",
              "          const element = document.querySelector('#df-6f36650d-6ccb-4449-8594-a618e368947b');\n",
              "          const dataTable =\n",
              "            await google.colab.kernel.invokeFunction('convertToInteractive',\n",
              "                                                     [key], {});\n",
              "          if (!dataTable) return;\n",
              "\n",
              "          const docLinkHtml = 'Like what you see? Visit the ' +\n",
              "            '<a target=\"_blank\" href=https://colab.research.google.com/notebooks/data_table.ipynb>data table notebook</a>'\n",
              "            + ' to learn more about interactive tables.';\n",
              "          element.innerHTML = '';\n",
              "          dataTable['output_type'] = 'display_data';\n",
              "          await google.colab.output.renderOutput(dataTable, element);\n",
              "          const docLink = document.createElement('div');\n",
              "          docLink.innerHTML = docLinkHtml;\n",
              "          element.appendChild(docLink);\n",
              "        }\n",
              "      </script>\n",
              "    </div>\n",
              "  </div>\n",
              "  "
            ]
          },
          "metadata": {},
          "execution_count": 26
        }
      ]
    },
    {
      "cell_type": "code",
      "source": [
        "test_lang"
      ],
      "metadata": {
        "colab": {
          "base_uri": "https://localhost:8080/",
          "height": 419
        },
        "id": "ydMg6SLlggBI",
        "outputId": "9bd04aec-2069-4fb9-d495-a01a523686c0"
      },
      "execution_count": 42,
      "outputs": [
        {
          "output_type": "execute_result",
          "data": {
            "text/plain": [
              "     lang                                               text\n",
              "0      hi  बुधवार को राज्य सभा में विपक्ष के सवालों के जव...\n",
              "1      hi  लखनऊ स्थित पत्रकार समीरात्मज मिश्र को बुलंदशहर...\n",
              "2      hi  लगभग 1300 हेक्टेयर ज़मीन का अधिग्रहण किया जा च...\n",
              "3      hi  हालांकि उनके अंगरक्षकों को बमों को जाम करने वा...\n",
              "4      hi  आयोग का कहना है कि इस तरह के परीक्षण से महिलाओ...\n",
              "...   ...                                                ...\n",
              "7031   ta  இந்திய வீரர் தினேஷ் கார்த்திக் டக் அவுட்டில் ப...\n",
              "7032   ta  இந்திய கிரிக்கெட் வீரர் முகமது ஷமி சென்ற கார் ...\n",
              "7033   ta  ஷாருக் கான் நடிப்பில் வெளியாகி மிகப்பெரிய வெற்...\n",
              "7034   ta  கிராமத்தையே பார்க்காத ஸ்டாலின் , தற்போது ஊர் ஊ...\n",
              "7035   ta  “மக்கள் படை திரளட்டும் ; மத்திய - மாநில அரசுகள...\n",
              "\n",
              "[7036 rows x 2 columns]"
            ],
            "text/html": [
              "\n",
              "  <div id=\"df-2e2aec2d-9f90-413f-a03c-c916dcc2a88b\">\n",
              "    <div class=\"colab-df-container\">\n",
              "      <div>\n",
              "<style scoped>\n",
              "    .dataframe tbody tr th:only-of-type {\n",
              "        vertical-align: middle;\n",
              "    }\n",
              "\n",
              "    .dataframe tbody tr th {\n",
              "        vertical-align: top;\n",
              "    }\n",
              "\n",
              "    .dataframe thead th {\n",
              "        text-align: right;\n",
              "    }\n",
              "</style>\n",
              "<table border=\"1\" class=\"dataframe\">\n",
              "  <thead>\n",
              "    <tr style=\"text-align: right;\">\n",
              "      <th></th>\n",
              "      <th>lang</th>\n",
              "      <th>text</th>\n",
              "    </tr>\n",
              "  </thead>\n",
              "  <tbody>\n",
              "    <tr>\n",
              "      <th>0</th>\n",
              "      <td>hi</td>\n",
              "      <td>बुधवार को राज्य सभा में विपक्ष के सवालों के जव...</td>\n",
              "    </tr>\n",
              "    <tr>\n",
              "      <th>1</th>\n",
              "      <td>hi</td>\n",
              "      <td>लखनऊ स्थित पत्रकार समीरात्मज मिश्र को बुलंदशहर...</td>\n",
              "    </tr>\n",
              "    <tr>\n",
              "      <th>2</th>\n",
              "      <td>hi</td>\n",
              "      <td>लगभग 1300 हेक्टेयर ज़मीन का अधिग्रहण किया जा च...</td>\n",
              "    </tr>\n",
              "    <tr>\n",
              "      <th>3</th>\n",
              "      <td>hi</td>\n",
              "      <td>हालांकि उनके अंगरक्षकों को बमों को जाम करने वा...</td>\n",
              "    </tr>\n",
              "    <tr>\n",
              "      <th>4</th>\n",
              "      <td>hi</td>\n",
              "      <td>आयोग का कहना है कि इस तरह के परीक्षण से महिलाओ...</td>\n",
              "    </tr>\n",
              "    <tr>\n",
              "      <th>...</th>\n",
              "      <td>...</td>\n",
              "      <td>...</td>\n",
              "    </tr>\n",
              "    <tr>\n",
              "      <th>7031</th>\n",
              "      <td>ta</td>\n",
              "      <td>இந்திய வீரர் தினேஷ் கார்த்திக் டக் அவுட்டில் ப...</td>\n",
              "    </tr>\n",
              "    <tr>\n",
              "      <th>7032</th>\n",
              "      <td>ta</td>\n",
              "      <td>இந்திய கிரிக்கெட் வீரர் முகமது ஷமி சென்ற கார் ...</td>\n",
              "    </tr>\n",
              "    <tr>\n",
              "      <th>7033</th>\n",
              "      <td>ta</td>\n",
              "      <td>ஷாருக் கான் நடிப்பில் வெளியாகி மிகப்பெரிய வெற்...</td>\n",
              "    </tr>\n",
              "    <tr>\n",
              "      <th>7034</th>\n",
              "      <td>ta</td>\n",
              "      <td>கிராமத்தையே பார்க்காத ஸ்டாலின் , தற்போது ஊர் ஊ...</td>\n",
              "    </tr>\n",
              "    <tr>\n",
              "      <th>7035</th>\n",
              "      <td>ta</td>\n",
              "      <td>“மக்கள் படை திரளட்டும் ; மத்திய - மாநில அரசுகள...</td>\n",
              "    </tr>\n",
              "  </tbody>\n",
              "</table>\n",
              "<p>7036 rows × 2 columns</p>\n",
              "</div>\n",
              "      <button class=\"colab-df-convert\" onclick=\"convertToInteractive('df-2e2aec2d-9f90-413f-a03c-c916dcc2a88b')\"\n",
              "              title=\"Convert this dataframe to an interactive table.\"\n",
              "              style=\"display:none;\">\n",
              "        \n",
              "  <svg xmlns=\"http://www.w3.org/2000/svg\" height=\"24px\"viewBox=\"0 0 24 24\"\n",
              "       width=\"24px\">\n",
              "    <path d=\"M0 0h24v24H0V0z\" fill=\"none\"/>\n",
              "    <path d=\"M18.56 5.44l.94 2.06.94-2.06 2.06-.94-2.06-.94-.94-2.06-.94 2.06-2.06.94zm-11 1L8.5 8.5l.94-2.06 2.06-.94-2.06-.94L8.5 2.5l-.94 2.06-2.06.94zm10 10l.94 2.06.94-2.06 2.06-.94-2.06-.94-.94-2.06-.94 2.06-2.06.94z\"/><path d=\"M17.41 7.96l-1.37-1.37c-.4-.4-.92-.59-1.43-.59-.52 0-1.04.2-1.43.59L10.3 9.45l-7.72 7.72c-.78.78-.78 2.05 0 2.83L4 21.41c.39.39.9.59 1.41.59.51 0 1.02-.2 1.41-.59l7.78-7.78 2.81-2.81c.8-.78.8-2.07 0-2.86zM5.41 20L4 18.59l7.72-7.72 1.47 1.35L5.41 20z\"/>\n",
              "  </svg>\n",
              "      </button>\n",
              "      \n",
              "  <style>\n",
              "    .colab-df-container {\n",
              "      display:flex;\n",
              "      flex-wrap:wrap;\n",
              "      gap: 12px;\n",
              "    }\n",
              "\n",
              "    .colab-df-convert {\n",
              "      background-color: #E8F0FE;\n",
              "      border: none;\n",
              "      border-radius: 50%;\n",
              "      cursor: pointer;\n",
              "      display: none;\n",
              "      fill: #1967D2;\n",
              "      height: 32px;\n",
              "      padding: 0 0 0 0;\n",
              "      width: 32px;\n",
              "    }\n",
              "\n",
              "    .colab-df-convert:hover {\n",
              "      background-color: #E2EBFA;\n",
              "      box-shadow: 0px 1px 2px rgba(60, 64, 67, 0.3), 0px 1px 3px 1px rgba(60, 64, 67, 0.15);\n",
              "      fill: #174EA6;\n",
              "    }\n",
              "\n",
              "    [theme=dark] .colab-df-convert {\n",
              "      background-color: #3B4455;\n",
              "      fill: #D2E3FC;\n",
              "    }\n",
              "\n",
              "    [theme=dark] .colab-df-convert:hover {\n",
              "      background-color: #434B5C;\n",
              "      box-shadow: 0px 1px 3px 1px rgba(0, 0, 0, 0.15);\n",
              "      filter: drop-shadow(0px 1px 2px rgba(0, 0, 0, 0.3));\n",
              "      fill: #FFFFFF;\n",
              "    }\n",
              "  </style>\n",
              "\n",
              "      <script>\n",
              "        const buttonEl =\n",
              "          document.querySelector('#df-2e2aec2d-9f90-413f-a03c-c916dcc2a88b button.colab-df-convert');\n",
              "        buttonEl.style.display =\n",
              "          google.colab.kernel.accessAllowed ? 'block' : 'none';\n",
              "\n",
              "        async function convertToInteractive(key) {\n",
              "          const element = document.querySelector('#df-2e2aec2d-9f90-413f-a03c-c916dcc2a88b');\n",
              "          const dataTable =\n",
              "            await google.colab.kernel.invokeFunction('convertToInteractive',\n",
              "                                                     [key], {});\n",
              "          if (!dataTable) return;\n",
              "\n",
              "          const docLinkHtml = 'Like what you see? Visit the ' +\n",
              "            '<a target=\"_blank\" href=https://colab.research.google.com/notebooks/data_table.ipynb>data table notebook</a>'\n",
              "            + ' to learn more about interactive tables.';\n",
              "          element.innerHTML = '';\n",
              "          dataTable['output_type'] = 'display_data';\n",
              "          await google.colab.output.renderOutput(dataTable, element);\n",
              "          const docLink = document.createElement('div');\n",
              "          docLink.innerHTML = docLinkHtml;\n",
              "          element.appendChild(docLink);\n",
              "        }\n",
              "      </script>\n",
              "    </div>\n",
              "  </div>\n",
              "  "
            ]
          },
          "metadata": {},
          "execution_count": 42
        }
      ]
    },
    {
      "cell_type": "code",
      "source": [
        "#Ref https://pytorch.org/tutorials/beginner/text_sentiment_ngrams_tutorial.html\n",
        "\n",
        "from torchtext.data.utils import get_tokenizer\n",
        "from torchtext.vocab import build_vocab_from_iterator\n",
        "\n",
        "tokenizer = get_tokenizer(None) #Can it to different tokenizers among above to experiment\n",
        "\n",
        "def yield_tokens(df):\n",
        "  for _, text in df.iterrows():\n",
        "    yield tokenizer(text[1])\n",
        "\n",
        "vocab = build_vocab_from_iterator(yield_tokens(train_lang), min_freq = 10, specials=[\"<unk>\"])\n",
        "vocab.set_default_index(vocab[\"<unk>\"])\n",
        "#If you don't put min_freq above, the vocab size grows to around million words and the whole\n",
        "#thing gets quite slow. "
      ],
      "metadata": {
        "id": "nRTMEWtxOFey"
      },
      "execution_count": 60,
      "outputs": []
    },
    {
      "cell_type": "code",
      "source": [
        "len(vocab)"
      ],
      "metadata": {
        "colab": {
          "base_uri": "https://localhost:8080/"
        },
        "id": "olzyB-5blNf8",
        "outputId": "5c3fd602-6d27-444a-f6c4-43869d4606e4"
      },
      "execution_count": 28,
      "outputs": [
        {
          "output_type": "execute_result",
          "data": {
            "text/plain": [
              "93763"
            ]
          },
          "metadata": {},
          "execution_count": 28
        }
      ]
    },
    {
      "cell_type": "code",
      "source": [
        "vocab.get_itos()[10:22]"
      ],
      "metadata": {
        "colab": {
          "base_uri": "https://localhost:8080/"
        },
        "id": "fgPZBzoQVCZT",
        "outputId": "39fbb289-b1c8-44bb-fb61-d29b3c99ce66"
      },
      "execution_count": 29,
      "outputs": [
        {
          "output_type": "execute_result",
          "data": {
            "text/plain": [
              "['और', 'से', 'को', 'ಹಾಗೂ', 'এই', 'IST', 'ಎಂದು', 'कि', \"'\", 'का', 'ने', 'ಒಂದು']"
            ]
          },
          "metadata": {},
          "execution_count": 29
        }
      ]
    },
    {
      "cell_type": "code",
      "source": [
        "# Ref: generated text and label processing pipelines\n",
        "language_dict = {'hi':0, 'kn':1, 'ta':2, 'ml':3, 'bn':4 } #language dictionary to convert lang to int\n",
        "text_pipeline = lambda x: vocab(tokenizer(x))\n",
        "label_pipeline = lambda x: int(language_dict[x])\n",
        "# print(text_pipeline('here is tamil கப்பல்கள் மோதிய விவகாரத்தில் கடந்த'))\n",
        "# print(label_pipeline('kn'))"
      ],
      "metadata": {
        "id": "q6kKt1nmlA6Z"
      },
      "execution_count": 61,
      "outputs": []
    },
    {
      "cell_type": "code",
      "source": [
        "# create custom dataset class\n",
        "#https://towardsdatascience.com/how-to-use-datasets-and-dataloader-in-pytorch-for-custom-text-data-270eed7f7c00\n",
        "class CustomTextDataset(Dataset):\n",
        "    def __init__(self, df):\n",
        "        self.labels = df.iloc[:,0]\n",
        "        self.text = df.iloc[:,1]\n",
        " \n",
        "    def __len__(self):\n",
        "        return len(self.labels)\n",
        "\n",
        "    def __getitem__(self, idx):\n",
        "        if idx >= self.__len__():\n",
        "          raise StopIteration\n",
        "        label = self.labels[idx]\n",
        "        text = self.text[idx]\n",
        "        return label, text"
      ],
      "metadata": {
        "id": "3EtrB5qcF8TV"
      },
      "execution_count": 62,
      "outputs": []
    },
    {
      "cell_type": "code",
      "source": [
        "from torch.utils.data.datapipes.iter.utils import IterableWrapperIterDataPipe\n",
        "from torch.utils.data.datapipes.iter.callable import MapperIterDataPipe\n",
        "from torch.utils.data import DataLoader\n",
        "\n",
        "device = torch.device(\"cuda\" if torch.cuda.is_available() else \"cpu\")\n",
        "\n",
        "def collate_batch(batch):\n",
        "    label_list, text_list, offsets = [], [], [0]\n",
        "    for (_label, _text) in batch:\n",
        "      label_list.append(label_pipeline(_label))\n",
        "      processed_text = torch.tensor(text_pipeline(_text), dtype=torch.int64)\n",
        "      text_list.append(processed_text)\n",
        "      offsets.append(processed_text.size(0))\n",
        "    label_list = torch.tensor(label_list, dtype=torch.int64)\n",
        "    offsets = torch.tensor(offsets[:-1]).cumsum(dim=0)\n",
        "    text_list = torch.cat(text_list)\n",
        "    return label_list.to(device), text_list.to(device), offsets.to(device)\n",
        "\n",
        "train_iter = CustomTextDataset(train_lang)\n",
        "dataloader = DataLoader(train_iter, batch_size=32, shuffle=False, collate_fn=collate_batch)"
      ],
      "metadata": {
        "id": "aih6ohPUqLt7"
      },
      "execution_count": 63,
      "outputs": []
    },
    {
      "cell_type": "code",
      "source": [
        "from torch import nn\n",
        "\n",
        "class TextClassificationModel(nn.Module):\n",
        "\n",
        "    def __init__(self, vocab_size, embed_dim, num_class):\n",
        "        super(TextClassificationModel, self).__init__()\n",
        "        self.embedding = nn.EmbeddingBag(vocab_size, embed_dim, sparse=True)\n",
        "        self.fc = nn.Linear(embed_dim, num_class)\n",
        "        self.init_weights()\n",
        "\n",
        "    def init_weights(self):\n",
        "        initrange = 0.5\n",
        "        self.embedding.weight.data.uniform_(-initrange, initrange)\n",
        "        self.fc.weight.data.uniform_(-initrange, initrange)\n",
        "        self.fc.bias.data.zero_()\n",
        "\n",
        "    def forward(self, text, offsets):\n",
        "        embedded = self.embedding(text, offsets)\n",
        "        return self.fc(embedded)"
      ],
      "metadata": {
        "id": "tgE6oArGvJ2s"
      },
      "execution_count": 64,
      "outputs": []
    },
    {
      "cell_type": "code",
      "source": [
        "num_class = len(set([label for (label, text) in enumerate(train_iter)]))\n",
        "vocab_size = len(vocab)\n",
        "emsize = 64\n",
        "model = TextClassificationModel(vocab_size, emsize, num_class).to(device)"
      ],
      "metadata": {
        "id": "wTOCHlQbvJ6H"
      },
      "execution_count": 65,
      "outputs": []
    },
    {
      "cell_type": "code",
      "source": [
        "import time\n",
        "\n",
        "def train(dataloader):\n",
        "    model.train()\n",
        "    total_acc, total_count = 0, 0\n",
        "    log_interval = 500\n",
        "    start_time = time.time()\n",
        "\n",
        "    for idx, (label, text, offsets) in enumerate(dataloader):\n",
        "        optimizer.zero_grad()\n",
        "        predicted_label = model(text, offsets)\n",
        "        loss = criterion(predicted_label, label)\n",
        "        loss.backward()\n",
        "        torch.nn.utils.clip_grad_norm_(model.parameters(), 0.1)\n",
        "        optimizer.step()\n",
        "        total_acc += (predicted_label.argmax(1) == label).sum().item()\n",
        "        total_count += label.size(0)\n",
        "        if idx % log_interval == 0 and idx > 0:\n",
        "            elapsed = time.time() - start_time\n",
        "            print('| epoch {:3d} | {:5d}/{:5d} batches '\n",
        "                  '| accuracy {:8.3f}'.format(epoch, idx, len(dataloader),\n",
        "                                              total_acc/total_count))\n",
        "            total_acc, total_count = 0, 0\n",
        "            start_time = time.time()\n",
        "\n",
        "def evaluate(dataloader):\n",
        "    model.eval()\n",
        "    total_acc, total_count = 0, 0\n",
        "\n",
        "    with torch.no_grad():\n",
        "        for idx, (label, text, offsets) in enumerate(dataloader):\n",
        "            predicted_label = model(text, offsets)\n",
        "            loss = criterion(predicted_label, label)\n",
        "            total_acc += (predicted_label.argmax(1) == label).sum().item()\n",
        "            total_count += label.size(0)\n",
        "    return total_acc/total_count"
      ],
      "metadata": {
        "id": "6y7FiO1IvJ9o"
      },
      "execution_count": 66,
      "outputs": []
    },
    {
      "cell_type": "code",
      "source": [
        "from torch.utils.data.dataset import random_split\n",
        "from torchtext.data.functional import to_map_style_dataset\n",
        "# Hyperparameters\n",
        "EPOCHS = 5 # epoch - it reaches accuracy of 1 in 3 epochs itself. \n",
        "LR = 5  # learning rate\n",
        "BATCH_SIZE = 64 # batch size for training\n",
        "\n",
        "criterion = torch.nn.CrossEntropyLoss()\n",
        "optimizer = torch.optim.SGD(model.parameters(), lr=LR)\n",
        "scheduler = torch.optim.lr_scheduler.StepLR(optimizer, 1.0, gamma=0.1)\n",
        "total_accu = None\n",
        "test_iter = CustomTextDataset(test_lang)\n",
        "train_dataset = to_map_style_dataset(train_iter)\n",
        "test_dataset = to_map_style_dataset(test_iter)\n",
        "num_train = int(len(train_dataset) * 0.95)\n",
        "split_train_, split_valid_ = \\\n",
        "    random_split(train_dataset, [num_train, len(train_dataset) - num_train])\n",
        "\n",
        "train_dataloader = DataLoader(split_train_, batch_size=BATCH_SIZE,\n",
        "                              shuffle=True, collate_fn=collate_batch)\n",
        "valid_dataloader = DataLoader(split_valid_, batch_size=BATCH_SIZE,\n",
        "                              shuffle=True, collate_fn=collate_batch)\n",
        "test_dataloader = DataLoader(test_dataset, batch_size=BATCH_SIZE,\n",
        "                             shuffle=True, collate_fn=collate_batch)\n",
        "\n",
        "for epoch in range(1, EPOCHS + 1):\n",
        "  epoch_start_time = time.time()\n",
        "  train(train_dataloader)\n",
        "  accu_val = evaluate(valid_dataloader)\n",
        "  if total_accu is not None and total_accu > accu_val:\n",
        "    scheduler.step()\n",
        "  else:\n",
        "      total_accu = accu_val\n",
        "  print('-' * 59)\n",
        "  print('| end of epoch {:3d} | time: {:5.2f}s | '\n",
        "        'valid accuracy {:8.3f} '.format(epoch,\n",
        "                                          time.time() - epoch_start_time,\n",
        "                                          accu_val))\n",
        "  print('-' * 59)"
      ],
      "metadata": {
        "id": "10_3h72bj7jI",
        "colab": {
          "base_uri": "https://localhost:8080/",
          "height": 443
        },
        "outputId": "58635a72-41f5-4fa4-8390-def1d6349bee"
      },
      "execution_count": 85,
      "outputs": [
        {
          "output_type": "error",
          "ename": "RuntimeError",
          "evalue": "ignored",
          "traceback": [
            "\u001b[0;31m---------------------------------------------------------------------------\u001b[0m",
            "\u001b[0;31mRuntimeError\u001b[0m                              Traceback (most recent call last)",
            "\u001b[0;32m<ipython-input-85-d66e7aa32f0d>\u001b[0m in \u001b[0;36m<module>\u001b[0;34m()\u001b[0m\n\u001b[1;32m     25\u001b[0m \u001b[0;32mfor\u001b[0m \u001b[0mepoch\u001b[0m \u001b[0;32min\u001b[0m \u001b[0mrange\u001b[0m\u001b[0;34m(\u001b[0m\u001b[0;36m1\u001b[0m\u001b[0;34m,\u001b[0m \u001b[0mEPOCHS\u001b[0m \u001b[0;34m+\u001b[0m \u001b[0;36m1\u001b[0m\u001b[0;34m)\u001b[0m\u001b[0;34m:\u001b[0m\u001b[0;34m\u001b[0m\u001b[0;34m\u001b[0m\u001b[0m\n\u001b[1;32m     26\u001b[0m   \u001b[0mepoch_start_time\u001b[0m \u001b[0;34m=\u001b[0m \u001b[0mtime\u001b[0m\u001b[0;34m.\u001b[0m\u001b[0mtime\u001b[0m\u001b[0;34m(\u001b[0m\u001b[0;34m)\u001b[0m\u001b[0;34m\u001b[0m\u001b[0;34m\u001b[0m\u001b[0m\n\u001b[0;32m---> 27\u001b[0;31m   \u001b[0mtrain\u001b[0m\u001b[0;34m(\u001b[0m\u001b[0mtrain_dataloader\u001b[0m\u001b[0;34m)\u001b[0m\u001b[0;34m\u001b[0m\u001b[0;34m\u001b[0m\u001b[0m\n\u001b[0m\u001b[1;32m     28\u001b[0m   \u001b[0maccu_val\u001b[0m \u001b[0;34m=\u001b[0m \u001b[0mevaluate\u001b[0m\u001b[0;34m(\u001b[0m\u001b[0mvalid_dataloader\u001b[0m\u001b[0;34m)\u001b[0m\u001b[0;34m\u001b[0m\u001b[0;34m\u001b[0m\u001b[0m\n\u001b[1;32m     29\u001b[0m   \u001b[0;32mif\u001b[0m \u001b[0mtotal_accu\u001b[0m \u001b[0;32mis\u001b[0m \u001b[0;32mnot\u001b[0m \u001b[0;32mNone\u001b[0m \u001b[0;32mand\u001b[0m \u001b[0mtotal_accu\u001b[0m \u001b[0;34m>\u001b[0m \u001b[0maccu_val\u001b[0m\u001b[0;34m:\u001b[0m\u001b[0;34m\u001b[0m\u001b[0;34m\u001b[0m\u001b[0m\n",
            "\u001b[0;32m<ipython-input-66-ed4f72b6d783>\u001b[0m in \u001b[0;36mtrain\u001b[0;34m(dataloader)\u001b[0m\n\u001b[1;32m      9\u001b[0m     \u001b[0;32mfor\u001b[0m \u001b[0midx\u001b[0m\u001b[0;34m,\u001b[0m \u001b[0;34m(\u001b[0m\u001b[0mlabel\u001b[0m\u001b[0;34m,\u001b[0m \u001b[0mtext\u001b[0m\u001b[0;34m,\u001b[0m \u001b[0moffsets\u001b[0m\u001b[0;34m)\u001b[0m \u001b[0;32min\u001b[0m \u001b[0menumerate\u001b[0m\u001b[0;34m(\u001b[0m\u001b[0mdataloader\u001b[0m\u001b[0;34m)\u001b[0m\u001b[0;34m:\u001b[0m\u001b[0;34m\u001b[0m\u001b[0;34m\u001b[0m\u001b[0m\n\u001b[1;32m     10\u001b[0m         \u001b[0moptimizer\u001b[0m\u001b[0;34m.\u001b[0m\u001b[0mzero_grad\u001b[0m\u001b[0;34m(\u001b[0m\u001b[0;34m)\u001b[0m\u001b[0;34m\u001b[0m\u001b[0;34m\u001b[0m\u001b[0m\n\u001b[0;32m---> 11\u001b[0;31m         \u001b[0mpredicted_label\u001b[0m \u001b[0;34m=\u001b[0m \u001b[0mmodel\u001b[0m\u001b[0;34m(\u001b[0m\u001b[0mtext\u001b[0m\u001b[0;34m,\u001b[0m \u001b[0moffsets\u001b[0m\u001b[0;34m)\u001b[0m\u001b[0;34m\u001b[0m\u001b[0;34m\u001b[0m\u001b[0m\n\u001b[0m\u001b[1;32m     12\u001b[0m         \u001b[0mloss\u001b[0m \u001b[0;34m=\u001b[0m \u001b[0mcriterion\u001b[0m\u001b[0;34m(\u001b[0m\u001b[0mpredicted_label\u001b[0m\u001b[0;34m,\u001b[0m \u001b[0mlabel\u001b[0m\u001b[0;34m)\u001b[0m\u001b[0;34m\u001b[0m\u001b[0;34m\u001b[0m\u001b[0m\n\u001b[1;32m     13\u001b[0m         \u001b[0mloss\u001b[0m\u001b[0;34m.\u001b[0m\u001b[0mbackward\u001b[0m\u001b[0;34m(\u001b[0m\u001b[0;34m)\u001b[0m\u001b[0;34m\u001b[0m\u001b[0;34m\u001b[0m\u001b[0m\n",
            "\u001b[0;32m/usr/local/lib/python3.7/dist-packages/torch/nn/modules/module.py\u001b[0m in \u001b[0;36m_call_impl\u001b[0;34m(self, *input, **kwargs)\u001b[0m\n\u001b[1;32m   1108\u001b[0m         if not (self._backward_hooks or self._forward_hooks or self._forward_pre_hooks or _global_backward_hooks\n\u001b[1;32m   1109\u001b[0m                 or _global_forward_hooks or _global_forward_pre_hooks):\n\u001b[0;32m-> 1110\u001b[0;31m             \u001b[0;32mreturn\u001b[0m \u001b[0mforward_call\u001b[0m\u001b[0;34m(\u001b[0m\u001b[0;34m*\u001b[0m\u001b[0minput\u001b[0m\u001b[0;34m,\u001b[0m \u001b[0;34m**\u001b[0m\u001b[0mkwargs\u001b[0m\u001b[0;34m)\u001b[0m\u001b[0;34m\u001b[0m\u001b[0;34m\u001b[0m\u001b[0m\n\u001b[0m\u001b[1;32m   1111\u001b[0m         \u001b[0;31m# Do not call functions when jit is used\u001b[0m\u001b[0;34m\u001b[0m\u001b[0;34m\u001b[0m\u001b[0;34m\u001b[0m\u001b[0m\n\u001b[1;32m   1112\u001b[0m         \u001b[0mfull_backward_hooks\u001b[0m\u001b[0;34m,\u001b[0m \u001b[0mnon_full_backward_hooks\u001b[0m \u001b[0;34m=\u001b[0m \u001b[0;34m[\u001b[0m\u001b[0;34m]\u001b[0m\u001b[0;34m,\u001b[0m \u001b[0;34m[\u001b[0m\u001b[0;34m]\u001b[0m\u001b[0;34m\u001b[0m\u001b[0;34m\u001b[0m\u001b[0m\n",
            "\u001b[0;32m<ipython-input-64-5e1a9c025b02>\u001b[0m in \u001b[0;36mforward\u001b[0;34m(self, text, offsets)\u001b[0m\n\u001b[1;32m     16\u001b[0m \u001b[0;34m\u001b[0m\u001b[0m\n\u001b[1;32m     17\u001b[0m     \u001b[0;32mdef\u001b[0m \u001b[0mforward\u001b[0m\u001b[0;34m(\u001b[0m\u001b[0mself\u001b[0m\u001b[0;34m,\u001b[0m \u001b[0mtext\u001b[0m\u001b[0;34m,\u001b[0m \u001b[0moffsets\u001b[0m\u001b[0;34m)\u001b[0m\u001b[0;34m:\u001b[0m\u001b[0;34m\u001b[0m\u001b[0;34m\u001b[0m\u001b[0m\n\u001b[0;32m---> 18\u001b[0;31m         \u001b[0membedded\u001b[0m \u001b[0;34m=\u001b[0m \u001b[0mself\u001b[0m\u001b[0;34m.\u001b[0m\u001b[0membedding\u001b[0m\u001b[0;34m(\u001b[0m\u001b[0mtext\u001b[0m\u001b[0;34m,\u001b[0m \u001b[0moffsets\u001b[0m\u001b[0;34m)\u001b[0m\u001b[0;34m\u001b[0m\u001b[0;34m\u001b[0m\u001b[0m\n\u001b[0m\u001b[1;32m     19\u001b[0m         \u001b[0;32mreturn\u001b[0m \u001b[0mself\u001b[0m\u001b[0;34m.\u001b[0m\u001b[0mfc\u001b[0m\u001b[0;34m(\u001b[0m\u001b[0membedded\u001b[0m\u001b[0;34m)\u001b[0m\u001b[0;34m\u001b[0m\u001b[0;34m\u001b[0m\u001b[0m\n",
            "\u001b[0;32m/usr/local/lib/python3.7/dist-packages/torch/nn/modules/module.py\u001b[0m in \u001b[0;36m_call_impl\u001b[0;34m(self, *input, **kwargs)\u001b[0m\n\u001b[1;32m   1108\u001b[0m         if not (self._backward_hooks or self._forward_hooks or self._forward_pre_hooks or _global_backward_hooks\n\u001b[1;32m   1109\u001b[0m                 or _global_forward_hooks or _global_forward_pre_hooks):\n\u001b[0;32m-> 1110\u001b[0;31m             \u001b[0;32mreturn\u001b[0m \u001b[0mforward_call\u001b[0m\u001b[0;34m(\u001b[0m\u001b[0;34m*\u001b[0m\u001b[0minput\u001b[0m\u001b[0;34m,\u001b[0m \u001b[0;34m**\u001b[0m\u001b[0mkwargs\u001b[0m\u001b[0;34m)\u001b[0m\u001b[0;34m\u001b[0m\u001b[0;34m\u001b[0m\u001b[0m\n\u001b[0m\u001b[1;32m   1111\u001b[0m         \u001b[0;31m# Do not call functions when jit is used\u001b[0m\u001b[0;34m\u001b[0m\u001b[0;34m\u001b[0m\u001b[0;34m\u001b[0m\u001b[0m\n\u001b[1;32m   1112\u001b[0m         \u001b[0mfull_backward_hooks\u001b[0m\u001b[0;34m,\u001b[0m \u001b[0mnon_full_backward_hooks\u001b[0m \u001b[0;34m=\u001b[0m \u001b[0;34m[\u001b[0m\u001b[0;34m]\u001b[0m\u001b[0;34m,\u001b[0m \u001b[0;34m[\u001b[0m\u001b[0;34m]\u001b[0m\u001b[0;34m\u001b[0m\u001b[0;34m\u001b[0m\u001b[0m\n",
            "\u001b[0;32m/usr/local/lib/python3.7/dist-packages/torch/nn/modules/sparse.py\u001b[0m in \u001b[0;36mforward\u001b[0;34m(self, input, offsets, per_sample_weights)\u001b[0m\n\u001b[1;32m    385\u001b[0m                                \u001b[0mself\u001b[0m\u001b[0;34m.\u001b[0m\u001b[0mscale_grad_by_freq\u001b[0m\u001b[0;34m,\u001b[0m \u001b[0mself\u001b[0m\u001b[0;34m.\u001b[0m\u001b[0mmode\u001b[0m\u001b[0;34m,\u001b[0m \u001b[0mself\u001b[0m\u001b[0;34m.\u001b[0m\u001b[0msparse\u001b[0m\u001b[0;34m,\u001b[0m\u001b[0;34m\u001b[0m\u001b[0;34m\u001b[0m\u001b[0m\n\u001b[1;32m    386\u001b[0m                                \u001b[0mper_sample_weights\u001b[0m\u001b[0;34m,\u001b[0m \u001b[0mself\u001b[0m\u001b[0;34m.\u001b[0m\u001b[0minclude_last_offset\u001b[0m\u001b[0;34m,\u001b[0m\u001b[0;34m\u001b[0m\u001b[0;34m\u001b[0m\u001b[0m\n\u001b[0;32m--> 387\u001b[0;31m                                self.padding_idx)\n\u001b[0m\u001b[1;32m    388\u001b[0m \u001b[0;34m\u001b[0m\u001b[0m\n\u001b[1;32m    389\u001b[0m     \u001b[0;32mdef\u001b[0m \u001b[0mextra_repr\u001b[0m\u001b[0;34m(\u001b[0m\u001b[0mself\u001b[0m\u001b[0;34m)\u001b[0m \u001b[0;34m->\u001b[0m \u001b[0mstr\u001b[0m\u001b[0;34m:\u001b[0m\u001b[0;34m\u001b[0m\u001b[0;34m\u001b[0m\u001b[0m\n",
            "\u001b[0;32m/usr/local/lib/python3.7/dist-packages/torch/nn/functional.py\u001b[0m in \u001b[0;36membedding_bag\u001b[0;34m(input, weight, offsets, max_norm, norm_type, scale_grad_by_freq, mode, sparse, per_sample_weights, include_last_offset, padding_idx)\u001b[0m\n\u001b[1;32m   2363\u001b[0m \u001b[0;34m\u001b[0m\u001b[0m\n\u001b[1;32m   2364\u001b[0m     ret, _, _, _ = torch.embedding_bag(\n\u001b[0;32m-> 2365\u001b[0;31m         \u001b[0mweight\u001b[0m\u001b[0;34m,\u001b[0m \u001b[0minput\u001b[0m\u001b[0;34m,\u001b[0m \u001b[0moffsets\u001b[0m\u001b[0;34m,\u001b[0m \u001b[0mscale_grad_by_freq\u001b[0m\u001b[0;34m,\u001b[0m \u001b[0mmode_enum\u001b[0m\u001b[0;34m,\u001b[0m \u001b[0msparse\u001b[0m\u001b[0;34m,\u001b[0m \u001b[0mper_sample_weights\u001b[0m\u001b[0;34m,\u001b[0m \u001b[0minclude_last_offset\u001b[0m\u001b[0;34m,\u001b[0m \u001b[0mpadding_idx\u001b[0m\u001b[0;34m\u001b[0m\u001b[0;34m\u001b[0m\u001b[0m\n\u001b[0m\u001b[1;32m   2366\u001b[0m     )\n\u001b[1;32m   2367\u001b[0m     \u001b[0;32mreturn\u001b[0m \u001b[0mret\u001b[0m\u001b[0;34m\u001b[0m\u001b[0;34m\u001b[0m\u001b[0m\n",
            "\u001b[0;31mRuntimeError\u001b[0m: Expected all tensors to be on the same device, but found at least two devices, cpu and cuda:0! (when checking argument for argument indices in method wrapper___embedding_bag)"
          ]
        }
      ]
    },
    {
      "cell_type": "code",
      "source": [
        "print('Checking the results of test dataset.')\n",
        "accu_test = evaluate(test_dataloader)\n",
        "print('test accuracy {:8.3f}'.format(accu_test))"
      ],
      "metadata": {
        "id": "miKmVCyrj7lr",
        "colab": {
          "base_uri": "https://localhost:8080/",
          "height": 426
        },
        "outputId": "61c9f495-6664-4332-c2b8-aef7e21b5430"
      },
      "execution_count": 84,
      "outputs": [
        {
          "output_type": "stream",
          "name": "stdout",
          "text": [
            "Checking the results of test dataset.\n"
          ]
        },
        {
          "output_type": "error",
          "ename": "RuntimeError",
          "evalue": "ignored",
          "traceback": [
            "\u001b[0;31m---------------------------------------------------------------------------\u001b[0m",
            "\u001b[0;31mRuntimeError\u001b[0m                              Traceback (most recent call last)",
            "\u001b[0;32m<ipython-input-84-bc2bd05ad5aa>\u001b[0m in \u001b[0;36m<module>\u001b[0;34m()\u001b[0m\n\u001b[1;32m      1\u001b[0m \u001b[0mprint\u001b[0m\u001b[0;34m(\u001b[0m\u001b[0;34m'Checking the results of test dataset.'\u001b[0m\u001b[0;34m)\u001b[0m\u001b[0;34m\u001b[0m\u001b[0;34m\u001b[0m\u001b[0m\n\u001b[0;32m----> 2\u001b[0;31m \u001b[0maccu_test\u001b[0m \u001b[0;34m=\u001b[0m \u001b[0mevaluate\u001b[0m\u001b[0;34m(\u001b[0m\u001b[0mtest_dataloader\u001b[0m\u001b[0;34m)\u001b[0m\u001b[0;34m\u001b[0m\u001b[0;34m\u001b[0m\u001b[0m\n\u001b[0m\u001b[1;32m      3\u001b[0m \u001b[0mprint\u001b[0m\u001b[0;34m(\u001b[0m\u001b[0;34m'test accuracy {:8.3f}'\u001b[0m\u001b[0;34m.\u001b[0m\u001b[0mformat\u001b[0m\u001b[0;34m(\u001b[0m\u001b[0maccu_test\u001b[0m\u001b[0;34m)\u001b[0m\u001b[0;34m)\u001b[0m\u001b[0;34m\u001b[0m\u001b[0;34m\u001b[0m\u001b[0m\n",
            "\u001b[0;32m<ipython-input-66-ed4f72b6d783>\u001b[0m in \u001b[0;36mevaluate\u001b[0;34m(dataloader)\u001b[0m\n\u001b[1;32m     30\u001b[0m     \u001b[0;32mwith\u001b[0m \u001b[0mtorch\u001b[0m\u001b[0;34m.\u001b[0m\u001b[0mno_grad\u001b[0m\u001b[0;34m(\u001b[0m\u001b[0;34m)\u001b[0m\u001b[0;34m:\u001b[0m\u001b[0;34m\u001b[0m\u001b[0;34m\u001b[0m\u001b[0m\n\u001b[1;32m     31\u001b[0m         \u001b[0;32mfor\u001b[0m \u001b[0midx\u001b[0m\u001b[0;34m,\u001b[0m \u001b[0;34m(\u001b[0m\u001b[0mlabel\u001b[0m\u001b[0;34m,\u001b[0m \u001b[0mtext\u001b[0m\u001b[0;34m,\u001b[0m \u001b[0moffsets\u001b[0m\u001b[0;34m)\u001b[0m \u001b[0;32min\u001b[0m \u001b[0menumerate\u001b[0m\u001b[0;34m(\u001b[0m\u001b[0mdataloader\u001b[0m\u001b[0;34m)\u001b[0m\u001b[0;34m:\u001b[0m\u001b[0;34m\u001b[0m\u001b[0;34m\u001b[0m\u001b[0m\n\u001b[0;32m---> 32\u001b[0;31m             \u001b[0mpredicted_label\u001b[0m \u001b[0;34m=\u001b[0m \u001b[0mmodel\u001b[0m\u001b[0;34m(\u001b[0m\u001b[0mtext\u001b[0m\u001b[0;34m,\u001b[0m \u001b[0moffsets\u001b[0m\u001b[0;34m)\u001b[0m\u001b[0;34m\u001b[0m\u001b[0;34m\u001b[0m\u001b[0m\n\u001b[0m\u001b[1;32m     33\u001b[0m             \u001b[0mloss\u001b[0m \u001b[0;34m=\u001b[0m \u001b[0mcriterion\u001b[0m\u001b[0;34m(\u001b[0m\u001b[0mpredicted_label\u001b[0m\u001b[0;34m,\u001b[0m \u001b[0mlabel\u001b[0m\u001b[0;34m)\u001b[0m\u001b[0;34m\u001b[0m\u001b[0;34m\u001b[0m\u001b[0m\n\u001b[1;32m     34\u001b[0m             \u001b[0mtotal_acc\u001b[0m \u001b[0;34m+=\u001b[0m \u001b[0;34m(\u001b[0m\u001b[0mpredicted_label\u001b[0m\u001b[0;34m.\u001b[0m\u001b[0margmax\u001b[0m\u001b[0;34m(\u001b[0m\u001b[0;36m1\u001b[0m\u001b[0;34m)\u001b[0m \u001b[0;34m==\u001b[0m \u001b[0mlabel\u001b[0m\u001b[0;34m)\u001b[0m\u001b[0;34m.\u001b[0m\u001b[0msum\u001b[0m\u001b[0;34m(\u001b[0m\u001b[0;34m)\u001b[0m\u001b[0;34m.\u001b[0m\u001b[0mitem\u001b[0m\u001b[0;34m(\u001b[0m\u001b[0;34m)\u001b[0m\u001b[0;34m\u001b[0m\u001b[0;34m\u001b[0m\u001b[0m\n",
            "\u001b[0;32m/usr/local/lib/python3.7/dist-packages/torch/nn/modules/module.py\u001b[0m in \u001b[0;36m_call_impl\u001b[0;34m(self, *input, **kwargs)\u001b[0m\n\u001b[1;32m   1108\u001b[0m         if not (self._backward_hooks or self._forward_hooks or self._forward_pre_hooks or _global_backward_hooks\n\u001b[1;32m   1109\u001b[0m                 or _global_forward_hooks or _global_forward_pre_hooks):\n\u001b[0;32m-> 1110\u001b[0;31m             \u001b[0;32mreturn\u001b[0m \u001b[0mforward_call\u001b[0m\u001b[0;34m(\u001b[0m\u001b[0;34m*\u001b[0m\u001b[0minput\u001b[0m\u001b[0;34m,\u001b[0m \u001b[0;34m**\u001b[0m\u001b[0mkwargs\u001b[0m\u001b[0;34m)\u001b[0m\u001b[0;34m\u001b[0m\u001b[0;34m\u001b[0m\u001b[0m\n\u001b[0m\u001b[1;32m   1111\u001b[0m         \u001b[0;31m# Do not call functions when jit is used\u001b[0m\u001b[0;34m\u001b[0m\u001b[0;34m\u001b[0m\u001b[0;34m\u001b[0m\u001b[0m\n\u001b[1;32m   1112\u001b[0m         \u001b[0mfull_backward_hooks\u001b[0m\u001b[0;34m,\u001b[0m \u001b[0mnon_full_backward_hooks\u001b[0m \u001b[0;34m=\u001b[0m \u001b[0;34m[\u001b[0m\u001b[0;34m]\u001b[0m\u001b[0;34m,\u001b[0m \u001b[0;34m[\u001b[0m\u001b[0;34m]\u001b[0m\u001b[0;34m\u001b[0m\u001b[0;34m\u001b[0m\u001b[0m\n",
            "\u001b[0;32m<ipython-input-64-5e1a9c025b02>\u001b[0m in \u001b[0;36mforward\u001b[0;34m(self, text, offsets)\u001b[0m\n\u001b[1;32m     16\u001b[0m \u001b[0;34m\u001b[0m\u001b[0m\n\u001b[1;32m     17\u001b[0m     \u001b[0;32mdef\u001b[0m \u001b[0mforward\u001b[0m\u001b[0;34m(\u001b[0m\u001b[0mself\u001b[0m\u001b[0;34m,\u001b[0m \u001b[0mtext\u001b[0m\u001b[0;34m,\u001b[0m \u001b[0moffsets\u001b[0m\u001b[0;34m)\u001b[0m\u001b[0;34m:\u001b[0m\u001b[0;34m\u001b[0m\u001b[0;34m\u001b[0m\u001b[0m\n\u001b[0;32m---> 18\u001b[0;31m         \u001b[0membedded\u001b[0m \u001b[0;34m=\u001b[0m \u001b[0mself\u001b[0m\u001b[0;34m.\u001b[0m\u001b[0membedding\u001b[0m\u001b[0;34m(\u001b[0m\u001b[0mtext\u001b[0m\u001b[0;34m,\u001b[0m \u001b[0moffsets\u001b[0m\u001b[0;34m)\u001b[0m\u001b[0;34m\u001b[0m\u001b[0;34m\u001b[0m\u001b[0m\n\u001b[0m\u001b[1;32m     19\u001b[0m         \u001b[0;32mreturn\u001b[0m \u001b[0mself\u001b[0m\u001b[0;34m.\u001b[0m\u001b[0mfc\u001b[0m\u001b[0;34m(\u001b[0m\u001b[0membedded\u001b[0m\u001b[0;34m)\u001b[0m\u001b[0;34m\u001b[0m\u001b[0;34m\u001b[0m\u001b[0m\n",
            "\u001b[0;32m/usr/local/lib/python3.7/dist-packages/torch/nn/modules/module.py\u001b[0m in \u001b[0;36m_call_impl\u001b[0;34m(self, *input, **kwargs)\u001b[0m\n\u001b[1;32m   1108\u001b[0m         if not (self._backward_hooks or self._forward_hooks or self._forward_pre_hooks or _global_backward_hooks\n\u001b[1;32m   1109\u001b[0m                 or _global_forward_hooks or _global_forward_pre_hooks):\n\u001b[0;32m-> 1110\u001b[0;31m             \u001b[0;32mreturn\u001b[0m \u001b[0mforward_call\u001b[0m\u001b[0;34m(\u001b[0m\u001b[0;34m*\u001b[0m\u001b[0minput\u001b[0m\u001b[0;34m,\u001b[0m \u001b[0;34m**\u001b[0m\u001b[0mkwargs\u001b[0m\u001b[0;34m)\u001b[0m\u001b[0;34m\u001b[0m\u001b[0;34m\u001b[0m\u001b[0m\n\u001b[0m\u001b[1;32m   1111\u001b[0m         \u001b[0;31m# Do not call functions when jit is used\u001b[0m\u001b[0;34m\u001b[0m\u001b[0;34m\u001b[0m\u001b[0;34m\u001b[0m\u001b[0m\n\u001b[1;32m   1112\u001b[0m         \u001b[0mfull_backward_hooks\u001b[0m\u001b[0;34m,\u001b[0m \u001b[0mnon_full_backward_hooks\u001b[0m \u001b[0;34m=\u001b[0m \u001b[0;34m[\u001b[0m\u001b[0;34m]\u001b[0m\u001b[0;34m,\u001b[0m \u001b[0;34m[\u001b[0m\u001b[0;34m]\u001b[0m\u001b[0;34m\u001b[0m\u001b[0;34m\u001b[0m\u001b[0m\n",
            "\u001b[0;32m/usr/local/lib/python3.7/dist-packages/torch/nn/modules/sparse.py\u001b[0m in \u001b[0;36mforward\u001b[0;34m(self, input, offsets, per_sample_weights)\u001b[0m\n\u001b[1;32m    385\u001b[0m                                \u001b[0mself\u001b[0m\u001b[0;34m.\u001b[0m\u001b[0mscale_grad_by_freq\u001b[0m\u001b[0;34m,\u001b[0m \u001b[0mself\u001b[0m\u001b[0;34m.\u001b[0m\u001b[0mmode\u001b[0m\u001b[0;34m,\u001b[0m \u001b[0mself\u001b[0m\u001b[0;34m.\u001b[0m\u001b[0msparse\u001b[0m\u001b[0;34m,\u001b[0m\u001b[0;34m\u001b[0m\u001b[0;34m\u001b[0m\u001b[0m\n\u001b[1;32m    386\u001b[0m                                \u001b[0mper_sample_weights\u001b[0m\u001b[0;34m,\u001b[0m \u001b[0mself\u001b[0m\u001b[0;34m.\u001b[0m\u001b[0minclude_last_offset\u001b[0m\u001b[0;34m,\u001b[0m\u001b[0;34m\u001b[0m\u001b[0;34m\u001b[0m\u001b[0m\n\u001b[0;32m--> 387\u001b[0;31m                                self.padding_idx)\n\u001b[0m\u001b[1;32m    388\u001b[0m \u001b[0;34m\u001b[0m\u001b[0m\n\u001b[1;32m    389\u001b[0m     \u001b[0;32mdef\u001b[0m \u001b[0mextra_repr\u001b[0m\u001b[0;34m(\u001b[0m\u001b[0mself\u001b[0m\u001b[0;34m)\u001b[0m \u001b[0;34m->\u001b[0m \u001b[0mstr\u001b[0m\u001b[0;34m:\u001b[0m\u001b[0;34m\u001b[0m\u001b[0;34m\u001b[0m\u001b[0m\n",
            "\u001b[0;32m/usr/local/lib/python3.7/dist-packages/torch/nn/functional.py\u001b[0m in \u001b[0;36membedding_bag\u001b[0;34m(input, weight, offsets, max_norm, norm_type, scale_grad_by_freq, mode, sparse, per_sample_weights, include_last_offset, padding_idx)\u001b[0m\n\u001b[1;32m   2363\u001b[0m \u001b[0;34m\u001b[0m\u001b[0m\n\u001b[1;32m   2364\u001b[0m     ret, _, _, _ = torch.embedding_bag(\n\u001b[0;32m-> 2365\u001b[0;31m         \u001b[0mweight\u001b[0m\u001b[0;34m,\u001b[0m \u001b[0minput\u001b[0m\u001b[0;34m,\u001b[0m \u001b[0moffsets\u001b[0m\u001b[0;34m,\u001b[0m \u001b[0mscale_grad_by_freq\u001b[0m\u001b[0;34m,\u001b[0m \u001b[0mmode_enum\u001b[0m\u001b[0;34m,\u001b[0m \u001b[0msparse\u001b[0m\u001b[0;34m,\u001b[0m \u001b[0mper_sample_weights\u001b[0m\u001b[0;34m,\u001b[0m \u001b[0minclude_last_offset\u001b[0m\u001b[0;34m,\u001b[0m \u001b[0mpadding_idx\u001b[0m\u001b[0;34m\u001b[0m\u001b[0;34m\u001b[0m\u001b[0m\n\u001b[0m\u001b[1;32m   2366\u001b[0m     )\n\u001b[1;32m   2367\u001b[0m     \u001b[0;32mreturn\u001b[0m \u001b[0mret\u001b[0m\u001b[0;34m\u001b[0m\u001b[0;34m\u001b[0m\u001b[0m\n",
            "\u001b[0;31mRuntimeError\u001b[0m: Expected all tensors to be on the same device, but found at least two devices, cpu and cuda:0! (when checking argument for argument indices in method wrapper___embedding_bag)"
          ]
        }
      ]
    },
    {
      "cell_type": "code",
      "source": [
        "lang_labels = {0: 'hindi', 1: 'kannada', 2: 'tamil', 3:'malayalam', 4:'bengali' }\n",
        "\n",
        "test_sentences = [\"क्या कोर्स किया है यार, फोड़ दिया\", \n",
        "                    \"ನೀವು ಎಲ್ಲಿಂದ ಬರ್ತಾ ಇದ್ದೀರಾ ಹೇಳಿ ಸ್ವಲ್ಪ\",\n",
        "                    \"আপনার সাথে দেখা হয়ে ভালো লাগলো।\",\n",
        "                    \"മലയാളം എന്ന പേര് മലകളും സമുദ്രവും ഒത്തു ചേരുന്ന\", \n",
        "                    \"சாம்ராஜ்யத்தை உருவாக்குவதில் சிமோன் முக்கிய பங்கு\"]\n",
        "\n",
        "def predict(text, text_pipeline):\n",
        "    with torch.no_grad():\n",
        "        text = torch.tensor(text_pipeline(text))\n",
        "        output = model(text, torch.tensor([0]))\n",
        "        return output.argmax(1).item()\n",
        "\n",
        "model = model.to('cpu')\n",
        "\n",
        "for i in range(len(test_sentences)):\n",
        "  print(\"This is a %s language\" %lang_labels[predict(test_sentences[i], text_pipeline)])"
      ],
      "metadata": {
        "colab": {
          "base_uri": "https://localhost:8080/"
        },
        "id": "xurJFXOiuJ-d",
        "outputId": "a568cfb1-a5a6-4c03-a459-f6336371dbee"
      },
      "execution_count": 83,
      "outputs": [
        {
          "output_type": "stream",
          "name": "stdout",
          "text": [
            "This is a hindi language\n",
            "This is a kannada language\n",
            "This is a kannada language\n",
            "This is a malayalam language\n",
            "This is a kannada language\n"
          ]
        }
      ]
    },
    {
      "cell_type": "markdown",
      "source": [
        "Credit for datasets: @inproceedings{kakwani2020indicnlpsuite,\n",
        "    title={{IndicNLPSuite: Monolingual Corpora, Evaluation Benchmarks and Pre-trained Multilingual Language Models for Indian Languages}},\n",
        "    author={Divyanshu Kakwani and Anoop Kunchukuttan and Satish Golla and Gokul N.C. and Avik Bhattacharyya and Mitesh M. Khapra and Pratyush Kumar},\n",
        "    year={2020},\n",
        "    booktitle={Findings of EMNLP},\n",
        "}\n",
        "\n"
      ],
      "metadata": {
        "id": "wnBltzx687d5"
      }
    }
  ]
}