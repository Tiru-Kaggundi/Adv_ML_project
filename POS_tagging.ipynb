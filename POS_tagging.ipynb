{
  "nbformat": 4,
  "nbformat_minor": 0,
  "metadata": {
    "colab": {
      "name": "POS_tagging.ipynb",
      "provenance": [],
      "authorship_tag": "ABX9TyOgRNjmVsZAOoiK9zL51bBg",
      "include_colab_link": true
    },
    "kernelspec": {
      "name": "python3",
      "display_name": "Python 3"
    },
    "language_info": {
      "name": "python"
    }
  },
  "cells": [
    {
      "cell_type": "markdown",
      "metadata": {
        "id": "view-in-github",
        "colab_type": "text"
      },
      "source": [
        "<a href=\"https://colab.research.google.com/github/Tiru-Kaggundi/Adv_ML_project/blob/main/POS_tagging.ipynb\" target=\"_parent\"><img src=\"https://colab.research.google.com/assets/colab-badge.svg\" alt=\"Open In Colab\"/></a>"
      ]
    },
    {
      "cell_type": "markdown",
      "source": [
        "The way the part of speech works in Hindi is different from the way it works in latin based languages due to syntactic differences and morphological richness in Hindi language construction and grammar rules. However, from NN point of view, it shouldn’t be very different as we are just tagging the parts of speech based on the training data. We will attempt to develop part of speech tagging for Indian language (Hindi alone) at this milestone. This may be an intensive task if we don’t get good training data and end up generating instances for tagging.\n"
      ],
      "metadata": {
        "id": "-ngLQYXWgZWU"
      }
    },
    {
      "cell_type": "code",
      "source": [
        ""
      ],
      "metadata": {
        "id": "CttGrH0agbO4"
      },
      "execution_count": null,
      "outputs": []
    }
  ]
}