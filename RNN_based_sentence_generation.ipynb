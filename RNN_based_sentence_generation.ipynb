{
  "nbformat": 4,
  "nbformat_minor": 0,
  "metadata": {
    "colab": {
      "name": "RNN_based_sentence_generation.ipynb",
      "provenance": [],
      "machine_shape": "hm",
      "collapsed_sections": [],
      "authorship_tag": "ABX9TyNhYBcpnoy65nGe5Aze7Wgn",
      "include_colab_link": true
    },
    "kernelspec": {
      "name": "python3",
      "display_name": "Python 3"
    },
    "language_info": {
      "name": "python"
    },
    "accelerator": "GPU"
  },
  "cells": [
    {
      "cell_type": "markdown",
      "metadata": {
        "id": "view-in-github",
        "colab_type": "text"
      },
      "source": [
        "<a href=\"https://colab.research.google.com/github/Tiru-Kaggundi/Adv_ML_project/blob/main/RNN_based_sentence_generation.ipynb\" target=\"_parent\"><img src=\"https://colab.research.google.com/assets/colab-badge.svg\" alt=\"Open In Colab\"/></a>"
      ]
    },
    {
      "cell_type": "markdown",
      "source": [
        "Paragraph generation using Transformer models:\n",
        "\n",
        "We will attempt to generate a paragraph of text in Hindi language based on a given prompt. We would attempt to train the model based on available online speech of the Prime Minister of India (Mr Narendra Modi) and examine if the prompt is able to generate a paragraph that matches the style closely. We would also examine if the approach can be extended to some famous authors in Hindi language such as Shri Munshi Premchand.\n"
      ],
      "metadata": {
        "id": "h267_xzWgoQL"
      }
    },
    {
      "cell_type": "code",
      "source": [
        "!pip install torchtext==0.11.2"
      ],
      "metadata": {
        "id": "pfV4WmEc5hx_",
        "outputId": "7e72e524-3401-4465-e6e5-0ff34e8ff60e",
        "colab": {
          "base_uri": "https://localhost:8080/"
        }
      },
      "execution_count": 1,
      "outputs": [
        {
          "output_type": "stream",
          "name": "stdout",
          "text": [
            "Looking in indexes: https://pypi.org/simple, https://us-python.pkg.dev/colab-wheels/public/simple/\n",
            "Collecting torchtext==0.11.2\n",
            "  Downloading torchtext-0.11.2-cp37-cp37m-manylinux1_x86_64.whl (8.0 MB)\n",
            "\u001b[K     |████████████████████████████████| 8.0 MB 4.1 MB/s \n",
            "\u001b[?25hRequirement already satisfied: requests in /usr/local/lib/python3.7/dist-packages (from torchtext==0.11.2) (2.23.0)\n",
            "Requirement already satisfied: tqdm in /usr/local/lib/python3.7/dist-packages (from torchtext==0.11.2) (4.64.0)\n",
            "Collecting torch==1.10.2\n",
            "  Downloading torch-1.10.2-cp37-cp37m-manylinux1_x86_64.whl (881.9 MB)\n",
            "\u001b[K     |██████████████████████████████▎ | 834.1 MB 1.2 MB/s eta 0:00:42tcmalloc: large alloc 1147494400 bytes == 0x3a436000 @  0x7f885593a615 0x592b76 0x4df71e 0x59afff 0x515655 0x549576 0x593fce 0x548ae9 0x51566f 0x549576 0x593fce 0x548ae9 0x5127f1 0x598e3b 0x511f68 0x598e3b 0x511f68 0x598e3b 0x511f68 0x4bc98a 0x532e76 0x594b72 0x515600 0x549576 0x593fce 0x548ae9 0x5127f1 0x549576 0x593fce 0x5118f8 0x593dd7\n",
            "\u001b[K     |████████████████████████████████| 881.9 MB 1.9 kB/s \n",
            "\u001b[?25hRequirement already satisfied: numpy in /usr/local/lib/python3.7/dist-packages (from torchtext==0.11.2) (1.21.6)\n",
            "Requirement already satisfied: typing-extensions in /usr/local/lib/python3.7/dist-packages (from torch==1.10.2->torchtext==0.11.2) (4.2.0)\n",
            "Requirement already satisfied: urllib3!=1.25.0,!=1.25.1,<1.26,>=1.21.1 in /usr/local/lib/python3.7/dist-packages (from requests->torchtext==0.11.2) (1.24.3)\n",
            "Requirement already satisfied: idna<3,>=2.5 in /usr/local/lib/python3.7/dist-packages (from requests->torchtext==0.11.2) (2.10)\n",
            "Requirement already satisfied: chardet<4,>=3.0.2 in /usr/local/lib/python3.7/dist-packages (from requests->torchtext==0.11.2) (3.0.4)\n",
            "Requirement already satisfied: certifi>=2017.4.17 in /usr/local/lib/python3.7/dist-packages (from requests->torchtext==0.11.2) (2022.5.18.1)\n",
            "Installing collected packages: torch, torchtext\n",
            "  Attempting uninstall: torch\n",
            "    Found existing installation: torch 1.11.0+cu113\n",
            "    Uninstalling torch-1.11.0+cu113:\n",
            "      Successfully uninstalled torch-1.11.0+cu113\n",
            "  Attempting uninstall: torchtext\n",
            "    Found existing installation: torchtext 0.12.0\n",
            "    Uninstalling torchtext-0.12.0:\n",
            "      Successfully uninstalled torchtext-0.12.0\n",
            "\u001b[31mERROR: pip's dependency resolver does not currently take into account all the packages that are installed. This behaviour is the source of the following dependency conflicts.\n",
            "torchvision 0.12.0+cu113 requires torch==1.11.0, but you have torch 1.10.2 which is incompatible.\n",
            "torchaudio 0.11.0+cu113 requires torch==1.11.0, but you have torch 1.10.2 which is incompatible.\u001b[0m\n",
            "Successfully installed torch-1.10.2 torchtext-0.11.2\n"
          ]
        }
      ]
    },
    {
      "cell_type": "code",
      "source": [
        "# On Colab, you'll see ('1.10.2+cu102', '0.11.2')\n",
        "import torch, torchtext\n",
        "torch.__version__, torchtext.__version__"
      ],
      "metadata": {
        "id": "VmXOQMwr5tLY",
        "outputId": "2bcd188c-d396-4eff-c24b-7d77712cd69f",
        "colab": {
          "base_uri": "https://localhost:8080/"
        }
      },
      "execution_count": 2,
      "outputs": [
        {
          "output_type": "execute_result",
          "data": {
            "text/plain": [
              "('1.10.2+cu102', '0.11.2')"
            ]
          },
          "metadata": {},
          "execution_count": 2
        }
      ]
    },
    {
      "cell_type": "code",
      "source": [
        "from torchtext.vocab import Vectors\n",
        "import numpy as np\n",
        "import random\n",
        "\n",
        "USE_CUDA = torch.cuda.is_available()\n",
        "\n",
        "if USE_CUDA:\n",
        "    DEVICE = torch.device('cuda')\n",
        "    print(\"Using cuda.\")\n",
        "else:\n",
        "    DEVICE = torch.device('cpu')\n",
        "    print(\"Using cpu.\")\n",
        "\n",
        "random.seed(30255)\n",
        "np.random.seed(30255)\n",
        "torch.manual_seed(30255)\n",
        "if USE_CUDA:\n",
        "    torch.cuda.manual_seed(30255)\n",
        "\n",
        "# Change the following to false when training on\n",
        "# the full set\n",
        "#DEVELOPING = False    \n",
        "DEVELOPING = True\n",
        "\n",
        "if DEVELOPING:\n",
        "    print('Small development version')\n",
        "    BATCH_SIZE = 4\n",
        "    EMBEDDING_SIZE = 20\n",
        "    MAX_VOCAB_SIZE = 5000\n",
        "    TRAIN_DATA_SET = \"lm-train-small.txt\"\n",
        "    DEV_DATA_SET = \"lm-dev-small.txt\"\n",
        "    TEST_DATA_SET = \"lm-test-small.txt\"\n",
        "    BPTT_LENGTH = 8\n",
        "else:\n",
        "    print('Full version')\n",
        "    BATCH_SIZE = 32\n",
        "    EMBEDDING_SIZE = 650\n",
        "    MAX_VOCAB_SIZE = 50000\n",
        "    TRAIN_DATA_SET = \"lm-train.txt\"\n",
        "    DEV_DATA_SET = \"lm-dev.txt\"\n",
        "    TEST_DATA_SET = \"lm-test.txt\"\n",
        "    BPTT_LENGTH = 32\n",
        "\n",
        "# For uploading data to Colab see, e.g., \n",
        "# https://medium.com/@philipplies/transferring-data-from-google-drive-to-google-cloud-storage-using-google-colab-96e088a8c041    \n",
        "# COLAB = False\n",
        "COLAB = True\n",
        "if COLAB:\n",
        "    from google.colab import drive \n",
        "    drive.mount('/content/gdrive')\n",
        "    PATH = \"gdrive/My Drive/AML_Project/datasets_hindi_wiki\"\n",
        "else:\n",
        "    PATH = \"/Users/tiru/Documents/Documents_new/Adv_ML/hindi_wiki_55k\"\n",
        "    \n",
        "LOG_FILE = \"language-model.log\""
      ],
      "metadata": {
        "id": "YbwLnZ1S6N7D",
        "outputId": "ec717d84-73a9-4309-b456-f8463e12459c",
        "colab": {
          "base_uri": "https://localhost:8080/"
        }
      },
      "execution_count": 3,
      "outputs": [
        {
          "output_type": "stream",
          "name": "stdout",
          "text": [
            "Using cuda.\n",
            "Small development version\n",
            "Mounted at /content/gdrive\n"
          ]
        }
      ]
    },
    {
      "cell_type": "code",
      "source": [
        "# This command is to unmount gdrive - need it sometimes\n",
        "#!fusermount -u gdrive"
      ],
      "metadata": {
        "id": "AX6BNsPo6yb5"
      },
      "execution_count": 4,
      "outputs": []
    },
    {
      "cell_type": "code",
      "source": [
        "TEXT = torchtext.legacy.data.Field(lower=True)\n",
        "\n",
        "train, val, test = torchtext.legacy.datasets.LanguageModelingDataset.splits(path=PATH, \n",
        "    train=TRAIN_DATA_SET, validation=DEV_DATA_SET, test=TEST_DATA_SET, text_field=TEXT)\n",
        "\n",
        "TEXT.build_vocab(train, max_size=MAX_VOCAB_SIZE)\n",
        "VOCAB_SIZE = len(TEXT.vocab)\n",
        "\n",
        "print(f'Vocabulary size: {VOCAB_SIZE}')\n",
        "\n",
        "train_iter, val_iter, test_iter = torchtext.legacy.data.BPTTIterator.splits(\n",
        "    (train, val, test), batch_size=BATCH_SIZE, device=DEVICE, bptt_len=BPTT_LENGTH, \n",
        "    repeat=False)"
      ],
      "metadata": {
        "id": "QL2LOrSR6z7Q",
        "outputId": "9c15edea-f947-4929-eba0-a57ea6ba261f",
        "colab": {
          "base_uri": "https://localhost:8080/"
        }
      },
      "execution_count": 5,
      "outputs": [
        {
          "output_type": "stream",
          "name": "stdout",
          "text": [
            "Vocabulary size: 5002\n"
          ]
        }
      ]
    },
    {
      "cell_type": "code",
      "source": [
        "it = iter(train_iter)\n",
        "batch=next(it)\n",
        "print(\"The first three text/target sequences from the first batch are:\\n\")\n",
        "indent = \" \" * 4\n",
        "for j in range(3):\n",
        "    print(indent, f\"Text Sequence {j}:\", \n",
        "          \" \".join([TEXT.vocab.itos[i] for i in batch.text[:,j].data]))\n",
        "    print(indent, f\"Target Sequence {j}:\",\n",
        "          \" \".join([TEXT.vocab.itos[i] for i in batch.target[:,j].data]))\n",
        "    print()\n",
        " \n",
        "print(f\"Each sequence has BPTT_LENGTH = {BPTT_LENGTH}.\\n\")\n",
        "print(\"Also the sequences continue in the next batch!\\n\")\n",
        "batch = next(it)\n",
        "for j in range(3):\n",
        "    print(indent, f\"Text Sequence {j}:\", \n",
        "          \" \".join([TEXT.vocab.itos[i] for i in batch.text[:,j].data]))\n",
        "    print(indent, f\"Target Sequence {j}:\",\n",
        "          \" \".join([TEXT.vocab.itos[i] for i in batch.target[:,j].data]))\n",
        "    print()"
      ],
      "metadata": {
        "id": "m85m3IXt7OGP",
        "outputId": "1bcdee3d-1e0a-4fac-f9db-c7ccb2c810d0",
        "colab": {
          "base_uri": "https://localhost:8080/"
        }
      },
      "execution_count": 6,
      "outputs": [
        {
          "output_type": "stream",
          "name": "stdout",
          "text": [
            "The first three text/target sequences from the first batch are:\n",
            "\n",
            "     Text Sequence 0: <eos> तस्मानियाई डैविल एक मांसाहारी धानीप्राणी है जो\n",
            "     Target Sequence 0: तस्मानियाई डैविल एक मांसाहारी धानीप्राणी है जो अब\n",
            "\n",
            "     Text Sequence 1: जिसे ठीक से समझा नहीं गया। डैविल की\n",
            "     Target Sequence 1: ठीक से समझा नहीं गया। डैविल की <unk>\n",
            "\n",
            "     Text Sequence 2: <unk> ब्रिटेन की अग्रणी दृश्य कलाओं के संगठनों\n",
            "     Target Sequence 2: ब्रिटेन की अग्रणी दृश्य कलाओं के संगठनों में\n",
            "\n",
            "Each sequence has BPTT_LENGTH = 8.\n",
            "\n",
            "Also the sequences continue in the next batch!\n",
            "\n",
            "     Text Sequence 0: अब केवल ऑस्ट्रेलिया के द्वीप राज्य तस्मानिया के\n",
            "     Target Sequence 0: केवल ऑस्ट्रेलिया के द्वीप राज्य तस्मानिया के जंगलों\n",
            "\n",
            "     Text Sequence 1: <unk> का आकार शरीर की तुलना में बहुत\n",
            "     Target Sequence 1: का आकार शरीर की तुलना में बहुत बड़ा\n",
            "\n",
            "     Text Sequence 2: में से एक है। प्रमुख ब्रिटिश कलाकारों में\n",
            "     Target Sequence 2: से एक है। प्रमुख ब्रिटिश कलाकारों में शामिल\n",
            "\n"
          ]
        }
      ]
    },
    {
      "cell_type": "code",
      "source": [
        "import torch\n",
        "import torch.nn as nn\n",
        "\n",
        "\n",
        "class RNNLM(nn.Module):\n",
        "    \"\"\" Container module with an linear encoder/embedding, an RNN module, and a linear decoder.\n",
        "    \"\"\"\n",
        "\n",
        "    def __init__(self, rnn_type, vocab_size, embedding_dim, hidden_dim, num_layers, \n",
        "                 dropout=0.5):\n",
        "        ''' Initialize model parameters corresponding to ---\n",
        "            - embedding layer\n",
        "            - recurrent neural network layer---one of LSTM, GRU, or RNN---with \n",
        "              optionally more than one layer\n",
        "            - linear layer to map from hidden vector to the vocabulary\n",
        "            - optionally, dropout layers.  Dropout layers can be placed after \n",
        "              the embedding layer or/and after the RNN layer. Dropout within\n",
        "              an RNN is only applied when there are two or more num_layers.\n",
        "            - optionally, initialize the model parameters.\n",
        "            \n",
        "            The arguments are:\n",
        "            \n",
        "            rnn_type: One of 'LSTM', 'GRU', 'RNN_TANH', 'RNN_RELU'\n",
        "            vocab_size: size of vocabulary\n",
        "            embedding_dim: size of an embedding vector\n",
        "            hidden_dim: size of hidden/state vector in RNN\n",
        "            num_layers: number of layers in RNN\n",
        "            dropout: dropout probability.\n",
        "            \n",
        "        '''\n",
        "        super(RNNLM, self).__init__()\n",
        "        \n",
        "        ## YOUR CODE HERE ##\n",
        "\n",
        "        # Embedding layer definition: \n",
        "        self.embedding = nn.Embedding(vocab_size, embedding_dim)\n",
        "\n",
        "        # RNN definition - depnding on input type requested for RNN\n",
        "        if rnn_type == 'LSTM':\n",
        "          self.rnn = nn.LSTM(embedding_dim, hidden_dim, num_layers=num_layers, dropout=dropout)\n",
        "        elif rnn_type == 'GRU':\n",
        "          self.rnn = nn.GRU(embedding_dim, hidden_dim, num_layers=num_layers, dropout=dropout)\n",
        "        elif rnn_type == 'RNN_TANH':\n",
        "          self.rnn = nn.RNN(embedding_dim, hidden_dim, num_layers=num_layers, nonlinearity='tanh', dropout=dropout)\n",
        "        elif rnn_type == 'RNN_RELU':\n",
        "          self.rnn = nn.RNN(embedding_dim, hidden_dim, num_layers=num_layers, nonlinearity='relu', dropout=dropout)\n",
        "        else:\n",
        "          print(\"Enter one of the four inputs : LSTM/GRU/RNN_TANH/RNN_RELU\")  \n",
        "        \n",
        "        self.fc = nn.Linear(hidden_dim, vocab_size) \n",
        "\n",
        "\n",
        "    def forward(self, input, hidden0):\n",
        "        ''' \n",
        "        Run forward propagation for a given minibatch of inputs using\n",
        "        hidden0 as the initial hidden state.\n",
        "\n",
        "        In LSTMs hidden0 = (h_0, c_0). \n",
        "\n",
        "        The output of the RNN includes the hidden vector hiddenn = (h_n, c_n).\n",
        "        Return this as well so that it can be used to initialize the next\n",
        "        batch.\n",
        "        \n",
        "        Unlike previous homework sets do not apply softmax or logsoftmax here, since we'll use\n",
        "        the more efficient CrossEntropyLoss.  See \n",
        "        https://pytorch.org/docs/stable/generated/torch.nn.CrossEntropyLoss.html.\n",
        "        '''\n",
        "\n",
        "        embeds = self.embedding(input)\n",
        "        output_n, hidden_n = self.rnn(embeds, hidden0)\n",
        "        output_n = self.fc(output_n)\n",
        "\n",
        "        return output_n, hidden_n"
      ],
      "metadata": {
        "id": "pZnt4_BG7OIo"
      },
      "execution_count": 7,
      "outputs": []
    },
    {
      "cell_type": "code",
      "source": [
        "def evaluate(model, data):\n",
        "    '''\n",
        "    Evaluate the model on the given data.\n",
        "    '''\n",
        "\n",
        "    model.eval()\n",
        "    it = iter(data)\n",
        "    total_count = 0. # Number of target words seen\n",
        "    total_loss = 0. # Loss over all target words\n",
        "    with torch.no_grad():\n",
        "        # No gradients need to be maintained during evaluation\n",
        "        # There are no hidden tensors for the first batch, and so will default to zeros.\n",
        "        hidden = None \n",
        "        for i, batch in enumerate(it):\n",
        "            ''' Do the following:\n",
        "                - Extract the text and target from the batch, and if using CUDA (essentially, using GPUs), place \n",
        "                  the tensors on cuda, using a commands such as \"text = text.cuda()\".  More details are at\n",
        "                  https://pytorch.org/docs/stable/notes/cuda.html.\n",
        "                - Pass the hidden state vector from output of previous batch as the initial hidden vector for\n",
        "                  the current batch. \n",
        "                - Call forward propagation to get output and final hidden state vector.\n",
        "                - Compute the cross entropy loss\n",
        "                - The loss_fn computes the average loss per target word in the batch.  Count the number of target\n",
        "                  words in the batch (it is usually the same, except for the last batch), and use it to track the \n",
        "                  total count (of target words) and total loss see so far over all batches.\n",
        "            '''\n",
        "            text, target = batch.text, batch.target\n",
        "            if USE_CUDA:\n",
        "                text, target = text.cuda(), target.cuda()\n",
        "            output, hidden = model(text, hidden)\n",
        "            loss = loss_fn(output.view(-1, output.size(-1)), target.view(-1))\n",
        "                  \n",
        "            total_count += np.multiply(*text.size())\n",
        "            total_loss += loss.item()*np.multiply(*text.size())\n",
        "                \n",
        "    loss = total_loss / total_count\n",
        "    model.train()\n",
        "    return loss"
      ],
      "metadata": {
        "id": "4R5Km6mq7OK-"
      },
      "execution_count": 8,
      "outputs": []
    },
    {
      "cell_type": "code",
      "source": [
        "GRAD_CLIP = 1.\n",
        "NUM_EPOCHS = 3\n",
        "CUDA_LAUNCH_BLOCKING = \"1\"\n",
        "\n",
        "def repackage_hidden(h):\n",
        "    \"\"\"Wraps hidden states in new Tensors, to detach them from their history.\"\"\"\n",
        "    if h is None:\n",
        "        return None\n",
        "    elif isinstance(h, torch.Tensor):\n",
        "        return h.detach()\n",
        "    else:\n",
        "        return tuple(repackage_hidden(v) for v in h)\n",
        "\n",
        "\n",
        "''' Do the following:\n",
        "    - Extract the text and target from the batch, and if using CUDA (essentially, using GPUs), place \n",
        "      the tensors on cuda, using a commands such as \"text = text.cuda()\".  More details are at\n",
        "      https://pytorch.org/docs/stable/tensors.html#torch.Tensor.cuda -DONE\n",
        "    - Pass the hidden state vector from output of previous batch as the initial hidden vector for\n",
        "      the current batch. But detach each tensor in the hidden state vector using tensor.detach() or\n",
        "      the provided repackage_hidden(). See\n",
        "      https://pytorch.org/docs/master/generated/torch.Tensor.detach_.html#torch-tensor-detach\n",
        "    - Zero out the model gradients to reset backpropagation for current batch\n",
        "    - Call forward propagation to get output and final hidden state vector.\n",
        "    - Compute the cross entropy loss\n",
        "    - Run back propagation to set the gradients for each model parameter.\n",
        "    - Clip the gradients that may have exploded. See Sec 5.2.4 in the Goldberg textbook, and\n",
        "      https://pytorch.org/docs/master/generated/torch.nn.utils.clip_grad_norm_.html#torch-nn-utils-clip-grad-norm\n",
        "    - Run a step of gradient descent. \n",
        "    - Print the batch loss after every few iterations. (Say every 100 when developing, every 1000 otherwise.)\n",
        "    - Evaluate your model on the validation set after every, say, 10000 iterations and save it to val_losses. If\n",
        "      your model has the lowest validation loss so far, copy it to best_model. For that it is recommended that\n",
        "      copy the state_dict rather than use deepcopy, since the latter doesn't work on Colab.  See discussion at \n",
        "      https://discuss.pytorch.org/t/deep-copying-pytorch-modules/13514. This is Early Stopping and is described\n",
        "      in Sec 2.3.1 of Lecture notes by Cho: \n",
        "      https://github.com/nyu-dl/NLP_DL_Lecture_Note/blob/master/lecture_note.pdf\n",
        "'''\n",
        "\n",
        "\n",
        "model = RNNLM(\"LSTM\", VOCAB_SIZE, EMBEDDING_SIZE, EMBEDDING_SIZE, 2, dropout=0.5)\n",
        "print(\"model:\", model)\n",
        "print(\"use_cuda_status: \", USE_CUDA)\n",
        "if USE_CUDA:\n",
        "  model = model.cuda()\n",
        "\n",
        "loss_fn = nn.CrossEntropyLoss() ## Used instead of NLLLoss.\n",
        "learning_rate = 0.001\n",
        "optimizer = torch.optim.Adam(model.parameters(), lr=learning_rate)\n",
        "val_losses = []\n",
        "best_model = RNNLM(\"LSTM\", VOCAB_SIZE, EMBEDDING_SIZE, EMBEDDING_SIZE, 2, dropout=0.5)\n",
        "\n",
        "\n",
        "for epoch in range(NUM_EPOCHS):\n",
        "    model.train()\n",
        "    log_interval = 1000\n",
        "    it = iter(train_iter)\n",
        "    # There are no hidden tensors for the first batch, and so will default to zeros.\n",
        "    hidden = None\n",
        "\n",
        "    for i, batch in enumerate(it):\n",
        "      model.zero_grad()\n",
        "      text, target = batch.text, batch.target\n",
        "      if USE_CUDA:\n",
        "        text, target = text.cuda(), target.cuda()\n",
        "      output_n, hidden_n = model(text, hidden)\n",
        "      hidden = repackage_hidden(hidden_n)\n",
        "      loss = loss_fn(output_n.view(-1, output_n.size(-1)), target.view(-1))\n",
        "\n",
        "      loss.backward()\n",
        "      optimizer.step()\n",
        "      nn.utils.clip_grad_norm_(model.parameters(), max_norm=GRAD_CLIP, norm_type=2.0, error_if_nonfinite=False)\n",
        "\n",
        "      if i % log_interval == 0 and i > 0:\n",
        "        print(f'At iteration {i} the loss is {loss:.3f}.')\n",
        "\n",
        "      if i % 2000 == 0 and i > 0:\n",
        "        val_loss = evaluate(model, val_iter)\n",
        "        print(f'Iteration {i}, the validation loss is {val_loss:.3f}.')\n",
        "        val_losses.append(val_loss)\n",
        "        if val_loss <= min(val_losses):\n",
        "          torch.save(model.state_dict(), \"gdrive/My Drive/AML_Project/best_model.pt\")\n",
        "\n",
        "best_model.load_state_dict(torch.load(\"gdrive/My Drive/AML_Project/best_model.pt\")) "
      ],
      "metadata": {
        "id": "b5EIvXYS7ONq",
        "outputId": "2056b8e8-ae78-4e3b-9cb2-6119532c5c72",
        "colab": {
          "base_uri": "https://localhost:8080/"
        }
      },
      "execution_count": 9,
      "outputs": [
        {
          "output_type": "stream",
          "name": "stdout",
          "text": [
            "model: RNNLM(\n",
            "  (embedding): Embedding(5002, 20)\n",
            "  (rnn): LSTM(20, 20, num_layers=2, dropout=0.5)\n",
            "  (fc): Linear(in_features=20, out_features=5002, bias=True)\n",
            ")\n",
            "use_cuda_status:  True\n",
            "At iteration 1000 the loss is 6.116.\n",
            "At iteration 2000 the loss is 6.435.\n",
            "Iteration 2000, the validation loss is 6.548.\n",
            "At iteration 3000 the loss is 6.245.\n",
            "At iteration 4000 the loss is 5.623.\n",
            "Iteration 4000, the validation loss is 6.279.\n",
            "At iteration 5000 the loss is 5.508.\n",
            "At iteration 6000 the loss is 5.884.\n",
            "Iteration 6000, the validation loss is 6.059.\n",
            "At iteration 7000 the loss is 6.158.\n",
            "At iteration 8000 the loss is 6.174.\n",
            "Iteration 8000, the validation loss is 5.881.\n",
            "At iteration 9000 the loss is 6.130.\n",
            "At iteration 1000 the loss is 5.505.\n",
            "At iteration 2000 the loss is 5.815.\n",
            "Iteration 2000, the validation loss is 5.851.\n",
            "At iteration 3000 the loss is 5.441.\n",
            "At iteration 4000 the loss is 5.033.\n",
            "Iteration 4000, the validation loss is 5.933.\n",
            "At iteration 5000 the loss is 5.271.\n",
            "At iteration 6000 the loss is 5.532.\n",
            "Iteration 6000, the validation loss is 5.707.\n",
            "At iteration 7000 the loss is 5.781.\n",
            "At iteration 8000 the loss is 5.703.\n",
            "Iteration 8000, the validation loss is 5.604.\n",
            "At iteration 9000 the loss is 5.941.\n",
            "At iteration 1000 the loss is 5.204.\n",
            "At iteration 2000 the loss is 5.610.\n",
            "Iteration 2000, the validation loss is 5.631.\n",
            "At iteration 3000 the loss is 5.415.\n",
            "At iteration 4000 the loss is 4.783.\n",
            "Iteration 4000, the validation loss is 5.783.\n",
            "At iteration 5000 the loss is 5.239.\n",
            "At iteration 6000 the loss is 5.454.\n",
            "Iteration 6000, the validation loss is 5.556.\n",
            "At iteration 7000 the loss is 5.612.\n",
            "At iteration 8000 the loss is 5.593.\n",
            "Iteration 8000, the validation loss is 5.520.\n",
            "At iteration 9000 the loss is 5.853.\n"
          ]
        },
        {
          "output_type": "execute_result",
          "data": {
            "text/plain": [
              "<All keys matched successfully>"
            ]
          },
          "metadata": {},
          "execution_count": 9
        }
      ]
    },
    {
      "cell_type": "code",
      "source": [
        "'''\n",
        "Evaluate the loss of best_model on the validation set and compute its perplexity.\n",
        "'''\n",
        "if USE_CUDA:\n",
        "  best_model = best_model.cuda()\n",
        "val_loss = evaluate(best_model, val_iter)\n",
        "print(\"perplexity: \", np.exp(val_loss))"
      ],
      "metadata": {
        "id": "lzfY3BA-8JF0",
        "outputId": "0ca54c03-1fed-42f3-9bb4-d23c7aa0fe67",
        "colab": {
          "base_uri": "https://localhost:8080/"
        }
      },
      "execution_count": 12,
      "outputs": [
        {
          "output_type": "stream",
          "name": "stdout",
          "text": [
            "perplexity:  249.5984625478743\n"
          ]
        }
      ]
    },
    {
      "cell_type": "code",
      "source": [
        "'''\n",
        "Evaluate the loss of best_model on the test set and compute its perplexity.\n",
        "'''\n",
        "test_loss = evaluate(best_model, test_iter)\n",
        "print(\"perplexity: \", np.exp(test_loss))"
      ],
      "metadata": {
        "id": "-61pscNZ8JIH",
        "outputId": "3a0b39f3-1ccc-42b1-ad0e-47ef952de4ce",
        "colab": {
          "base_uri": "https://localhost:8080/"
        }
      },
      "execution_count": 11,
      "outputs": [
        {
          "output_type": "stream",
          "name": "stdout",
          "text": [
            "perplexity:  279.89703143581727\n"
          ]
        }
      ]
    },
    {
      "cell_type": "code",
      "source": [
        "# Sentence generation in Hindi\n",
        "# Reference: https://www.analyticsvidhya.com/blog/2020/08/build-a-natural-language-generation-nlg-system-using-pytorch/\n",
        "\n",
        "import torch.nn.functional as F\n",
        "# predict next token\n",
        "def predict(best_model, tkn, h=None):\n",
        "         \n",
        "  # tensor inputs\n",
        "  x = np.array([[TEXT.vocab.stoi[tkn]]])\n",
        "  inputs = torch.from_numpy(x)\n",
        "  \n",
        "  # push to GPU\n",
        "  inputs = inputs.cuda()\n",
        "\n",
        "  # detach hidden state from history\n",
        "  h = repackage_hidden(h)\n",
        "\n",
        "  # get the output of the model\n",
        "  out, h = best_model(inputs, h)\n",
        "\n",
        "  # get the token probabilities\n",
        "  p = F.softmax(out.view(-1, out.size(-1)) , dim=1)\n",
        "\n",
        "  # get indices of top 3 or 5 values\n",
        "  top_n_idx = p.argsort().reshape(-1)[-3:]\n",
        "  #top_n_idx = p.argsort()[-1][-3:]\n",
        "\n",
        "  # randomly select one of the three indices\n",
        "  sampled_token_index = top_n_idx[random.sample([0,1,2],1)[0]]\n",
        "  #print(sampled_token_index)\n",
        "\n",
        "\n",
        "  # return the encoded value of the predicted char and the hidden state\n",
        "  return TEXT.vocab.itos[sampled_token_index], h\n",
        "\n",
        "\n",
        "# function to generate text\n",
        "def sample(best_model, size, prime='it is'):\n",
        "        \n",
        "    # push to GPU\n",
        "    #best_model.cuda()\n",
        "    \n",
        "    best_model.eval()\n",
        "\n",
        "    # batch size is 1\n",
        "    h = None\n",
        "\n",
        "    toks = prime.split()\n",
        "\n",
        "    # predict next token\n",
        "    for t in prime.split():\n",
        "      token, h = predict(best_model, t, h)\n",
        "    \n",
        "    toks.append(token)\n",
        "\n",
        "    # predict subsequent tokens\n",
        "    for i in range(size-1):\n",
        "        token, h = predict(best_model, toks[-1], h)\n",
        "        toks.append(token)\n",
        "\n",
        "    return ' '.join(toks)\n",
        "\n",
        "words_list = [\"सिनेमा\", \"प्राचीन\", \"मलयालम\", \"शरीर\", \"भौतिक\", \"प्रयोग\", \"एक\"]\n",
        "for i in words_list:\n",
        "  print(i,\" :\", sample(best_model, 50, prime=i))"
      ],
      "metadata": {
        "id": "bBNti1wu8JKl",
        "colab": {
          "base_uri": "https://localhost:8080/"
        },
        "outputId": "61e17235-ba2a-4bef-e38d-a0de3adf00e1"
      },
      "execution_count": 17,
      "outputs": [
        {
          "output_type": "stream",
          "name": "stdout",
          "text": [
            "सिनेमा  : सिनेमा को <unk> <unk> के लिए <unk> के रूप में <unk> <unk> और <unk> <unk> के <unk> <unk> में भी एक रूप में <unk> की <unk> में <unk> <unk> के साथ <unk> के <unk> में एक एक <unk> में एक भी अधिक <unk> की <unk> <unk> <unk> <unk> के रूप से\n",
            "प्राचीन  : प्राचीन <unk> के <unk> में <unk> <unk> <unk> के रूप से भी किया गया है कि यह यह एक <unk> के लिए <unk> में भी एक <unk> के लिए <unk> <unk> <unk> <unk> और और एक एक आयरलैंड में एक एक भी एक एक <unk> के साथ से एक <unk> के\n",
            "मलयालम  : मलयालम के साथ भी एक भी एक <unk> <unk> <unk> <unk> और <unk> <unk> के <unk> में एक भी एक भी <unk> <unk> और एक आयरलैंड में भी अधिक किया है। <eos> यह एक एक <unk> में भी <unk> किया जाता है। इसके लिए <unk> के <unk> के लिए <unk> <unk>\n",
            "शरीर  : शरीर में एक <unk> की <unk> <unk> के लिए एक <unk> के <unk> <unk> <unk> के <unk> में भी <unk> <unk> के <unk> <unk> में एक <unk> और <eos> आयरलैंड <unk> के <unk> के <unk> <unk> में <unk> के साथ <unk> <unk> <unk> <unk> के <unk> <unk> के साथ एक <unk>\n",
            "भौतिक  : भौतिक के <unk> में भी एक <unk> के रूप को <unk> के <unk> में संघ के <unk> <unk> को <unk> किया है। <unk> <unk> <unk> के साथ भी एक रूप को <unk> <unk> <unk> <unk> <unk> <unk> के <unk> के साथ भी एक एक रूप को एक <unk> में एक <unk>\n",
            "प्रयोग  : प्रयोग के लिए <unk> <unk> के लिए भी <unk> <unk> के लिए <unk> के रूप के लिए संघ को <unk> के लिए एक <unk> को <unk> <unk> के साथ संघ में <unk> <unk> के रूप में <unk> किया गया है। <unk> में भी एक <unk> और एक आयरलैंड में <unk> के\n",
            "एक  : एक <unk> <unk> और एक फिल्म <unk> में <unk> और एक एक आयरलैंड के <unk> के <unk> में <unk> और एक <unk> <unk> <unk> के रूप के रूप के <unk> के रूप के <unk> के लिए एक भी <unk> <unk> और <unk> <unk> के साथ एक भी अधिक <unk> <unk> और\n"
          ]
        }
      ]
    },
    {
      "cell_type": "code",
      "source": [
        "sen1 = (\"तस्मानियाई डैविल एक मांसाहारी धानीप्राणी है जो अब केवल ऑस्ट्रेलिया के द्वीप राज्य तस्मानिया के जंगलों में ही पाया जाता है।\" \n",
        "        \"इसका आकार एक\"\n",
        "        \"छोटे कुत्ते के बराबर होता है।\"\n",
        "         \"1936 में थायलेसीन​ के विलुप्त होने के बाद यह दुनिया का सबसे बड़ा मांसाहारी धानीप्राणी बन गया।\")\n",
        "\n",
        "sen2 = (\"तस्मानियाई डैविल एक मांसाहारी धानीप्राणी है जो अब केवल ऑस्ट्रेलिया के द्वीप राज्य तस्मानिया के जंगलों में ही पाया जाता है।\" \n",
        "        \"इसका आकार\" \n",
        "        \"समुद्र के बराबर होता है।\"\n",
        "         \"1936 में थायलेसीन​ के विलुप्त होने के बाद यह दुनिया का सबसे बड़ा मांसाहारी धानीप्राणी बन गया।\")\n",
        "\n",
        "sen3 = (\"तस्मानियाई डैविल एक मांसाहारी धानीप्राणी है जो अब केवल ऑस्ट्रेलिया के द्वीप राज्य तस्मानिया के जंगलों में ही पाया जाता है।\" \n",
        "        \"इसका आकार\" \n",
        "        \"एक पेंसिल के बराबर होता है।\"\n",
        "         \"1936 में थायलेसीन​ के विलुप्त होने के बाद यह दुनिया का सबसे बड़ा मांसाहारी धानीप्राणी बन गया।\")\n",
        "\n",
        "sen4 = (\"डैविल एक मांसाहारी प्रधानमंत्री है जो अब केवल ऑस्ट्रेलिया के द्वीप राज्य तस्मानिया के जंगलों में ही पाया जाता है।\" \n",
        "        \"इसका आकार क्यूबा बराबर होता है।\"\n",
        "         \"प्लास्टिक के विलुप्त होने के बाद यह दुनिया का सबसे बड़ा मांसाहारी धानीप्राणी बन गया।\")\n",
        "\n",
        "sen5 = sen1.split()\n",
        "random.shuffle(sen5)\n",
        "sen5 = \" \".join(sen5)\n",
        "\n",
        "sen6 = \" \".join(['डैविल एक मांसाहारी धानीप्राणी है']*8)\n",
        "\n",
        "sen_list = [sen1, sen2, sen3, sen4, sen5, sen6]\n",
        "\n",
        "for sen in sen_list:\n",
        "\n",
        "    print(sen)\n",
        "    with open(PATH + \"temp_sentence.txt\", 'w') as text_file:\n",
        "        print(sen, file = text_file)\n",
        "\n",
        "    temp_ds = torchtext.legacy.datasets.LanguageModelingDataset(path=PATH + 'temp_sentence.txt', text_field=TEXT)\n",
        "\n",
        "\n",
        "    sen_iter = torchtext.legacy.data.BPTTIterator(temp_ds, batch_size=BATCH_SIZE, device=DEVICE, \n",
        "                                                  bptt_len=BPTT_LENGTH, repeat=False)\n",
        "        \n",
        "    sen_loss = evaluate(best_model, sen_iter)\n",
        "    print(\"perplexity: \", np.exp(sen_loss))\n",
        "    print()"
      ],
      "metadata": {
        "id": "FpxKIiks8JNH",
        "colab": {
          "base_uri": "https://localhost:8080/"
        },
        "outputId": "4fdd045e-b2b8-4f30-8cf4-416caf022b09"
      },
      "execution_count": 21,
      "outputs": [
        {
          "output_type": "stream",
          "name": "stdout",
          "text": [
            "तस्मानियाई डैविल एक मांसाहारी धानीप्राणी है जो अब केवल ऑस्ट्रेलिया के द्वीप राज्य तस्मानिया के जंगलों में ही पाया जाता है।इसका आकार एकछोटे कुत्ते के बराबर होता है।1936 में थायलेसीन​ के विलुप्त होने के बाद यह दुनिया का सबसे बड़ा मांसाहारी धानीप्राणी बन गया।\n",
            "perplexity:  1012.8881635144753\n",
            "\n",
            "तस्मानियाई डैविल एक मांसाहारी धानीप्राणी है जो अब केवल ऑस्ट्रेलिया के द्वीप राज्य तस्मानिया के जंगलों में ही पाया जाता है।इसका आकारसमुद्र के बराबर होता है।1936 में थायलेसीन​ के विलुप्त होने के बाद यह दुनिया का सबसे बड़ा मांसाहारी धानीप्राणी बन गया।\n",
            "perplexity:  562.2393144066904\n",
            "\n",
            "तस्मानियाई डैविल एक मांसाहारी धानीप्राणी है जो अब केवल ऑस्ट्रेलिया के द्वीप राज्य तस्मानिया के जंगलों में ही पाया जाता है।इसका आकारएक पेंसिल के बराबर होता है।1936 में थायलेसीन​ के विलुप्त होने के बाद यह दुनिया का सबसे बड़ा मांसाहारी धानीप्राणी बन गया।\n",
            "perplexity:  467.2275939115968\n",
            "\n",
            "डैविल एक मांसाहारी प्रधानमंत्री है जो अब केवल ऑस्ट्रेलिया के द्वीप राज्य तस्मानिया के जंगलों में ही पाया जाता है।इसका आकार क्यूबा बराबर होता है।प्लास्टिक के विलुप्त होने के बाद यह दुनिया का सबसे बड़ा मांसाहारी धानीप्राणी बन गया।\n",
            "perplexity:  522.2882228089301\n",
            "\n",
            "एकछोटे के होने जो थायलेसीन​ है।इसका जंगलों यह एक आकार के डैविल सबसे के तस्मानिया में ऑस्ट्रेलिया मांसाहारी द्वीप के का अब राज्य में केवल बड़ा गया। विलुप्त बराबर धानीप्राणी कुत्ते दुनिया ही बाद होता जाता पाया के है है।1936 धानीप्राणी बन तस्मानियाई मांसाहारी\n",
            "perplexity:  3666.8364590872375\n",
            "\n",
            "डैविल एक मांसाहारी धानीप्राणी है डैविल एक मांसाहारी धानीप्राणी है डैविल एक मांसाहारी धानीप्राणी है डैविल एक मांसाहारी धानीप्राणी है डैविल एक मांसाहारी धानीप्राणी है डैविल एक मांसाहारी धानीप्राणी है डैविल एक मांसाहारी धानीप्राणी है डैविल एक मांसाहारी धानीप्राणी है\n",
            "perplexity:  8129.01313008024\n",
            "\n"
          ]
        }
      ]
    },
    {
      "cell_type": "code",
      "source": [
        ""
      ],
      "metadata": {
        "id": "wYAp3Hez8JPm"
      },
      "execution_count": null,
      "outputs": []
    },
    {
      "cell_type": "code",
      "source": [
        ""
      ],
      "metadata": {
        "id": "O86dXrtL8JRd"
      },
      "execution_count": null,
      "outputs": []
    }
  ]
}