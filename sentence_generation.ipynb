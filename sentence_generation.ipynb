{
  "nbformat": 4,
  "nbformat_minor": 0,
  "metadata": {
    "colab": {
      "name": "sentence_generation.ipynb",
      "provenance": [],
      "authorship_tag": "ABX9TyNkb91O6UB3+jMqBNESXwfG",
      "include_colab_link": true
    },
    "kernelspec": {
      "name": "python3",
      "display_name": "Python 3"
    },
    "language_info": {
      "name": "python"
    }
  },
  "cells": [
    {
      "cell_type": "markdown",
      "metadata": {
        "id": "view-in-github",
        "colab_type": "text"
      },
      "source": [
        "<a href=\"https://colab.research.google.com/github/Tiru-Kaggundi/Adv_ML_project/blob/main/sentence_generation.ipynb\" target=\"_parent\"><img src=\"https://colab.research.google.com/assets/colab-badge.svg\" alt=\"Open In Colab\"/></a>"
      ]
    },
    {
      "cell_type": "markdown",
      "source": [
        "Paragraph generation using Transformer models:\n",
        "\n",
        "We will attempt to generate a paragraph of text in Hindi language based on a given prompt. We would attempt to train the model based on available online speech of the Prime Minister of India (Mr Narendra Modi) and examine if the prompt is able to generate a paragraph that matches the style closely. We would also examine if the approach can be extended to some famous authors in Hindi language such as Shri Munshi Premchand.\n"
      ],
      "metadata": {
        "id": "h267_xzWgoQL"
      }
    }
  ]
}